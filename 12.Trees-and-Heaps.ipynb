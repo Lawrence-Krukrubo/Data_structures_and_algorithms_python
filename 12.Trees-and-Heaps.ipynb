{
 "cells": [
  {
   "cell_type": "markdown",
   "id": "balanced-nature",
   "metadata": {},
   "source": [
    "## Trees:\n",
    "\n",
    "Trees are data structures that well, look like trees! a tree starts from a place called a root and you add data to it called branches.\n",
    "* Trees have `branches` and `leaves`\n",
    "* A collection of trees is called a `forest`\n",
    "* Trees have a lot of properties that make them useful. However a Tree is just an extension of a `Linked-List`\n",
    "* A Tree is similar, as the first element is called a `root`, while the first element in Linked-List is called the `Head`.\n",
    "* Then instead of having just one next element, a tree can have several.\n",
    "* A Linked-List is often drawn horizontally with rectangles representing `elements`, while a Tree is often drawn vertically with circles as `nodes`.\n",
    "\n",
    "### Tree Constraints:\n",
    "* A Tree must be fully connected. That means if we're starting from the root, there must be a way to reach every node in the Tree.\n",
    "* Next, there must not be any **cycles** in the Tree. A cycle occurs when there's a way for you to encounter the same node twice."
   ]
  },
  {
   "cell_type": "markdown",
   "id": "computational-fault",
   "metadata": {},
   "source": [
    "### Tree Terminologies\n",
    "\n",
    "* A tree can be described in levels. Or how many connections it takes to reach the root plus one. This means the root is level 1 and nodes directly connected to the root are in level 2 and their children in level 3 and so on.\n",
    "\n",
    "\n",
    "* Nodes in a Tree have a Parent-Child relationship. A node in the middle can be both a Parent and a Child, it depends on what it's been compared to.\n",
    "\n",
    "\n",
    "* In Trees children nodes are only allowed to have one parent. If a Parent has multiple children they are considered siblings of each other\n",
    "\n",
    "\n",
    "* Ancestry of nodes in Trees is really intuitive. A node at a lower level can be called an Ancestor of a node at a higher level, which is it's descendant.\n",
    "\n",
    "\n",
    "* The nodes at the edge that don't have any descendants are called **leaves or external nodes**. Conversely a Parent-node is called an **internal node**.\n",
    "\n",
    "\n",
    "* We can call connections between nodes **edges** and a group of connections taken together as a **path**.\n",
    "\n",
    "\n",
    "* The `height` of a node is the number of edges between it and the farthest leaf on the tree.\n",
    "\n",
    "\n",
    "* A leaf has a height of zero, and the parent of a leaf has a height of one.\n",
    "\n",
    "\n",
    "* The height of a tree overall is just the height of the root node.\n",
    "\n",
    "\n",
    "* On the flip-side, the depth of a node is the number of edges to the root. Height and depth should move inversely.\n",
    "\n",
    "\n",
    "* Thus, if a node is closer to a leaf, then it's further from the root..."
   ]
  },
  {
   "cell_type": "markdown",
   "id": "hollow-recipient",
   "metadata": {},
   "source": [
    "# Heaps:\n",
    "\n",
    " A Heap is another specific type of tree, with it's own additional rules. In a heap, elements are arranged in increasing or decreasing order, such that the root element is either the maximum or minimum value in the tree.\n",
    "\n",
    "* There are 2 different types of Heaps: Max-Heaps and Min-Heaps that capture these two situations.\n",
    "* In a Max-Heap, a parent must always have a greater value than it's child. The root ends up being the biggest element.\n",
    "* The opposite is True of Min-Heaps, where the root is the minimum element.\n",
    "* Heaps don't need to be binary-trees, so parents can have any number of children\n",
    "* Operations like search, insert or delete can vary a lot based on the type of Heap.\n",
    "\n",
    "### Max Binary-Heap:\n",
    "Here, we keep the max of two children rule and the root will be the maximum element. \n",
    "* In addition, a Binary-Heap must be a complete Tree... Meaning, all levels except the last one are completely full. \n",
    "\n",
    "\n",
    "* If the last level isn't completely full, values are added from left to right.\n",
    "\n",
    "\n",
    "* The right-most leaf will be empty until the whole row is filled.\n",
    "\n",
    "\n",
    "* In this Heap, a function that gets the maximum value (AKA `peek()`) happens in constant time $O(1)$.\n",
    "\n",
    "\n",
    "* Searching becomes a linear operation $O(n)$. We may also use the maxi properties to our advantage in a search. for example, we can quit our search immediately if the element we're seeking is bigger than the root.\n",
    "\n",
    "\n",
    "* In general, if our node-value is smaller than the value we seek, we don't need to search anything in it's sub-tree since we know it's the biggest.\n",
    "\n",
    "\n",
    "* The worst case remains $O(n)$. But in the average case we may search $O(n/2)$, which is still approximated to $O(n)$. "
   ]
  },
  {
   "cell_type": "markdown",
   "id": "engaged-coaching",
   "metadata": {},
   "source": [
    "### Heapify\n",
    "\n",
    "Let's try inserting an element in a Heap.\n",
    "\n",
    "* The best option is to simply insert the new value into the next available space and then `heapify`.\n",
    "* **Heapify** is the operation in which we re-order the tree based on the heap-property. Since we care that our parent element is bigger than its child, we just need to keep comparing the new element with its parent and swapping them when the child is bigger.\n",
    "* **Extract:** In an extract operation where the root is removed from the tree, we stick the right-most leaf in the root's spot and then just compare it to its children and swap where necessary.\n",
    "* The runtime of insert and delete and more general case of extract, end up as $O(log(n))$(tree height) in the worst case. Ultimately the worst case would involve moving an element up or down the tree. and would roughly be many operations as the height of the tree($O(log(n))$)."
   ]
  },
  {
   "cell_type": "markdown",
   "id": "facial-cooking",
   "metadata": {},
   "source": [
    "### Heap Implementation:\n",
    "\n",
    "Though Heaps are represented as Trees, they are actually often stored as Arrays.\n",
    "\n",
    "* Since we know how many children each parent has(2 for Binary Heap) and how many nodes at each level, we can use a lil math to know where the next node should fall in the Array and then traverse the Heap.\n",
    "\n",
    "\n",
    "* **Note:** Not every Array can be represented as a Heap.\n",
    "\n",
    "* Thus, we sort the array and convert the sorted Array into a Tree. Then we convert the sorted Array into a Heap.\n",
    "* In general, the values need to be in an order that will make sense in a Heap. \n",
    "* Storing our data in an array can save us some space\n",
    "\n",
    "### Self-Balancing Tree:\n",
    "\n",
    "* A Self-Balancing Tree is one that tries to minimize the number of levels that it uses. \n",
    "* It does some algorithm during insertion and deletion to keep itself balanced and the nodes themselves might have some additional properties.\n",
    "* The most Common example is a Red-Black Tree\n",
    "\n",
    "\n",
    "#### **Implementing a Simple Balanced Binary Heap**\n",
    "\n",
    "We shall implement a Binary-Heap with the options of `max` or `min` styled heap.<br>Thus, passing the argument `order='max'` or `order='min'`\n",
    "\n",
    "This Binary-Tree shall be balanced, meaning each parent can only have two children or zero children, not one. "
   ]
  },
  {
   "cell_type": "code",
   "execution_count": 1,
   "id": "facial-backup",
   "metadata": {},
   "outputs": [],
   "source": [
    "class Node(object):\n",
    "    def __init__(self, value):\n",
    "        self.value = value\n",
    "        self.left = None\n",
    "        self.right = None"
   ]
  },
  {
   "cell_type": "code",
   "execution_count": 2,
   "id": "macro-engagement",
   "metadata": {},
   "outputs": [],
   "source": [
    "two = Node(2)\n",
    "one = Node(1)\n",
    "four = Node(4)\n",
    "three = Node(3)\n",
    "seven = Node(7)\n",
    "five = Node(5)\n",
    "six = Node(6)\n",
    "nine = Node(9)\n",
    "eight = Node(8)"
   ]
  },
  {
   "cell_type": "code",
   "execution_count": 3,
   "id": "fabulous-dealing",
   "metadata": {},
   "outputs": [],
   "source": [
    "node_list = [two, one, four, three, seven, five, six, nine, eight]"
   ]
  },
  {
   "cell_type": "code",
   "execution_count": 42,
   "id": "cooked-rental",
   "metadata": {},
   "outputs": [],
   "source": [
    "from collections import deque\n",
    "\n",
    "class Binary_Heap(object):\n",
    "    def __init__(self, node_list, order):\n",
    "        self.node_list = node_list\n",
    "        self.order = order\n",
    "        self.heaps = self.sort_heaps(self.node_list)\n",
    "        \n",
    "        # Assert Tree Must Be Balanced...\n",
    "        if len(self.node_list) % 2 == 0:\n",
    "            raise AssertionError ('ERROR: Binary-Heap-Tree Must be Balanced')\n",
    "        \n",
    "    def sort_heaps(self, x):\n",
    "        val_list = [i.value for i in x]\n",
    "        \n",
    "        if self.order == 'max':\n",
    "            val_list = sorted(val_list, reverse=True)\n",
    "        else:\n",
    "            val_list = sorted(val_list)\n",
    "            \n",
    "        sorted_heaps = []\n",
    "        \n",
    "        for val in val_list:\n",
    "            for heap in x:\n",
    "                if heap.value == val:\n",
    "                    sorted_heaps.append(heap)\n",
    "                    \n",
    "        del val_list            \n",
    "        return sorted_heaps\n",
    "        \n",
    "    def build_tree(self):\n",
    "        heap_deque = deque(self.heaps)\n",
    "        self.root = heap_deque.popleft()\n",
    "        self.root.left, self.root.right = heap_deque.popleft(), heap_deque.popleft()\n",
    "        heap_array = [self.root.left, self.root.right]\n",
    "        \n",
    "        while heap_deque:\n",
    "            heap_array[0].left, heap_array[0].right = heap_deque.popleft(), heap_deque.popleft()\n",
    "            heap_array.extend([heap_array[0].left, heap_array[0].right])\n",
    "            heap_array = heap_array[1:]\n",
    "               \n",
    "        return self.root\n",
    "    \n",
    "    def preorder_print(self, start, summary_txt):\n",
    "        if start:\n",
    "            summary_txt += (str(start.value) + '-')\n",
    "            summary_txt = self.preorder_print(start.left, summary_txt)\n",
    "            summary_txt = self.preorder_print(start.right, summary_txt)\n",
    "            \n",
    "        return summary_txt"
   ]
  },
  {
   "cell_type": "code",
   "execution_count": 43,
   "id": "emotional-handbook",
   "metadata": {},
   "outputs": [],
   "source": [
    "# Define a Binary-Heap object made of the list of Nodes\n",
    "# We can pass min or max as the order value\n",
    "\n",
    "binary_heap = Binary_Heap(node_list, order='max')"
   ]
  },
  {
   "cell_type": "code",
   "execution_count": 44,
   "id": "potential-consumption",
   "metadata": {},
   "outputs": [
    {
     "data": {
      "text/plain": [
       "9"
      ]
     },
     "execution_count": 44,
     "metadata": {},
     "output_type": "execute_result"
    }
   ],
   "source": [
    "# Let's see the first element value of the sorted Heap nodes\n",
    "\n",
    "binary_heap.heaps[0].value"
   ]
  },
  {
   "cell_type": "code",
   "execution_count": 45,
   "id": "frozen-determination",
   "metadata": {},
   "outputs": [
    {
     "data": {
      "text/plain": [
       "1"
      ]
     },
     "execution_count": 45,
     "metadata": {},
     "output_type": "execute_result"
    }
   ],
   "source": [
    "# Let's see the last element value of the sorted Heap nodes\n",
    "\n",
    "binary_heap.heaps[-1].value"
   ]
  },
  {
   "cell_type": "code",
   "execution_count": 46,
   "id": "acquired-diversity",
   "metadata": {},
   "outputs": [],
   "source": [
    "# Let's build the Binary-Heap Tree in line with the order value\n",
    "\n",
    "heap_tree = binary_heap.build_tree()"
   ]
  },
  {
   "cell_type": "code",
   "execution_count": 47,
   "id": "civic-frederick",
   "metadata": {},
   "outputs": [
    {
     "data": {
      "text/plain": [
       "'9-8-6-2-1-5-7-4-3-'"
      ]
     },
     "execution_count": 47,
     "metadata": {},
     "output_type": "execute_result"
    }
   ],
   "source": [
    "# Let's print the nodes in the Binary Tree in Pre-order fashion\n",
    "\n",
    "binary_heap.preorder_print(heap_tree, '')"
   ]
  }
 ],
 "metadata": {
  "kernelspec": {
   "display_name": "Python 3",
   "language": "python",
   "name": "python3"
  },
  "language_info": {
   "codemirror_mode": {
    "name": "ipython",
    "version": 3
   },
   "file_extension": ".py",
   "mimetype": "text/x-python",
   "name": "python",
   "nbconvert_exporter": "python",
   "pygments_lexer": "ipython3",
   "version": "3.8.5"
  }
 },
 "nbformat": 4,
 "nbformat_minor": 5
}
