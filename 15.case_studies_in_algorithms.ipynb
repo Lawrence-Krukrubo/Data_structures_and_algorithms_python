{
 "cells": [
  {
   "cell_type": "markdown",
   "metadata": {},
   "source": [
    "## Dynamic Programming"
   ]
  },
  {
   "cell_type": "markdown",
   "metadata": {},
   "source": [
    "With Dynamic-programming, we can make a really complicated problem run much faster by breaking it into sub-problems. <br>\n",
    "* We begin by solving for something like a **base case**, which is a sub-problem so small that the answer is very simple or trivial to compute.\n",
    "\n",
    "\n",
    "* Another common aspect of Dynamic-programming is a **look-up table** that store solutions to sub-problems.\n",
    "\n",
    "\n",
    "* Dynamic-programming solutions take advantage of these 2 things:- Solving the problems of a trivial case of the big problem and storing the solution in a look-up table.\n",
    "\n",
    "\n",
    "* These 2 steps mentioned are used in Dynamic-Programming to slowly add complexity to a problem.\n",
    "\n",
    "\n",
    "* Another feature of a Dynamic-Programming solution is an equation used at each step as we add complexity. \n",
    "\n",
    "\n",
    "* The equation often combines some values previously computed in a look-up table sometimes with each other and other times with a new value we introduce.\n",
    "\n",
    "\n",
    "* We use the values already stored in the table as we add new objects. A technique often called **Memoization**, this means we ultimately do not need to re-compute previous values every time.\n",
    "\n",
    "\n",
    "* This Memoization technique is the hidden power of Dynamic-Programming, wherein we simply use the results of pre-computed simpler problems to solve more complex problems."
   ]
  },
  {
   "cell_type": "markdown",
   "metadata": {},
   "source": [
    "### Note:\n",
    "\n",
    "One of the most useful skills to have when going for a technical interview is the ability to spot a problem that can be applied to Dynamic-programming.<br>Here are some tips to solve Dynamic-programming problems\n",
    "\n",
    "* One thing to look out for is a complicated problem that seems to require trying every combination to find a solution. A classic problem as such is the **Knapsack Problem**.\n",
    "* Next, you need to ask yourself \"Can I break this problem into sub-problems?\" If the answer is YES, then you've got a problem with a Dynamic-programming solution."
   ]
  },
  {
   "cell_type": "markdown",
   "metadata": {},
   "source": [
    "### The Traveling Salesman Problem (TSP):\n",
    "\n",
    "This falls into a special kind of problem called **NP-Hard**<br>TSP is one of the most famous problems in Computer Science. Envision a Graph where all the nodes are cities and all the edges are roads between them, TSP asks:<br>**Whats's the fastest way for a Salesman to travel between every city and return home.**<br>At it's essence, this is an optimization problem, simply because aside the analogy and algorithms, TSP simply presents a complicated graph inwhich we're looking for the optimal route.<br>TSP is used in everything from `microchip-design` to `DNA-sequencing`.\n",
    "\n",
    "* NP-Hard problems don't have a known algorithm that can solve them in Polynomial time.\n",
    "* Polynomial time algorithms have a run-time where $n$ has a constant exponent like $O(n^2)$. So we want algorithms that solve problems in polynomial time or they are often too slow to be useful. \n",
    "* The **Knapsack Problem** is also an NP-Hard problem.\n",
    "* TSPs are so hard to solve such that generally, there are two broad algorithms for solving them. Thease are:-\n",
    "* The Exact Algorithms: Using Bruteforce to go through all combinations and find the best. This takes significant longer and infact is in factorial time $O(n!)$. There are also Dynamic-Programming solutions to TSP, the most famous is the `Held-Karp Algorithm` but even this runs at a much more expensive exponential run time $O(m^n)$ where $m$ is any real number.\n",
    "* The Approximate solutions: Don't find the exact optimal path, but they run faster than the `Exact Algorithms`. One of the most famous is the the **Christofides Algorithm**. This basically turns a graph into a Tree, where the starting Node is the root and creating and traversing through it in a particular intelligent way that guarantees that the path it produces will be no longer than 50% more than the optimal path.\n",
    "\n",
    "TSPs have so many applications and are so widely studied "
   ]
  },
  {
   "cell_type": "code",
   "execution_count": null,
   "metadata": {},
   "outputs": [],
   "source": []
  },
  {
   "cell_type": "code",
   "execution_count": null,
   "metadata": {},
   "outputs": [],
   "source": []
  },
  {
   "cell_type": "code",
   "execution_count": null,
   "metadata": {},
   "outputs": [],
   "source": []
  }
 ],
 "metadata": {
  "kernelspec": {
   "display_name": "Python 3",
   "language": "python",
   "name": "python3"
  },
  "language_info": {
   "codemirror_mode": {
    "name": "ipython",
    "version": 3
   },
   "file_extension": ".py",
   "mimetype": "text/x-python",
   "name": "python",
   "nbconvert_exporter": "python",
   "pygments_lexer": "ipython3",
   "version": "3.7.5"
  }
 },
 "nbformat": 4,
 "nbformat_minor": 5
}
