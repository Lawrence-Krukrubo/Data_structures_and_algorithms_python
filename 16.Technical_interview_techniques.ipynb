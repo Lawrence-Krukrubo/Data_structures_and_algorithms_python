{
 "cells": [
  {
   "cell_type": "markdown",
   "id": "asian-reduction",
   "metadata": {},
   "source": [
    "### The Path to a successful algorithm interview involves a 7 Step Process:"
   ]
  },
  {
   "cell_type": "markdown",
   "id": "nasty-prefix",
   "metadata": {},
   "source": [
    "1. **Clarifying The Question**\n",
    "2. **Generating Inputs and Outputs**\n",
    "3. **Generating Test Cases**\n",
    "4. **Brainstorming**\n",
    "5. **Runtime Analysis**\n",
    "6. **Coding**\n",
    "7. **Debugging**"
   ]
  },
  {
   "cell_type": "code",
   "execution_count": null,
   "id": "collective-allowance",
   "metadata": {},
   "outputs": [],
   "source": []
  }
 ],
 "metadata": {
  "kernelspec": {
   "display_name": "Python 3",
   "language": "python",
   "name": "python3"
  },
  "language_info": {
   "codemirror_mode": {
    "name": "ipython",
    "version": 3
   },
   "file_extension": ".py",
   "mimetype": "text/x-python",
   "name": "python",
   "nbconvert_exporter": "python",
   "pygments_lexer": "ipython3",
   "version": "3.8.5"
  }
 },
 "nbformat": 4,
 "nbformat_minor": 5
}
