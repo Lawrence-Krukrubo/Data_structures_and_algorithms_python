{
 "cells": [
  {
   "cell_type": "markdown",
   "id": "passing-classic",
   "metadata": {},
   "source": [
    "## Python List\n",
    "\n",
    "The designers of Python had many choices to make when they implemented the list data structure. Each of these choices could have an impact on how fast list operations perform. To help them make the right choices they looked at the ways that people would most commonly use the list data structure and they optimized their implementation of a list so that **the most common operations were very fast**. Of course they also tried to make the less common operations fast, but when a tradeoff had to be made the performance of a less common operation was often sacrificed in favor of the more common operation.\n",
    "\n",
    "Two common operations are **indexing** and **assigning to an index position**. Both of these operations take the same amount of time no matter how large the list becomes. When an operation like this is independent of the size of the list they are $O(1)$.\n",
    "\n",
    "Another very common programming task is to grow a list. There are two ways to create a longer list. You can use the append method or the concatenation operator. \n",
    "* The append method is $O(1)$. \n",
    "* However, the concatenation operator is $O(k)$ where $k$ is the size of the list that is being concatenated. \n",
    "\n",
    "This is important for you to know because it can help you make your own programs more efficient by choosing the right tool for the job.\n",
    "\n",
    "Let’s look at four different ways we might generate a list of n numbers starting with 0."
   ]
  },
  {
   "cell_type": "code",
   "execution_count": 5,
   "id": "analyzed-numbers",
   "metadata": {},
   "outputs": [
    {
     "data": {
      "text/plain": [
       "[0, 1, 2, 3, 4]"
      ]
     },
     "execution_count": 5,
     "metadata": {},
     "output_type": "execute_result"
    }
   ],
   "source": [
    "def list_concat(k):\n",
    "    l = []\n",
    "    \n",
    "    for i in range(k):\n",
    "        l+=[i]\n",
    "        \n",
    "    return l\n",
    "\n",
    "list_concat(5)"
   ]
  },
  {
   "cell_type": "code",
   "execution_count": 6,
   "id": "flexible-story",
   "metadata": {},
   "outputs": [
    {
     "data": {
      "text/plain": [
       "[0, 1, 2, 3, 4]"
      ]
     },
     "execution_count": 6,
     "metadata": {},
     "output_type": "execute_result"
    }
   ],
   "source": [
    "def list_append(n):\n",
    "    l = []\n",
    "    \n",
    "    for i in range(n):\n",
    "        l.append(i)\n",
    "        \n",
    "    return l\n",
    "\n",
    "list_append(5)"
   ]
  },
  {
   "cell_type": "code",
   "execution_count": 7,
   "id": "temporal-virtue",
   "metadata": {},
   "outputs": [
    {
     "data": {
      "text/plain": [
       "[0, 1, 2, 3, 4]"
      ]
     },
     "execution_count": 7,
     "metadata": {},
     "output_type": "execute_result"
    }
   ],
   "source": [
    "def list_comprehend(k):\n",
    "    l = [i for i in range(k)]\n",
    "    \n",
    "    return l\n",
    "\n",
    "list_comprehend(5)"
   ]
  },
  {
   "cell_type": "code",
   "execution_count": 8,
   "id": "handy-balloon",
   "metadata": {},
   "outputs": [
    {
     "data": {
      "text/plain": [
       "[0, 1, 2, 3, 4]"
      ]
     },
     "execution_count": 8,
     "metadata": {},
     "output_type": "execute_result"
    }
   ],
   "source": [
    "def list_range(k):\n",
    "    l = list(range(k))\n",
    "    \n",
    "    return l\n",
    "\n",
    "list_range(5)"
   ]
  },
  {
   "cell_type": "markdown",
   "id": "dying-store",
   "metadata": {},
   "source": [
    "#### Timing The above List methods\n",
    "\n",
    "\n",
    "To capture the time it takes for each of our functions to execute we will use Python’s `timeit` module. The `timeit` module is designed to allow Python developers to make cross-platform timing measurements by running functions in a consistent environment and using timing mechanisms that are as similar as possible across operating systems.\n",
    "\n",
    "* To use timeit you create a Timer object whose parameters are two Python statements. \n",
    "* The first parameter is a Python statement that you want to time; \n",
    "* The second parameter is a statement that will run once to set up the test. \n",
    "* The timeit module will then time how long it takes to execute the statement some number of times. By default timeit will try to run the statement one million times. When its done it returns the time as a floating point value representing the total number of seconds. However, since it executes the statement a million times you can read the result as the number of microseconds to execute the test one time. \n",
    "\n",
    "You can also pass timeit a named parameter called number that allows you to specify how many times the test statement is executed."
   ]
  },
  {
   "cell_type": "code",
   "execution_count": 15,
   "id": "broken-apache",
   "metadata": {},
   "outputs": [],
   "source": [
    "names = ['concat', 'append', 'comprehend', 'range']\n",
    "methods = [list_concat, list_append, list_comprehend, list_range]\n",
    "k = 1000000"
   ]
  },
  {
   "cell_type": "code",
   "execution_count": 47,
   "id": "resident-stage",
   "metadata": {},
   "outputs": [],
   "source": [
    "import time\n",
    "import timeit\n",
    "import pandas as pd\n",
    "import matplotlib.pyplot as plt"
   ]
  },
  {
   "cell_type": "code",
   "execution_count": 32,
   "id": "martial-administrator",
   "metadata": {},
   "outputs": [],
   "source": [
    "def time_it(methods, names, k):\n",
    "    time_dict = {}\n",
    "    for method, name in zip(methods, names):\n",
    "        start = time.time()\n",
    "        method(k)\n",
    "        time_dict[name] = round(time.time()-start, 3)\n",
    "        \n",
    "    return time_dict"
   ]
  },
  {
   "cell_type": "code",
   "execution_count": 33,
   "id": "level-porcelain",
   "metadata": {},
   "outputs": [
    {
     "name": "stdout",
     "output_type": "stream",
     "text": [
      "{'concat': 0.133, 'append': 0.102, 'comprehend': 0.068, 'range': 0.028}\n",
      "\n",
      "min-time_dict: range\n",
      "\n",
      "max-time_dict: concat\n"
     ]
    }
   ],
   "source": [
    "time_dict = time_it(methods, names, k)\n",
    "print(time_dict)\n",
    "print()\n",
    "print('min-time_dict:', min(time_dict, key=time_dict.get))\n",
    "print()\n",
    "print('max-time_dict:', max(time_dict, key=time_dict.get))"
   ]
  },
  {
   "cell_type": "markdown",
   "id": "sonic-involvement",
   "metadata": {},
   "source": [
    "**From the above experiment, after running the four methods `concat`, `append`, `comprehend`, `range` for 1 million secs each...**\n",
    "\n",
    "* Range has the best time\n",
    "* Concat has the worst time $O(k)$\n",
    "* Append has the second worst time $O(1)$\n",
    "* While comprehension has the 2nd best time\n",
    "\n",
    "It is interesting to note that the list comprehension is almost twice as fast as a for loop with an append operation"
   ]
  },
  {
   "cell_type": "markdown",
   "id": "characteristic-system",
   "metadata": {},
   "source": [
    "## Big-O Efficiency of Basic Lists Operations\n",
    "\n",
    "\n",
    "| Operation | Big-O Efficiency |\n",
    "| --- | --- |\n",
    "| `index[]` | $O(1)$ |\n",
    "| `index-assignment` | $O(1)$ |\n",
    "| `append` | $O(1)$ |\n",
    "| `pop()` | $O(1)$ |\n",
    "| `pop(i)` | $O(n)$ |\n",
    "| `insert(i,item)` | $O(n)$ |\n",
    "| `del operator` | $O(n)$ |\n",
    "| `iteration` | $O(n)$ |\n",
    "| `contains (in)` | $O(n)$ |\n",
    "| `get slice[i:j]` | $O(k)$ |\n",
    "| `del slice` | $O(n)$ |\n",
    "| `set slice` | $O(n+k)$ |\n",
    "| `reverse` | $O(n)$ |\n",
    "| `concatenate` | $O(k)$ |\n",
    "| `sort` | $O(nlog(n))$ |\n",
    "| `multiply` | $O(nk)$ |"
   ]
  },
  {
   "cell_type": "markdown",
   "id": "moral-starter",
   "metadata": {},
   "source": [
    "As a way of demonstrating this difference in performance let’s do another experiment using the timeit module. Our goal is to be able to verify the performance of the pop operation on a list of a known size when the program pops from the end of the list, and again when the program pops from the beginning of the list. We will also want to measure this time for lists of different sizes. What we would expect to see is that the time required to pop from the end of the list will stay constant even as the list grows in size, while the time to pop from the beginning of the list will continue to increase as the list grows."
   ]
  },
  {
   "cell_type": "code",
   "execution_count": 37,
   "id": "precious-pound",
   "metadata": {},
   "outputs": [],
   "source": [
    "popzero = timeit.Timer('x.pop(0)', 'from __main__ import x')\n",
    "popend = timeit.Timer('x.pop()', 'from __main__ import x')\n",
    "x = list(range(2000000))"
   ]
  },
  {
   "cell_type": "code",
   "execution_count": 38,
   "id": "linear-state",
   "metadata": {},
   "outputs": [
    {
     "data": {
      "text/plain": [
       "1.2322690000000875"
      ]
     },
     "execution_count": 38,
     "metadata": {},
     "output_type": "execute_result"
    }
   ],
   "source": [
    "popzero.timeit(number=1000)"
   ]
  },
  {
   "cell_type": "code",
   "execution_count": 39,
   "id": "collectible-fisher",
   "metadata": {},
   "outputs": [
    {
     "data": {
      "text/plain": [
       "0.00030679999326821417"
      ]
     },
     "execution_count": 39,
     "metadata": {},
     "output_type": "execute_result"
    }
   ],
   "source": [
    "popend.timeit(number=1000)"
   ]
  },
  {
   "cell_type": "code",
   "execution_count": 40,
   "id": "juvenile-aaron",
   "metadata": {},
   "outputs": [
    {
     "name": "stdout",
     "output_type": "stream",
     "text": [
      "<timeit.Timer object at 0x000002559B80C430>\n"
     ]
    }
   ],
   "source": [
    "print(popend)"
   ]
  },
  {
   "cell_type": "markdown",
   "id": "direct-paper",
   "metadata": {},
   "source": [
    "While our first test does show that pop(0) is indeed slower than pop(), it does not validate the claim that pop(0) is $O(n)$ while pop() is $O(1)$. To validate that claim we need to look at the performance of both calls over a range of list sizes.\n",
    "\n",
    "The statement `from __main__ import x`. Although we did not define a function $x$, we do want to be able to use the list object $x$ in our test. This approach allows us to time just the single pop statement and get the most accurate measure of the time for that single operation.\n",
    "\n",
    "In this case the statement `from __main__ import x` imports $x$ from the `__main__` namespace into the namespace that timeit sets up for the timing experiment. The timeit module does this because it wants to run the timing tests in an environment that is uncluttered by any stray variables you may have created, that may interfere with your function’s performance in some unforeseen way."
   ]
  },
  {
   "cell_type": "code",
   "execution_count": 42,
   "id": "divine-victim",
   "metadata": {},
   "outputs": [
    {
     "name": "stdout",
     "output_type": "stream",
     "text": [
      "popzero:    0.51186, popend:    0.00008\n",
      "popzero:    1.37298, popend:    0.00007\n",
      "popzero:    1.90091, popend:    0.00011\n",
      "popzero:    2.59171, popend:    0.00016\n",
      "popzero:    3.28495, popend:    0.00018\n",
      "popzero:    4.03979, popend:    0.00007\n",
      "popzero:    4.67931, popend:    0.00020\n",
      "popzero:    5.34931, popend:    0.00007\n",
      "popzero:    6.05935, popend:    0.00009\n",
      "popzero:    7.42392, popend:    0.00008\n",
      "popzero:    7.71607, popend:    0.00028\n",
      "popzero:    8.18832, popend:    0.00008\n",
      "popzero:    9.31834, popend:    0.00017\n",
      "popzero:    9.75185, popend:    0.00008\n",
      "popzero:   10.46365, popend:    0.00012\n",
      "popzero:   11.51575, popend:    0.00019\n",
      "popzero:   11.88981, popend:    0.00008\n",
      "popzero:   12.31632, popend:    0.00007\n",
      "popzero:   13.01674, popend:    0.00008\n",
      "popzero:   13.81356, popend:    0.00008\n",
      "popzero:   15.19189, popend:    0.00008\n",
      "popzero:   15.98725, popend:    0.00009\n",
      "popzero:   16.49890, popend:    0.00009\n",
      "popzero:   17.03064, popend:    0.00008\n",
      "popzero:   17.87214, popend:    0.00008\n",
      "popzero:   18.22350, popend:    0.00008\n",
      "popzero:   19.01369, popend:    0.00007\n",
      "popzero:   19.35471, popend:    0.00021\n",
      "popzero:   20.63758, popend:    0.00008\n",
      "popzero:   21.66679, popend:    0.00020\n"
     ]
    }
   ],
   "source": [
    "zero_list = []\n",
    "end_list = []\n",
    "names = ['Pop-zero', 'Pop-end']\n",
    "\n",
    "for i in range(1000000,30000001,1000000):\n",
    "    x = list(range(i))\n",
    "    pt = popend.timeit(number=1000)\n",
    "    x = list(range(i))\n",
    "    pz = popzero.timeit(number=1000)\n",
    "    zero_list.append(pz)\n",
    "    end_list.append(pt)\n",
    "    print(\"popzero: %10.5f, popend: %10.5f\" %(pz,pt))"
   ]
  },
  {
   "cell_type": "markdown",
   "id": "extended-checklist",
   "metadata": {},
   "source": [
    "You can see that as the list gets longer and longer from 1 million to 30 million items, the time it takes to `pop(0)` also increases while the time for `pop()` stays very flat. This is exactly what we would expect to see for a $O(n)$ and $O(1)$ algorithm. See the visual chart below"
   ]
  },
  {
   "cell_type": "code",
   "execution_count": 45,
   "id": "exotic-circular",
   "metadata": {},
   "outputs": [],
   "source": [
    "def plotLines(*args, title=None, names=[]):\n",
    "    \"\"\"Plot lines from respective arrays\n",
    "    \"\"\"\n",
    "    size = len(args[0])\n",
    "    for arr in args:\n",
    "        assert len(arr) == size, 'Each Item Must Have Same Len'\n",
    "        \n",
    "    df_list = [lyst for lyst in args]\n",
    "    df = pd.DataFrame(df_list).T\n",
    "    df.columns = names\n",
    "    df.plot()\n",
    "    plt.title(title, fontweight='bold')"
   ]
  },
  {
   "cell_type": "code",
   "execution_count": 49,
   "id": "respiratory-atlas",
   "metadata": {},
   "outputs": [
    {
     "data": {
      "image/png": "[encoded data removed]",
      "text/plain": [
       "<Figure size 432x288 with 1 Axes>"
      ]
     },
     "metadata": {
      "needs_background": "light"
     },
     "output_type": "display_data"
    }
   ],
   "source": [
    "title = 'pop(i) and pop() experiment:'\n",
    "plotLines(zero_list, end_list, title=title, names=names)"
   ]
  },
  {
   "cell_type": "markdown",
   "id": "virtual-glasgow",
   "metadata": {},
   "source": [
    "**Let's see a plot of the different timings for the above four list methods**"
   ]
  },
  {
   "cell_type": "code",
   "execution_count": 102,
   "id": "interim-enterprise",
   "metadata": {},
   "outputs": [],
   "source": [
    "app_list = []\n",
    "conc_list = []\n",
    "comp_list = []\n",
    "rang_list = []\n",
    "names = ['Append', 'Concat', 'Comprehend', 'Range']\n",
    "\n",
    "def execute(lyst, method, n=None):\n",
    "    start = time.time()\n",
    "    method(n)\n",
    "    end = round(time.time()-start, 2)\n",
    "    lyst.append(end)"
   ]
  },
  {
   "cell_type": "code",
   "execution_count": 103,
   "id": "configured-christopher",
   "metadata": {},
   "outputs": [
    {
     "name": "stdout",
     "output_type": "stream",
     "text": [
      "Done\n"
     ]
    }
   ],
   "source": [
    "for n in range(150000,4500001,150000):\n",
    "    execute(app_list, list_append, n=n)\n",
    "    execute(conc_list, list_concat, n=n)\n",
    "    execute(comp_list, list_comprehend, n=n)\n",
    "    execute(rang_list, list_range, n=n)\n",
    "print('Done')"
   ]
  },
  {
   "cell_type": "code",
   "execution_count": 104,
   "id": "prescription-wisdom",
   "metadata": {},
   "outputs": [
    {
     "data": {
      "image/png": "[encoded data removed]",
      "text/plain": [
       "<Figure size 432x288 with 1 Axes>"
      ]
     },
     "metadata": {
      "needs_background": "light"
     },
     "output_type": "display_data"
    }
   ],
   "source": [
    "title = 'Four List Methods Time Comparison:'\n",
    "plotLines(app_list, conc_list, comp_list, rang_list, title=title, names=names)"
   ]
  }
 ],
 "metadata": {
  "kernelspec": {
   "display_name": "Python 3",
   "language": "python",
   "name": "python3"
  },
  "language_info": {
   "codemirror_mode": {
    "name": "ipython",
    "version": 3
   },
   "file_extension": ".py",
   "mimetype": "text/x-python",
   "name": "python",
   "nbconvert_exporter": "python",
   "pygments_lexer": "ipython3",
   "version": "3.8.5"
  }
 },
 "nbformat": 4,
 "nbformat_minor": 5
}
