{
 "cells": [
  {
   "cell_type": "markdown",
   "metadata": {},
   "source": [
    "## Python List\n",
    "\n",
    "The designers of Python had many choices to make when they implemented the list data structure. Each of these choices could have an impact on how fast list operations perform. To help them make the right choices they looked at the ways that people would most commonly use the list data structure and they optimized their implementation of a list so that **the most common operations were very fast**. Of course they also tried to make the less common operations fast, but when a tradeoff had to be made the performance of a less common operation was often sacrificed in favor of the more common operation.\n",
    "\n",
    "Two common operations are **indexing** and **assigning to an index position**. Both of these operations take the same amount of time no matter how large the list becomes. When an operation like this is independent of the size of the list they are $O(1)$.\n",
    "\n",
    "Another very common programming task is to grow a list. There are two ways to create a longer list. You can use the append method or the concatenation operator. \n",
    "* The append method is $O(1)$. \n",
    "* However, the concatenation operator is $O(k)$ where $k$ is the size of the list that is being concatenated. \n",
    "\n",
    "This is important for you to know because it can help you make your own programs more efficient by choosing the right tool for the job.\n",
    "\n",
    "Let’s look at four different ways we might generate a list of n numbers starting with 0."
   ]
  },
  {
   "cell_type": "code",
   "execution_count": 1,
   "metadata": {},
   "outputs": [
    {
     "data": {
      "text/plain": [
       "[0, 1, 2, 3, 4]"
      ]
     },
     "execution_count": 1,
     "metadata": {},
     "output_type": "execute_result"
    }
   ],
   "source": [
    "def list_concat(k):\n",
    "    l = []\n",
    "    \n",
    "    for i in range(k):\n",
    "        l+=[i]\n",
    "        \n",
    "    return l\n",
    "\n",
    "list_concat(5)"
   ]
  },
  {
   "cell_type": "code",
   "execution_count": 2,
   "metadata": {},
   "outputs": [
    {
     "data": {
      "text/plain": [
       "[0, 1, 2, 3, 4]"
      ]
     },
     "execution_count": 2,
     "metadata": {},
     "output_type": "execute_result"
    }
   ],
   "source": [
    "def list_append(n):\n",
    "    l = []\n",
    "    \n",
    "    for i in range(n):\n",
    "        l.append(i)\n",
    "        \n",
    "    return l\n",
    "\n",
    "list_append(5)"
   ]
  },
  {
   "cell_type": "code",
   "execution_count": 3,
   "metadata": {},
   "outputs": [
    {
     "data": {
      "text/plain": [
       "[0, 1, 2, 3, 4]"
      ]
     },
     "execution_count": 3,
     "metadata": {},
     "output_type": "execute_result"
    }
   ],
   "source": [
    "def list_comprehend(k):\n",
    "    l = [i for i in range(k)]\n",
    "    \n",
    "    return l\n",
    "\n",
    "list_comprehend(5)"
   ]
  },
  {
   "cell_type": "code",
   "execution_count": 4,
   "metadata": {},
   "outputs": [
    {
     "data": {
      "text/plain": [
       "[0, 1, 2, 3, 4]"
      ]
     },
     "execution_count": 4,
     "metadata": {},
     "output_type": "execute_result"
    }
   ],
   "source": [
    "def list_range(k):\n",
    "    l = list(range(k))\n",
    "    \n",
    "    return l\n",
    "\n",
    "list_range(5)"
   ]
  },
  {
   "cell_type": "markdown",
   "metadata": {},
   "source": [
    "#### Timing The above List methods\n",
    "\n",
    "\n",
    "To capture the time it takes for each of our functions to execute we will use Python’s `timeit` module. The `timeit` module is designed to allow Python developers to make cross-platform timing measurements by running functions in a consistent environment and using timing mechanisms that are as similar as possible across operating systems.\n",
    "\n",
    "* To use timeit you create a Timer object whose parameters are two Python statements. \n",
    "* The first parameter is a Python statement that you want to time; \n",
    "* The second parameter is a statement that will run once to set up the test. \n",
    "* The timeit module will then time how long it takes to execute the statement some number of times. By default timeit will try to run the statement one million times. When its done it returns the time as a floating point value representing the total number of seconds. However, since it executes the statement a million times you can read the result as the number of microseconds to execute the test one time. \n",
    "\n",
    "You can also pass timeit a named parameter called number that allows you to specify how many times the test statement is executed."
   ]
  },
  {
   "cell_type": "code",
   "execution_count": 5,
   "metadata": {},
   "outputs": [],
   "source": [
    "names = ['concat', 'append', 'comprehend', 'range']\n",
    "methods = [list_concat, list_append, list_comprehend, list_range]\n",
    "k = 1000000"
   ]
  },
  {
   "cell_type": "code",
   "execution_count": 13,
   "metadata": {},
   "outputs": [],
   "source": [
    "import time\n",
    "import timeit\n",
    "import pandas as pd\n",
    "import matplotlib.pyplot as plt\n",
    "from tqdm import tqdm"
   ]
  },
  {
   "cell_type": "code",
   "execution_count": 7,
   "metadata": {},
   "outputs": [],
   "source": [
    "def time_it(methods, names, k):\n",
    "    time_dict = {}\n",
    "    for method, name in zip(methods, names):\n",
    "        start = time.time()\n",
    "        method(k)\n",
    "        time_dict[name] = round(time.time()-start, 3)\n",
    "        \n",
    "    return time_dict"
   ]
  },
  {
   "cell_type": "code",
   "execution_count": 8,
   "metadata": {},
   "outputs": [
    {
     "name": "stdout",
     "output_type": "stream",
     "text": [
      "{'concat': 0.211, 'append': 0.151, 'comprehend': 0.101, 'range': 0.045}\n",
      "\n",
      "min-time_dict: range\n",
      "\n",
      "max-time_dict: concat\n"
     ]
    }
   ],
   "source": [
    "time_dict = time_it(methods, names, k)\n",
    "print(time_dict)\n",
    "print()\n",
    "print('min-time_dict:', min(time_dict, key=time_dict.get))\n",
    "print()\n",
    "print('max-time_dict:', max(time_dict, key=time_dict.get))"
   ]
  },
  {
   "cell_type": "markdown",
   "metadata": {},
   "source": [
    "**From the above experiment, after running the four methods `concat`, `append`, `comprehend`, `range` for 1 million secs each...**\n",
    "\n",
    "* Range has the best time\n",
    "* Concat has the worst time $O(k)$\n",
    "* Append has the second worst time $O(1)$\n",
    "* While comprehension has the 2nd best time\n",
    "\n",
    "It is interesting to note that the list comprehension is almost twice as fast as a for loop with an append operation"
   ]
  },
  {
   "cell_type": "markdown",
   "metadata": {},
   "source": [
    "## Big-O Efficiency of Basic Lists Operations\n",
    "\n",
    "\n",
    "| Operation | Big-O Efficiency |\n",
    "| --- | --- |\n",
    "| `index[]` | $O(1)$ |\n",
    "| `index-assignment` | $O(1)$ |\n",
    "| `append` | $O(1)$ |\n",
    "| `pop()` | $O(1)$ |\n",
    "| `pop(i)` | $O(n)$ |\n",
    "| `insert(i,item)` | $O(n)$ |\n",
    "| `del operator` | $O(n)$ |\n",
    "| `iteration` | $O(n)$ |\n",
    "| `contains (in)` | $O(n)$ |\n",
    "| `get slice[i:j]` | $O(k)$ |\n",
    "| `del slice` | $O(n)$ |\n",
    "| `set slice` | $O(n+k)$ |\n",
    "| `reverse` | $O(n)$ |\n",
    "| `concatenate` | $O(k)$ |\n",
    "| `sort` | $O(nlog(n))$ |\n",
    "| `multiply` | $O(nk)$ |"
   ]
  },
  {
   "cell_type": "markdown",
   "metadata": {},
   "source": [
    "As a way of demonstrating this difference in performance let’s do another experiment using the timeit module. Our goal is to be able to verify the performance of the pop operation on a list of a known size when the program pops from the end of the list, and again when the program pops from the beginning of the list. We will also want to measure this time for lists of different sizes. What we would expect to see is that the time required to pop from the end of the list will stay constant even as the list grows in size, while the time to pop from the beginning of the list will continue to increase as the list grows."
   ]
  },
  {
   "cell_type": "code",
   "execution_count": 9,
   "metadata": {},
   "outputs": [],
   "source": [
    "popzero = timeit.Timer('x.pop(0)', 'from __main__ import x')\n",
    "popend = timeit.Timer('x.pop()', 'from __main__ import x')\n",
    "x = list(range(2000000))"
   ]
  },
  {
   "cell_type": "code",
   "execution_count": 10,
   "metadata": {},
   "outputs": [
    {
     "data": {
      "text/plain": [
       "2.7321124000000054"
      ]
     },
     "execution_count": 10,
     "metadata": {},
     "output_type": "execute_result"
    }
   ],
   "source": [
    "popzero.timeit(number=1000)"
   ]
  },
  {
   "cell_type": "code",
   "execution_count": 11,
   "metadata": {},
   "outputs": [
    {
     "data": {
      "text/plain": [
       "0.00024179999991247314"
      ]
     },
     "execution_count": 11,
     "metadata": {},
     "output_type": "execute_result"
    }
   ],
   "source": [
    "popend.timeit(number=1000)"
   ]
  },
  {
   "cell_type": "code",
   "execution_count": 12,
   "metadata": {},
   "outputs": [
    {
     "name": "stdout",
     "output_type": "stream",
     "text": [
      "<timeit.Timer object at 0x0000024CC63F4AC8>\n"
     ]
    }
   ],
   "source": [
    "print(popend)"
   ]
  },
  {
   "cell_type": "markdown",
   "metadata": {},
   "source": [
    "While our first test does show that pop(0) is indeed slower than pop(), it does not validate the claim that pop(0) is $O(n)$ while pop() is $O(1)$. To validate that claim we need to look at the performance of both calls over a range of list sizes.\n",
    "\n",
    "The statement `from __main__ import x`. Although we did not define a function $x$, we do want to be able to use the list object $x$ in our test. This approach allows us to time just the single pop statement and get the most accurate measure of the time for that single operation.\n",
    "\n",
    "In this case the statement `from __main__ import x` imports $x$ from the `__main__` namespace into the namespace that timeit sets up for the timing experiment. The timeit module does this because it wants to run the timing tests in an environment that is uncluttered by any stray variables you may have created, that may interfere with your function’s performance in some unforeseen way."
   ]
  },
  {
   "cell_type": "code",
   "execution_count": 14,
   "metadata": {},
   "outputs": [
    {
     "name": "stderr",
     "output_type": "stream",
     "text": [
      "  3%|████▎                                                                                                                           | 1/30 [00:01<00:46,  1.61s/it]"
     ]
    },
    {
     "name": "stdout",
     "output_type": "stream",
     "text": [
      "popzero:    1.39887, popend:    0.00021\n"
     ]
    },
    {
     "name": "stderr",
     "output_type": "stream",
     "text": [
      "\r",
      "  7%|████████▌                                                                                                                       | 2/30 [00:04<00:56,  2.03s/it]"
     ]
    },
    {
     "name": "stdout",
     "output_type": "stream",
     "text": [
      "popzero:    2.62056, popend:    0.00056\n"
     ]
    },
    {
     "name": "stderr",
     "output_type": "stream",
     "text": [
      "\r",
      " 10%|████████████▊                                                                                                                   | 3/30 [00:08<01:13,  2.73s/it]"
     ]
    },
    {
     "name": "stdout",
     "output_type": "stream",
     "text": [
      "popzero:    3.89012, popend:    0.00053\n"
     ]
    },
    {
     "name": "stderr",
     "output_type": "stream",
     "text": [
      "\r",
      " 13%|█████████████████                                                                                                               | 4/30 [00:14<01:33,  3.61s/it]"
     ]
    },
    {
     "name": "stdout",
     "output_type": "stream",
     "text": [
      "popzero:    5.11411, popend:    0.00019\n"
     ]
    },
    {
     "name": "stderr",
     "output_type": "stream",
     "text": [
      "\r",
      " 17%|█████████████████████▎                                                                                                          | 5/30 [00:21<01:57,  4.72s/it]"
     ]
    },
    {
     "name": "stdout",
     "output_type": "stream",
     "text": [
      "popzero:    6.55599, popend:    0.00019\n"
     ]
    },
    {
     "name": "stderr",
     "output_type": "stream",
     "text": [
      "\r",
      " 20%|█████████████████████████▌                                                                                                      | 6/30 [00:30<02:20,  5.86s/it]"
     ]
    },
    {
     "name": "stdout",
     "output_type": "stream",
     "text": [
      "popzero:    7.56594, popend:    0.00052\n"
     ]
    },
    {
     "name": "stderr",
     "output_type": "stream",
     "text": [
      "\r",
      " 23%|█████████████████████████████▊                                                                                                  | 7/30 [00:40<02:41,  7.04s/it]"
     ]
    },
    {
     "name": "stdout",
     "output_type": "stream",
     "text": [
      "popzero:    8.78895, popend:    0.00019\n"
     ]
    },
    {
     "name": "stderr",
     "output_type": "stream",
     "text": [
      "\r",
      " 27%|██████████████████████████████████▏                                                                                             | 8/30 [00:51<03:03,  8.35s/it]"
     ]
    },
    {
     "name": "stdout",
     "output_type": "stream",
     "text": [
      "popzero:   10.23434, popend:    0.00019\n"
     ]
    },
    {
     "name": "stderr",
     "output_type": "stream",
     "text": [
      "\r",
      " 30%|██████████████████████████████████████▍                                                                                         | 9/30 [01:04<03:22,  9.66s/it]"
     ]
    },
    {
     "name": "stdout",
     "output_type": "stream",
     "text": [
      "popzero:   11.33670, popend:    0.00019\n"
     ]
    },
    {
     "name": "stderr",
     "output_type": "stream",
     "text": [
      "\r",
      " 33%|██████████████████████████████████████████▎                                                                                    | 10/30 [01:18<03:39, 10.99s/it]"
     ]
    },
    {
     "name": "stdout",
     "output_type": "stream",
     "text": [
      "popzero:   12.66695, popend:    0.00031\n"
     ]
    },
    {
     "name": "stderr",
     "output_type": "stream",
     "text": [
      "\r",
      " 37%|██████████████████████████████████████████████▌                                                                                | 11/30 [01:34<03:59, 12.58s/it]"
     ]
    },
    {
     "name": "stdout",
     "output_type": "stream",
     "text": [
      "popzero:   14.31133, popend:    0.00019\n"
     ]
    },
    {
     "name": "stderr",
     "output_type": "stream",
     "text": [
      "\r",
      " 40%|██████████████████████████████████████████████████▊                                                                            | 12/30 [01:51<04:10, 13.94s/it]"
     ]
    },
    {
     "name": "stdout",
     "output_type": "stream",
     "text": [
      "popzero:   15.36386, popend:    0.00022\n"
     ]
    },
    {
     "name": "stderr",
     "output_type": "stream",
     "text": [
      "\r",
      " 43%|███████████████████████████████████████████████████████                                                                        | 13/30 [02:10<04:19, 15.29s/it]"
     ]
    },
    {
     "name": "stdout",
     "output_type": "stream",
     "text": [
      "popzero:   16.50782, popend:    0.00037\n"
     ]
    },
    {
     "name": "stderr",
     "output_type": "stream",
     "text": [
      "\r",
      " 47%|███████████████████████████████████████████████████████████▎                                                                   | 14/30 [02:31<04:33, 17.08s/it]"
     ]
    },
    {
     "name": "stdout",
     "output_type": "stream",
     "text": [
      "popzero:   19.13259, popend:    0.00020\n"
     ]
    },
    {
     "name": "stderr",
     "output_type": "stream",
     "text": [
      "\r",
      " 50%|███████████████████████████████████████████████████████████████▌                                                               | 15/30 [02:53<04:36, 18.46s/it]"
     ]
    },
    {
     "name": "stdout",
     "output_type": "stream",
     "text": [
      "popzero:   19.52107, popend:    0.00019\n"
     ]
    },
    {
     "name": "stderr",
     "output_type": "stream",
     "text": [
      "\r",
      " 53%|███████████████████████████████████████████████████████████████████▋                                                           | 16/30 [03:16<04:37, 19.83s/it]"
     ]
    },
    {
     "name": "stdout",
     "output_type": "stream",
     "text": [
      "popzero:   20.77283, popend:    0.00019\n"
     ]
    },
    {
     "name": "stderr",
     "output_type": "stream",
     "text": [
      "\r",
      " 57%|███████████████████████████████████████████████████████████████████████▉                                                       | 17/30 [03:42<04:41, 21.62s/it]"
     ]
    },
    {
     "name": "stdout",
     "output_type": "stream",
     "text": [
      "popzero:   23.23470, popend:    0.00051\n"
     ]
    },
    {
     "name": "stderr",
     "output_type": "stream",
     "text": [
      "\r",
      " 60%|████████████████████████████████████████████████████████████████████████████▏                                                  | 18/30 [04:07<04:32, 22.69s/it]"
     ]
    },
    {
     "name": "stdout",
     "output_type": "stream",
     "text": [
      "popzero:   22.53736, popend:    0.00019\n"
     ]
    },
    {
     "name": "stderr",
     "output_type": "stream",
     "text": [
      "\r",
      " 63%|████████████████████████████████████████████████████████████████████████████████▍                                              | 19/30 [04:45<05:00, 27.30s/it]"
     ]
    },
    {
     "name": "stdout",
     "output_type": "stream",
     "text": [
      "popzero:   35.26019, popend:    0.00052\n"
     ]
    },
    {
     "name": "stderr",
     "output_type": "stream",
     "text": [
      "\r",
      " 67%|████████████████████████████████████████████████████████████████████████████████████▋                                          | 20/30 [05:17<04:47, 28.78s/it]"
     ]
    },
    {
     "name": "stdout",
     "output_type": "stream",
     "text": [
      "popzero:   28.33236, popend:    0.00053\n"
     ]
    },
    {
     "name": "stderr",
     "output_type": "stream",
     "text": [
      "\r",
      " 70%|████████████████████████████████████████████████████████████████████████████████████████▉                                      | 21/30 [05:49<04:27, 29.70s/it]"
     ]
    },
    {
     "name": "stdout",
     "output_type": "stream",
     "text": [
      "popzero:   28.41785, popend:    0.00052\n"
     ]
    },
    {
     "name": "stderr",
     "output_type": "stream",
     "text": [
      "\r",
      " 73%|█████████████████████████████████████████████████████████████████████████████████████████████▏                                 | 22/30 [06:23<04:07, 30.97s/it]"
     ]
    },
    {
     "name": "stdout",
     "output_type": "stream",
     "text": [
      "popzero:   30.64413, popend:    0.00019\n"
     ]
    },
    {
     "name": "stderr",
     "output_type": "stream",
     "text": [
      "\r",
      " 77%|█████████████████████████████████████████████████████████████████████████████████████████████████▎                             | 23/30 [06:58<03:45, 32.26s/it]"
     ]
    },
    {
     "name": "stdout",
     "output_type": "stream",
     "text": [
      "popzero:   31.64884, popend:    0.00019\n"
     ]
    },
    {
     "name": "stderr",
     "output_type": "stream",
     "text": [
      "\r",
      " 80%|█████████████████████████████████████████████████████████████████████████████████████████████████████▌                         | 24/30 [07:33<03:18, 33.02s/it]"
     ]
    },
    {
     "name": "stdout",
     "output_type": "stream",
     "text": [
      "popzero:   30.86153, popend:    0.00021\n"
     ]
    },
    {
     "name": "stderr",
     "output_type": "stream",
     "text": [
      "\r",
      " 83%|█████████████████████████████████████████████████████████████████████████████████████████████████████████▊                     | 25/30 [08:09<02:49, 33.94s/it]"
     ]
    },
    {
     "name": "stdout",
     "output_type": "stream",
     "text": [
      "popzero:   31.88472, popend:    0.00052\n"
     ]
    },
    {
     "name": "stderr",
     "output_type": "stream",
     "text": [
      "\r",
      " 87%|██████████████████████████████████████████████████████████████████████████████████████████████████████████████                 | 26/30 [08:46<02:20, 35.01s/it]"
     ]
    },
    {
     "name": "stdout",
     "output_type": "stream",
     "text": [
      "popzero:   33.32494, popend:    0.00019\n"
     ]
    },
    {
     "name": "stderr",
     "output_type": "stream",
     "text": [
      "\r",
      " 90%|██████████████████████████████████████████████████████████████████████████████████████████████████████████████████▎            | 27/30 [09:26<01:48, 36.22s/it]"
     ]
    },
    {
     "name": "stdout",
     "output_type": "stream",
     "text": [
      "popzero:   34.97422, popend:    0.00028\n"
     ]
    },
    {
     "name": "stderr",
     "output_type": "stream",
     "text": [
      "\r",
      " 93%|██████████████████████████████████████████████████████████████████████████████████████████████████████████████████████▌        | 28/30 [10:01<01:12, 36.14s/it]"
     ]
    },
    {
     "name": "stdout",
     "output_type": "stream",
     "text": [
      "popzero:   33.33367, popend:    0.00018\n"
     ]
    },
    {
     "name": "stderr",
     "output_type": "stream",
     "text": [
      "\r",
      " 97%|██████████████████████████████████████████████████████████████████████████████████████████████████████████████████████████▊    | 29/30 [10:38<00:36, 36.25s/it]"
     ]
    },
    {
     "name": "stdout",
     "output_type": "stream",
     "text": [
      "popzero:   33.64665, popend:    0.00012\n"
     ]
    },
    {
     "name": "stderr",
     "output_type": "stream",
     "text": [
      "\r",
      "100%|███████████████████████████████████████████████████████████████████████████████████████████████████████████████████████████████| 30/30 [11:15<00:00, 36.37s/it]"
     ]
    },
    {
     "name": "stdout",
     "output_type": "stream",
     "text": [
      "popzero:   34.00230, popend:    0.00011\n"
     ]
    },
    {
     "name": "stderr",
     "output_type": "stream",
     "text": [
      "100%|███████████████████████████████████████████████████████████████████████████████████████████████████████████████████████████████| 30/30 [11:15<00:00, 22.52s/it]\n"
     ]
    }
   ],
   "source": [
    "zero_list = []\n",
    "end_list = []\n",
    "names = ['Pop-zero', 'Pop-end']\n",
    "\n",
    "for i in tqdm(range(1000000,30000001,1000000)):\n",
    "    x = list(range(i))\n",
    "    pt = popend.timeit(number=1000)\n",
    "    x = list(range(i))  # initiate again since last pop\n",
    "    pz = popzero.timeit(number=1000)\n",
    "    zero_list.append(pz)\n",
    "    end_list.append(pt)\n",
    "    print(\"popzero: %10.5f, popend: %10.5f\" %(pz,pt))"
   ]
  },
  {
   "cell_type": "markdown",
   "metadata": {},
   "source": [
    "You can see that as the list gets longer and longer from 1 million to 30 million items, the time it takes to `pop(0)` also increases while the time for `pop()` stays very flat. This is exactly what we would expect to see for a $O(n)$ and $O(1)$ algorithm. See the visual chart below"
   ]
  },
  {
   "cell_type": "code",
   "execution_count": 15,
   "metadata": {},
   "outputs": [],
   "source": [
    "def plotLines(*args, title=None, names=[]):\n",
    "    \"\"\"Plot lines from respective arrays\n",
    "    \"\"\"\n",
    "    size = len(args[0])\n",
    "    for arr in args:\n",
    "        assert len(arr) == size, 'Each Item Must Have Same Len'\n",
    "        \n",
    "    df_list = [lyst for lyst in args]\n",
    "    df = pd.DataFrame(df_list).T\n",
    "    df.columns = names\n",
    "    df.plot()\n",
    "    plt.title(title, fontweight='bold')"
   ]
  },
  {
   "cell_type": "code",
   "execution_count": 16,
   "metadata": {},
   "outputs": [
    {
     "data": {
      "image/png": "[encoded data removed]",
      "text/plain": [
       "<Figure size 432x288 with 1 Axes>"
      ]
     },
     "metadata": {
      "needs_background": "light"
     },
     "output_type": "display_data"
    }
   ],
   "source": [
    "title = 'pop(i) and pop() experiment:'\n",
    "plotLines(zero_list, end_list, title=title, names=names)"
   ]
  },
  {
   "cell_type": "markdown",
   "metadata": {},
   "source": [
    "**Let's see a plot of the different timings for the above four list methods**"
   ]
  },
  {
   "cell_type": "code",
   "execution_count": 24,
   "metadata": {},
   "outputs": [],
   "source": [
    "app_list = []\n",
    "conc_list = []\n",
    "comp_list = []\n",
    "rang_list = []\n",
    "names = ['Append', 'Concat', 'Comprehend', 'Range']\n",
    "\n",
    "def execute(lyst, method, n=None):\n",
    "    start = time.time()\n",
    "    method(n)\n",
    "    end = round(time.time()-start, 2)\n",
    "    lyst.append(end)"
   ]
  },
  {
   "cell_type": "code",
   "execution_count": 25,
   "metadata": {},
   "outputs": [
    {
     "name": "stderr",
     "output_type": "stream",
     "text": [
      "100%|███████████████████████████████████████████████████████████████████████████████████████████████████████████████████████████████| 30/30 [00:57<00:00,  1.93s/it]"
     ]
    },
    {
     "name": "stdout",
     "output_type": "stream",
     "text": [
      "Done\n"
     ]
    },
    {
     "name": "stderr",
     "output_type": "stream",
     "text": [
      "\n"
     ]
    }
   ],
   "source": [
    "for n in tqdm(range(150000,4500001,150000)):\n",
    "    execute(app_list, list_append, n=n)\n",
    "    execute(conc_list, list_concat, n=n)\n",
    "    execute(comp_list, list_comprehend, n=n+1)\n",
    "    execute(rang_list, list_range, n=n+1)\n",
    "print('Done')"
   ]
  },
  {
   "cell_type": "markdown",
   "metadata": {},
   "source": [
    "Let's check that each list has same length..."
   ]
  },
  {
   "cell_type": "code",
   "execution_count": 26,
   "metadata": {},
   "outputs": [
    {
     "name": "stdout",
     "output_type": "stream",
     "text": [
      "30\n",
      "30\n",
      "30\n",
      "30\n"
     ]
    }
   ],
   "source": [
    "for i in [app_list, conc_list, comp_list, rang_list]:\n",
    "    print(len(i))"
   ]
  },
  {
   "cell_type": "code",
   "execution_count": 27,
   "metadata": {},
   "outputs": [
    {
     "data": {
      "image/png": "[encoded data removed]",
      "text/plain": [
       "<Figure size 432x288 with 1 Axes>"
      ]
     },
     "metadata": {
      "needs_background": "light"
     },
     "output_type": "display_data"
    }
   ],
   "source": [
    "title = 'Four List Methods Time Comparison:'\n",
    "plotLines(app_list, conc_list, comp_list, rang_list, title=title, names=names)"
   ]
  },
  {
   "cell_type": "code",
   "execution_count": null,
   "metadata": {},
   "outputs": [],
   "source": []
  }
 ],
 "metadata": {
  "kernelspec": {
   "display_name": "Python 3",
   "language": "python",
   "name": "python3"
  },
  "language_info": {
   "codemirror_mode": {
    "name": "ipython",
    "version": 3
   },
   "file_extension": ".py",
   "mimetype": "text/x-python",
   "name": "python",
   "nbconvert_exporter": "python",
   "pygments_lexer": "ipython3",
   "version": "3.7.5"
  }
 },
 "nbformat": 4,
 "nbformat_minor": 5
}
