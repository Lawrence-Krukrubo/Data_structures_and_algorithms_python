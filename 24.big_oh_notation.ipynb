{
 "cells": [
  {
   "cell_type": "markdown",
   "id": "extra-humidity",
   "metadata": {},
   "source": [
    "## Big-Oh Notation"
   ]
  },
  {
   "cell_type": "markdown",
   "id": "described-prior",
   "metadata": {},
   "source": [
    "When trying to characterize an algorithm’s efficiency in terms of **execution time**, independent of any particular program or computer, it is important to quantify the number of operations or steps that the algorithm will require. \n",
    "\n",
    "If each of these steps is considered to be a basic unit of computation, then the execution time for an algorithm can be expressed as `the number of steps required to solve the problem`. Deciding on an appropriate basic unit of computation can be a complicated problem and will depend on how the algorithm is implemented."
   ]
  },
  {
   "cell_type": "code",
   "execution_count": 3,
   "id": "systematic-jones",
   "metadata": {},
   "outputs": [
    {
     "name": "stdout",
     "output_type": "stream",
     "text": [
      "(55, 0.0)\n"
     ]
    }
   ],
   "source": [
    "# A basic summation program, seen in the last notebook...\n",
    "\n",
    "import time\n",
    "\n",
    "def sumOfN(n):\n",
    "    start = time.time()\n",
    "\n",
    "    theSum = 0\n",
    "    for i in range(1,n+1):\n",
    "        theSum = theSum + i\n",
    "\n",
    "    end = time.time()\n",
    "\n",
    "    return theSum, end-start\n",
    "\n",
    "print(sumOfN(10))"
   ]
  },
  {
   "cell_type": "markdown",
   "id": "stone-racing",
   "metadata": {},
   "source": [
    "A good basic unit of computation for comparing the summation algorithms shown earlier might be to count the number of assignment statements performed to compute the sum. In the function `sumOfN`, the number of assignment statements is 1 (`theSum=0`) plus the value of $n$ (the number of times we perform `theSum=theSum+i`). \n",
    "\n",
    "We can denote this by a function, call it $T$, where $T(n)=1+n$. The parameter $n$ is often referred to as the **“size of the problem,”** and we can read this as “$T(n)$ is the time it takes to solve a problem of size $n$, namely $1+n$ steps.”`"
   ]
  },
  {
   "cell_type": "markdown",
   "id": "shaped-jones",
   "metadata": {},
   "source": [
    "In the summation functions given above, it makes sense to use the number of terms in the summation to denote the size of the problem. \n",
    "\n",
    "We can then say that the sum of the first 100,000 integers is a bigger instance of the summation problem than the sum of the first 1,000. Because of this, it might seem reasonable that the time required to solve the larger case would be greater than for the smaller case. \n",
    "\n",
    "Our goal then is to show how the algorithm’s **execution time** changes with respect to the **size** of the problem."
   ]
  },
  {
   "cell_type": "markdown",
   "id": "heavy-emission",
   "metadata": {},
   "source": [
    "Computer scientists prefer to take this analysis technique one step further. It turns out that the exact number of operations is not as important as determining the most dominant part of the $T(n)$ function. In other words, as the problem gets larger, some portion of the $T(n)$ function tends to overpower the rest. This **dominant term** is what, in the end, is used for comparison"
   ]
  },
  {
   "cell_type": "markdown",
   "id": "superior-housing",
   "metadata": {},
   "source": [
    "The **order of magnitude function** describes the part of $T(n)$ that increases the fastest as the value of $n$ increases. Order of magnitude is often called **Big-O notation** (for “order”) and written as $O(f(n))$. It provides a _useful approximation_ to the actual number of steps in the computation. The function $f(n)$ provides a simple representation of the dominant part of the original $T(n)$."
   ]
  },
  {
   "cell_type": "code",
   "execution_count": null,
   "id": "developing-freedom",
   "metadata": {},
   "outputs": [],
   "source": []
  }
 ],
 "metadata": {
  "kernelspec": {
   "display_name": "Python 3",
   "language": "python",
   "name": "python3"
  },
  "language_info": {
   "codemirror_mode": {
    "name": "ipython",
    "version": 3
   },
   "file_extension": ".py",
   "mimetype": "text/x-python",
   "name": "python",
   "nbconvert_exporter": "python",
   "pygments_lexer": "ipython3",
   "version": "3.8.5"
  }
 },
 "nbformat": 4,
 "nbformat_minor": 5
}
