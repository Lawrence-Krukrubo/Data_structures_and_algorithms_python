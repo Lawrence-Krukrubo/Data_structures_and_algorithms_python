{
 "cells": [
  {
   "cell_type": "code",
   "execution_count": 1,
   "metadata": {},
   "outputs": [],
   "source": [
    "def newton_squareroot(n):\n",
    "    \"\"\"Performs the Newton Sqrt via an iterative \n",
    "        computation that converges on the correct value\n",
    "    \"\"\"\n",
    "    root = n/2    #initial guess will be 1/2 of n\n",
    "    \n",
    "    while True:\n",
    "        temp = root\n",
    "        # new-guess is half * (old-guess + n / old-guess)\n",
    "        root = (1/2)*(root + (n / root))\n",
    "        # if converged, break out...\n",
    "        if round(temp, 6) == round(root, 6):\n",
    "            break\n",
    "\n",
    "    return root"
   ]
  },
  {
   "cell_type": "code",
   "execution_count": 4,
   "metadata": {},
   "outputs": [
    {
     "data": {
      "text/plain": [
       "30.0"
      ]
     },
     "execution_count": 4,
     "metadata": {},
     "output_type": "execute_result"
    }
   ],
   "source": [
    "newton_squareroot(900)"
   ]
  },
  {
   "cell_type": "markdown",
   "metadata": {},
   "source": [
    "### Infinite Monkey Theorem"
   ]
  },
  {
   "cell_type": "code",
   "execution_count": 5,
   "metadata": {},
   "outputs": [],
   "source": [
    "text = 'methinks it is like a weasel'\n",
    "\n",
    "# the list of lower-case numbers\n",
    "lowercase_num = list(range(97, 123))\n",
    "\n",
    "# Let's add the empty space character to the list\n",
    "lowercase_num.append(' ')"
   ]
  },
  {
   "cell_type": "code",
   "execution_count": 6,
   "metadata": {},
   "outputs": [],
   "source": [
    "import random"
   ]
  },
  {
   "cell_type": "code",
   "execution_count": 7,
   "metadata": {},
   "outputs": [],
   "source": [
    "def generate_str(alpha_list, text):\n",
    "    strr = ''\n",
    "    for i in range(len(text)):\n",
    "        val = random.choice(alpha_list)\n",
    "        try:\n",
    "            int(val)\n",
    "            strr+=chr(val)\n",
    "        except:\n",
    "            strr+=val\n",
    "            \n",
    "    return strr"
   ]
  },
  {
   "cell_type": "code",
   "execution_count": 8,
   "metadata": {},
   "outputs": [],
   "source": [
    "def score_str(random_str, text):\n",
    "    score = 0\n",
    "    \n",
    "    if random_str == text:\n",
    "        score+=len(text)\n",
    "    else:\n",
    "        for rand_char, goal_char in zip(random_str, text):\n",
    "            if rand_char == goal_char:\n",
    "                score+=1\n",
    "            \n",
    "    return score"
   ]
  },
  {
   "cell_type": "code",
   "execution_count": 9,
   "metadata": {},
   "outputs": [],
   "source": [
    "def best_str(limit,\n",
    "             stdout,\n",
    "             text,\n",
    "            alpha_=lowercase_num):\n",
    "    \n",
    "    best_guess = None\n",
    "    best_score = 0\n",
    "    iterr=limit\n",
    "    \n",
    "    while limit:\n",
    "        guess = generate_str(alpha_, text)\n",
    "        score = score_str(guess, text)\n",
    "        if score > best_score:\n",
    "            best_guess = guess\n",
    "            best_score = score\n",
    "        if limit % stdout == 0:\n",
    "            print('Iter %d: \\nBest-Score %d \\nBest-Score-Pct: %.1f \\nBest-Guess: %s' %(iterr-limit,\n",
    "                                                                                       best_score,\n",
    "                                                                                       (best_score/len(text))*100, \n",
    "                                                                                       best_guess))\n",
    "            print()\n",
    "        if best_score == len(text):\n",
    "            print('Perfect Guess!')\n",
    "            print('Best-Score: %d \\nBest-Guess: %s' %(best_score, best_guess))\n",
    "            break\n",
    "        limit-=1"
   ]
  },
  {
   "cell_type": "code",
   "execution_count": 10,
   "metadata": {},
   "outputs": [
    {
     "data": {
      "text/plain": [
       "'methinks it is like a weasel'"
      ]
     },
     "execution_count": 10,
     "metadata": {},
     "output_type": "execute_result"
    }
   ],
   "source": [
    "text"
   ]
  },
  {
   "cell_type": "code",
   "execution_count": 11,
   "metadata": {},
   "outputs": [],
   "source": [
    "text = 'hello world'"
   ]
  },
  {
   "cell_type": "code",
   "execution_count": 12,
   "metadata": {
    "scrolled": false
   },
   "outputs": [
    {
     "name": "stdout",
     "output_type": "stream",
     "text": [
      "Iter 0: \n",
      "Best-Score 0 \n",
      "Best-Score-Pct: 0.0 \n",
      "Best-Guess: None\n",
      "\n",
      "Iter 200000: \n",
      "Best-Score 5 \n",
      "Best-Score-Pct: 45.5 \n",
      "Best-Guess: hslkr lfrnd\n",
      "\n",
      "Iter 400000: \n",
      "Best-Score 7 \n",
      "Best-Score-Pct: 63.6 \n",
      "Best-Guess: helfo wogph\n",
      "\n",
      "Iter 600000: \n",
      "Best-Score 7 \n",
      "Best-Score-Pct: 63.6 \n",
      "Best-Guess: helfo wogph\n",
      "\n",
      "Iter 800000: \n",
      "Best-Score 7 \n",
      "Best-Score-Pct: 63.6 \n",
      "Best-Guess: helfo wogph\n",
      "\n",
      "Iter 1000000: \n",
      "Best-Score 7 \n",
      "Best-Score-Pct: 63.6 \n",
      "Best-Guess: helfo wogph\n",
      "\n",
      "Iter 1200000: \n",
      "Best-Score 7 \n",
      "Best-Score-Pct: 63.6 \n",
      "Best-Guess: helfo wogph\n",
      "\n",
      "Iter 1400000: \n",
      "Best-Score 7 \n",
      "Best-Score-Pct: 63.6 \n",
      "Best-Guess: helfo wogph\n",
      "\n",
      "Iter 1600000: \n",
      "Best-Score 7 \n",
      "Best-Score-Pct: 63.6 \n",
      "Best-Guess: helfo wogph\n",
      "\n",
      "Iter 1800000: \n",
      "Best-Score 7 \n",
      "Best-Score-Pct: 63.6 \n",
      "Best-Guess: helfo wogph\n",
      "\n",
      "Iter 2000000: \n",
      "Best-Score 7 \n",
      "Best-Score-Pct: 63.6 \n",
      "Best-Guess: helfo wogph\n",
      "\n",
      "Iter 2200000: \n",
      "Best-Score 7 \n",
      "Best-Score-Pct: 63.6 \n",
      "Best-Guess: helfo wogph\n",
      "\n",
      "Iter 2400000: \n",
      "Best-Score 7 \n",
      "Best-Score-Pct: 63.6 \n",
      "Best-Guess: helfo wogph\n",
      "\n",
      "Iter 2600000: \n",
      "Best-Score 7 \n",
      "Best-Score-Pct: 63.6 \n",
      "Best-Guess: helfo wogph\n",
      "\n",
      "Iter 2800000: \n",
      "Best-Score 7 \n",
      "Best-Score-Pct: 63.6 \n",
      "Best-Guess: helfo wogph\n",
      "\n",
      "Iter 3000000: \n",
      "Best-Score 7 \n",
      "Best-Score-Pct: 63.6 \n",
      "Best-Guess: helfo wogph\n",
      "\n",
      "Iter 3200000: \n",
      "Best-Score 7 \n",
      "Best-Score-Pct: 63.6 \n",
      "Best-Guess: helfo wogph\n",
      "\n",
      "Iter 3400000: \n",
      "Best-Score 7 \n",
      "Best-Score-Pct: 63.6 \n",
      "Best-Guess: helfo wogph\n",
      "\n",
      "Iter 3600000: \n",
      "Best-Score 7 \n",
      "Best-Score-Pct: 63.6 \n",
      "Best-Guess: helfo wogph\n",
      "\n",
      "Iter 3800000: \n",
      "Best-Score 7 \n",
      "Best-Score-Pct: 63.6 \n",
      "Best-Guess: helfo wogph\n",
      "\n",
      "Iter 4000000: \n",
      "Best-Score 7 \n",
      "Best-Score-Pct: 63.6 \n",
      "Best-Guess: helfo wogph\n",
      "\n",
      "Iter 4200000: \n",
      "Best-Score 7 \n",
      "Best-Score-Pct: 63.6 \n",
      "Best-Guess: helfo wogph\n",
      "\n",
      "Iter 4400000: \n",
      "Best-Score 7 \n",
      "Best-Score-Pct: 63.6 \n",
      "Best-Guess: helfo wogph\n",
      "\n",
      "Iter 4600000: \n",
      "Best-Score 7 \n",
      "Best-Score-Pct: 63.6 \n",
      "Best-Guess: helfo wogph\n",
      "\n",
      "Iter 4800000: \n",
      "Best-Score 7 \n",
      "Best-Score-Pct: 63.6 \n",
      "Best-Guess: helfo wogph\n",
      "\n"
     ]
    }
   ],
   "source": [
    "limit = 5000000\n",
    "stdout = 200000\n",
    "\n",
    "best_str(limit, stdout, text)"
   ]
  },
  {
   "cell_type": "code",
   "execution_count": null,
   "metadata": {},
   "outputs": [],
   "source": []
  }
 ],
 "metadata": {
  "kernelspec": {
   "display_name": "Python 3",
   "language": "python",
   "name": "python3"
  },
  "language_info": {
   "codemirror_mode": {
    "name": "ipython",
    "version": 3
   },
   "file_extension": ".py",
   "mimetype": "text/x-python",
   "name": "python",
   "nbconvert_exporter": "python",
   "pygments_lexer": "ipython3",
   "version": "3.7.5"
  }
 },
 "nbformat": 4,
 "nbformat_minor": 5
}
