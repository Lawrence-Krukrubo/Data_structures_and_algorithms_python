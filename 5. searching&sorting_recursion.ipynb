{
 "cells": [
  {
   "cell_type": "markdown",
   "id": "proof-curtis",
   "metadata": {},
   "source": [
    "### [PYTHON-DATA-STRUCTURES](https://docs.python.org/3/tutorial/datastructures.html)"
   ]
  },
  {
   "cell_type": "markdown",
   "id": "worth-rover",
   "metadata": {},
   "source": [
    "## Recursion:\n",
    "\n",
    "Recursion is perhaps one of the most confusing topics in computer science. The idea here is to create a function that calls itself\n",
    "* First of all, a recursive function needs to call itself at some point\n",
    "* Second, a recursive function needs a base case\n",
    "* We can think of a recursive-function sort of like a while-loop in some regards.\n",
    "* The base-case is like the exit condition that lets us know when the recursive function stops, otherwise, it'll call itself forever - (Infinite Recursion).\n",
    "* A recursive function also needs to alter the input parameter at some point. Otherwise we'd never know when to stop if the input parameter is not altered based on some order."
   ]
  },
  {
   "cell_type": "markdown",
   "id": "portuguese-couple",
   "metadata": {},
   "source": [
    "#### Recursion Exercises:\n",
    "\n",
    "**The Fibonacci Sequence**\n",
    "\n",
    "The Fibonacci Sequence follows one rule: get the next number in the sequence by adding the two previous numbers. Here is an example of the sequence:\n",
    "```\n",
    "0,1,1,2,3,5,8,13,21,34,55...\n",
    "```\n",
    "```\n",
    "\"\"\"Implement a function recursively to get the desired\n",
    "Fibonacci sequence value.\n",
    "Your code should have the same input/output as the \n",
    "iterative code in the instructions.\"\"\"\n",
    "```"
   ]
  },
  {
   "cell_type": "code",
   "execution_count": 1,
   "id": "inside-projection",
   "metadata": {},
   "outputs": [],
   "source": [
    "def get_fib(val):\n",
    "    # Base Cases\n",
    "    if val == 0:\n",
    "        return 0\n",
    "    elif val in [1, 2]:\n",
    "        return 1\n",
    "    # Recursive Case\n",
    "    else:\n",
    "        return get_fib(val-1) + get_fib(val-2)"
   ]
  },
  {
   "cell_type": "code",
   "execution_count": 11,
   "id": "sophisticated-allocation",
   "metadata": {},
   "outputs": [
    {
     "data": {
      "text/plain": [
       "55"
      ]
     },
     "execution_count": 11,
     "metadata": {},
     "output_type": "execute_result"
    }
   ],
   "source": [
    "get_fib(10)"
   ]
  },
  {
   "cell_type": "markdown",
   "id": "funky-windows",
   "metadata": {},
   "source": [
    "Note that;\n",
    "\n",
    "The number of recursive calls grows exponentially with $n$ such as $O(n^2)$ or $O(n^3)$"
   ]
  },
  {
   "cell_type": "code",
   "execution_count": null,
   "id": "neural-partner",
   "metadata": {},
   "outputs": [],
   "source": []
  }
 ],
 "metadata": {
  "kernelspec": {
   "display_name": "Python 3",
   "language": "python",
   "name": "python3"
  },
  "language_info": {
   "codemirror_mode": {
    "name": "ipython",
    "version": 3
   },
   "file_extension": ".py",
   "mimetype": "text/x-python",
   "name": "python",
   "nbconvert_exporter": "python",
   "pygments_lexer": "ipython3",
   "version": "3.8.5"
  }
 },
 "nbformat": 4,
 "nbformat_minor": 5
}
