{
 "cells": [
  {
   "cell_type": "markdown",
   "id": "protective-watch",
   "metadata": {},
   "source": [
    "## Dictionaries\n",
    "\n",
    "The second major Python data structure is the dictionary. As you probably recall, dictionaries differ from lists in that you can access items in a dictionary by a key rather than a position.\n",
    "\n",
    "The thing that is most important to notice right now is that the get item and set item operations on a dictionary are $O(1)$. Another important dictionary operation is the contains operation. Checking to see whether a key is in the dictionary or not is also $O(1)$. The efficiency of all dictionary operations is summarized in Table below. One important side note on dictionary performance is that the efficiencies we provide in the table are for average performance. In some rare cases the contains, get item, and set item operations can degenerate into $O(n)$ performance\n",
    "\n"
   ]
  },
  {
   "cell_type": "markdown",
   "id": "smoking-island",
   "metadata": {},
   "source": [
    "## Big-O Efficiency of Average Dictionary Operations\n",
    "\n",
    "\n",
    "| Operation | Big-O Efficiency |\n",
    "| --- | --- |\n",
    "| `copy` | $O(n)$ |\n",
    "| `get item` | $O(1)$ |\n",
    "| `set item` | $O(1)$ |\n",
    "| `delete item` | $O(1)$ |\n",
    "| `iteration` | $O(n)$ |\n",
    "| `contains (in)` | $O(1)$ |\n",
    "\n",
    "\n",
    "\n",
    "**List and Dictionary `contains (in)` Experiment:**\n",
    "\n",
    "We will compare the performance of the contains operation between lists and dictionaries. In the process we will confirm that the contains operator for lists is $O(n)$ and the contains operator for dictionaries is $O(1)$.\n",
    "\n",
    "The experiment we will use to compare the two is simple. We’ll make a list with a range of numbers in it. Then we will pick numbers at random and check to see if the numbers are in the list. If our performance tables are correct the bigger the list the longer it should take to determine if any one number is contained in the list.\n",
    "\n",
    "We will repeat the same experiment for a dictionary that contains numbers as the keys. In this experiment we should see that determining whether or not a number is in the dictionary is not only much faster, but the time it takes to check should remain constant even as the dictionary grows larger."
   ]
  },
  {
   "cell_type": "code",
   "execution_count": 1,
   "id": "identified-backing",
   "metadata": {},
   "outputs": [],
   "source": [
    "from random import randrange\n",
    "import time, timeit\n",
    "import pandas as pd\n",
    "import matplotlib.pyplot as plt"
   ]
  },
  {
   "cell_type": "code",
   "execution_count": 2,
   "id": "small-mercy",
   "metadata": {},
   "outputs": [],
   "source": [
    "def list_dict_comparison():\n",
    "    \"\"\"Compares the contain (in) operation\n",
    "        on lists and dictionaries. \n",
    "        \n",
    "    @return: two lists with the time for a list\n",
    "            and dictionary\n",
    "    \"\"\"\n",
    "    list_time = []\n",
    "    dict_time = []\n",
    "    count = 0\n",
    "    \n",
    "    for i in range(300000, 9000001, 300000):\n",
    "        lyst = list(range(i))\n",
    "        dict_ = {j:j for j in range(i)}\n",
    "        rrand = randrange(30000000)\n",
    "        start = time.time()\n",
    "        rrand in lyst\n",
    "        list_time.append(round(time.time()-start, 3))\n",
    "        start = time.time()\n",
    "        rrand in dict_\n",
    "        dict_time.append(round(time.time()-start, 3))\n",
    "        \n",
    "        print('List: %5.3f ; Dict: %5.3f' %(list_time[count], dict_time[count]))\n",
    "        count+=1\n",
    "        \n",
    "    return list_time, dict_time"
   ]
  },
  {
   "cell_type": "code",
   "execution_count": 3,
   "id": "eastern-married",
   "metadata": {},
   "outputs": [
    {
     "name": "stdout",
     "output_type": "stream",
     "text": [
      "List: 0.005 ; Dict: 0.000\n",
      "List: 0.009 ; Dict: 0.000\n",
      "List: 0.012 ; Dict: 0.000\n",
      "List: 0.028 ; Dict: 0.000\n",
      "List: 0.016 ; Dict: 0.000\n",
      "List: 0.031 ; Dict: 0.000\n",
      "List: 0.034 ; Dict: 0.000\n",
      "List: 0.044 ; Dict: 0.000\n",
      "List: 0.043 ; Dict: 0.000\n",
      "List: 0.050 ; Dict: 0.000\n",
      "List: 0.055 ; Dict: 0.000\n",
      "List: 0.047 ; Dict: 0.000\n",
      "List: 0.063 ; Dict: 0.000\n",
      "List: 0.063 ; Dict: 0.000\n",
      "List: 0.063 ; Dict: 0.000\n",
      "List: 0.078 ; Dict: 0.000\n",
      "List: 0.078 ; Dict: 0.000\n",
      "List: 0.094 ; Dict: 0.000\n",
      "List: 0.078 ; Dict: 0.000\n",
      "List: 0.094 ; Dict: 0.000\n",
      "List: 0.094 ; Dict: 0.000\n",
      "List: 0.102 ; Dict: 0.000\n",
      "List: 0.151 ; Dict: 0.000\n",
      "List: 0.109 ; Dict: 0.000\n",
      "List: 0.109 ; Dict: 0.000\n",
      "List: 0.125 ; Dict: 0.000\n",
      "List: 0.144 ; Dict: 0.000\n",
      "List: 0.129 ; Dict: 0.000\n",
      "List: 0.059 ; Dict: 0.000\n",
      "List: 0.135 ; Dict: 0.000\n"
     ]
    }
   ],
   "source": [
    "list_time, dict_time = list_dict_comparison()"
   ]
  },
  {
   "cell_type": "code",
   "execution_count": 4,
   "id": "otherwise-concord",
   "metadata": {},
   "outputs": [],
   "source": [
    "def plotLines(*args, title=None, names=[]):\n",
    "    \"\"\"Plot lines from respective arrays\n",
    "    \"\"\"\n",
    "    size = len(args[0])\n",
    "    for arr in args:\n",
    "        assert len(arr) == size, 'Each Item Must Have Same Len'\n",
    "        \n",
    "    df_list = [lyst for lyst in args]\n",
    "    df = pd.DataFrame(df_list).T\n",
    "    df.columns = names\n",
    "    df.plot()\n",
    "    plt.title(title, fontweight='bold')"
   ]
  },
  {
   "cell_type": "code",
   "execution_count": 5,
   "id": "scheduled-society",
   "metadata": {},
   "outputs": [
    {
     "data": {
      "image/png": "[encoded data removed]",
      "text/plain": [
       "<Figure size 432x288 with 1 Axes>"
      ]
     },
     "metadata": {
      "needs_background": "light"
     },
     "output_type": "display_data"
    }
   ],
   "source": [
    "title = 'List and Dictionary item-in time comparison:'\n",
    "names = ['list_time', 'dict_time']\n",
    "plotLines(list_time, dict_time, title=title, names=names)"
   ]
  },
  {
   "cell_type": "markdown",
   "id": "laughing-chance",
   "metadata": {},
   "source": [
    "We can see that generally as the list length increases, the time to find the item also increases $O(n)$, while generally the time to find the item in a dictionary key remains constant $O(1)$.\n",
    "\n",
    "You can see that the dictionary is consistently faster. For the smallest list size of 10,000 elements a dictionary is 89.4 times faster than a list. You can also see that the time it takes for the contains operator on the list grows linearly with the size of the list. This verifies the assertion that the contains operator on a list is $O(n)$. It can also be seen that the time for the contains operator on a dictionary is constant even as the dictionary size grows. In fact for a dictionary size of 10,000 the contains operation took 0.004 milliseconds and for the dictionary size of 990,000 it also took 0.004 milliseconds too.\n",
    "\n",
    "**The only dictionary operations that are not $O(1)$ are those that require iteration.**"
   ]
  },
  {
   "cell_type": "markdown",
   "id": "ahead-quest",
   "metadata": {},
   "source": [
    "## Summary\n",
    "\n",
    "Algorithm analysis is an **implementation-independent** way of measuring an algorithm.\n",
    "\n",
    "**`Big-O notation`** allows algorithms to be classified by their dominant process with respect to the size of the problem.\n",
    "\n",
    "\n",
    "### Exercises"
   ]
  },
  {
   "cell_type": "code",
   "execution_count": 6,
   "id": "ultimate-princeton",
   "metadata": {},
   "outputs": [],
   "source": [
    "# Give the Big-O performance of the following code fragment:\n",
    "n = 10\n",
    "\n",
    "for i in range(n):\n",
    "    for j in range(n):\n",
    "        k = 2 + 2"
   ]
  },
  {
   "cell_type": "markdown",
   "id": "cardiac-level",
   "metadata": {},
   "source": [
    "The $Big-O$ performance above is $O(n*n)$ = $O(n^2)$ due to the nested loop that runs through $n$ for each step of the outer loops $n$"
   ]
  },
  {
   "cell_type": "code",
   "execution_count": 7,
   "id": "returning-exhibit",
   "metadata": {},
   "outputs": [],
   "source": [
    "# Give the Big-O performance of the following code fragment:\n",
    "\n",
    "for i in range(n):\n",
    "     k = 2 + 2"
   ]
  },
  {
   "cell_type": "markdown",
   "id": "recent-absorption",
   "metadata": {},
   "source": [
    "The $Big-O$ performance above is $O(n+1)$ = $O(n)$ due to the loop that runs through $n$ "
   ]
  },
  {
   "cell_type": "code",
   "execution_count": 8,
   "id": "noticed-market",
   "metadata": {},
   "outputs": [],
   "source": [
    "# Give the Big-O performance of the following code fragment:\n",
    "\n",
    "i = n\n",
    "while i > 0:\n",
    "    k = 2 + 2\n",
    "    i = i // 2"
   ]
  },
  {
   "cell_type": "markdown",
   "id": "aggregate-communication",
   "metadata": {},
   "source": [
    "The $Big-O$ performance above is $O(log(n)+2)$ = $O(log(n))$ due to the fact that $n$ is cut in half each time of the iteration"
   ]
  },
  {
   "cell_type": "code",
   "execution_count": 9,
   "id": "plastic-plaza",
   "metadata": {},
   "outputs": [],
   "source": [
    "# Give the Big-O performance of the following code fragment:\n",
    "\n",
    "for i in range(n):\n",
    "    for j in range(n):\n",
    "        for k in range(n):\n",
    "            k = 2 + 2"
   ]
  },
  {
   "cell_type": "markdown",
   "id": "metropolitan-cradle",
   "metadata": {},
   "source": [
    "The $Big-O$ performance above is $O(n*n*n+1)$ = $O(n^3)$ or $n$ cubed, due to the triple nested loop that runs through $n$ each time"
   ]
  },
  {
   "cell_type": "code",
   "execution_count": 10,
   "id": "grand-treaty",
   "metadata": {},
   "outputs": [],
   "source": [
    "# Give the Big-O performance of the following code fragment:\n",
    "\n",
    "for i in range(n):\n",
    "    k = 2 + 2\n",
    "for j in range(n):\n",
    "    k = 2 + 2\n",
    "for k in range(n):\n",
    "    k = 2 + 2"
   ]
  },
  {
   "cell_type": "markdown",
   "id": "developmental-momentum",
   "metadata": {},
   "source": [
    "The $Big-O$ performance above is $O(3(1+n))$ = $O(3 + 3n)$ = $O(n)$. Beacuse, as the input grows, the $n$ becomes the dominant factor."
   ]
  },
  {
   "cell_type": "markdown",
   "id": "wicked-attachment",
   "metadata": {},
   "source": [
    "**Programming Exercises**\n",
    "\n",
    "1. Devise an experiment to verify that the list index operator is $O(1)$\n",
    "\n",
    "2. Devise an experiment to verify that get item and set item are $O(1)$ for dictionaries.\n",
    "\n",
    "3. Devise an experiment that compares the performance of the del operator on lists and dictionaries.\n",
    "\n",
    "4. Given a list of numbers in random order, write an algorithm that works in $O(nlog(n))$ to find the $k$th smallest number in the list. Note that $O(nlog(n))$ in quick-sort simply means doing roughly $n$ comparisons in $log(n)$ steps.\n",
    "\n",
    "5. Can you improve the algorithm from the previous problem to be linear? Explain."
   ]
  },
  {
   "cell_type": "markdown",
   "id": "breathing-latin",
   "metadata": {},
   "source": [
    "**1. Devise an experiment to verify that the list index operator is  𝑂(1)**"
   ]
  },
  {
   "cell_type": "code",
   "execution_count": 11,
   "id": "discrete-society",
   "metadata": {},
   "outputs": [],
   "source": [
    "def list_index_comparison():\n",
    "    \"\"\"Experiment to confirm that list-indexing\n",
    "        is done in constant time O(1)\n",
    "    @return: a list of time taken to index increasing\n",
    "            lists length\n",
    "    \"\"\"\n",
    "    \n",
    "    index_time = []\n",
    "    \n",
    "    for i in range(100000, 2000001, 100000):\n",
    "        lyst = list(range(i))\n",
    "        rand = randrange(i)\n",
    "        start = time.time()\n",
    "        x = lyst[rand]\n",
    "        duration = time.time()-start\n",
    "        index_time.append(round(duration, 3))\n",
    "        \n",
    "        print('Len: %d, Time: %5.3f'%(i, duration))\n",
    "        \n",
    "    return index_time"
   ]
  },
  {
   "cell_type": "code",
   "execution_count": 12,
   "id": "unlike-expression",
   "metadata": {},
   "outputs": [
    {
     "name": "stdout",
     "output_type": "stream",
     "text": [
      "Len: 100000, Time: 0.000\n",
      "Len: 200000, Time: 0.000\n",
      "Len: 300000, Time: 0.000\n",
      "Len: 400000, Time: 0.000\n",
      "Len: 500000, Time: 0.000\n",
      "Len: 600000, Time: 0.000\n",
      "Len: 700000, Time: 0.000\n",
      "Len: 800000, Time: 0.000\n",
      "Len: 900000, Time: 0.000\n",
      "Len: 1000000, Time: 0.000\n",
      "Len: 1100000, Time: 0.000\n",
      "Len: 1200000, Time: 0.000\n",
      "Len: 1300000, Time: 0.000\n",
      "Len: 1400000, Time: 0.000\n",
      "Len: 1500000, Time: 0.000\n",
      "Len: 1600000, Time: 0.000\n",
      "Len: 1700000, Time: 0.000\n",
      "Len: 1800000, Time: 0.000\n",
      "Len: 1900000, Time: 0.000\n",
      "Len: 2000000, Time: 0.000\n"
     ]
    }
   ],
   "source": [
    "list_index_time = list_index_comparison()"
   ]
  },
  {
   "cell_type": "markdown",
   "id": "gentle-conditions",
   "metadata": {},
   "source": [
    "**2. Devise an experiment to verify that get item and set item are  𝑂(1)  for dictionaries.**"
   ]
  },
  {
   "cell_type": "code",
   "execution_count": 18,
   "id": "tamil-solution",
   "metadata": {},
   "outputs": [],
   "source": [
    "def get_n_set_items_comparison():\n",
    "    \"\"\"Comparison of get-item and set-item\n",
    "        operations of dictionaries to confirm \n",
    "        that execution time is constant O(1)\n",
    "        \n",
    "    @return: 2 lists of get-item and set-item times\n",
    "    \"\"\"\n",
    "    \n",
    "    get_item_, set_item_ =[], []\n",
    "    \n",
    "    for i in range(100000, 2000001, 100000):\n",
    "        dictt = {j:j for j in range(i)}\n",
    "        rand = randrange(i)\n",
    "        start = time.time()\n",
    "        x = dictt.get(rand, -1)\n",
    "        duration1 = time.time()-start\n",
    "        get_item_.append(round(duration1, 3))\n",
    "        start = time.time()\n",
    "        dictt[rand] = -1\n",
    "        duration2 = time.time()-start\n",
    "        set_item_.append(round(duration2, 3))\n",
    "        \n",
    "        print('Len: %d, set_item_time: %5.3f, get_item_time: %5.3f'%(i, duration1, duration2))\n",
    "        \n",
    "    return get_item_, set_item_"
   ]
  },
  {
   "cell_type": "code",
   "execution_count": 14,
   "id": "floppy-occasions",
   "metadata": {},
   "outputs": [
    {
     "name": "stdout",
     "output_type": "stream",
     "text": [
      "Len: 100000, set_item_time: 0.000, get_item_time: 0.000\n",
      "Len: 200000, set_item_time: 0.000, get_item_time: 0.000\n",
      "Len: 300000, set_item_time: 0.000, get_item_time: 0.000\n",
      "Len: 400000, set_item_time: 0.000, get_item_time: 0.000\n",
      "Len: 500000, set_item_time: 0.000, get_item_time: 0.000\n",
      "Len: 600000, set_item_time: 0.000, get_item_time: 0.000\n",
      "Len: 700000, set_item_time: 0.000, get_item_time: 0.000\n",
      "Len: 800000, set_item_time: 0.000, get_item_time: 0.000\n",
      "Len: 900000, set_item_time: 0.000, get_item_time: 0.000\n",
      "Len: 1000000, set_item_time: 0.000, get_item_time: 0.000\n",
      "Len: 1100000, set_item_time: 0.000, get_item_time: 0.000\n",
      "Len: 1200000, set_item_time: 0.000, get_item_time: 0.000\n",
      "Len: 1300000, set_item_time: 0.000, get_item_time: 0.000\n",
      "Len: 1400000, set_item_time: 0.000, get_item_time: 0.000\n",
      "Len: 1500000, set_item_time: 0.000, get_item_time: 0.000\n",
      "Len: 1600000, set_item_time: 0.000, get_item_time: 0.000\n",
      "Len: 1700000, set_item_time: 0.000, get_item_time: 0.000\n",
      "Len: 1800000, set_item_time: 0.000, get_item_time: 0.000\n",
      "Len: 1900000, set_item_time: 0.000, get_item_time: 0.000\n",
      "Len: 2000000, set_item_time: 0.000, get_item_time: 0.000\n"
     ]
    }
   ],
   "source": [
    "gett, sett = get_n_set_items_comparison()"
   ]
  },
  {
   "cell_type": "markdown",
   "id": "alpine-trial",
   "metadata": {},
   "source": [
    "**3. Devise an experiment that compares the performance of the del operator on lists and dictionaries**"
   ]
  },
  {
   "cell_type": "code",
   "execution_count": 25,
   "id": "psychological-springer",
   "metadata": {},
   "outputs": [],
   "source": [
    "def list_n_dict_del_comparison():\n",
    "    \"\"\"Experiment to compare del operator\n",
    "        execution time on lists and dictionaries.\n",
    "        We delete the first item.\n",
    "        \n",
    "    @return: 2 lists of execution times for list & dict\n",
    "    \"\"\"\n",
    "    \n",
    "    dict_time, list_time = [], []\n",
    "    \n",
    "    for i in range(1000000, 15000001, 1000000):\n",
    "        dictt = {j:j for j in range(i)}\n",
    "        lyst = list(range(i))\n",
    "        rand = 0\n",
    "        start = time.time()\n",
    "        del dictt[rand]\n",
    "        duration1 = time.time()-start\n",
    "        dict_time.append(round(duration1, 6))\n",
    "        start = time.time()\n",
    "        del lyst[rand]\n",
    "        duration2 = time.time()-start\n",
    "        list_time.append(round(duration2, 6))\n",
    "        \n",
    "        print('Len: %d, dict_del_time: %5.6f, list_del_time: %5.6f'%(i, duration1, duration2))\n",
    "        \n",
    "    return dict_time, list_time"
   ]
  },
  {
   "cell_type": "code",
   "execution_count": 26,
   "id": "signed-handle",
   "metadata": {},
   "outputs": [
    {
     "name": "stdout",
     "output_type": "stream",
     "text": [
      "Len: 1000000, dict_del_time: 0.000000, list_del_time: 0.000000\n",
      "Len: 2000000, dict_del_time: 0.000000, list_del_time: 0.000000\n",
      "Len: 3000000, dict_del_time: 0.000000, list_del_time: 0.000000\n",
      "Len: 4000000, dict_del_time: 0.000000, list_del_time: 0.002992\n",
      "Len: 5000000, dict_del_time: 0.000000, list_del_time: 0.000000\n",
      "Len: 6000000, dict_del_time: 0.000000, list_del_time: 0.000000\n",
      "Len: 7000000, dict_del_time: 0.000000, list_del_time: 0.000000\n",
      "Len: 8000000, dict_del_time: 0.000000, list_del_time: 0.000000\n",
      "Len: 9000000, dict_del_time: 0.000000, list_del_time: 0.015623\n",
      "Len: 10000000, dict_del_time: 0.000000, list_del_time: 0.015622\n",
      "Len: 11000000, dict_del_time: 0.000000, list_del_time: 0.000000\n",
      "Len: 12000000, dict_del_time: 0.000000, list_del_time: 0.000000\n",
      "Len: 13000000, dict_del_time: 0.000000, list_del_time: 0.015623\n",
      "Len: 14000000, dict_del_time: 0.000000, list_del_time: 0.015652\n",
      "Len: 15000000, dict_del_time: 0.000000, list_del_time: 0.000000\n"
     ]
    }
   ],
   "source": [
    "d_time, l_time = list_n_dict_del_comparison()"
   ]
  },
  {
   "cell_type": "code",
   "execution_count": 27,
   "id": "authentic-hungarian",
   "metadata": {},
   "outputs": [
    {
     "data": {
      "image/png": "[encoded data removed]",
      "text/plain": [
       "<Figure size 432x288 with 1 Axes>"
      ]
     },
     "metadata": {
      "needs_background": "light"
     },
     "output_type": "display_data"
    }
   ],
   "source": [
    "title = 'List and Dictionary del time comparison:'\n",
    "names = ['list_time', 'dict_time']\n",
    "plotLines(l_time, d_time, title=title, names=names)"
   ]
  },
  {
   "cell_type": "markdown",
   "id": "weird-nature",
   "metadata": {},
   "source": [
    "**Given a list of numbers in random order, write an algorithm that works in  $𝑂(𝑛𝑙𝑜𝑔(𝑛))$  to find the  $𝑘$th smallest number in the list. Note that  $𝑂(𝑛𝑙𝑜𝑔(𝑛))$  in quick-sort simply means doing roughly $𝑛$ comparisons in $𝑙𝑜𝑔(𝑛)$ steps.**"
   ]
  },
  {
   "cell_type": "code",
   "execution_count": 67,
   "id": "verbal-botswana",
   "metadata": {},
   "outputs": [],
   "source": [
    "def n_log_n(start, stop):\n",
    "    \"\"\"Method to display the O(nlog(n))\n",
    "        execution on a list of random numbers\n",
    "    \"\"\"\n",
    "    times = []\n",
    "    kays = []\n",
    "    \n",
    "    def sort_(arr):\n",
    "        lent = len(arr)\n",
    "        while True:\n",
    "            if arr == sorted(arr):\n",
    "                break\n",
    "            for i in range(lent):\n",
    "                if arr[i] > arr[i+1]:\n",
    "                    arr[i], arr[i+1] = arr[i+1], arr[i]\n",
    "                    break\n",
    "        return arr\n",
    "    \n",
    "    for i in range(start, stop+1, start):\n",
    "        lyst = [randrange(i) for k in range(i)]\n",
    "        k = randrange(i)\n",
    "        start = time.time()\n",
    "        lyst = sort_(lyst)\n",
    "        duration = time.time()-start\n",
    "        times.append(round(duration, 4))\n",
    "        kays.append(lyst[k])\n",
    "        \n",
    "        print('Len: %d, Sort-Time: %5.4f'%(i, duration))\n",
    "        \n",
    "    return times"
   ]
  },
  {
   "cell_type": "code",
   "execution_count": 68,
   "id": "attempted-tiger",
   "metadata": {},
   "outputs": [
    {
     "name": "stdout",
     "output_type": "stream",
     "text": [
      "Len: 100, Sort-Time: 0.0290\n",
      "Len: 200, Sort-Time: 0.1531\n",
      "Len: 300, Sort-Time: 0.5036\n",
      "Len: 400, Sort-Time: 1.3032\n",
      "Len: 500, Sort-Time: 2.4406\n",
      "Len: 600, Sort-Time: 4.5699\n",
      "Len: 700, Sort-Time: 7.0516\n",
      "Len: 800, Sort-Time: 10.4417\n",
      "Len: 900, Sort-Time: 16.1251\n",
      "Len: 1000, Sort-Time: 23.9997\n"
     ]
    }
   ],
   "source": [
    "sort_times = n_log_n(100, 1000)"
   ]
  },
  {
   "cell_type": "code",
   "execution_count": 73,
   "id": "desperate-likelihood",
   "metadata": {},
   "outputs": [
    {
     "data": {
      "image/png": "[encoded data removed]",
      "text/plain": [
       "<Figure size 432x288 with 1 Axes>"
      ]
     },
     "metadata": {
      "needs_background": "light"
     },
     "output_type": "display_data"
    }
   ],
   "source": [
    "title = 'random List-Sort times as list size increases'\n",
    "names = ['Sort-Time']\n",
    "plotLines(sort_times, title=title, names=names)"
   ]
  },
  {
   "cell_type": "markdown",
   "id": "ahead-stylus",
   "metadata": {},
   "source": [
    "**5. Can you improve the algorithm from the previous problem to be linear? Explain.**\n",
    "\n",
    "Sorting algorithms generally take an execution time of $O(nlog(n))$ or in worse cases up to $O(n^2)$."
   ]
  },
  {
   "cell_type": "code",
   "execution_count": 74,
   "id": "attended-bench",
   "metadata": {},
   "outputs": [],
   "source": [
    "def n_log_n2(start, stop):\n",
    "    \"\"\"Method to display the O(nlog(n))\n",
    "        execution on a list of random numbers\n",
    "    \"\"\"\n",
    "    times = []\n",
    "    \n",
    "    for i in range(start, stop+1, start):\n",
    "        lyst = [randrange(i) for k in range(i)]\n",
    "        start = time.time()\n",
    "        lyst = sorted(lyst)\n",
    "        duration = time.time()-start\n",
    "        times.append(round(duration, 4))\n",
    "        \n",
    "        print('Len: %d, Sort-Time: %5.4f'%(i, duration))\n",
    "        \n",
    "    return times"
   ]
  },
  {
   "cell_type": "code",
   "execution_count": 79,
   "id": "representative-hunter",
   "metadata": {},
   "outputs": [
    {
     "name": "stdout",
     "output_type": "stream",
     "text": [
      "Len: 10000, Sort-Time: 0.0010\n",
      "Len: 20000, Sort-Time: 0.0040\n",
      "Len: 30000, Sort-Time: 0.0050\n",
      "Len: 40000, Sort-Time: 0.0060\n",
      "Len: 50000, Sort-Time: 0.0080\n",
      "Len: 60000, Sort-Time: 0.0156\n",
      "Len: 70000, Sort-Time: 0.0156\n",
      "Len: 80000, Sort-Time: 0.0060\n",
      "Len: 90000, Sort-Time: 0.0156\n",
      "Len: 100000, Sort-Time: 0.0321\n",
      "Len: 110000, Sort-Time: 0.0219\n",
      "Len: 120000, Sort-Time: 0.0155\n",
      "Len: 130000, Sort-Time: 0.0313\n",
      "Len: 140000, Sort-Time: 0.0289\n",
      "Len: 150000, Sort-Time: 0.0363\n",
      "Len: 160000, Sort-Time: 0.0312\n",
      "Len: 170000, Sort-Time: 0.0312\n",
      "Len: 180000, Sort-Time: 0.0469\n",
      "Len: 190000, Sort-Time: 0.0312\n",
      "Len: 200000, Sort-Time: 0.0469\n"
     ]
    }
   ],
   "source": [
    "sort_times2 = n_log_n2(10000, 200000)"
   ]
  },
  {
   "cell_type": "code",
   "execution_count": 80,
   "id": "incomplete-venture",
   "metadata": {},
   "outputs": [
    {
     "data": {
      "image/png": "[encoded data removed]",
      "text/plain": [
       "<Figure size 432x288 with 1 Axes>"
      ]
     },
     "metadata": {
      "needs_background": "light"
     },
     "output_type": "display_data"
    }
   ],
   "source": [
    "title = 'random List-Sort times with sorted() method'\n",
    "names = ['Sort-Time']\n",
    "plotLines(sort_times2, title=title, names=names)"
   ]
  }
 ],
 "metadata": {
  "kernelspec": {
   "display_name": "Python 3",
   "language": "python",
   "name": "python3"
  },
  "language_info": {
   "codemirror_mode": {
    "name": "ipython",
    "version": 3
   },
   "file_extension": ".py",
   "mimetype": "text/x-python",
   "name": "python",
   "nbconvert_exporter": "python",
   "pygments_lexer": "ipython3",
   "version": "3.8.5"
  }
 },
 "nbformat": 4,
 "nbformat_minor": 5
}
