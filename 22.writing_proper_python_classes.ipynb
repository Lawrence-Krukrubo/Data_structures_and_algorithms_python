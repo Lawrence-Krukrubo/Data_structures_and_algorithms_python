{
 "cells": [
  {
   "cell_type": "markdown",
   "id": "metropolitan-nudist",
   "metadata": {},
   "source": [
    "# Writing a Proper Python Class\n",
    "\n",
    "When writing a class there are a lot of things to consider. Especially if you are going to release your class for others to use. We will build a simple class to represent a die that you can roll, and a cup to contain a bunch of dice. We will incrementally improve our implementations to take into consderation the following aspects of desiging a class that works well in the Python ecosystem.\n",
    "\n",
    "* Each class should have a docstring to provide some level of documentation on how to use the class.\n",
    "\n",
    "* Each class should have a `__str__` magic method to give it a meaninigful string representation.\n",
    "\n",
    "* Each class should have a proper `__repr__` magic method for representation in the interactive shell, the debugger, and other cases where string conversion does not happen.\n",
    "\n",
    "* Each class should be comparable so it can be sorted and meaningfully compared with other instances. At a minimum this means implementing `__eq__` and `__lt__`.\n",
    "\n",
    "You should think about access control for each instance variable. Which attributes do you want to make **public**, which attributes do you want to make **read only**, and which attributes do you want to control or do **value checking** on before you allow them to be changed.\n",
    "\n",
    "If the class is a container for other classes then there are some further considerations:\n",
    "\n",
    "* You should be able to find out how many things the container holds using `len`\n",
    "\n",
    "* You should be able to iterate over the items in the container.\n",
    "\n",
    "* You may want to allow users to access the items in the container using the `square bracket` index notation."
   ]
  },
  {
   "cell_type": "markdown",
   "id": "accomplished-model",
   "metadata": {},
   "source": [
    "## A Basic implementation of the MSDie class"
   ]
  },
  {
   "cell_type": "code",
   "execution_count": 1,
   "id": "usual-actor",
   "metadata": {},
   "outputs": [],
   "source": [
    "import random"
   ]
  },
  {
   "cell_type": "code",
   "execution_count": 2,
   "id": "understanding-hotel",
   "metadata": {},
   "outputs": [],
   "source": [
    "class MSDie:\n",
    "    \"\"\"\n",
    "    Multi-sided Die\n",
    "    \n",
    "    Instance Variables:\n",
    "        current_value\n",
    "        num_sides\n",
    "    \"\"\"\n",
    "    \n",
    "    def __init__(self, num_sides):\n",
    "        self.num_sides = num_sides\n",
    "        self.current_value = self.roll()\n",
    "        \n",
    "    def roll(self):\n",
    "        \"\"\"Performs a random roll\n",
    "            of a die with 1 as min value\n",
    "        \"\"\"\n",
    "        self.current_value = random.randrange(1, self.num_sides+1)\n",
    "        return self.current_value"
   ]
  },
  {
   "cell_type": "code",
   "execution_count": 3,
   "id": "developmental-artwork",
   "metadata": {},
   "outputs": [
    {
     "name": "stdout",
     "output_type": "stream",
     "text": [
      "<__main__.MSDie object at 0x00000230F8981DF0> 4\n",
      "<__main__.MSDie object at 0x00000230F8981DF0> 6\n",
      "<__main__.MSDie object at 0x00000230F8981DF0> 4\n",
      "<__main__.MSDie object at 0x00000230F8981DF0> 6\n",
      "<__main__.MSDie object at 0x00000230F8981DF0> 3\n",
      "<__main__.MSDie object at 0x00000230F8981DF0> 1\n"
     ]
    }
   ],
   "source": [
    "myDie = MSDie(6)\n",
    "\n",
    "for i in range(6):\n",
    "    print(myDie, myDie.current_value)\n",
    "    myDie.roll()"
   ]
  },
  {
   "cell_type": "code",
   "execution_count": 4,
   "id": "nonprofit-computer",
   "metadata": {},
   "outputs": [
    {
     "name": "stdout",
     "output_type": "stream",
     "text": [
      "[<__main__.MSDie object at 0x00000230F8981370>, <__main__.MSDie object at 0x00000230F8981220>]\n"
     ]
    }
   ],
   "source": [
    "d_list = [MSDie(6), MSDie(20)]\n",
    "print(d_list)"
   ]
  },
  {
   "cell_type": "markdown",
   "id": "protecting-convenience",
   "metadata": {},
   "source": [
    "It would be nicer if we could just print(my_die) and have the value of the die show up without having to know about the instance variable called `current_value`.\n",
    "\n",
    "Lets fix up the representation to make printing and interacting with the die a bit more convenient. For this we will implement the `__str__` and `__repr__` magic methods."
   ]
  },
  {
   "cell_type": "code",
   "execution_count": 8,
   "id": "previous-mobility",
   "metadata": {},
   "outputs": [],
   "source": [
    "class MSDie:\n",
    "    \"\"\"\n",
    "    Multi-sided Die\n",
    "    \n",
    "    Instance Variables:\n",
    "        current_value\n",
    "        num_sides\n",
    "    \"\"\"\n",
    "    \n",
    "    def __init__(self, num_sides):\n",
    "        self.num_sides = num_sides\n",
    "        self.current_value = self.roll()\n",
    "        \n",
    "    def roll(self):\n",
    "        \"\"\"Performs a random roll\n",
    "            of a die with 1 as min value\n",
    "        \"\"\"\n",
    "        self.current_value = random.randrange(1, self.num_sides+1)\n",
    "        return self.current_value\n",
    "    \n",
    "    def __str__(self):\n",
    "        return str(self.current_value)\n",
    "    \n",
    "    def __repr__(self):\n",
    "        return f'(MSDie({self.num_sides}):- Current_value:{self.current_value})'"
   ]
  },
  {
   "cell_type": "code",
   "execution_count": 9,
   "id": "concrete-cosmetic",
   "metadata": {},
   "outputs": [
    {
     "name": "stdout",
     "output_type": "stream",
     "text": [
      "1\n",
      "2\n",
      "3\n",
      "3\n",
      "1\n",
      "6\n"
     ]
    }
   ],
   "source": [
    "myDie = MSDie(6)\n",
    "\n",
    "for i in range(6):\n",
    "    print(myDie)\n",
    "    myDie.roll()"
   ]
  },
  {
   "cell_type": "code",
   "execution_count": 11,
   "id": "irish-thriller",
   "metadata": {},
   "outputs": [
    {
     "name": "stdout",
     "output_type": "stream",
     "text": [
      "[(MSDie(6):- Current_value:1), (MSDie(20):- Current_value:7)]\n"
     ]
    }
   ],
   "source": [
    "d_list = [MSDie(6), MSDie(20)]\n",
    "print(d_list)"
   ]
  },
  {
   "cell_type": "markdown",
   "id": "phantom-trust",
   "metadata": {},
   "source": [
    "Notice that when we print a list of objects, the `repr` is used to display those objects. Having a good `repr` makes it easier to debug with simple print statements."
   ]
  },
  {
   "cell_type": "code",
   "execution_count": 20,
   "id": "prescription-wheel",
   "metadata": {},
   "outputs": [
    {
     "name": "stdout",
     "output_type": "stream",
     "text": [
      "[(MSDie(6):- Current_value:1)]\n"
     ]
    }
   ],
   "source": []
  }
 ],
 "metadata": {
  "kernelspec": {
   "display_name": "Python 3",
   "language": "python",
   "name": "python3"
  },
  "language_info": {
   "codemirror_mode": {
    "name": "ipython",
    "version": 3
   },
   "file_extension": ".py",
   "mimetype": "text/x-python",
   "name": "python",
   "nbconvert_exporter": "python",
   "pygments_lexer": "ipython3",
   "version": "3.8.5"
  }
 },
 "nbformat": 4,
 "nbformat_minor": 5
}
