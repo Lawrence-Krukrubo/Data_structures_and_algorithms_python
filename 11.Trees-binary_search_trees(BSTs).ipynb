{
 "cells": [
  {
   "cell_type": "markdown",
   "id": "balanced-nature",
   "metadata": {},
   "source": [
    "## Trees:\n",
    "\n",
    "Trees are data structures that well, look like trees! a tree starts from a place called a root and you add daat to it called branches.\n",
    "* Trees have `branches` and `leaves`\n",
    "* A collection of trees is called a `forest`\n",
    "* Trees have a lot of properties that make them useful. However a Tree is just an extension of a `Linked-List`\n",
    "* A Tree is similar the first element is called a root, while the first element in Linked-List is called the Head.\n",
    "* Then instead of having just one next element, a tree can have several.\n",
    "* A Linked-List is often drawn horizontally with rectangles representing elements, while a Tree is often drawn vertically with circles as nodes.\n",
    "\n",
    "### Tree Constraints:\n",
    "* A Tree must be fully connected. That means if we're starting from the root, there must be a way to reach every node in the Tree.\n",
    "* Next, there must not be any **cycles** in the Tree. A cycle occurs when there's a way for you to encounter the same node twice."
   ]
  },
  {
   "cell_type": "markdown",
   "id": "computational-fault",
   "metadata": {},
   "source": [
    "### Tree Terminologies\n",
    "\n",
    "* A tree can be described in levels. Or how many connections it takes to reach the root plus one. This means the root is level 1 and nodes directly connected to the root are in level 2 and their children in level 3 and so on.\n",
    "* Nodes in a Tree have a Parent-Child relationship. A node in the middle can be both a Parent and a Child, it depends on what it's been compared to.\n",
    "* In Trees children nodes are only allowed to have one parent. If a Parent has multiple children they are considered siblings of each other\n",
    "* Ancestry of nodes in Trees is really intuitive. A node at a lower level can be called an Ancestor of a node at a higher level, which is it's descendant.\n",
    "* The nodes at the edge that don't have any descendants are called leaves or **external nodes**. Conversely a Parent-node is called an **internal node**\n",
    "* We can call connections between nodes **edges** and a group of connections taken together as a **path**\n",
    "* The `height` of a node is the number of edges between it and the farthest leaf on the tree.\n",
    "* A leaf has a height of zero, and the parent of a leaf has a height of one.\n",
    "* The height of a tree overall is just the height of the root node.\n",
    "* On the flip-side, the depth of a node is the number of edges to the root. Height and depth should move inversely.\n",
    "* Thus, if a node is closer to a leaf, then it's further from the root..."
   ]
  },
  {
   "cell_type": "markdown",
   "id": "dress-charles",
   "metadata": {},
   "source": [
    "## Binary Search Trees (BSTs)\n",
    "\n",
    "This is a more specific type of Binary-Tree called a Binary Search Tree. It's a Binary tree first, yet with a specific rule to how the nodes in the tree are arranged.\n",
    "* BSTs are sorted so every value on the left of a particular node is smaller than it and every value on the right of a particular node is larger than it.\n",
    "* With this structure, we can do operations on BSTs like search, insert and delete pretty quickly.\n",
    "* Search in BST is easy, we start at the root and simply compare the value we're seeking to the root. If it's larger we go right and if it's lower we go left and resume the search.\n",
    "* Thus the run time for a search on BST is just the height of the Tree. which is $O(log(n))$\n",
    "* Inserting in a BST is also pretty intuitive. We follow the rule that smaller elements are on the left and larger on the right and with this we can expectedly find a spot to insert the value as long as we did our comparisons carefully.\n",
    "* Deleting is yet again kinda tricky in BST. However It's complicated in the same way that it was for the generic Binary-Tree. So those solutions for different cases still apply."
   ]
  },
  {
   "cell_type": "markdown",
   "id": "imported-harvey",
   "metadata": {},
   "source": [
    "### BST Complications\n",
    "\n",
    "* unbalanced Binary Tree: Are skewed. This could happen when we have a BST where each parent only has one child on only the left or right side and descendant parents also oly have one child on the same side as their parents\n",
    "* This unbalanced situation could start at the root, but could also take place in any of the child nodes. \n",
    "* We can consider this unbalanced cases to be the worst-case scenario for a BST. Cos when a BST is unbalanced, search, insert and delete all take linear time $O(n)$ in the wort cases. Which would mean searching every element from the root to the leaf.\n",
    "* Thus the average case is $O(log(n))$\n",
    "\n",
    "\n",
    "### BST Practice\n",
    "\n",
    "Now try implementing a BST on your own. You'll use the same Node class as before:\n",
    "\n",
    "This time, you'll implement search() and insert(). You should rewrite search() and not use your code from the last exercise so it takes advantage of BST properties. Feel free to make any helper functions you feel like you need, including the print_tree() function from earlier for debugging. You can assume that two nodes with the same value won't be inserted into the tree."
   ]
  },
  {
   "cell_type": "code",
   "execution_count": null,
   "id": "automatic-project",
   "metadata": {},
   "outputs": [],
   "source": [
    "class Node(object):\n",
    "    def __init__(self, value):\n",
    "        self.value = value\n",
    "        self.left = None\n",
    "        self.right = None\n",
    "\n",
    "class BST(object):\n",
    "    def __init__(self, root):\n",
    "        self.root = Node(root)\n",
    "\n",
    "    def insert(self, new_val):\n",
    "        pass\n",
    "\n",
    "    def search(self, find_val):         \n",
    "            \n",
    "        return False\n",
    "    \n",
    "    def print_tree(start, traversal):\n",
    "        pass"
   ]
  },
  {
   "cell_type": "code",
   "execution_count": null,
   "id": "nuclear-guatemala",
   "metadata": {},
   "outputs": [],
   "source": []
  }
 ],
 "metadata": {
  "kernelspec": {
   "display_name": "Python 3",
   "language": "python",
   "name": "python3"
  },
  "language_info": {
   "codemirror_mode": {
    "name": "ipython",
    "version": 3
   },
   "file_extension": ".py",
   "mimetype": "text/x-python",
   "name": "python",
   "nbconvert_exporter": "python",
   "pygments_lexer": "ipython3",
   "version": "3.8.5"
  }
 },
 "nbformat": 4,
 "nbformat_minor": 5
}
