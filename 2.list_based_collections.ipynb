{
 "cells": [
  {
   "cell_type": "markdown",
   "metadata": {},
   "source": [
    "### [PYTHON-DATA-STRUCTURES](https://docs.python.org/3/tutorial/datastructures.html)"
   ]
  },
  {
   "cell_type": "markdown",
   "metadata": {},
   "source": [
    "## Collections:\n",
    "\n",
    "Collections are collections... a group of things together\n",
    "\n",
    "* Collections don't have a particular order\n",
    "* If there's no inherent order, thus no indexing.\n",
    "* Collections don't need to have the same type of objects\n",
    "* A collection on it's own may be difficult to use in a programming language, however there are many data structures that are extensions of collections, with some additional rules."
   ]
  },
  {
   "cell_type": "markdown",
   "metadata": {},
   "source": [
    "### Lists:\n",
    "\n",
    "A list has all the properties of a collection but it also has\n",
    "* The elements in a list have an inherent order\n",
    "* It's mutable as you can keep adding and removing things\n",
    "* You can also insert and index items in a list\n",
    "\n",
    "Diffrent programming languages treat lists differently"
   ]
  },
  {
   "cell_type": "markdown",
   "metadata": {},
   "source": [
    "### Arrays:\n",
    "\n",
    "Are the most common implementation of lists. Many programming languages have them inbuilt. Arrays are lists with a few added rules\n",
    "\n",
    "* In some languages only same-type objects can be in an array, while others allow mixed-type objects.\n",
    "* Arrays have a set size pre-determined while creating them. This is only true in some programming languages.\n",
    "* each array has an index that identifies or holds each element in the array. Normally an index starts at 0 not 1.\n",
    "* Insertion and deletion can be really messy with arrays."
   ]
  },
  {
   "cell_type": "markdown",
   "metadata": {},
   "source": [
    "### Python Lists:\n",
    "\n",
    "Python has an interesting data stucture called a \"list\" that is much more than a mere list. In fact, a Python list actually encompasses the functionality of almost every list-based data structure\n",
    "\n",
    "* Behind the scenes a Python list is built as an array. Even though you can do many operations on a Python list with just one line of code, there's a lot of code built in to the Python language running to make that operation possible.\n",
    "* For example, inserting into a list is easy (happens in constant time). However, inserting into an array is O(n), since you may need to shift elements to make space for the one you're inserting, or even copy everything to a new array if you run out of space. Thus, inserting into a Python list is actually O(n), while operations that search for an element at a particular spot are O(1)\n",
    "* Python is a \"higher level\" programming language, so you can accomplish a task with little code. However, there's a lot of code built into the infrastructure in this way that causes your code to actually run much more slowly than you'd think. Keep this in the back of your mind when using Python.\n",
    "\n",
    "See [Python-Time-Complexity](https://wiki.python.org/moin/TimeComplexity)"
   ]
  },
  {
   "cell_type": "markdown",
   "metadata": {},
   "source": [
    "## Linked-List:"
   ]
  },
  {
   "cell_type": "markdown",
   "metadata": {},
   "source": [
    "A linked-list is an extension of a list, but it's definitely not an array\n",
    "\n",
    "* Some elements have an order, but there are no indices like an array.\n",
    "* Instead a linked-list is characterized by its links.\n",
    "* Each element has some notion what the next element is, since it's connected to it, but not necessarily how long the list is or where it is in the list.\n",
    "* An array is different in that each element has it's fixed index in the array.\n",
    "\n",
    "#### **Why Ever Use a Linked-List?**\n",
    "\n",
    "No doubt an array gives more information about its elements and seems to provide more structure. But inserting and deleting items from an array can be messy and expensive especially items at the start of an array. On the flip-side, adding and removing items from a linked-list are soo easy in comparison to an array. \n",
    "\n",
    "In higher level programming languages like python, there is no visible difference between an array and a linked-list. There's just a list that does both. However questions about arrays and linked-lists are fairly common in technical interviews, so it helps to know the difference.\n",
    "\n",
    "#### **Differences between Arrays and Linked-list**\n",
    "* The main distinction is that each element stores different information\n",
    "* In both cases a single element will store a value\n",
    "* in an array we have an index for each element that can be queried or indexed directly\n",
    "* In a Linked-list, we store a reference to the next element in the list. in many languages this will look like assigning the actual `next element` as a property of the current element.\n",
    "* Way down at the hardware level of a Linked-List, each element actually stores the memory address of the next element all the way from left to right. The final element stores no memory address since there's no element after it.\n",
    "* It's pretty easy to delete and insert elements in a Linked-List\n",
    "* Adding an element in a Linked-List will look like simply changing the `next reference` of the current element to point to a new object and we're done! The one thing to remember is to assign the `next reference` of the new object before assigning the `next reference` of the current object to it.\n",
    "\n",
    "Note that insertion in the Linked-List takes constant time $O(1)$ since we're just inserting elements and not shifting around all objects like in an array. Deletions take the same basic steps like insertions.\n",
    "\n",
    "### Doubly Linked-List:\n",
    "\n",
    "These are simply linked lists with references to both next and previous elements. Meaning we can traverse the Linked-list in both directions. The most important thing is to be careful not to lose references, when adding or removing elements."
   ]
  },
  {
   "cell_type": "markdown",
   "metadata": {},
   "source": [
    "### Linked-List Practice:\n",
    "\n",
    "There isn't a single object which can be used as a linked-list in python. Therefore we create a class for it and instantiate linked-list elements from the class."
   ]
  },
  {
   "cell_type": "code",
   "execution_count": 1,
   "metadata": {},
   "outputs": [],
   "source": [
    "class Element(object):\n",
    "    def __init__(self, value):\n",
    "        self.value = value\n",
    "        self.next = None"
   ]
  },
  {
   "cell_type": "code",
   "execution_count": 2,
   "metadata": {},
   "outputs": [],
   "source": [
    "class LinkedList(object):\n",
    "    def __init__(self, head=None):\n",
    "        self.head = head\n",
    "        \n",
    "    def append(self, new_element):\n",
    "        current = self.head\n",
    "        \n",
    "        if self.head:\n",
    "            while current.next:\n",
    "                current = current.next\n",
    "            current.next = new_element\n",
    "        else:\n",
    "            self.head = new_element"
   ]
  },
  {
   "cell_type": "markdown",
   "metadata": {},
   "source": [
    "```\n",
    "The LinkedList code from before is provided below.\n",
    "Add three functions to the LinkedList.\n",
    "\n",
    "1. \"get_position\" returns the element at a certain position.\n",
    "\n",
    "2. The \"insert\" function will add an element to a particular\n",
    "spot in the list.\n",
    "\n",
    "2. \"delete\" will delete the first element with that\n",
    "particular value.\n",
    "```"
   ]
  },
  {
   "cell_type": "code",
   "execution_count": 3,
   "metadata": {},
   "outputs": [],
   "source": [
    "class LinkedList(object):\n",
    "    _COUNTER=0\n",
    "    \n",
    "    def __init__(self, head=None):\n",
    "        self.head = head\n",
    "        LinkedList._COUNTER+=1\n",
    "        \n",
    "    def append(self, new_element):\n",
    "        current = self.head\n",
    "        try:\n",
    "            assert isinstance(new_element, Element)\n",
    "        except AssertionError as e:\n",
    "            return e\n",
    "        \n",
    "        if self.head:\n",
    "            while current.next:\n",
    "                current = current.next\n",
    "            current.next = new_element\n",
    "        else:\n",
    "            self.head = new_element\n",
    "            \n",
    "        LinkedList._COUNTER+=1\n",
    "    \n",
    "    def get_position(self, position):\n",
    "        \"\"\"Get an element from a particular position.\n",
    "        Assume the first position is \"1\".\n",
    "        Return \"None\" if position is not in the list.\"\"\"\n",
    "        try:\n",
    "            assert position >= 1\n",
    "            assert self.head\n",
    "        except AssertionError:\n",
    "            return None\n",
    "    \n",
    "        current = self.head\n",
    "        \n",
    "        for i in range(1, position+1):\n",
    "            if i == position:\n",
    "                return current\n",
    "            try:\n",
    "                current = current.next\n",
    "            except:\n",
    "                return None\n",
    "            \n",
    "    def insert(self, new_element, position):\n",
    "        \"\"\"Insert a new node at the given position.\n",
    "        Assume the first position is \"1\".\n",
    "        Inserting at position 3 means between\n",
    "        the 2nd and 3rd elements.\"\"\"\n",
    "        \n",
    "        try:\n",
    "            assert isinstance(new_element, Element)\n",
    "        except AssertionError as e:\n",
    "            return e\n",
    "        \n",
    "        try:\n",
    "            assert position >= 1\n",
    "            curr_elem = self.get_position(position)\n",
    "        except AssertionError:\n",
    "            return None\n",
    "        \n",
    "        if position > 1 and position <= LinkedList._COUNTER:\n",
    "            prev_elem = self.get_position(position-1)\n",
    "            prev_elem.next = new_element\n",
    "            new_element.next = curr_elem\n",
    "            \n",
    "        elif position == 1:\n",
    "            new_element.next = curr_elem\n",
    "            self.head = new_element\n",
    "        else:\n",
    "            return 'NONE: Kindly use append()'\n",
    "        \n",
    "        LinkedList._COUNTER+=1\n",
    "            \n",
    "    def delete(self, value):\n",
    "        \"\"\"Delete the first node with a given value.\"\"\"\n",
    "        \n",
    "        try:\n",
    "            assert self.head is not None\n",
    "        except AssertionError:\n",
    "            return None\n",
    "\n",
    "        if value == self.get_position(1).value:\n",
    "            self.head = self.get_position(2)\n",
    "        else:\n",
    "            i = 1\n",
    "            while True:\n",
    "                try:\n",
    "                    x = self.get_position(i)\n",
    "                except:\n",
    "                    return None\n",
    "\n",
    "                if x.value == value:\n",
    "                    try:\n",
    "                        prev_ = self.get_position(i-1)\n",
    "                        next_ = self.get_position(i+1)\n",
    "                        prev_.next = next_\n",
    "                        break\n",
    "                    except:\n",
    "                        prev_.next = None\n",
    "                i+=1 \n",
    "        LinkedList._COUNTER-=1\n",
    "        \n",
    "    def get_len(self):\n",
    "        \"\"\"Return the number of elements\n",
    "            in the linked-list\n",
    "        \"\"\"\n",
    "        \n",
    "        return self._COUNTER"
   ]
  },
  {
   "cell_type": "code",
   "execution_count": 4,
   "metadata": {},
   "outputs": [],
   "source": [
    "el1 = Element(15)"
   ]
  },
  {
   "cell_type": "code",
   "execution_count": 5,
   "metadata": {},
   "outputs": [
    {
     "name": "stdout",
     "output_type": "stream",
     "text": [
      "15\n",
      "None\n"
     ]
    }
   ],
   "source": [
    "# Print it's value and next value\n",
    "print(el1.value)\n",
    "print(el1.next)"
   ]
  },
  {
   "cell_type": "code",
   "execution_count": 6,
   "metadata": {},
   "outputs": [],
   "source": [
    "# create a linked list with first element\n",
    "elements = LinkedList(el1)"
   ]
  },
  {
   "cell_type": "code",
   "execution_count": 7,
   "metadata": {},
   "outputs": [
    {
     "data": {
      "text/plain": [
       "15"
      ]
     },
     "execution_count": 7,
     "metadata": {},
     "output_type": "execute_result"
    }
   ],
   "source": [
    "elements.head.value"
   ]
  },
  {
   "cell_type": "code",
   "execution_count": 8,
   "metadata": {},
   "outputs": [],
   "source": [
    "# create a new element\n",
    "el2 = Element(25)\n",
    "\n",
    "# add the new element\n",
    "elements.append(el2)"
   ]
  },
  {
   "cell_type": "code",
   "execution_count": 9,
   "metadata": {},
   "outputs": [
    {
     "data": {
      "text/plain": [
       "25"
      ]
     },
     "execution_count": 9,
     "metadata": {},
     "output_type": "execute_result"
    }
   ],
   "source": [
    "elements.head.next.value"
   ]
  },
  {
   "cell_type": "code",
   "execution_count": 10,
   "metadata": {},
   "outputs": [
    {
     "name": "stdout",
     "output_type": "stream",
     "text": [
      "15\n",
      "25\n",
      "'NoneType' object has no attribute 'value'\n"
     ]
    }
   ],
   "source": [
    "# let's see the values of the elements in the linkedlist\n",
    "def print_values():\n",
    "    i = 1\n",
    "    while True:\n",
    "        try:\n",
    "            print(elements.get_position(i).value)\n",
    "            i+=1\n",
    "        except AttributeError as e:\n",
    "            print(e)\n",
    "            break\n",
    "            \n",
    "print_values()"
   ]
  },
  {
   "cell_type": "code",
   "execution_count": 11,
   "metadata": {},
   "outputs": [],
   "source": [
    "# let's insert a new element at position 1\n",
    "# first create the new element\n",
    "el3 = Element(5)\n",
    "\n",
    "# next insert the element to position 1\n",
    "elements.insert(el3, 1)"
   ]
  },
  {
   "cell_type": "code",
   "execution_count": 12,
   "metadata": {},
   "outputs": [
    {
     "name": "stdout",
     "output_type": "stream",
     "text": [
      "5\n",
      "15\n",
      "25\n",
      "'NoneType' object has no attribute 'value'\n"
     ]
    }
   ],
   "source": [
    "# Now let's print the values of all elements\n",
    "print_values()"
   ]
  },
  {
   "cell_type": "code",
   "execution_count": 13,
   "metadata": {},
   "outputs": [],
   "source": [
    "# let's insert another element at position 3\n",
    "el4 = Element(35)\n",
    "\n",
    "elements.insert(el4, 3)"
   ]
  },
  {
   "cell_type": "code",
   "execution_count": 14,
   "metadata": {},
   "outputs": [
    {
     "data": {
      "text/plain": [
       "4"
      ]
     },
     "execution_count": 14,
     "metadata": {},
     "output_type": "execute_result"
    }
   ],
   "source": [
    "# Let's see the count of all elements as at now\n",
    "\n",
    "elements.get_len()"
   ]
  },
  {
   "cell_type": "code",
   "execution_count": 15,
   "metadata": {},
   "outputs": [
    {
     "name": "stdout",
     "output_type": "stream",
     "text": [
      "5\n",
      "15\n",
      "35\n",
      "25\n",
      "'NoneType' object has no attribute 'value'\n"
     ]
    }
   ],
   "source": [
    "# Now let's print the values of all elements\n",
    "print_values()"
   ]
  },
  {
   "cell_type": "code",
   "execution_count": 16,
   "metadata": {},
   "outputs": [],
   "source": [
    "# lets delete the third element\n",
    "\n",
    "elements.delete(35)"
   ]
  },
  {
   "cell_type": "code",
   "execution_count": 17,
   "metadata": {},
   "outputs": [
    {
     "name": "stdout",
     "output_type": "stream",
     "text": [
      "5\n",
      "15\n",
      "25\n",
      "'NoneType' object has no attribute 'value'\n"
     ]
    }
   ],
   "source": [
    "# Now let's print the values of all elements\n",
    "print_values()"
   ]
  },
  {
   "cell_type": "code",
   "execution_count": 18,
   "metadata": {},
   "outputs": [],
   "source": [
    "# lets delete the last element\n",
    "\n",
    "elements.delete(25)"
   ]
  },
  {
   "cell_type": "code",
   "execution_count": 19,
   "metadata": {},
   "outputs": [
    {
     "name": "stdout",
     "output_type": "stream",
     "text": [
      "5\n",
      "15\n",
      "'NoneType' object has no attribute 'value'\n"
     ]
    }
   ],
   "source": [
    "# Now let's print the values of all elements\n",
    "print_values()"
   ]
  },
  {
   "cell_type": "code",
   "execution_count": 20,
   "metadata": {},
   "outputs": [],
   "source": [
    "# lets delete the first element\n",
    "\n",
    "elements.delete(5)"
   ]
  },
  {
   "cell_type": "code",
   "execution_count": 21,
   "metadata": {},
   "outputs": [
    {
     "name": "stdout",
     "output_type": "stream",
     "text": [
      "15\n",
      "'NoneType' object has no attribute 'value'\n"
     ]
    }
   ],
   "source": [
    "# Now let's print the values of all elements\n",
    "print_values()"
   ]
  },
  {
   "cell_type": "code",
   "execution_count": 22,
   "metadata": {},
   "outputs": [
    {
     "data": {
      "text/plain": [
       "1"
      ]
     },
     "execution_count": 22,
     "metadata": {},
     "output_type": "execute_result"
    }
   ],
   "source": [
    "# Finally, let's confirm we have just one element left in the Linkedlist\n",
    "\n",
    "elements.get_len()"
   ]
  },
  {
   "cell_type": "code",
   "execution_count": null,
   "metadata": {},
   "outputs": [],
   "source": []
  }
 ],
 "metadata": {
  "kernelspec": {
   "display_name": "Python 3",
   "language": "python",
   "name": "python3"
  },
  "language_info": {
   "codemirror_mode": {
    "name": "ipython",
    "version": 3
   },
   "file_extension": ".py",
   "mimetype": "text/x-python",
   "name": "python",
   "nbconvert_exporter": "python",
   "pygments_lexer": "ipython3",
   "version": "3.7.5"
  }
 },
 "nbformat": 4,
 "nbformat_minor": 5
}
