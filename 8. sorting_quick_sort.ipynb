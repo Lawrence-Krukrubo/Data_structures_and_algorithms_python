{
 "cells": [
  {
   "cell_type": "markdown",
   "id": "funky-telephone",
   "metadata": {},
   "source": [
    "## Sorting:\n",
    "\n",
    "In a search algorithm, we have some kind of list and we're checking out the elements. But in a sorting algorithm, we're changing the order of elements in an array.\n",
    "* An In-Place sorting algorithm rearranges the elements in the data structure they're already in, without needing to copy everything to a new data structure. These algorithms have low-space complexity as we don't need to create any new data structure."
   ]
  },
  {
   "cell_type": "markdown",
   "id": "female-photography",
   "metadata": {},
   "source": [
    "### Quick Sort:\n",
    "\n",
    "In many cases, quick-sort is one of the most efficient sorting-algorithms. To do a quick-sort we simply pick an element at random and move all values larger than it above it and all values less than it below it.\n",
    "* The value randomly picked initially is called the **`Pivot`**.\n",
    "* So we continue on recursively picking **`Pivot`** in the upper and lower sections of the array, sorting them similarly until the whole array is sorted.\n",
    "* The convention is to start by picking the last element as your **`Pivot`**.\n",
    "* The efficiency of quick-sort is pretty complicated. The magic of quick-sort is that it cuts the number of comparisons we need to do in half by splitting the array. So the worst case would be if we couldn't split the array in half, if the array is sorted or almost sorted. This means comparing each element to the pivot repeatedly.\n",
    "* Therefore the worst case of quick-sort is just like Bubble-sort which is $O(n^2)$\n",
    "* Quick-sort is useful for 2 main reasons: The average and best-case complexity are $O(nlog(n))$. Secondly, when we split the array. we can program our computer so thatnit runs both halves at the same time rather than one-after-the-other. It will end up using same amount of computing power but less time. if we know we'd be getting arrays that are near sorted, then it's best to avoid quick-sort.\n",
    "* Finally, this version of Quick-sort is In-place so we have the space complexity of $O(1)$ or constant space.\n",
    "\n",
    "\n",
    "#### Exercise:\n",
    "```\n",
    "\"\"\"Implement quick sort in Python.\n",
    "Input a list.\n",
    "Output a sorted list.\"\"\"\n",
    "```"
   ]
  },
  {
   "cell_type": "code",
   "execution_count": 84,
   "id": "simplified-sullivan",
   "metadata": {},
   "outputs": [],
   "source": [
    "test = [21, 4, 1, 3, 9, 20, 25, 6, 21, 14]\n",
    "test2 = [8, 3, 1, 7, 0, 10, 2]"
   ]
  },
  {
   "cell_type": "code",
   "execution_count": 85,
   "id": "driven-outreach",
   "metadata": {},
   "outputs": [],
   "source": [
    "def quickSort(arr):\n",
    "\n",
    "    elements = len(arr)\n",
    "    \n",
    "    #Base case\n",
    "    if elements < 2:\n",
    "        return arr\n",
    "    \n",
    "    current_position = 0 #Position of the partitioning element\n",
    "\n",
    "    for i in range(1, elements): #Partitioning loop\n",
    "        if arr[i] <= arr[0]:\n",
    "            current_position += 1\n",
    "            temp = arr[i]\n",
    "            arr[i] = arr[current_position]\n",
    "            arr[current_position] = temp\n",
    "\n",
    "    temp = arr[0]\n",
    "    arr[0] = arr[current_position] \n",
    "    arr[current_position] = temp #Brings pivot to it's appropriate position\n",
    "    \n",
    "    left = QuickSort(arr[0:current_position]) #Sorts the elements to the left of pivot\n",
    "    right = QuickSort(arr[current_position+1:elements]) #sorts the elements to the right of pivot\n",
    "\n",
    "    arr = left + [arr[current_position]] + right #Merging everything together\n",
    "    \n",
    "    return arr"
   ]
  },
  {
   "cell_type": "code",
   "execution_count": 87,
   "id": "introductory-reality",
   "metadata": {},
   "outputs": [
    {
     "data": {
      "text/plain": [
       "[6, 4, 1, 3, 9, 25, 14, 20, 21, 21]"
      ]
     },
     "execution_count": 87,
     "metadata": {},
     "output_type": "execute_result"
    }
   ],
   "source": [
    "quicksort(test)"
   ]
  },
  {
   "cell_type": "markdown",
   "id": "ready-enterprise",
   "metadata": {},
   "source": [
    "```\n",
    "after iteration2\n",
    "[0, 3, 1, 7, 2, 10, 8]\n",
    "\n",
    "after iteration 3\n",
    "[0, 3, 1, 7, 2, 10, 8]\n",
    "\n",
    "after iteration 4:\n",
    "[0, 7, 1, 2, 3, 10, 8]\n",
    "\n",
    "after iteration 5:\n",
    "[0, 1, 2, 7, 3, 10, 8]\n",
    "```"
   ]
  }
 ],
 "metadata": {
  "kernelspec": {
   "display_name": "Python 3",
   "language": "python",
   "name": "python3"
  },
  "language_info": {
   "codemirror_mode": {
    "name": "ipython",
    "version": 3
   },
   "file_extension": ".py",
   "mimetype": "text/x-python",
   "name": "python",
   "nbconvert_exporter": "python",
   "pygments_lexer": "ipython3",
   "version": "3.8.5"
  }
 },
 "nbformat": 4,
 "nbformat_minor": 5
}
