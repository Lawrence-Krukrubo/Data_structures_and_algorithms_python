{
 "cells": [
  {
   "cell_type": "markdown",
   "metadata": {},
   "source": [
    "## Graphs:\n",
    "\n",
    "A graph is a data-structure designed to show relationships between objects. the purpose of a graph is to show how different things are connected to one another. it's also sometimes called a network. A graph is similar to a tree in many ways.\n",
    "* Graphs also contain `Nodes` or `Vertices` and connections between nodes also called `edges`.\n",
    "* Infact, a tree is just a more specific type of graph. It's just like a binary-tree is a type of tree and a BST is a type of binary-tree.\n",
    "* In graphs, cycles are allowed. This means we can start at any node and chart a path right back to the start node. This implies that unlike trees, graphs don't really have a root-node.\n",
    "* Graphs are really vaguely defined. this is so all different use cases of graphs are accommodated.\n",
    "* It's common to think that nodes are the parts of graphs that store data and edges are merely connections between nodes. But in reality, edges can also store data. Edges often contain data about the strength of a connection between nodes.\n",
    "* The information we decide to store in the edges, may depend on what we intend to do with the graph."
   ]
  },
  {
   "cell_type": "markdown",
   "metadata": {},
   "source": [
    "### Directions and Cycles:\n",
    "\n",
    "* Edges can have a direction. Meaning the relationship between two nodes is one-way and not the other. **`Directed-Graph`** is the term for when the edges in a graph have a direction.\n",
    "* If we make a round trip and travel through the same two nodes going in opposite directions, we might have two edges between the same 2 nodes, one representing each direction we're travelling.\n",
    "* An **`Undirected-Graph`** has edges with no sense of direction.\n",
    "* Graphs permit cycles, while trees do not. Cycles in a graph are quite dangerous in implementation. They can result in infinite loops. Thus one needs a way to keep track of visited nodes in a graph to avoid this issue.\n",
    "* **`Acyclic`** graphs have no cycles. They are like trees.\n",
    "* One kind of acyclic graph that shows up more often is a **`DAG (Directed-Acyclic-Graph)`**. It's really just what it sounds like:- A directed graph with no cycles."
   ]
  },
  {
   "cell_type": "markdown",
   "metadata": {},
   "source": [
    "## Connectivity:\n",
    "\n",
    "Another important property of graphs is connectivity. In `graph-theory` connectivity has a special kind of name. \n",
    "* A connected graph has no disconnected nodes or vertices.\n",
    "* A disconnected graph has some node or vertex that can't be reached by the other vertices.                                                                                   \n",
    "\n",
    "### The Connectivity Metric:\n",
    "The principle behind connectivity simply measures the minimum number of elements or edges that need to be removed for a graph to be disconnected.\n",
    "\n",
    "Talking about connectivity in a directed graph is a bit more complicated than in an undirected graph. Let's look at some more definitions:\n",
    "\n",
    "**Disconnected**\n",
    "\n",
    "Disconnected graphs are very similar whether the graph's directed or undirected—there is some vertex or group of vertices that have no connection with the rest of the graph.\n",
    "\n",
    "**Weakly Connected**\n",
    "\n",
    "A directed graph is weakly connected when only replacing all of the directed edges with undirected edges can cause it to be connected. Imagine that your graph has several vertices with one outbound edge, meaning an edge that points from it to some other vertex in the graph. There's no way to reach all of those vertices from any other vertex in the graph, but if those edges were changed to be undirected all vertices would be easily accessible.\n",
    "\n",
    "**Connected**\n",
    "\n",
    "Here we only use \"connected graph\" to refer to undirected graphs. In a connected graph, there is some path between one vertex and every other vertex.\n",
    "\n",
    "**Strongly Connected**\n",
    "\n",
    "Strongly connected directed graphs must have a path from every node and every other node. So, there must be a path from A to B AND B to A.\n",
    "\n",
    "**Node Degree**\n",
    "\n",
    "This is denoted as the number of edges connected to a particular node."
   ]
  },
  {
   "cell_type": "markdown",
   "metadata": {},
   "source": [
    "### Graph Representations:\n",
    "\n",
    "Graphs can be functionally the same but built in a handful of different ways. For example using OOP, vertex (nodes) and edge objects can be created and given properties like name, value, ID, a list of edges it's connected to and so on just as we did with Trees. \n",
    "\n",
    "However, operations that traverse graphs can be more inconvenient if we need to search through vertex and edge objects. There are several ways of representing connections on simple graphs that only use lists.\n",
    "\n",
    "1. **Edge Lists:** An edge-list is simply a list of edges. The edges themselves are represented as a list of just two elements each, the ID number of the `from` node and that of the `to` node. Thus the edge-list is a list of lists or a 2D list, where each sub-list is a list of only 2 elements.\n",
    "\n",
    "\n",
    "2. **Adjacency List:** In an Adjacency-list, our vertices or Nodes,                                                                                                                            normally have an ID number that corresponds to the index in an array. While in the array, each space is used to store a list of nodes that the nodes with that ID is adjacent to. Also the adjacency list is 2D as it's a list that contains other lists.\n",
    "\n",
    "\n",
    "3. **Adjacency Matrix:** Lastly, an adjacency matrix can be used. A matrix is essentially a 2D array and the lists inside are all the same length. A matrix can also be called a rectangular-array. The adjacency matrix is quite similar to the adjacency array. The indices in the outer array still represent nodes with those IDs, and the lists inside still represent which nodes are adjacent. Although this is done slightly different in exactly One-Hot-Encoding style.\n",
    "\n",
    "Which method of representation we use depends on what makes the most sense for us and what operations we'd be performing most often. If we're looking at Node-degree, the adjacency-list will probably be the fastest.\n",
    "\n",
    "\n",
    "#### Exercises:\n",
    "```\n",
    "In this exercise you'll need to add functions to a Graph class to return various representations of the same graph. Your graph will have two different components: Nodes and Edges.\n",
    "Nodes are pretty much the same as they were in trees. Instead of having a set number of children, each node has a list of Edges.\n",
    "\n",
    "A Graph class contains a list of nodes and edges. You can sometimes get by with just a list of edges, since edges contain references to the nodes they connect to, or vice versa. However, our Graph class is built with both for the following reasons:\n",
    "\n",
    "If you're storing a disconnected graph, not every node will be tied to an edge, so you should store a list of nodes.\n",
    "We could probably leave it there, but storing an edge list will make our lives much easier when we're trying to print out different types of graph representations.\n",
    "Unfortunately, having both makes insertion a bit complicated. We can assume that each value is unique, but we need to be careful about keeping both nodes and edges updated when either is inserted. You'll also be given these insertion functions to help you out:\n",
    "```"
   ]
  },
  {
   "cell_type": "code",
   "execution_count": 1,
   "metadata": {},
   "outputs": [],
   "source": [
    "class Node(object):\n",
    "    def __init__(self, value):\n",
    "        self.value = value\n",
    "        self.edges = []"
   ]
  },
  {
   "cell_type": "code",
   "execution_count": 2,
   "metadata": {},
   "outputs": [],
   "source": [
    "class Edge(object):\n",
    "    def __init__(self, value, node_from, node_to):\n",
    "        self.value = value\n",
    "        self.node_from = node_from\n",
    "        self.node_to = node_to"
   ]
  },
  {
   "cell_type": "code",
   "execution_count": 3,
   "metadata": {},
   "outputs": [],
   "source": [
    "class Graph(object):\n",
    "    def __init__(self, nodes=[], edges=[]):\n",
    "        self.nodes = nodes\n",
    "        self.edges = edges\n",
    "\n",
    "    def insert_node(self, new_node_val):\n",
    "        new_node = Node(new_node_val)\n",
    "        self.nodes.append(new_node)\n",
    "        \n",
    "    def insert_edge(self, new_edge_val, node_from_val, node_to_val):\n",
    "        from_found = None\n",
    "        to_found = None\n",
    "        \n",
    "        # Iterate and find the from and to nodes\n",
    "        for node in self.nodes:\n",
    "            if node_from_val == node.value:\n",
    "                from_found = node\n",
    "            if node_to_val == node.value:\n",
    "                to_found = node\n",
    "                \n",
    "        # If none found, create from and to nodes with current values\n",
    "        if not from_found:\n",
    "            from_found = Node(node_from_val)\n",
    "            self.nodes.append(from_found)\n",
    "        if not to_found:\n",
    "            to_found = Node(node_to_val)\n",
    "            self.nodes.append(to_found)\n",
    "        new_edge = Edge(new_edge_val, from_found, to_found)\n",
    "        from_found.edges.append(new_edge)\n",
    "        to_found.edges.append(new_edge)\n",
    "        self.edges.append(new_edge)\n",
    "\n",
    "    def get_edge_list(self):\n",
    "        \"\"\"Don't return a list of edge objects!\n",
    "        Return a list of triples that looks like this:\n",
    "        (Edge-Value, From-Node-Value, To-Node-Value)\"\"\"\n",
    "        edge_list = []\n",
    "        \n",
    "        for edge in self.edges:\n",
    "            edge_list.append((edge.value, edge.node_from.value, edge.node_to.value))\n",
    "        \n",
    "        return edge_list\n",
    "\n",
    "    def get_adjacency_list(self):\n",
    "        max_index = self.find_max_index()\n",
    "        adjacency_list = [None] * (max_index + 1)\n",
    "        for edge_object in self.edges:\n",
    "            # if the index of the edge-object value in adjacency list exists, append new details\n",
    "            if adjacency_list[edge_object.node_from.value]:\n",
    "                adjacency_list[edge_object.node_from.value].append((edge_object.node_to.value, edge_object.value))\n",
    "            # Else update the index of the edge-object value in adjacency list to new details\n",
    "            else:\n",
    "                adjacency_list[edge_object.node_from.value] = [(edge_object.node_to.value, edge_object.value)]\n",
    "        return adjacency_list\n",
    "\n",
    "    def get_adjacency_matrix(self):\n",
    "        max_index = self.find_max_index()\n",
    "        adjacency_matrix = [[0 for i in range(max_index + 1)] for j in range(max_index + 1)]\n",
    "        for edge_object in self.edges:\n",
    "            adjacency_matrix[edge_object.node_from.value][edge_object.node_to.value] = edge_object.value\n",
    "        return adjacency_matrix\n",
    "\n",
    "    def find_max_index(self):\n",
    "        max_index = -1\n",
    "        if self.nodes:\n",
    "            for node in self.nodes:\n",
    "                if node.value > max_index:\n",
    "                    max_index = node.value\n",
    "        return max_index"
   ]
  },
  {
   "cell_type": "code",
   "execution_count": 4,
   "metadata": {},
   "outputs": [
    {
     "name": "stdout",
     "output_type": "stream",
     "text": [
      "[(100, 1, 2), (101, 1, 3), (102, 1, 4), (103, 3, 4)]\n"
     ]
    }
   ],
   "source": [
    "graph = Graph()\n",
    "graph.insert_edge(100, 1, 2)\n",
    "graph.insert_edge(101, 1, 3)\n",
    "graph.insert_edge(102, 1, 4)\n",
    "graph.insert_edge(103, 3, 4)\n",
    "# Should be [(100, 1, 2), (101, 1, 3), (102, 1, 4), (103, 3, 4)]\n",
    "print(graph.get_edge_list())"
   ]
  },
  {
   "cell_type": "code",
   "execution_count": 5,
   "metadata": {},
   "outputs": [
    {
     "name": "stdout",
     "output_type": "stream",
     "text": [
      "[None, [(2, 100), (3, 101), (4, 102)], None, [(4, 103)], None]\n"
     ]
    }
   ],
   "source": [
    "# Should be [None, [(2, 100), (3, 101), (4, 102)], None, [(4, 103)], None]\n",
    "print(graph.get_adjacency_list())"
   ]
  },
  {
   "cell_type": "code",
   "execution_count": 6,
   "metadata": {},
   "outputs": [
    {
     "name": "stdout",
     "output_type": "stream",
     "text": [
      "[[0, 0, 0, 0, 0], [0, 0, 100, 101, 102], [0, 0, 0, 0, 0], [0, 0, 0, 0, 103], [0, 0, 0, 0, 0]]\n"
     ]
    }
   ],
   "source": [
    "# Should be [[0, 0, 0, 0, 0], [0, 0, 100, 101, 102], [0, 0, 0, 0, 0], [0, 0, 0, 0, 103], [0, 0, 0, 0, 0]]\n",
    "print(graph.get_adjacency_matrix())"
   ]
  }
 ],
 "metadata": {
  "kernelspec": {
   "display_name": "Python 3",
   "language": "python",
   "name": "python3"
  },
  "language_info": {
   "codemirror_mode": {
    "name": "ipython",
    "version": 3
   },
   "file_extension": ".py",
   "mimetype": "text/x-python",
   "name": "python",
   "nbconvert_exporter": "python",
   "pygments_lexer": "ipython3",
   "version": "3.7.5"
  }
 },
 "nbformat": 4,
 "nbformat_minor": 5
}
