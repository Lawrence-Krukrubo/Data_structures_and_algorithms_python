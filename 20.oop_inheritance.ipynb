{
 "cells": [
  {
   "cell_type": "markdown",
   "id": "violent-airplane",
   "metadata": {},
   "source": [
    "# Object-Oriented-Programming:\n",
    "\n",
    "Python is an object-oriented programming language. So far, we have used a number of built-in classes to show examples of data and control structures. One of the most powerful features in an object-oriented programming language is the ability to allow a programmer (problem solver) to create new classes that model data that is needed to solve the problem.\n",
    "\n",
    "We use abstract data types to provide the logical description of what a data object looks like **(its state)** and what it can do **(its methods)**. By building a `class` that implements an abstract data type, a programmer can take advantage of the abstraction process and at the same time provide the details necessary to actually use the abstraction in a program. Whenever we want to implement an abstract data type, we will do so with a new class."
   ]
  },
  {
   "cell_type": "code",
   "execution_count": null,
   "id": "wound-somalia",
   "metadata": {},
   "outputs": [],
   "source": []
  },
  {
   "cell_type": "markdown",
   "id": "wrapped-truth",
   "metadata": {},
   "source": [
    "### Shallow and Deep Equality\n",
    "\n",
    "* Two objects have **Shallow-Equality** if they are references of the same object. It don't matter if the 2 objects have different values, they are shallow-equal if they are refs of the same object address.\n",
    "* Two objects have **Deep-Equality** if they have equal values. They may be from different object references but have same values.\n",
    "* The **`__eq__`** method is another standard method available in any class. The `__eq__` method compares two objects and returns True if their values are the same, False otherwise. We can override the workings of this method to create both shallow and deep equality."
   ]
  },
  {
   "cell_type": "markdown",
   "id": "little-terrain",
   "metadata": {},
   "source": [
    "## Inheritance: Logic Gates and Circuits\n",
    "\n",
    "**Inheritance** is the ability for one class to be related to another class in much the same way that people can be related to one another. Children inherit characteristics from their parents. Similarly, Python child classes can inherit characteristic data and behavior from a parent class. <br>These classes are often referred to as **subclasses** and **superclasses**.\n",
    "\n",
    "<img src='https://runestone.academy/runestone/books/published/pythonds/_images/inheritance1.png' height=200 width=400>"
   ]
  },
  {
   "cell_type": "markdown",
   "id": "fewer-jungle",
   "metadata": {},
   "source": [
    "**Logic gates** are easily organized into a class inheritance hierarchy. At the top of the hierarchy, the **`LogicGate class`** represents the most general characteristics of logic gates: namely, a label for the gate and an output line. The next level of subclasses breaks the logic gates into two families, those that have one input line and those that have two. Below that, the specific logic functions of each appear...\n",
    "\n",
    "<img src='https://runestone.academy/runestone/books/published/pythonds/_images/gates.png' height=400 width=400>"
   ]
  },
  {
   "cell_type": "code",
   "execution_count": 1,
   "id": "imposed-complement",
   "metadata": {},
   "outputs": [],
   "source": [
    "class LogicGate:\n",
    "    \"\"\"A class for instantiating and performing\n",
    "        LogicGates operations, such as AND, OR, NOT.\n",
    "    \"\"\"\n",
    "    def __init__(self, name):\n",
    "        self.label = name\n",
    "        self.output = None\n",
    "        \n",
    "    def getLabel(self):    \n",
    "        return self.label\n",
    "    \n",
    "    def getOutput(self):\n",
    "        # performGateLogic to be defined in subclass\n",
    "        self.output = self.performGateLogic()\n",
    "        return self.output"
   ]
  },
  {
   "cell_type": "markdown",
   "id": "awful-injection",
   "metadata": {},
   "source": [
    "At this point, we will not implement the performGateLogic function. The reason for this is that we do not know how each gate will perform its own logic operation. Those details will be included by each individual gate that is added to the hierarchy. This is a very powerful idea in object-oriented programming. We are writing a method that will use code that does not exist yet.\n",
    "\n",
    "The parameter self is a reference to the actual gate object invoking the method. Any new logic gate that gets added to the hierarchy will simply need to implement the performGateLogic function and it will be used at the appropriate time. Once done, the gate can provide its output value. This ability to extend a hierarchy that currently exists and provide the specific functions that the hierarchy needs to use the new class is extremely important for reusing existing code.\n",
    "\n",
    "\n",
    "We categorized the logic gates based on the number of input lines. The AND gate has two input lines. The OR gate also has two input lines. NOT gates have one input line. The BinaryGate class will be a subclass of LogicGate and will add two input lines. The UnaryGate class will also subclass LogicGate but will have only a single input line. In computer circuit design, these lines are sometimes called “pins” so we will use that terminology in our implementation."
   ]
  },
  {
   "cell_type": "code",
   "execution_count": 3,
   "id": "limiting-delay",
   "metadata": {},
   "outputs": [],
   "source": [
    "class BinaryGate(LogicGate):\n",
    "    \"\"\"A class for instantiating Binary\n",
    "        LogicGates operations like AND, OR.\n",
    "    \"\"\"\n",
    "    def __init__(self, name):\n",
    "        LogicGate.__init__(self, name)\n",
    "        \n",
    "        self.pinA = None\n",
    "        self.pinB = None\n",
    "        \n",
    "    def getPinA(self):\n",
    "        \"\"\"Get value of input 1.\n",
    "        If val >= 1 return 1 else 0\n",
    "        \"\"\"\n",
    "        val = int(input(\"Enter Pin A input for gate \"+ self.getLabel()+\"-->\"))\n",
    "        \n",
    "        return int(val >= 1)\n",
    "    \n",
    "    def getPinB(self):\n",
    "        \"\"\"Get value of input 2.\n",
    "        If val >= 1 return 1 else 0\n",
    "        \"\"\"\n",
    "        val = int(input(\"Enter Pin B input for gate \"+ self.getLabel()+\"-->\"))\n",
    "        \n",
    "        return int(val >= 1)"
   ]
  },
  {
   "cell_type": "code",
   "execution_count": 4,
   "id": "boring-cleaners",
   "metadata": {},
   "outputs": [],
   "source": [
    "class UnaryGate(LogicGate):\n",
    "    \"\"\"A class for instantiating Unary\n",
    "        LogicGates operations like NOT.\n",
    "    \"\"\"\n",
    "    def __init__(self, name):\n",
    "        super(UnaryGate, self).__init__(name)\n",
    "        \n",
    "        self.pin = None\n",
    "        \n",
    "    def getPin(self):\n",
    "        \"\"\"Get value of single input.\n",
    "        If val >= 1 return 1 else 0\n",
    "        \"\"\"\n",
    "        val = int(input(\"Enter Pin input for gate \"+ self.getLabel()+\"-->\"))\n",
    "        \n",
    "        return int(val >= 1)"
   ]
  },
  {
   "cell_type": "markdown",
   "id": "nominated-diagnosis",
   "metadata": {},
   "source": [
    "The constructors in both of these classes start with an explicit call to the constructor of the parent class using the parent’s `__init__` method. When creating an instance of the BinaryGate class, we first want to initialize any data items that are inherited from LogicGate. In this case, that means the label for the gate as well as the output. The constructor then goes on to add the two input lines (pinA and pinB). This is a very common pattern that you should always use when building class hierarchies. Child class constructors need to call parent class constructors and then move on to their own distinguishing data.\n",
    "\n",
    "Python also has a function called **`super`** which can be used in place of explicitly naming the parent class as we did in BinaryGate. This is a more general mechanism, and is widely used, especially when a class has more than one parent. `super` is used in the UnaryGate to call the LogicGate's `__init__` constructor."
   ]
  },
  {
   "cell_type": "code",
   "execution_count": 5,
   "id": "pursuant-default",
   "metadata": {},
   "outputs": [],
   "source": [
    "class AndGate(BinaryGate):\n",
    "    \"\"\"Class for instantiating AND\n",
    "        BinaryGate Operations.\n",
    "    \"\"\"\n",
    "    def __init__(self, name):\n",
    "        super(AndGate, self).__init__(name)\n",
    "        \n",
    "    def performGateLogic(self):\n",
    "        a = self.getPinA()\n",
    "        b = self.getPinB()\n",
    "        \n",
    "        if a == b == 1:\n",
    "            return 1\n",
    "        else:\n",
    "            return 0"
   ]
  },
  {
   "cell_type": "markdown",
   "id": "colonial-treaty",
   "metadata": {},
   "source": [
    "The AndGate inherits from the BinaryGate which inturn inherits from the LogicGate. So the AndGate needs no additional data, since it already has access to the label, output from LogicGate as well as the PinA and PinB from BinaryGate. All it needs is the `performGateLogic` method to perform the AND logic"
   ]
  },
  {
   "cell_type": "code",
   "execution_count": 6,
   "id": "selected-birmingham",
   "metadata": {},
   "outputs": [],
   "source": [
    "g1 = AndGate('G1')"
   ]
  },
  {
   "cell_type": "code",
   "execution_count": 7,
   "id": "recognized-aquatic",
   "metadata": {},
   "outputs": [
    {
     "data": {
      "text/plain": [
       "'G1'"
      ]
     },
     "execution_count": 7,
     "metadata": {},
     "output_type": "execute_result"
    }
   ],
   "source": [
    "g1.getLabel()"
   ]
  },
  {
   "cell_type": "code",
   "execution_count": 8,
   "id": "discrete-shoot",
   "metadata": {},
   "outputs": [
    {
     "name": "stdout",
     "output_type": "stream",
     "text": [
      "Enter Pin A input for gate G1-->1\n",
      "Enter Pin B input for gate G1-->2\n"
     ]
    },
    {
     "data": {
      "text/plain": [
       "1"
      ]
     },
     "execution_count": 8,
     "metadata": {},
     "output_type": "execute_result"
    }
   ],
   "source": [
    "g1.getOutput()"
   ]
  },
  {
   "cell_type": "code",
   "execution_count": 9,
   "id": "american-albuquerque",
   "metadata": {},
   "outputs": [],
   "source": [
    "class OrGate(BinaryGate):\n",
    "    \"\"\"Class for instantiating OR\n",
    "        BinaryGate operations.\n",
    "    \"\"\"\n",
    "    def __init__(self, name):\n",
    "        super(OrGate, self).__init__(name)\n",
    "        \n",
    "    def performGateLogic(self):\n",
    "        a = self.getPinA()\n",
    "        b = self.getPinB()\n",
    "        \n",
    "        if a == b == 0:\n",
    "            return 0\n",
    "        else:\n",
    "            return 1"
   ]
  },
  {
   "cell_type": "code",
   "execution_count": 10,
   "id": "flush-portrait",
   "metadata": {},
   "outputs": [],
   "source": [
    "g2 = OrGate('G2')"
   ]
  },
  {
   "cell_type": "code",
   "execution_count": 11,
   "id": "lesser-pantyhose",
   "metadata": {},
   "outputs": [
    {
     "name": "stdout",
     "output_type": "stream",
     "text": [
      "Enter Pin A input for gate G2-->0\n",
      "Enter Pin B input for gate G2-->0\n"
     ]
    },
    {
     "data": {
      "text/plain": [
       "0"
      ]
     },
     "execution_count": 11,
     "metadata": {},
     "output_type": "execute_result"
    }
   ],
   "source": [
    "g2.getOutput()"
   ]
  },
  {
   "cell_type": "code",
   "execution_count": 12,
   "id": "hearing-contrary",
   "metadata": {},
   "outputs": [
    {
     "name": "stdout",
     "output_type": "stream",
     "text": [
      "Enter Pin A input for gate G2-->1\n",
      "Enter Pin B input for gate G2-->0\n"
     ]
    },
    {
     "data": {
      "text/plain": [
       "1"
      ]
     },
     "execution_count": 12,
     "metadata": {},
     "output_type": "execute_result"
    }
   ],
   "source": [
    "g2.getOutput()"
   ]
  },
  {
   "cell_type": "code",
   "execution_count": 13,
   "id": "rocky-malta",
   "metadata": {},
   "outputs": [],
   "source": [
    "class NotGate(UnaryGate):\n",
    "    \"\"\"Class for instantiating NOT\n",
    "        UnaryGate operations.\n",
    "    \"\"\"\n",
    "    def __init__(self, name):\n",
    "        super(NotGate, self).__init__(name)\n",
    "        \n",
    "    def performGateLogic(self):\n",
    "        pin = self.getPin()\n",
    "        \n",
    "        return int(not pin)"
   ]
  },
  {
   "cell_type": "code",
   "execution_count": 14,
   "id": "geographic-riding",
   "metadata": {},
   "outputs": [],
   "source": [
    "g3 = NotGate('G3')"
   ]
  },
  {
   "cell_type": "code",
   "execution_count": 15,
   "id": "prompt-design",
   "metadata": {},
   "outputs": [
    {
     "name": "stdout",
     "output_type": "stream",
     "text": [
      "Enter Pin input for gate G3-->1\n"
     ]
    },
    {
     "data": {
      "text/plain": [
       "0"
      ]
     },
     "execution_count": 15,
     "metadata": {},
     "output_type": "execute_result"
    }
   ],
   "source": [
    "g3.getOutput()"
   ]
  },
  {
   "cell_type": "code",
   "execution_count": 16,
   "id": "variable-crown",
   "metadata": {},
   "outputs": [
    {
     "name": "stdout",
     "output_type": "stream",
     "text": [
      "Enter Pin input for gate G3-->0\n"
     ]
    },
    {
     "data": {
      "text/plain": [
       "1"
      ]
     },
     "execution_count": 16,
     "metadata": {},
     "output_type": "execute_result"
    }
   ],
   "source": [
    "g3.getOutput()"
   ]
  },
  {
   "cell_type": "markdown",
   "id": "realistic-criterion",
   "metadata": {},
   "source": [
    "<img src='https://runestone.academy/runestone/books/published/pythonds/_images/circuit1.png' height=300 width=500>"
   ]
  },
  {
   "cell_type": "markdown",
   "id": "material-religious",
   "metadata": {},
   "source": [
    "Now that we have the basic gates working, we can turn our attention to building circuits like in the image above. In order to create a circuit, we need to connect gates together, the output of one flowing into the input of another. To do this, we will implement a new class called Connector.\n",
    "\n",
    "The Connector class will not reside in the gate hierarchy. It will, however, use the gate hierarchy in that each connector will have two gates, one on either end see fig below. This relationship is very important in object-oriented programming. It is called the **HAS-A Relationship**. Recall earlier that we used the phrase **“IS-A Relationship”** to say that a child class is related to a parent class, for example UnaryGate **IS-A LogicGate**.\n",
    "\n",
    "<img src='https://runestone.academy/runestone/books/published/pythonds/_images/connector.png' height=300 width=600>\n",
    "\n",
    "Now, with the Connector class, we say that a Connector **HAS-A LogicGate** meaning that connectors will have instances of the LogicGate class within them but are not part of the hierarchy. When designing classes, it is very important to distinguish between those that have the IS-A relationship (which requires inheritance) and those that have HAS-A relationships (with no inheritance)."
   ]
  },
  {
   "cell_type": "code",
   "execution_count": 17,
   "id": "blond-professional",
   "metadata": {},
   "outputs": [],
   "source": [
    "class Connector:\n",
    "    \"\"\"Class for instantiating connector objects\n",
    "        for LogicGate operations.\n",
    "    \"\"\"\n",
    "    def __init__(self, fgate, tgate):\n",
    "        self.fromGate = fgate\n",
    "        self.toGate = tgate\n",
    "        \n",
    "        tgate.setNextPin(self)\n",
    "        \n",
    "    def getFrom(self):\n",
    "        return self.fromGate\n",
    "    \n",
    "    def getTo(self):\n",
    "        return self.toGate"
   ]
  },
  {
   "cell_type": "markdown",
   "id": "described-experience",
   "metadata": {},
   "source": [
    "The call to `setNextPin` is very important for making connections. We need to add this method to our gate classes so that each togate can choose the proper input line for the connection. So we'd add this method to BinaryGate and UnaryGate classes"
   ]
  },
  {
   "cell_type": "code",
   "execution_count": 18,
   "id": "structural-seller",
   "metadata": {},
   "outputs": [],
   "source": [
    "class BinaryGate(LogicGate):\n",
    "    \"\"\"A class for instantiating Binary\n",
    "        LogicGates operations like AND, OR.\n",
    "    \"\"\"\n",
    "    def __init__(self, name):\n",
    "        LogicGate.__init__(self, name)\n",
    "        \n",
    "        self.pinA = None\n",
    "        self.pinB = None\n",
    "        \n",
    "    def getPinA(self):\n",
    "        \"\"\"Get value of input 1.\n",
    "        If val >= 1 return 1 else 0\n",
    "        \"\"\"\n",
    "        val = int(input(\"Enter Pin A input for gate \"+ self.getLabel()+\"-->\"))\n",
    "        \n",
    "        return int(val >= 1)\n",
    "    \n",
    "    def getPinB(self):\n",
    "        \"\"\"Get value of input 2.\n",
    "        If val >= 1 return 1 else 0\n",
    "        \"\"\"\n",
    "        val = int(input(\"Enter Pin B input for gate \"+ self.getLabel()+\"-->\"))\n",
    "        \n",
    "        return int(val >= 1)\n",
    "    \n",
    "    def setNextPin(self, source):\n",
    "        if not self.pinA:\n",
    "            self.pinA = source\n",
    "        else:\n",
    "            if not self.pinB:\n",
    "                self.pinB = source\n",
    "            else:\n",
    "                raise RuntimeError(\"ERROR: NO EMPTY PINS\")\n",
    "            "
   ]
  },
  {
   "cell_type": "code",
   "execution_count": 19,
   "id": "announced-object",
   "metadata": {},
   "outputs": [],
   "source": [
    "class UnaryGate(LogicGate):\n",
    "    \"\"\"A class for instantiating Unary\n",
    "        LogicGates operations like NOT.\n",
    "    \"\"\"\n",
    "    def __init__(self, name):\n",
    "        super(UnaryGate, self).__init__(name)\n",
    "        \n",
    "        self.pin = None\n",
    "        \n",
    "    def getPin(self):\n",
    "        \"\"\"Get value of single input.\n",
    "        If val >= 1 return 1 else 0\n",
    "        \"\"\"\n",
    "        val = int(input(\"Enter Pin input for gate \"+ self.getLabel()+\"-->\"))\n",
    "        \n",
    "        return int(val >= 1)\n",
    "    \n",
    "    def setNextPin(self, source):\n",
    "        if not self.pin:\n",
    "            self.pin = source\n",
    "        else:\n",
    "            raise RuntimeError('ERROR: NO EMPTY PINS')"
   ]
  },
  {
   "cell_type": "markdown",
   "id": "crude-talent",
   "metadata": {},
   "source": [
    "Now it is possible to get input from two places: externally, as before, and from the output of a gate that is connected to that input line. This requires a change to the `getPinA` and `getPinB` methods. If the input line is not connected to anything (None), then ask the user externally as before. However, if there is a connection, the connection is accessed and fromgate’s output value is retrieved. This in turn causes that gate to process its logic. This continues until all input is available and the final output value becomes the required input for the gate in question. In a sense, the circuit works backwards to find the input necessary to finally produce output."
   ]
  },
  {
   "cell_type": "code",
   "execution_count": 20,
   "id": "loved-cursor",
   "metadata": {},
   "outputs": [],
   "source": [
    "class BinaryGate(LogicGate):\n",
    "    \"\"\"A class for instantiating Binary\n",
    "        LogicGates operations like AND, OR.\n",
    "    \"\"\"\n",
    "    def __init__(self, name):\n",
    "        LogicGate.__init__(self, name)\n",
    "        \n",
    "        self.pinA = None\n",
    "        self.pinB = None\n",
    "        \n",
    "    def getPinA(self):\n",
    "        \"\"\"Get value of input 1.\n",
    "        If val >= 1 return 1 else 0\n",
    "        else, if value exists return it\n",
    "        \"\"\"\n",
    "        if not self.pinA:\n",
    "            val = int(input(\"Enter Pin A input for gate \"+ self.getLabel()+\"-->\"))\n",
    "            return int(val >= 1)\n",
    "        else:\n",
    "            return self.pinA.getFrom().getOutput()\n",
    "    \n",
    "    def getPinB(self):\n",
    "        \"\"\"Get value of input 2.\n",
    "        If val >= 1 return 1 else 0\n",
    "        else, if value exists return it\n",
    "        \"\"\"\n",
    "        if not self.pinB:\n",
    "            val = int(input(\"Enter Pin B input for gate \"+ self.getLabel()+\"-->\"))\n",
    "            return int(val >= 1)\n",
    "        else:\n",
    "            return self.pinB.getFrom().getOutput()\n",
    "    \n",
    "    def setNextPin(self, source):\n",
    "        if not self.pinA:\n",
    "            self.pinA = source\n",
    "        else:\n",
    "            if not self.pinB:\n",
    "                self.pinB = source\n",
    "            else:\n",
    "                raise RuntimeError(\"ERROR: NO EMPTY PINS\")\n",
    "            "
   ]
  },
  {
   "cell_type": "code",
   "execution_count": 21,
   "id": "cordless-elevation",
   "metadata": {},
   "outputs": [],
   "source": [
    "class UnaryGate(LogicGate):\n",
    "    \"\"\"A class for instantiating Unary\n",
    "        LogicGates operations like NOT.\n",
    "    \"\"\"\n",
    "    def __init__(self, name):\n",
    "        super(UnaryGate, self).__init__(name)\n",
    "        \n",
    "        self.pin = None\n",
    "        \n",
    "    def getPin(self):\n",
    "        \"\"\"Get value of single input.\n",
    "        If val >= 1 return 1 else 0\n",
    "        else, if value exists return it\n",
    "        \"\"\"\n",
    "        if not self.pin:\n",
    "            val = int(input(\"Enter Pin input for gate \"+ self.getLabel()+\"-->\"))\n",
    "            return int(val >= 1)\n",
    "        else:\n",
    "            return self.pin.getFrom().getOutput()\n",
    "    \n",
    "    def setNextPin(self, source):\n",
    "        if not self.pin:\n",
    "            self.pin = source\n",
    "        else:\n",
    "            raise RuntimeError('ERROR: NO EMPTY PINS')"
   ]
  },
  {
   "cell_type": "markdown",
   "id": "specified-opening",
   "metadata": {},
   "source": [
    "After altering the Binary and Unary gates, let's re-run their subclasses below..."
   ]
  },
  {
   "cell_type": "code",
   "execution_count": 22,
   "id": "based-supplier",
   "metadata": {},
   "outputs": [],
   "source": [
    "class AndGate(BinaryGate):\n",
    "    \"\"\"Class for instantiating AND\n",
    "        BinaryGate Operations.\n",
    "    \"\"\"\n",
    "    def __init__(self, name):\n",
    "        super(AndGate, self).__init__(name)\n",
    "        \n",
    "    def performGateLogic(self):\n",
    "        a = self.getPinA()\n",
    "        b = self.getPinB()\n",
    "        \n",
    "        if a == b == 1:\n",
    "            return 1\n",
    "        else:\n",
    "            return 0"
   ]
  },
  {
   "cell_type": "code",
   "execution_count": 23,
   "id": "danish-exception",
   "metadata": {},
   "outputs": [],
   "source": [
    "class OrGate(BinaryGate):\n",
    "    \"\"\"Class for instantiating OR\n",
    "        BinaryGate operations.\n",
    "    \"\"\"\n",
    "    def __init__(self, name):\n",
    "        super(OrGate, self).__init__(name)\n",
    "        \n",
    "    def performGateLogic(self):\n",
    "        a = self.getPinA()\n",
    "        b = self.getPinB()\n",
    "        \n",
    "        if a == b == 0:\n",
    "            return 0\n",
    "        else:\n",
    "            return 1"
   ]
  },
  {
   "cell_type": "code",
   "execution_count": 24,
   "id": "massive-grace",
   "metadata": {},
   "outputs": [],
   "source": [
    "class NotGate(UnaryGate):\n",
    "    \"\"\"Class for instantiating NOT\n",
    "        UnaryGate operations.\n",
    "    \"\"\"\n",
    "    def __init__(self, name):\n",
    "        super(NotGate, self).__init__(name)\n",
    "        \n",
    "    def performGateLogic(self):\n",
    "        pin = self.getPin()\n",
    "        \n",
    "        return int(not pin)"
   ]
  },
  {
   "cell_type": "code",
   "execution_count": 25,
   "id": "novel-chrome",
   "metadata": {},
   "outputs": [],
   "source": [
    "g1 = AndGate('G1-AND')\n",
    "g2 = AndGate('G2-AND')\n",
    "g3 = OrGate('G3-OR')\n",
    "g4 = NotGate('G4-NOT')"
   ]
  },
  {
   "cell_type": "code",
   "execution_count": 26,
   "id": "covered-drunk",
   "metadata": {},
   "outputs": [],
   "source": [
    "c1 = Connector(g1, g3)\n",
    "c2 = Connector(g2, g3)\n",
    "c3 = Connector(g3, g4)"
   ]
  },
  {
   "cell_type": "markdown",
   "id": "excess-polls",
   "metadata": {},
   "source": [
    "The outputs from the two AND gates `(g1 and g2)` are connected to the OR gate `(g3)` and that output is connected to the NOT gate `(g4)`. The output from the NOT gate is the output of the entire circuit. For example:"
   ]
  },
  {
   "cell_type": "code",
   "execution_count": 27,
   "id": "framed-portugal",
   "metadata": {},
   "outputs": [
    {
     "name": "stdout",
     "output_type": "stream",
     "text": [
      "Enter Pin A input for gate G1-AND-->1\n",
      "Enter Pin B input for gate G1-AND-->1\n",
      "Enter Pin A input for gate G2-AND-->0\n",
      "Enter Pin B input for gate G2-AND-->1\n"
     ]
    },
    {
     "data": {
      "text/plain": [
       "0"
      ]
     },
     "execution_count": 27,
     "metadata": {},
     "output_type": "execute_result"
    }
   ],
   "source": [
    "g4.getOutput()"
   ]
  },
  {
   "cell_type": "markdown",
   "id": "accepting-savage",
   "metadata": {},
   "source": [
    "#### Self Check\n",
    "\n",
    "Create a two new gate classes, one called **`NorGate`** the other called **`NandGate`**. NandGates work like AndGates that have a Not attached to the output. NorGates work lake OrGates that have a Not attached to the output."
   ]
  },
  {
   "cell_type": "code",
   "execution_count": 28,
   "id": "animal-deputy",
   "metadata": {},
   "outputs": [],
   "source": [
    "class NorGate(OrGate):\n",
    "    \"\"\"Class for instantiating NOR\n",
    "        BinaryGate operations.\n",
    "    \"\"\"\n",
    "    def __init__(self, name):\n",
    "        super(NorGate, self).__init__(name)\n",
    "    \n",
    "    \n",
    "    # Here we override the OR-Gate method\n",
    "    # by switching the return values 1, 0,\n",
    "    # This creates the NOR-Gate values\n",
    "    def performGateLogic(self):\n",
    "        a = self.getPinA()\n",
    "        b = self.getPinB()\n",
    "        \n",
    "        if a == b == 0:\n",
    "            return 1\n",
    "        else:\n",
    "            return 0"
   ]
  },
  {
   "cell_type": "code",
   "execution_count": 29,
   "id": "proved-second",
   "metadata": {},
   "outputs": [
    {
     "data": {
      "text/plain": [
       "'T1'"
      ]
     },
     "execution_count": 29,
     "metadata": {},
     "output_type": "execute_result"
    }
   ],
   "source": [
    "t1 = OrGate('T1')\n",
    "t1.getLabel()"
   ]
  },
  {
   "cell_type": "code",
   "execution_count": 30,
   "id": "needed-electronics",
   "metadata": {},
   "outputs": [
    {
     "name": "stdout",
     "output_type": "stream",
     "text": [
      "Enter Pin A input for gate T1-->1\n",
      "Enter Pin B input for gate T1-->1\n"
     ]
    },
    {
     "data": {
      "text/plain": [
       "1"
      ]
     },
     "execution_count": 30,
     "metadata": {},
     "output_type": "execute_result"
    }
   ],
   "source": [
    "t1.getOutput()"
   ]
  },
  {
   "cell_type": "code",
   "execution_count": 31,
   "id": "impressive-extreme",
   "metadata": {},
   "outputs": [
    {
     "data": {
      "text/plain": [
       "'T2'"
      ]
     },
     "execution_count": 31,
     "metadata": {},
     "output_type": "execute_result"
    }
   ],
   "source": [
    "t2 = NorGate('T2')\n",
    "t2.getLabel()"
   ]
  },
  {
   "cell_type": "code",
   "execution_count": 32,
   "id": "environmental-blade",
   "metadata": {},
   "outputs": [
    {
     "name": "stdout",
     "output_type": "stream",
     "text": [
      "Enter Pin A input for gate T2-->1\n",
      "Enter Pin B input for gate T2-->1\n"
     ]
    },
    {
     "data": {
      "text/plain": [
       "0"
      ]
     },
     "execution_count": 32,
     "metadata": {},
     "output_type": "execute_result"
    }
   ],
   "source": [
    "t2.getOutput()"
   ]
  },
  {
   "cell_type": "code",
   "execution_count": null,
   "id": "lesbian-riverside",
   "metadata": {},
   "outputs": [],
   "source": []
  },
  {
   "cell_type": "code",
   "execution_count": 33,
   "id": "inside-flash",
   "metadata": {},
   "outputs": [],
   "source": [
    "class NandGate(AndGate):\n",
    "    \"\"\"Class for instantiating NAND\n",
    "        BinaryGate operations.\n",
    "    \"\"\"\n",
    "    def __init__(self, name):\n",
    "        super(NandGate, self).__init__(name)\n",
    "    \n",
    "    \n",
    "    # Here we override the AND-Gate method\n",
    "    # by switching the return values 1, 0,\n",
    "    # This creates the NAND-Gate values\n",
    "    def performGateLogic(self):\n",
    "        a = self.getPinA()\n",
    "        b = self.getPinB()\n",
    "        \n",
    "        if a == b == 1:\n",
    "            return 0\n",
    "        else:\n",
    "            return 1"
   ]
  },
  {
   "cell_type": "code",
   "execution_count": 34,
   "id": "disturbed-sellers",
   "metadata": {},
   "outputs": [
    {
     "data": {
      "text/plain": [
       "'T3'"
      ]
     },
     "execution_count": 34,
     "metadata": {},
     "output_type": "execute_result"
    }
   ],
   "source": [
    "t3 = AndGate('T3')\n",
    "t3.getLabel()"
   ]
  },
  {
   "cell_type": "code",
   "execution_count": 35,
   "id": "hairy-contamination",
   "metadata": {},
   "outputs": [
    {
     "name": "stdout",
     "output_type": "stream",
     "text": [
      "Enter Pin A input for gate T3-->0\n",
      "Enter Pin B input for gate T3-->0\n"
     ]
    },
    {
     "data": {
      "text/plain": [
       "0"
      ]
     },
     "execution_count": 35,
     "metadata": {},
     "output_type": "execute_result"
    }
   ],
   "source": [
    "t3.getOutput()"
   ]
  },
  {
   "cell_type": "code",
   "execution_count": 36,
   "id": "adopted-pickup",
   "metadata": {},
   "outputs": [
    {
     "data": {
      "text/plain": [
       "'T4'"
      ]
     },
     "execution_count": 36,
     "metadata": {},
     "output_type": "execute_result"
    }
   ],
   "source": [
    "t4 = NandGate('T4')\n",
    "t4.getLabel()"
   ]
  },
  {
   "cell_type": "code",
   "execution_count": 37,
   "id": "several-worcester",
   "metadata": {},
   "outputs": [
    {
     "name": "stdout",
     "output_type": "stream",
     "text": [
      "Enter Pin A input for gate T4-->1\n",
      "Enter Pin B input for gate T4-->1\n"
     ]
    },
    {
     "data": {
      "text/plain": [
       "0"
      ]
     },
     "execution_count": 37,
     "metadata": {},
     "output_type": "execute_result"
    }
   ],
   "source": [
    "t4.getOutput()"
   ]
  },
  {
   "cell_type": "markdown",
   "id": "exempt-colleague",
   "metadata": {},
   "source": [
    "## Summary\n",
    "1. Computer science is the study of problem solving.\n",
    "\n",
    "2. Computer science uses abstraction as a tool for representing both processes and data.\n",
    "\n",
    "3. Abstract data types allow programmers to manage the complexity of a problem domain by hiding the details of the data.\n",
    "\n",
    "4. Python is a powerful, yet easy-to-use, object-oriented language.\n",
    "\n",
    "5. Lists, tuples, and strings are built in Python sequential collections.\n",
    "\n",
    "6. Dictionaries and sets are nonsequential collections of data.\n",
    "\n",
    "7. Classes allow programmers to implement abstract data types.\n",
    "\n",
    "8. Programmers can override standard methods as well as create new methods.\n",
    "\n",
    "9. Classes can be organized into hierarchies.\n",
    "\n",
    "10. A class constructor should always invoke the constructor of its parent before continuing on with its own data and behavior."
   ]
  },
  {
   "cell_type": "markdown",
   "id": "intelligent-karaoke",
   "metadata": {},
   "source": [
    "### Discussion Questions\n",
    "* Construct a class hierarchy for people on a college campus. Include faculty, staff, and students. What do they have in common? What distinguishes them from one another?\n",
    "\n",
    "* Construct a class hierarchy for bank accounts.\n",
    "\n",
    "* Construct a class hierarchy for different types of computers."
   ]
  },
  {
   "cell_type": "markdown",
   "id": "standing-genealogy",
   "metadata": {},
   "source": [
    "### Complete Exercises\n",
    "\n",
    "**[CHAPTER Programming Exercises](https://runestone.academy/runestone/books/published/pythonds/Introduction/Exercises.html)**"
   ]
  },
  {
   "cell_type": "code",
   "execution_count": 10,
   "id": "characteristic-career",
   "metadata": {},
   "outputs": [],
   "source": [
    "def tryd(x,y):\n",
    "    try:\n",
    "        return x + y\n",
    "    except:\n",
    "        return NotImplemented"
   ]
  },
  {
   "cell_type": "code",
   "execution_count": 11,
   "id": "dental-client",
   "metadata": {},
   "outputs": [
    {
     "data": {
      "text/plain": [
       "NotImplemented"
      ]
     },
     "execution_count": 11,
     "metadata": {},
     "output_type": "execute_result"
    }
   ],
   "source": [
    "tryd(2, 'k')"
   ]
  }
 ],
 "metadata": {
  "kernelspec": {
   "display_name": "Python 3",
   "language": "python",
   "name": "python3"
  },
  "language_info": {
   "codemirror_mode": {
    "name": "ipython",
    "version": 3
   },
   "file_extension": ".py",
   "mimetype": "text/x-python",
   "name": "python",
   "nbconvert_exporter": "python",
   "pygments_lexer": "ipython3",
   "version": "3.8.5"
  }
 },
 "nbformat": 4,
 "nbformat_minor": 5
}
