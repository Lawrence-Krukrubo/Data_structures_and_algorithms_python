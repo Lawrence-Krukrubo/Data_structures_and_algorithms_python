{
 "cells": [
  {
   "cell_type": "markdown",
   "id": "pleasant-memorial",
   "metadata": {},
   "source": [
    "### [PYTHON-DATA-STRUCTURES](https://docs.python.org/3/tutorial/datastructures.html)"
   ]
  },
  {
   "cell_type": "markdown",
   "id": "balanced-nature",
   "metadata": {},
   "source": [
    "## Trees:\n",
    "\n",
    "Trees are data structures that well, look like trees! a tree starts from a place called a root and you add data to it called branches.\n",
    "* Trees have `branches` and `leaves`\n",
    "* A collection of trees is called a `forest`\n",
    "* Trees have a lot of properties that make them useful. However a Tree is just an extension of a `Linked-List`\n",
    "* A Tree is similar, as the first element is called a `root`, while the first element in Linked-List is called the `Head`.\n",
    "* Then instead of having just one next element, a tree can have several.\n",
    "* A Linked-List is often drawn horizontally with rectangles representing `elements`, while a Tree is often drawn vertically with circles as `nodes`.\n",
    "\n",
    "### Tree Constraints:\n",
    "* A Tree must be fully connected. That means if we're starting from the root, there must be a way to reach every node in the Tree.\n",
    "* Next, there must not be any **cycles** in the Tree. A cycle occurs when there's a way for you to encounter the same node twice."
   ]
  },
  {
   "cell_type": "markdown",
   "id": "computational-fault",
   "metadata": {},
   "source": [
    "### Tree Terminologies\n",
    "\n",
    "* A tree can be described in levels. Or how many connections it takes to reach the root plus one. This means the root is level 1 and nodes directly connected to the root are in level 2 and their children in level 3 and so on.\n",
    "\n",
    "\n",
    "* Nodes in a Tree have a Parent-Child relationship. A node in the middle can be both a Parent and a Child, it depends on what it's been compared to.\n",
    "\n",
    "\n",
    "* In Trees children nodes are only allowed to have one parent. If a Parent has multiple children they are considered siblings of each other\n",
    "\n",
    "\n",
    "* Ancestry of nodes in Trees is really intuitive. A node at a lower level can be called an Ancestor of a node at a higher level, which is it's descendant.\n",
    "\n",
    "\n",
    "* The nodes at the edge that don't have any descendants are called **leaves or external nodes**. Conversely a Parent-node is called an **internal node**.\n",
    "\n",
    "\n",
    "* We can call connections between nodes **edges** and a group of connections taken together as a **path**.\n",
    "\n",
    "\n",
    "* The `height` of a node is the number of edges between it and the farthest leaf on the tree.\n",
    "\n",
    "\n",
    "* A leaf has a height of zero, and the parent of a leaf has a height of one.\n",
    "\n",
    "\n",
    "* The height of a tree overall is just the height of the root node.\n",
    "\n",
    "\n",
    "* On the flip-side, the depth of a node is the number of edges to the root. Height and depth should move inversely.\n",
    "\n",
    "\n",
    "* Thus, if a node is closer to a leaf, then it's further from the root..."
   ]
  },
  {
   "cell_type": "markdown",
   "id": "respective-screening",
   "metadata": {},
   "source": [
    "## Tree Traversal:\n",
    "\n",
    "Traversal in a Tree is a lil more complicated, but important. As we can't search and sort elements except we have a uniform way of visiting each element first.\n",
    "\n",
    "There are two 2 different broad approaches to Tree traversal, one is called **Depth-First-Search (DFS)**. In DFS, the philosophy is, if there's children nodes to be explored, we explore them first. The other method is called **Breadth-First-Search (BFS)**. In BFS, the priority is visiting every node on the same level we're currently on, before visiting child-nodes.\n",
    "\n",
    "`BFS` and `DFS` are kinda vaguely defined, since we can apply their principles but actually traverse the tree in several different ways. By convention, during traversal, we start at the left-most side of the tree level or child, depending on whether we're doing `BFS` or `DFS`."
   ]
  },
  {
   "cell_type": "markdown",
   "id": "blank-keeping",
   "metadata": {},
   "source": [
    "### DFS:\n",
    "\n",
    "There are several different approaches to DFS in Trees. \n",
    "\n",
    "1. **Pre-Order-Traversal:** This means check-off a node as soon as you see it, before you move any further in a Tree. Keeping to the left-most parent-child nodes first, then to the right.\n",
    "2. **In-Order-Traversal:** This time we only check-off a node when we see it's left child, checked out the child and come back to the node. So here we traverse down from the root to the outermost leaf on the left-side first, then we check the leaf off, go up to its parent, check it off and if there's a right sibling we check that off too and go down the next level repeating same process back to the root, we check-off the root, then we go over to the right child of the root and repeat the entire same process as we did on the left.\n",
    "3. **Post-Order-Traversal**: This time we only check off a parent node after checking-off all its descendants or children first, keeping to the left-most-side-first convention. Like `In-Order-Search`, we begin at the root, don't check it off, go down to the left-most-outer leaf and check it off. We go up to it's parent, dont check it off if there's a right sibling, then we see the right sibling, check it off and go back to the parent. This time, with all children checked, we check-off the parent and continue going down one level back to the root. We go over to the right child of the root and repeat same process and when all parents and children are checked-off, we make it down to the root again and check-off the root. So the root is the last node to be checked-off. "
   ]
  },
  {
   "cell_type": "code",
   "execution_count": null,
   "id": "invalid-tuner",
   "metadata": {},
   "outputs": [],
   "source": []
  },
  {
   "cell_type": "markdown",
   "id": "stone-course",
   "metadata": {},
   "source": [
    "#### Exercise:\n",
    "\n",
    "<img src='https://video.udacity-data.com/topher/2017/March/58dd62a1_tree-traversal-practice/tree-traversal-practice.jpg' height=400 width=700>"
   ]
  },
  {
   "cell_type": "markdown",
   "id": "dense-bride",
   "metadata": {},
   "source": [
    "**General DFS Movements:** <br>A -> B -> D -> B -> E -> F -> E -> B -> A -> C<br> \n",
    "<br>"
   ]
  },
  {
   "cell_type": "markdown",
   "id": "breathing-original",
   "metadata": {},
   "source": [
    "**Pre-Order-Traversal Nodes Check Order:** <br>A -> B -> D -> E -> F -> C "
   ]
  },
  {
   "cell_type": "markdown",
   "id": "disturbed-sender",
   "metadata": {},
   "source": [
    "**In-Order-Traversal Nodes Check Order:** <br>D -> B -> F -> E -> A -> C "
   ]
  },
  {
   "cell_type": "markdown",
   "id": "brazilian-climb",
   "metadata": {},
   "source": [
    "**Post-Order-Traversal Nodes Check Order:** <br>D -> F -> E -> B -> C -> A "
   ]
  },
  {
   "cell_type": "markdown",
   "id": "expired-knife",
   "metadata": {},
   "source": [
    "## Binary Trees\n",
    "\n",
    "Are simply trees where a parent has at most 2 children. This means nodes can have 0, 1 or 2 children. Those children might even be null and that's okay. In search, because there's no real order amongst the nodes in the tree, we'd have to go through possibly all nodes to find the value we want using any traversal algorithm we choose.\n",
    "* A search of Binary Tree is $O(n)$\n",
    "* A delete operation also starts with a search, since we must find it to delete. If we delete a leaf it's just one simple operation. If we delete a node with a child, we can simply replace the deleted node with its child. if we're deleting a node with multiple descendants, we may simply replace the node with its left-most-outer leaf, since there are no inherent orders in the nodes.\n",
    "* A delete in a Binary Tree has a linear runtime too $O(n)$\n",
    "* Inserting an element into a binary tree where the nodes have no order is relatively easy. We just look for the nearest parent with less than 2 children to insert our node into.\n",
    "\n",
    "Trees inherently aren't really organized, when we use the Tree, we know what the over all structure looks like, but we don't know where specific elements will be. But, we can decide to add some rules to the ordering of our Trees to acheieve certain tasks, really fast. \n",
    "\n",
    "As such based on specific rules, there can be several types of trees for different types of tasks. Some may be better suited for certain situations and others for others.\n",
    "\n",
    "### Binary Tree Practice\n",
    "\n",
    "Your goal is to create your own binary tree. You should start with the most basic building block:\n",
    "```\n",
    "class Node(object):\n",
    "    def __init__(self, value):\n",
    "        self.value = value\n",
    "        self.left = None\n",
    "        self.right = None\n",
    "```\n",
    "Every node has some value, and pointers to left and right children.\n",
    "\n",
    "You'll need to implement two methods: `search()`, which searches for the presence of a node in the tree, and `print_tree()`, which prints out the values of tree nodes in a pre-order traversal. You should attempt to use the helper methods provided to create recursive solutions to these functions."
   ]
  },
  {
   "cell_type": "code",
   "execution_count": 1,
   "id": "copyrighted-entry",
   "metadata": {},
   "outputs": [],
   "source": [
    "class Node(object):\n",
    "    def __init__(self, value):\n",
    "        self.value = value\n",
    "        self.left = None\n",
    "        self.right = None\n",
    "\n",
    "class BinaryTree(object):\n",
    "    def __init__(self, root):\n",
    "        self.root = Node(root)\n",
    "\n",
    "    def search(self, find_val):\n",
    "        \"\"\"Return True if the value\n",
    "        is in the tree, return\n",
    "        False otherwise.\"\"\"\n",
    "        \n",
    "        return self.preorder_search(self.root, find_val)\n",
    "\n",
    "    def print_tree(self):\n",
    "        \"\"\"Print out all tree nodes\n",
    "        as they are visited in\n",
    "        a pre-order traversal.\"\"\"\n",
    "        \n",
    "        return self.preorder_print(self.root, 'pre-order')\n",
    "        \n",
    "\n",
    "    def preorder_search(self, start, find_val):\n",
    "        \"\"\"Helper method - use this to create a \n",
    "        recursive search solution.\"\"\"\n",
    "        temp_list = [start.value, start.left, start.right]\n",
    "        \n",
    "        while temp_list:\n",
    "            i = temp_list[0]\n",
    "            try:\n",
    "                assert find_val == i\n",
    "                return True\n",
    "            except AssertionError:\n",
    "                if isinstance(i, Node):\n",
    "                    temp_list.extend([i.value, i.left, i.right])\n",
    "                temp_list.pop(0)\n",
    "                         \n",
    "        return False\n",
    "\n",
    "    def preorder_print(self, start, traversal):\n",
    "        \"\"\"Helper method - use this to create a \n",
    "        recursive print solution.\"\"\"\n",
    "        \n",
    "        temp_list = [start.value, start.left, start.right]\n",
    "        summary = ''\n",
    "        \n",
    "        if traversal == 'pre-order':\n",
    "            while temp_list:\n",
    "                i = temp_list[0]\n",
    "                if isinstance(i, Node):\n",
    "                    temp_list = temp_list[:1]+[i.value, i.left, i.right]+temp_list[1:]\n",
    "                elif i is not None:\n",
    "                    summary+=str(i)+'-'\n",
    "                temp_list.pop(0)\n",
    "                \n",
    "            return summary[:-1] \n",
    "        \n",
    "        elif traversal == 'in-order':\n",
    "            pass\n",
    "        \n",
    "        elif traversal == 'post-order':\n",
    "            pass\n",
    "                \n",
    "        return 'Unknown Traversal: use default: pre-order'"
   ]
  },
  {
   "cell_type": "markdown",
   "id": "classical-dialogue",
   "metadata": {},
   "source": [
    "### Example 1"
   ]
  },
  {
   "cell_type": "code",
   "execution_count": 2,
   "id": "single-concentrate",
   "metadata": {},
   "outputs": [],
   "source": [
    "# Define a Binary Tree with just the root node and a value of 1\n",
    "\n",
    "trees = BinaryTree(1)"
   ]
  },
  {
   "cell_type": "code",
   "execution_count": 5,
   "id": "conditional-chicken",
   "metadata": {},
   "outputs": [
    {
     "name": "stdout",
     "output_type": "stream",
     "text": [
      "1\n",
      "None\n",
      "None\n"
     ]
    }
   ],
   "source": [
    "# Let's print the value and pointers of the root node\n",
    "\n",
    "print(trees.root.value)\n",
    "print(trees.root.left)\n",
    "print(trees.root.right)"
   ]
  },
  {
   "cell_type": "code",
   "execution_count": 6,
   "id": "hispanic-watts",
   "metadata": {},
   "outputs": [],
   "source": [
    "# Define additional nodes for the Tree\n",
    "\n",
    "two = Node(2)\n",
    "three = Node(3)\n",
    "four = Node(4)\n",
    "five = Node(5)\n",
    "six = Node(6)\n",
    "seven = Node(7)"
   ]
  },
  {
   "cell_type": "code",
   "execution_count": 7,
   "id": "material-suggestion",
   "metadata": {},
   "outputs": [],
   "source": [
    "# Make the first 2 additional nodes parents, to have\n",
    "# The last 4 additional nodes as left and right children values each\n",
    "\n",
    "two.left = four\n",
    "two.right = five\n",
    "\n",
    "three.left = six\n",
    "three.right = seven"
   ]
  },
  {
   "cell_type": "code",
   "execution_count": 8,
   "id": "offshore-chinese",
   "metadata": {},
   "outputs": [],
   "source": [
    "# Pass the first two parents nodes as children of the root node\n",
    "\n",
    "trees.root.left = two\n",
    "trees.root.right = three"
   ]
  },
  {
   "cell_type": "code",
   "execution_count": 9,
   "id": "further-yukon",
   "metadata": {},
   "outputs": [
    {
     "name": "stdout",
     "output_type": "stream",
     "text": [
      "True\n"
     ]
    }
   ],
   "source": [
    "# Test search\n",
    "# Should be True\n",
    "print(trees.search(4))"
   ]
  },
  {
   "cell_type": "code",
   "execution_count": 10,
   "id": "unknown-header",
   "metadata": {},
   "outputs": [
    {
     "name": "stdout",
     "output_type": "stream",
     "text": [
      "False\n"
     ]
    }
   ],
   "source": [
    "# Should be False\n",
    "print(trees.search(8))"
   ]
  },
  {
   "cell_type": "code",
   "execution_count": 11,
   "id": "vietnamese-clarity",
   "metadata": {},
   "outputs": [
    {
     "name": "stdout",
     "output_type": "stream",
     "text": [
      "1-2-4-5-3-6-7\n"
     ]
    }
   ],
   "source": [
    "# Test print_tree\n",
    "# Should be 1-2-4-5-3-6-7\n",
    "print(trees.print_tree())"
   ]
  },
  {
   "cell_type": "markdown",
   "id": "prime-contribution",
   "metadata": {},
   "source": [
    "### Exanmple 2"
   ]
  },
  {
   "cell_type": "code",
   "execution_count": 12,
   "id": "desirable-string",
   "metadata": {},
   "outputs": [],
   "source": [
    "# Set up tree\n",
    "tree = BinaryTree(1)\n",
    "tree.root.left = Node(2)\n",
    "tree.root.right = Node(3)\n",
    "tree.root.left.left = Node(4)\n",
    "tree.root.left.right = Node(5)"
   ]
  },
  {
   "cell_type": "code",
   "execution_count": 13,
   "id": "unique-italian",
   "metadata": {},
   "outputs": [
    {
     "name": "stdout",
     "output_type": "stream",
     "text": [
      "True\n"
     ]
    }
   ],
   "source": [
    "# Test search\n",
    "# Should be True\n",
    "print(tree.search(4))"
   ]
  },
  {
   "cell_type": "code",
   "execution_count": 14,
   "id": "regular-simulation",
   "metadata": {},
   "outputs": [
    {
     "name": "stdout",
     "output_type": "stream",
     "text": [
      "False\n"
     ]
    }
   ],
   "source": [
    "# Should be False\n",
    "print(tree.search(6))"
   ]
  },
  {
   "cell_type": "code",
   "execution_count": 15,
   "id": "optical-sussex",
   "metadata": {},
   "outputs": [
    {
     "name": "stdout",
     "output_type": "stream",
     "text": [
      "1-2-4-5-3\n"
     ]
    }
   ],
   "source": [
    "# Test print_tree\n",
    "# Should be 1-2-4-5-3\n",
    "print(tree.print_tree())"
   ]
  },
  {
   "cell_type": "markdown",
   "id": "initial-investor",
   "metadata": {},
   "source": [
    "## Recursive Solution"
   ]
  },
  {
   "cell_type": "code",
   "execution_count": null,
   "id": "powerful-franchise",
   "metadata": {},
   "outputs": [],
   "source": [
    "class BinaryTree(object):\n",
    "    def __init__(self, root):\n",
    "        self.root = Node(root)\n",
    "\n",
    "    def search(self, find_val):\n",
    "        return self.preorder_search(tree.root, find_val)\n",
    "\n",
    "    def print_tree(self):\n",
    "        return self.preorder_print(tree.root, \"\")[:-1]\n",
    "\n",
    "    def preorder_search(self, start, find_val):\n",
    "        if start:\n",
    "            if start.value == find_val:\n",
    "                return True\n",
    "            else:\n",
    "                return self.preorder_search(start.left, find_val) or self.preorder_search(start.right, find_val)\n",
    "        return False\n",
    "\n",
    "    def preorder_print(self, start, traversal):\n",
    "        if start:\n",
    "            traversal += (str(start.value) + \"-\")\n",
    "            traversal = self.preorder_print(start.left, traversal)\n",
    "            traversal = self.preorder_print(start.right, traversal)\n",
    "        return traversal"
   ]
  },
  {
   "cell_type": "code",
   "execution_count": null,
   "id": "departmental-hotel",
   "metadata": {},
   "outputs": [],
   "source": []
  }
 ],
 "metadata": {
  "kernelspec": {
   "display_name": "Python 3",
   "language": "python",
   "name": "python3"
  },
  "language_info": {
   "codemirror_mode": {
    "name": "ipython",
    "version": 3
   },
   "file_extension": ".py",
   "mimetype": "text/x-python",
   "name": "python",
   "nbconvert_exporter": "python",
   "pygments_lexer": "ipython3",
   "version": "3.8.5"
  }
 },
 "nbformat": 4,
 "nbformat_minor": 5
}
