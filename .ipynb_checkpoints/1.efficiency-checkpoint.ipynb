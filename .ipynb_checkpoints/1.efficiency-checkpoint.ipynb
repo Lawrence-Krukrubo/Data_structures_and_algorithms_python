{
 "cells": [
  {
   "cell_type": "markdown",
   "id": "protecting-serum",
   "metadata": {},
   "source": [
    "## Efficiency:\n",
    "\n",
    "AKA Complexity is how well I'm using my computer's resources to get a particular job done. It can be thought of in terms of space and time complexity. Efficiency can rely heavily on one's creativity and ability to get the most done with minimal resources. \n",
    "\n",
    "Writing really efficient codes can come off as a trade off between time efficiency and space efficiency. This involves comparing which is more important:- The time of the person using the code or the memory consumption limits while running the code. \n",
    "\n",
    "**Algorithm** Is just a series of steps in solving a problem."
   ]
  },
  {
   "cell_type": "markdown",
   "id": "worthy-ticket",
   "metadata": {},
   "source": [
    "## Notation Intro:\n",
    "\n",
    "We can describe efficiency of code with the `Big O(n) notation`. Some common notations are\n",
    "\n",
    "* $O(log(n))$\n",
    "* $O(n)$ \n",
    "* $O(n^3)$\n",
    "* $O(n^2)$\n",
    "* $O(1)$ which is basically same as $O(On+1)$ AKA constant time.\n",
    "* $O(\\sqrt n)$\n",
    "* $O(nlog(n)$\n",
    "* $O(mn)$\n",
    "\n",
    "Note that the $n$ simply represents the length of the input to the function."
   ]
  },
  {
   "cell_type": "markdown",
   "id": "wooden-nursing",
   "metadata": {},
   "source": [
    "## Approximation:\n",
    "\n",
    "Since the amount of steps can vary widely based on the specific implementations, we normally use approximations when talking about efficiency in `Big O notation`. By approximating, we're really saying...\n",
    "\n",
    "**Some number of calculations must be performed for each letter in the input...**\n",
    "\n",
    "## Worst Case:\n",
    "\n",
    "This is another consideration to check in `Big O(n) notation`. When discussing efficiency, we often talk of it in terms of the worst case scenario. For example if looking for a specific alphabet the worst case scenario is for the alphabet to be at position $z$ and in this case we search all 26 alphabets. \n",
    "\n",
    "We focus on worst case because it puts an upper bound to the amount of time our code will take.\n",
    "\n",
    "We can also talk about efficiency in terms of the average case and best case. so from the alphabet search example, the worst case remains 26... That is searching from $a$ to $z$. The best case is 1 if the alphabet gets shuffled and $z$ happens to be the first alphabet at position $a$. While on average the average case will be 13 after every shuffle, since there are 26 alphabets, sometimes it'll be a lil more, other times less, but on average 13.\n",
    "\n",
    "So whether best, average or worst case, the `Big O(n)` notation for this problem will simply be $O(n)$.\n",
    "\n",
    "Note that the interviwer needs to know on which efficiency (best, average or worst) we're approximating to.\n",
    "\n",
    "**Space Efficiency** also approximates in similar fashion, although asked less frequently in interviews."
   ]
  },
  {
   "cell_type": "markdown",
   "id": "shared-parcel",
   "metadata": {},
   "source": [
    "## Examples\n",
    "\n",
    "```\n",
    "\"\"\"input manatees: a list of \"manatees\", where one manatee is represented by a dictionary\n",
    "a single manatee has properties like \"name\", \"age\", et cetera\n",
    "n = the number of elements in \"manatees\"\n",
    "m = the number of properties per \"manatee\" (i.e. the number of keys in a manatee dictionary)\"\"\"\n",
    "```"
   ]
  },
  {
   "cell_type": "code",
   "execution_count": 3,
   "id": "ordered-vacation",
   "metadata": {},
   "outputs": [],
   "source": [
    "def example1(manatees):\n",
    "    for manatee in manatees:\n",
    "        print(manatee['name'])\n",
    "\n",
    "def example2(manatees):\n",
    "    print(manatees[0]['name'])\n",
    "    print(manatees[0]['age'])\n",
    "\n",
    "def example3(manatees):\n",
    "    for manatee in manatees:\n",
    "        for manatee_property in manatee:\n",
    "            print(manatee_property, \": \", manatee[manatee_property])\n",
    "\n",
    "def example4(manatees):\n",
    "    oldest_manatee = \"No manatees here!\"\n",
    "    for manatee1 in manatees:\n",
    "        for manatee2 in manatees:\n",
    "            if manatee1['age'] < manatee2['age']:\n",
    "                oldest_manatee = manatee2['name']\n",
    "            else:\n",
    "                oldest_manatee = manatee1['name']\n",
    "    print(oldest_manatee)"
   ]
  },
  {
   "cell_type": "markdown",
   "id": "union-section",
   "metadata": {},
   "source": [
    "### Answers\n",
    "\n",
    "* Example 1: $O(n)$\n",
    "* Example 2: $O(1)$\n",
    "* Example 3: $O(mn)$\n",
    "* Example 4: $O(n^2)$"
   ]
  },
  {
   "cell_type": "markdown",
   "id": "surface-torture",
   "metadata": {},
   "source": [
    "### Explanations\n",
    "\n",
    "* **Example 1**\n",
    "We iterate over every manatee in the manatees list with the for loop. Since we're given that manatees has n elements, our code will take approximately O(n) time to run.\n",
    "\n",
    "* **Example 2**\n",
    "We look at two specific properties of a specific manatee. We aren't iterating over anything - just doing constant-time lookups on lists and dictionaries. Thus the code will complete in constant, or O(1), time.\n",
    "\n",
    "* **Example 3**\n",
    "There are two for loops, and nested for loops are a good sign that you need to multiply two runtimes. Here, for every manatee, we check every property. If we had 4 manatees, each with 5 properties, then we would need 5+5+5+5 steps. This logic simplifies to the number of manatees times the number of properties, or O(nm).\n",
    "\n",
    "* **Example 4**\n",
    "Again we have nested for loops. This time we're iterating over the manatees list twice - every time we see a manatee, we compare it to every other manatee's age. We end up with O(nn), or O(n^2) (which is read as \"n squared\")."
   ]
  },
  {
   "cell_type": "code",
   "execution_count": null,
   "id": "conservative-focus",
   "metadata": {},
   "outputs": [],
   "source": []
  }
 ],
 "metadata": {
  "kernelspec": {
   "display_name": "Python 3",
   "language": "python",
   "name": "python3"
  },
  "language_info": {
   "codemirror_mode": {
    "name": "ipython",
    "version": 3
   },
   "file_extension": ".py",
   "mimetype": "text/x-python",
   "name": "python",
   "nbconvert_exporter": "python",
   "pygments_lexer": "ipython3",
   "version": "3.8.5"
  }
 },
 "nbformat": 4,
 "nbformat_minor": 5
}
