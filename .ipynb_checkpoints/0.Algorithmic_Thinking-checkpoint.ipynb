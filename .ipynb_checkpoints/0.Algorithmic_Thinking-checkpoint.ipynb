{
 "cells": [
  {
   "cell_type": "markdown",
   "metadata": {
    "id": "j_rpM_EXE59L"
   },
   "source": [
    "# <font color='red'>Intro to Big Oh Notation</font>"
   ]
  },
  {
   "cell_type": "markdown",
   "metadata": {
    "id": "-Tw0C_Kl67Iu"
   },
   "source": [
    "**BIG** **0**' **NOTATION:**\n",
    "\n",
    "<u>*Big O Notation*</u> is the language we use for talking about how long an algorithm takes to run. It's how we compare the different approaches to a problem.<br>\n",
    "With Big o Notation, we express the run-time in terms of how quickly it grows relative to the input. As the inputs get arbitrarily large.\n",
    "\n",
    "> **Let's break it down:**\n",
    "\n",
    "> <font color='blue'>***1. How quickly the runtime grows:***</font><br>\n",
    "It's hard to tell the exact runtime of an algorithm, it depends on the speed of the processor, what else the computer is running  etc. So instead of talking about the runtime directly, we use *Big O Notation* to talk about how quickly the runtime grows.\n",
    "\n",
    "\n",
    "> <font color='blue'>***2. Relative to the input:***</font><br>\n",
    "If we were measuring our runtime directly, we could express our speed in seconds. But since we're measuring how quickly our runtime grows, <br>***We need to express our speed in terms of the size of the input,*** which we call <b>$n$</b>. <br>So we can say things like the runtime grows <u>on the order of the size of The input</u> **$(O(n))$ .**  Or <u>on the order of the square of the size of the input</u> **$(O(n^2))$ .**\n",
    "\n",
    "\n",
    "> <font color='blue'>***3. as the input gets arbitrarily large:***</font><br>\n",
    "For _Big O Notation_, we care most about the stuff that grows fastest as the input $(n)$ grows. Because everything else is quickly eclipsed as $(n)$ gets very large.<br>\n",
    "<font color='brown'>**(If you know what an asymptote is, you might see why \"big O analysis\" is sometimes called \"asymptotic analysis.\")**</font><br>\n",
    "_Asymptotic analysis refers to computing the running time of any operation in mathematical units of computation. For example, the running time of one operation is computed as $f(n)$ and may be for another operation it is computed as $g(n^2)$. This means the first operation running time will increase linearly with the increase in n and the running time of the second operation will increase exponentially when n increases. Similarly, the running time of both operations will be nearly the same if n is significantly small._<br>\n",
    "\n",
    "Usually, the time required by an algorithm falls under three types −\n",
    "\n",
    "**Best Case** − Minimum time required for program execution.\n",
    "\n",
    "**Average Case** − Average time required for program execution.\n",
    "\n",
    "**Worst Case** − Maximum time required for program execution.\n",
    "\n",
    "\n",
    "\n"
   ]
  },
  {
   "cell_type": "markdown",
   "metadata": {
    "id": "pRd7P7OWQ4h0"
   },
   "source": [
    "# Some Examples"
   ]
  },
  {
   "cell_type": "markdown",
   "metadata": {
    "id": "BTGYlKmZRW5J"
   },
   "source": [
    "**This function below runs in $O(1)$ time (or \"constant time\") relative to its input**. <br>The input list could be 1 item or 1,000 items, but this function would still just require one \"step.\""
   ]
  },
  {
   "cell_type": "code",
   "execution_count": null,
   "metadata": {
    "colab": {
     "base_uri": "https://localhost:8080/",
     "height": 50
    },
    "id": "34sHllwOQ9De",
    "outputId": "668627cc-1544-4fa9-a26e-1b5ed18f955b"
   },
   "outputs": [
    {
     "name": "stdout",
     "output_type": "stream",
     "text": [
      "5\n",
      "None\n"
     ]
    }
   ],
   "source": [
    "  def print_first_item(items):\n",
    "    print(items[0])\n",
    "    \n",
    "# passing a list to the function\n",
    "lyst = [5, 6, 7, 8, 9, 10]\n",
    "\n",
    "print(print_first_item(lyst))"
   ]
  },
  {
   "cell_type": "markdown",
   "metadata": {
    "id": "jeBTzC9BST9s"
   },
   "source": [
    "**This function below runs in $O(n)$ time (or \"linear time\"), where $n$ is the number of items in the list**. <br>If the list has 10 items, we have to print 10 times. If it has 1,000 items, we have to print 1,000 times."
   ]
  },
  {
   "cell_type": "code",
   "execution_count": null,
   "metadata": {
    "colab": {
     "base_uri": "https://localhost:8080/",
     "height": 370
    },
    "id": "HsNqVUywSsHO",
    "outputId": "11a1c44c-8b97-4e27-bd42-9bbbe1892fbf"
   },
   "outputs": [
    {
     "name": "stdout",
     "output_type": "stream",
     "text": [
      "21\n",
      "3\n",
      "38\n",
      "45\n",
      "42\n",
      "30\n",
      "17\n",
      "28\n",
      "5\n",
      "29\n",
      "2\n",
      "36\n",
      "43\n",
      "26\n",
      "23\n",
      "31\n",
      "10\n",
      "33\n",
      "20\n",
      "18\n",
      "None\n"
     ]
    }
   ],
   "source": [
    "def print_all_items(items):\n",
    "    for item in items:\n",
    "        print(item)\n",
    "        \n",
    "# lets pass a list of 20 random numbers to the function\n",
    "import random\n",
    "\n",
    "rands = random.sample(range(50), k=20)\n",
    "\n",
    "print(print_all_items(rands))"
   ]
  },
  {
   "cell_type": "markdown",
   "metadata": {
    "id": "QrwPvHJAVAkm"
   },
   "source": [
    "Below, we're nesting two loops. If our list has $n$ items, our outer loop runs $n$ times and our inner loop runs $n$ times for each iteration of the outer loop, giving us $n^2$ total prints. **Thus this function runs in $O(n^2)$ time (or \"quadratic time\").** <br> If the list has 10 items, we have to print 100 times. If it has 1,000 items, we have to print 1,000,000 times."
   ]
  },
  {
   "cell_type": "code",
   "execution_count": null,
   "metadata": {
    "colab": {
     "base_uri": "https://localhost:8080/",
     "height": 1714
    },
    "id": "swRET9__WOSa",
    "outputId": "62a8d743-f5d6-4c22-bc02-45cbd026bc42"
   },
   "outputs": [
    {
     "name": "stdout",
     "output_type": "stream",
     "text": [
      "9 9\n",
      "9 6\n",
      "9 8\n",
      "9 7\n",
      "9 3\n",
      "9 1\n",
      "9 0\n",
      "9 4\n",
      "9 2\n",
      "9 5\n",
      "6 9\n",
      "6 6\n",
      "6 8\n",
      "6 7\n",
      "6 3\n",
      "6 1\n",
      "6 0\n",
      "6 4\n",
      "6 2\n",
      "6 5\n",
      "8 9\n",
      "8 6\n",
      "8 8\n",
      "8 7\n",
      "8 3\n",
      "8 1\n",
      "8 0\n",
      "8 4\n",
      "8 2\n",
      "8 5\n",
      "7 9\n",
      "7 6\n",
      "7 8\n",
      "7 7\n",
      "7 3\n",
      "7 1\n",
      "7 0\n",
      "7 4\n",
      "7 2\n",
      "7 5\n",
      "3 9\n",
      "3 6\n",
      "3 8\n",
      "3 7\n",
      "3 3\n",
      "3 1\n",
      "3 0\n",
      "3 4\n",
      "3 2\n",
      "3 5\n",
      "1 9\n",
      "1 6\n",
      "1 8\n",
      "1 7\n",
      "1 3\n",
      "1 1\n",
      "1 0\n",
      "1 4\n",
      "1 2\n",
      "1 5\n",
      "0 9\n",
      "0 6\n",
      "0 8\n",
      "0 7\n",
      "0 3\n",
      "0 1\n",
      "0 0\n",
      "0 4\n",
      "0 2\n",
      "0 5\n",
      "4 9\n",
      "4 6\n",
      "4 8\n",
      "4 7\n",
      "4 3\n",
      "4 1\n",
      "4 0\n",
      "4 4\n",
      "4 2\n",
      "4 5\n",
      "2 9\n",
      "2 6\n",
      "2 8\n",
      "2 7\n",
      "2 3\n",
      "2 1\n",
      "2 0\n",
      "2 4\n",
      "2 2\n",
      "2 5\n",
      "5 9\n",
      "5 6\n",
      "5 8\n",
      "5 7\n",
      "5 3\n",
      "5 1\n",
      "5 0\n",
      "5 4\n",
      "5 2\n",
      "5 5\n",
      "None\n"
     ]
    }
   ],
   "source": [
    "def print_all_possible_ordered_pairs(items):\n",
    "    for first_item in items:\n",
    "        for second_item in items:\n",
    "            print(first_item, second_item)\n",
    "            \n",
    "# lets pass a list of 10 numbers\n",
    "\n",
    "lyst = random.sample(range(10), 10)\n",
    "\n",
    "print(print_all_possible_ordered_pairs(lyst))"
   ]
  },
  {
   "cell_type": "markdown",
   "metadata": {
    "id": "Iw-AU0Ovx4wF"
   },
   "source": [
    "# <font color='red'>Data Structures for Coding Interviews</font>"
   ]
  },
  {
   "cell_type": "markdown",
   "metadata": {
    "id": "ztpAeksDytH3"
   },
   "source": [
    "<h3>Random Access Memory(RAM)</h3>\n",
    "\n",
    "Variables are stored in random access memory **(RAM)**. We sometimes call RAM **\"working memory\"** or just **\"memory.\"**<br>\n",
    "<font color='gray'>_RAM is not where mp3s and apps get stored. In addition to \"memory,\" your computer has storage (sometimes called \"persistent storage\" or \"disc\"). While memory is where we keep the variables our functions allocate as they crunch data for us, storage is where we keep files like mp3s, videos, Word documents, and even executable programs or apps.\n",
    "<br>\n",
    "Memory (or RAM) is faster but has less space, while storage (or \"disc\") is slower but has more space. A modern laptop might have ~500GB of storage but only ~16GB of RAM._</font><br>\n",
    "Think of RAM like a really tall bookcase with a lot of shelves. Like, billions of shelves. The shelves are numbered.\n",
    "We call a shelf's number its address. Each shelf holds 8 bits. A bit is a tiny electrical switch that can be turned \"on\" or \"off.\" But instead of calling it \"on\" or \"off\" we call it 1 or 0.<br>\n",
    "8 bits is called a byte. So each shelf has one byte (8 bits) of storage. Of course, we also have a **processor** that does all the real work inside our computer:<br>\n",
    "It's connected to a **memory controller**. The memory controller does the actual reading and writing to and from RAM. It has a direct connection to each shelf of RAM.\n",
    "That direct connection is important. It means we can access address 0 and then immediately access address 918,873 without having to \"climb down\" our massive bookshelf of RAM.\n",
    "\n",
    "That's why we call it Random Access Memory **(RAM)**—we can Access the bits at any Random address in Memory right away.<br>\n",
    "<br>\n",
    "<font color='gray'>_Spinning hard drives don't have this \"random access\" superpower, because there's no direct connection to each byte on the disc. Instead, there's a reader—called a head—that moves along the surface of a spinning storage disc (like the needle on a record player). Reading bytes that are far apart takes longer because you have to wait for the head to physically move along the disc._</font>\n",
    "\n"
   ]
  },
  {
   "cell_type": "markdown",
   "metadata": {
    "id": "h-4jOFUW29o5"
   },
   "source": [
    "<h3>Binary Numbers</h3>\n"
   ]
  },
  {
   "cell_type": "markdown",
   "metadata": {
    "id": "yg5JqZjmreCv"
   },
   "source": [
    "The number system we usually use (the one you probably learned in elementary school) is called base 10, because each digit has ten possible values (1, 2, 3, 4, 5, 6, 7, 8, 9, and 0).\n",
    "\n",
    "But computers don't have digits with ten possible values. They have bits with two possible values. So they use base 2 numbers.\n",
    "\n",
    "Base 10 is also called decimal. Base 2 is also called binary.\n",
    "\n",
    "To understand binary, let's take a closer look at how decimal numbers work. Take the number \"101\" in decimal:<br>\n",
    "<img src='https://www.interviewcake.com/images/svgs/cs_for_hackers__binary_numbers_base_10_101.svg?bust=202'><br>\n",
    "Notice we have two \"1\"s here, but they don't mean the same thing. The leftmost \"1\" means 100, and the rightmost \"1\" means 1. That's because the leftmost \"1\" is in the hundreds place, while the rightmost \"1\" is in the ones place. And the \"0\" between them is in the tens place.<br>\n",
    "<img src='https://www.interviewcake.com/images/svgs/cs_for_hackers__binary_numbers_base_10_digits.svg?bust=202'><br>\n",
    "**So this \"101\" in base 10 is telling us we have \"1 hundred, 0 tens, and 1 one.\"**<br>\n",
    "<img src='https://www.interviewcake.com/images/svgs/cs_for_hackers__binary_numbers_base_10.svg?bust=202'><br>\n"
   ]
  },
  {
   "cell_type": "markdown",
   "metadata": {
    "id": "mECvrNEIs8vs"
   },
   "source": [
    "### Fixed Width Integers"
   ]
  },
  {
   "cell_type": "markdown",
   "metadata": {
    "id": "f49KiRh5tNFB"
   },
   "source": [
    "How many different numbers can we express with 1 byte (8 bits)?\n",
    "\n",
    "$2^8=256$ different numbers. How did we know to take $2^8$ ?"
   ]
  },
  {
   "cell_type": "markdown",
   "metadata": {
    "id": "2FLf6GJFvFex"
   },
   "source": [
    "Let's start simpler: how many integers can we express with 1 bit? Just 2:<br>\n",
    "<img src='https://www.interviewcake.com/images/svgs/cs_for_hackers__multibyte_integers_1_tier_tree.svg?bust=202'><br>\n",
    "\n",
    "How many can we express with 2 bits? Well for each possibility for the first bit, we can put a 0 after it or we can put a 1 after it:<br>\n",
    "<img src='https://www.interviewcake.com/images/svgs/cs_for_hackers__multibyte_integers_2_tier_tree.svg?bust=202'><br>\n",
    "**So by adding a second bit, we have twice as many possibilities as with just 1 bit**. 2 * 2 = 4 possibilities in total.<br>\n",
    "\n",
    "Same idea with 3 bits—for each of the 4 possibilities with 2 bits, we can put a 0 after or we can put a 1 after. <br>That gives us twice as many possibilities as with 2 bits, which is twice as many as with 1 bit, so 2 * 2 * 2 = 8:<br>\n",
    "<img src='https://www.interviewcake.com/images/svgs/cs_for_hackers__multibyte_integers_3_tier_tree.svg?bust=202'><br>\n",
    "Do you see the pattern? **In general, with $n$ bits, we can express $2^n$** different possible numbers!<br>\n",
    "\n",
    "So with 8 bits, that's $2^8=256$ different numbers."
   ]
  },
  {
   "cell_type": "code",
   "execution_count": null,
   "metadata": {
    "id": "r_tKzeu-s8To"
   },
   "outputs": [],
   "source": [
    "# continue on strings"
   ]
  },
  {
   "cell_type": "code",
   "execution_count": null,
   "metadata": {
    "id": "gW9KaRjxXS9b"
   },
   "outputs": [],
   "source": [
    ""
   ]
  }
 ],
 "metadata": {
  "accelerator": "GPU",
  "colab": {
   "collapsed_sections": [],
   "name": "Algorithmic_Thinking.ipynb",
   "provenance": []
  },
  "kernelspec": {
   "display_name": "Python 3",
   "name": "python3"
  }
 },
 "nbformat": 4,
 "nbformat_minor": 0
}
