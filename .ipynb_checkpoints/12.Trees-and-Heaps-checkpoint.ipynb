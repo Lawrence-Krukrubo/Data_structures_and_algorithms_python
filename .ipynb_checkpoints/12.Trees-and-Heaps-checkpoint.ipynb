{
 "cells": [
  {
   "cell_type": "markdown",
   "metadata": {},
   "source": [
    "## Trees:\n",
    "\n",
    "Trees are data structures that well, look like trees! a tree starts from a place called a root and you add data to it called branches.\n",
    "* Trees have `branches` and `leaves`\n",
    "* A collection of trees is called a `forest`\n",
    "* Trees have a lot of properties that make them useful. However a Tree is just an extension of a `Linked-List`\n",
    "* A Tree is similar, as the first element is called a `root`, while the first element in Linked-List is called the `Head`.\n",
    "* Then instead of having just one next element, a tree can have several.\n",
    "* A Linked-List is often drawn horizontally with rectangles representing `elements`, while a Tree is often drawn vertically with circles as `nodes`.\n",
    "\n",
    "### Tree Constraints:\n",
    "* A Tree must be fully connected. That means if we're starting from the root, there must be a way to reach every node in the Tree.\n",
    "* Next, there must not be any **cycles** in the Tree. A cycle occurs when there's a way for you to encounter the same node twice."
   ]
  },
  {
   "cell_type": "markdown",
   "metadata": {},
   "source": [
    "### Tree Terminologies\n",
    "\n",
    "* A tree can be described in levels. Or how many connections it takes to reach the root plus one. This means the root is level 1 and nodes directly connected to the root are in level 2 and their children in level 3 and so on.\n",
    "\n",
    "\n",
    "* Nodes in a Tree have a Parent-Child relationship. A node in the middle can be both a Parent and a Child, it depends on what it's been compared to.\n",
    "\n",
    "\n",
    "* In Trees children nodes are only allowed to have one parent. If a Parent has multiple children they are considered siblings of each other\n",
    "\n",
    "\n",
    "* Ancestry of nodes in Trees is really intuitive. A node at a lower level can be called an Ancestor of a node at a higher level, which is it's descendant.\n",
    "\n",
    "\n",
    "* The nodes at the edge that don't have any descendants are called **leaves or external nodes**. Conversely a Parent-node is called an **internal node**.\n",
    "\n",
    "\n",
    "* We can call connections between nodes **edges** and a group of connections taken together as a **path**.\n",
    "\n",
    "\n",
    "* The `height` of a node is the number of edges between it and the farthest leaf on the tree.\n",
    "\n",
    "\n",
    "* A leaf has a height of zero, and the parent of a leaf has a height of one.\n",
    "\n",
    "\n",
    "* The height of a tree overall is just the height of the root node.\n",
    "\n",
    "\n",
    "* On the flip-side, the depth of a node is the number of edges to the root. Height and depth should move inversely.\n",
    "\n",
    "\n",
    "* Thus, if a node is closer to a leaf, then it's further from the root..."
   ]
  },
  {
   "cell_type": "markdown",
   "metadata": {},
   "source": [
    "# Heaps:\n",
    "\n",
    " A Heap is another specific type of tree, with it's own additional rules. In a heap, elements are arranged in increasing or decreasing order, such that the root element is either the maximum or minimum value in the tree.\n",
    "\n",
    "* There are 2 different types of Heaps: Max-Heaps and Min-Heaps that capture these two situations.\n",
    "* In a Max-Heap, a parent must always have a greater value than it's child. The root ends up being the biggest element.\n",
    "* The opposite is True of Min-Heaps, where the root is the minimum element.\n",
    "* Heaps don't need to be binary-trees, so parents can have any number of children\n",
    "* Operations like search, insert or delete can vary a lot based on the type of Heap.\n",
    "\n",
    "### Max Binary-Heap:\n",
    "Here, we keep the max of two children rule and the root will be the maximum element. \n",
    "* In addition, a Binary-Heap must be a complete Tree... Meaning, all levels except the last one are completely full. \n",
    "\n",
    "\n",
    "* If the last level isn't completely full, values are added from left to right.\n",
    "\n",
    "\n",
    "* The right-most leaf will be empty until the whole row is filled.\n",
    "\n",
    "\n",
    "* In this Heap, a function that gets the maximum value (AKA `peek()`) happens in constant time $O(1)$.\n",
    "\n",
    "\n",
    "* Searching becomes a linear operation $O(n)$. We may also use the maxi properties to our advantage in a search. for example, we can quit our search immediately if the element we're seeking is bigger than the root.\n",
    "\n",
    "\n",
    "* In general, if our node-value is smaller than the value we seek, we don't need to search anything in it's sub-tree since we know it's the biggest.\n",
    "\n",
    "\n",
    "* The worst case remains $O(n)$. But in the average case we may search $O(n/2)$, which is still approximated to $O(n)$. "
   ]
  },
  {
   "cell_type": "markdown",
   "metadata": {},
   "source": [
    "### Heapify\n",
    "\n",
    "Let's try inserting an element in a Heap.\n",
    "\n",
    "* The best option is to simply insert the new value into the next available space and then `heapify`.\n",
    "* **Heapify** is the operation in which we re-order the tree based on the heap-property. Since we care that our parent element is bigger than its child, we just need to keep comparing the new element with its parent and swapping them when the child is bigger.\n",
    "* **Extract:** In an extract operation where the root is removed from the tree, we stick the right-most leaf in the root's spot and then just compare it to its children and swap where necessary.\n",
    "* The runtime of insert and delete and more general case of extract, end up as $O(log(n))$(tree height) in the worst case. Ultimately the worst case would involve moving an element up or down the tree. and would roughly be many operations as the height of the tree($O(log(n))$)."
   ]
  },
  {
   "cell_type": "markdown",
   "metadata": {},
   "source": [
    "### Heap Implementation:\n",
    "\n",
    "Though Heaps are represented as Trees, they are actually often stored as Arrays.\n",
    "\n",
    "* Since we know how many children each parent has(2 for Binary Heap) and how many nodes at each level, we can use a lil math to know where the next node should fall in the Array and then traverse the Heap.\n",
    "\n",
    "\n",
    "* **Note:** Not every Array can be represented as a Heap.\n",
    "\n",
    "* Thus, we sort the array and convert the sorted Array into a Tree. Then we convert the sorted Array into a Heap.\n",
    "* In general, the values need to be in an order that will make sense in a Heap. \n",
    "* Storing our data in an array can save us some space\n",
    "\n",
    "### Self-Balancing Tree:\n",
    "\n",
    "* A Self-Balancing Tree is one that tries to minimize the number of levels that it uses. \n",
    "* It does some algorithm during insertion and deletion to keep itself balanced and the nodes themselves might have some additional properties.\n",
    "* The most Common example is a Red-Black Tree\n",
    "\n",
    "\n",
    "#### **Implementing a Simple Balanced Binary Heap**\n",
    "\n",
    "We shall implement a Binary-Heap with the options of `max` or `min` styled heap.<br>Thus, passing the argument `order='max'` or `order='min'`\n",
    "\n",
    "This Binary-Tree shall be balanced, meaning each parent can only have two children or zero children, not one. "
   ]
  },
  {
   "cell_type": "code",
   "execution_count": 1,
   "metadata": {},
   "outputs": [],
   "source": [
    "class Node(object):\n",
    "    def __init__(self, value):\n",
    "        self.value = value\n",
    "        self.left = None\n",
    "        self.right = None"
   ]
  },
  {
   "cell_type": "code",
   "execution_count": 2,
   "metadata": {},
   "outputs": [],
   "source": [
    "two = Node(2)\n",
    "one = Node(1)\n",
    "four = Node(4)\n",
    "three = Node(3)\n",
    "seven = Node(7)\n",
    "five = Node(5)\n",
    "six = Node(6)\n",
    "nine = Node(9)\n",
    "eight = Node(8)\n",
    "ten = Node(10)\n",
    "eleven = Node(11)\n",
    "twelve = Node(12)\n",
    "thirteen = Node(13)"
   ]
  },
  {
   "cell_type": "code",
   "execution_count": 3,
   "metadata": {},
   "outputs": [],
   "source": [
    "nodes = [one, two, three, four, five, six, seven, eight, nine, ten, eleven, twelve, thirteen]"
   ]
  },
  {
   "cell_type": "code",
   "execution_count": 8,
   "metadata": {},
   "outputs": [],
   "source": [
    "from collections import deque\n",
    "\n",
    "class Binary_Heap(object):\n",
    "    def __init__(self, node_list, order):\n",
    "        self.node_list = node_list\n",
    "        self.root =  None\n",
    "        \n",
    "        # Assert Tree Must Be Balanced...\n",
    "        if len(self.node_list) % 2 == 0:\n",
    "            raise AssertionError ('ERROR: Binary-Heap-Tree Must be Balanced')\n",
    "            \n",
    "        self.order = order\n",
    "        self.sort_nodes()\n",
    "        \n",
    "    def sort_nodes(self):\n",
    "        \"\"\"A function to sort the Nodes in a heap array by asc or Desc.\n",
    "        \"\"\"\n",
    "        val_list = [i.value for i in self.node_list]\n",
    "        \n",
    "        if self.order == 'max':\n",
    "            val_list = sorted(val_list, reverse=True)\n",
    "        else:\n",
    "            val_list = sorted(val_list)\n",
    "            \n",
    "        sorted_heaps = []\n",
    "        \n",
    "        for val in val_list:\n",
    "            for node in self.node_list:\n",
    "                if node.value == val:\n",
    "                    sorted_heaps.append(node)\n",
    "                    \n",
    "        self.node_list = sorted_heaps\n",
    "        self.root = self.node_list[0]\n",
    "        del val_list\n",
    "        \n",
    "    def print_values(self):\n",
    "        \"\"\"Function to print all\n",
    "            Values in a given Heap.\n",
    "        \"\"\"\n",
    "        for i in range(len(self.node_list)):\n",
    "            print(self.node_list[i].value)\n",
    "        \n",
    "    \n",
    "    def add_nodes(self, new_nodes):\n",
    "        \"\"\"Method to add new nodes to the Heap.\n",
    "        \n",
    "        Since it's a balanced binary heap, new nodes\n",
    "        musy be added in multiples of 2.\n",
    "        \n",
    "        @param new_nodes: A list of new Node objects\n",
    "        \"\"\"\n",
    "        try:\n",
    "            assert type(new_nodes) is list\n",
    "            for node in new_nodes:\n",
    "                assert type(node) is Node\n",
    "            assert len(new_nodes) % 2 == 0\n",
    "        except AssertionError:\n",
    "            return 'new-nodes MUST be a list of Node objects with an even length'\n",
    "        \n",
    "        # Extend node-list by new-nodes\n",
    "        self.node_list.extend(new_nodes)\n",
    "        \n",
    "        # Sort the extended node-list by order\n",
    "        self.sort_nodes()\n",
    "        \n",
    "        \n",
    "    def build_tree(self):\n",
    "        # First ensure no previous tree exists\n",
    "        for node in self.node_list:\n",
    "            node.left, node.right = None, None\n",
    "        \n",
    "        # Now assign left and right nodes for root node\n",
    "        deq = deque(self.node_list[1:])\n",
    "        self.root.left = deq.popleft()\n",
    "        self.root.right = deq.popleft()\n",
    "        \n",
    "        arr = [self.root.left, self.root.right]\n",
    "        \n",
    "        # Finally assign, left and right nodes to other nodes\n",
    "        while deq:\n",
    "            arr[0].left, arr[0].right = deq.popleft(), deq.popleft()\n",
    "            arr.extend([arr[0].left, arr[0].right])\n",
    "            arr.pop(0)\n",
    "    \n",
    "    \n",
    "    def print_tree(self, start=None, traversal='pre-order'):\n",
    "        if not start:\n",
    "            start = self.root\n",
    "        temp_list = [start.value, start.left, start.right]\n",
    "        summary = ''\n",
    "        \n",
    "        if traversal == 'pre-order':\n",
    "            while temp_list:\n",
    "                i = temp_list[0]\n",
    "                if isinstance(i, Node):\n",
    "                    temp_list = temp_list[:1]+[i.value, i.left, i.right]+temp_list[1:]\n",
    "                elif i is not None:\n",
    "                    summary+=str(i)+'-'\n",
    "                temp_list.pop(0)\n",
    "                \n",
    "            return summary[:-1] \n",
    "\n",
    "        return 'Unknown Traversal: use pre-order'\n",
    "    \n",
    "    def peek(self):\n",
    "        \"\"\"Print out the value and details of\n",
    "            the root node\n",
    "        \"\"\"\n",
    "        if self.root.left:\n",
    "            summary = f'Root value: {self.root.value}\\\n",
    "            \\nRoot Left value: {self.root.left.value}\\\n",
    "            \\nRoot Right value: {self.root.right.value}'\n",
    "        else:\n",
    "            summary = f'Root value: {self.root.value}'\n",
    "        \n",
    "        return summary"
   ]
  },
  {
   "cell_type": "markdown",
   "metadata": {},
   "source": [
    "**Implementing a max-heap**..."
   ]
  },
  {
   "cell_type": "code",
   "execution_count": 9,
   "metadata": {},
   "outputs": [],
   "source": [
    "max_heap = Binary_Heap(nodes, order='max')"
   ]
  },
  {
   "cell_type": "code",
   "execution_count": 10,
   "metadata": {},
   "outputs": [
    {
     "name": "stdout",
     "output_type": "stream",
     "text": [
      "13\n",
      "12\n",
      "11\n",
      "10\n",
      "9\n",
      "8\n",
      "7\n",
      "6\n",
      "5\n",
      "4\n",
      "3\n",
      "2\n",
      "1\n"
     ]
    }
   ],
   "source": [
    "# Print the values in max_Heap\n",
    "max_heap.print_values()"
   ]
  },
  {
   "cell_type": "code",
   "execution_count": 11,
   "metadata": {},
   "outputs": [
    {
     "name": "stdout",
     "output_type": "stream",
     "text": [
      "Root value: 13\n"
     ]
    }
   ],
   "source": [
    "# Print the root value of max-heap, should be 13\n",
    "print(max_heap.peek())"
   ]
  },
  {
   "cell_type": "code",
   "execution_count": 12,
   "metadata": {},
   "outputs": [],
   "source": [
    "# Build tree\n",
    "max_heap.build_tree()"
   ]
  },
  {
   "cell_type": "code",
   "execution_count": 13,
   "metadata": {},
   "outputs": [
    {
     "data": {
      "text/plain": [
       "'13-12-10-6-5-9-4-3-11-8-2-1-7'"
      ]
     },
     "execution_count": 13,
     "metadata": {},
     "output_type": "execute_result"
    }
   ],
   "source": [
    "# Print tree in pre-order DFS\n",
    "max_heap.print_tree()"
   ]
  },
  {
   "cell_type": "code",
   "execution_count": 14,
   "metadata": {},
   "outputs": [
    {
     "data": {
      "text/plain": [
       "'12-10-6-5-9-4-3'"
      ]
     },
     "execution_count": 14,
     "metadata": {},
     "output_type": "execute_result"
    }
   ],
   "source": [
    "# Print tree in pre-order DFS from a specified node\n",
    "max_heap.print_tree(twelve)"
   ]
  },
  {
   "cell_type": "code",
   "execution_count": 15,
   "metadata": {},
   "outputs": [],
   "source": [
    "# add more nodes. in orders of 2's\n",
    "\n",
    "more_nodes = [Node(14), Node(15), Node(16), Node(17)]\n",
    "\n",
    "max_heap.add_nodes(more_nodes)"
   ]
  },
  {
   "cell_type": "code",
   "execution_count": 16,
   "metadata": {},
   "outputs": [
    {
     "name": "stdout",
     "output_type": "stream",
     "text": [
      "17\n",
      "16\n",
      "15\n",
      "14\n",
      "13\n",
      "12\n",
      "11\n",
      "10\n",
      "9\n",
      "8\n",
      "7\n",
      "6\n",
      "5\n",
      "4\n",
      "3\n",
      "2\n",
      "1\n"
     ]
    }
   ],
   "source": [
    "# Print the values in Binary_Heap\n",
    "max_heap.print_values()"
   ]
  },
  {
   "cell_type": "code",
   "execution_count": 17,
   "metadata": {},
   "outputs": [
    {
     "name": "stdout",
     "output_type": "stream",
     "text": [
      "Root value: 17\n"
     ]
    }
   ],
   "source": [
    "# Print the new root value of max-heap, should be 17\n",
    "print(max_heap.peek())"
   ]
  },
  {
   "cell_type": "code",
   "execution_count": 18,
   "metadata": {},
   "outputs": [],
   "source": [
    "# Build tree\n",
    "max_heap.build_tree()"
   ]
  },
  {
   "cell_type": "code",
   "execution_count": 19,
   "metadata": {},
   "outputs": [
    {
     "data": {
      "text/plain": [
       "'17-16-14-10-2-1-9-13-8-7-15-12-6-5-11-4-3'"
      ]
     },
     "execution_count": 19,
     "metadata": {},
     "output_type": "execute_result"
    }
   ],
   "source": [
    "# Print tree in pre-order DFS\n",
    "max_heap.print_tree()"
   ]
  },
  {
   "cell_type": "code",
   "execution_count": 20,
   "metadata": {},
   "outputs": [
    {
     "name": "stdout",
     "output_type": "stream",
     "text": [
      "Root value: 17            \n",
      "Root Left value: 16            \n",
      "Root Right value: 15\n"
     ]
    }
   ],
   "source": [
    "# Print the new root value of max-heap, should still be 17\n",
    "print(max_heap.peek())"
   ]
  },
  {
   "cell_type": "markdown",
   "metadata": {},
   "source": [
    "**Let's try a Min-heap**..."
   ]
  },
  {
   "cell_type": "code",
   "execution_count": 21,
   "metadata": {},
   "outputs": [],
   "source": [
    "min_heap = Binary_Heap(nodes, order='min')"
   ]
  },
  {
   "cell_type": "code",
   "execution_count": 22,
   "metadata": {},
   "outputs": [
    {
     "name": "stdout",
     "output_type": "stream",
     "text": [
      "1\n",
      "2\n",
      "3\n",
      "4\n",
      "5\n",
      "6\n",
      "7\n",
      "8\n",
      "9\n",
      "10\n",
      "11\n",
      "12\n",
      "13\n"
     ]
    }
   ],
   "source": [
    "# Print the values in min_Heap\n",
    "min_heap.print_values()"
   ]
  },
  {
   "cell_type": "code",
   "execution_count": 23,
   "metadata": {},
   "outputs": [
    {
     "name": "stdout",
     "output_type": "stream",
     "text": [
      "Root value: 1\n"
     ]
    }
   ],
   "source": [
    "# Print the root value in min_Heap, should be 1\n",
    "print(min_heap.peek())"
   ]
  },
  {
   "cell_type": "code",
   "execution_count": 24,
   "metadata": {},
   "outputs": [],
   "source": [
    "# Build tree\n",
    "min_heap.build_tree()"
   ]
  },
  {
   "cell_type": "code",
   "execution_count": 25,
   "metadata": {},
   "outputs": [
    {
     "data": {
      "text/plain": [
       "'1-2-4-8-9-5-10-11-3-6-12-13-7'"
      ]
     },
     "execution_count": 25,
     "metadata": {},
     "output_type": "execute_result"
    }
   ],
   "source": [
    "# Print tree in pre-order DFS\n",
    "min_heap.print_tree()"
   ]
  },
  {
   "cell_type": "code",
   "execution_count": 26,
   "metadata": {},
   "outputs": [],
   "source": [
    "# add more nodes. in orders of 2's\n",
    "min_heap.add_nodes(more_nodes)"
   ]
  },
  {
   "cell_type": "code",
   "execution_count": 27,
   "metadata": {},
   "outputs": [
    {
     "name": "stdout",
     "output_type": "stream",
     "text": [
      "1\n",
      "2\n",
      "3\n",
      "4\n",
      "5\n",
      "6\n",
      "7\n",
      "8\n",
      "9\n",
      "10\n",
      "11\n",
      "12\n",
      "13\n",
      "14\n",
      "15\n",
      "16\n",
      "17\n"
     ]
    }
   ],
   "source": [
    "# Print the values in Binary_Heap\n",
    "min_heap.print_values()"
   ]
  },
  {
   "cell_type": "code",
   "execution_count": 28,
   "metadata": {},
   "outputs": [
    {
     "name": "stdout",
     "output_type": "stream",
     "text": [
      "Root value: 1            \n",
      "Root Left value: 2            \n",
      "Root Right value: 3\n"
     ]
    }
   ],
   "source": [
    "# Print the root value of min-heap, should still be 1\n",
    "print(min_heap.peek())"
   ]
  },
  {
   "cell_type": "code",
   "execution_count": 29,
   "metadata": {},
   "outputs": [],
   "source": [
    "# Build tree\n",
    "min_heap.build_tree()"
   ]
  },
  {
   "cell_type": "code",
   "execution_count": 30,
   "metadata": {},
   "outputs": [
    {
     "data": {
      "text/plain": [
       "'1-2-4-8-16-17-9-5-10-11-3-6-12-13-7-14-15'"
      ]
     },
     "execution_count": 30,
     "metadata": {},
     "output_type": "execute_result"
    }
   ],
   "source": [
    "# Print tree in pre-order DFS\n",
    "min_heap.print_tree()"
   ]
  },
  {
   "cell_type": "code",
   "execution_count": null,
   "metadata": {},
   "outputs": [],
   "source": []
  }
 ],
 "metadata": {
  "kernelspec": {
   "display_name": "Python 3",
   "language": "python",
   "name": "python3"
  },
  "language_info": {
   "codemirror_mode": {
    "name": "ipython",
    "version": 3
   },
   "file_extension": ".py",
   "mimetype": "text/x-python",
   "name": "python",
   "nbconvert_exporter": "python",
   "pygments_lexer": "ipython3",
   "version": "3.7.5"
  }
 },
 "nbformat": 4,
 "nbformat_minor": 5
}
