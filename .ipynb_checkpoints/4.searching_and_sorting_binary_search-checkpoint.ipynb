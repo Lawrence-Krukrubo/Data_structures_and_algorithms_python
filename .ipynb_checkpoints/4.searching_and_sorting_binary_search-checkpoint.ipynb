{
 "cells": [
  {
   "cell_type": "markdown",
   "id": "applicable-secondary",
   "metadata": {},
   "source": [
    "## Binary Search:\n",
    "\n",
    "For Binary-Search, each time we search, we search half the size of the array. This means the number of iterations we do increases by one, each time the size of the array doubles. For example, if we have 1 element, the worst case iteration is 1, if we have 2 elements the worst case iteration is 1+1=2, if we have 4 elements the worst case iteration is 2+1=3, if we have 8 elements the worst case iteration is 3+1=4 iterations... and so on. \n",
    "\n",
    "* Therefore, at each point the number of exponent of 2 is 1 less than the number of worst-case iterations\n",
    "* For example while exponent is 1,  $2^1 = 2$, and worst-case of 2 elements requires 1+1 iterations.\n",
    "* For example while exponent is 2,  $2^2 = 4$, and worst-case of 4 elements requires 2+1 iterations.\n",
    "* For example while exponent is 3,  $2^3 = 8$, and worst-case of 8 elements requires 3+1 iterations.\n",
    "* In other words, we require $2^n-1$ exponent where $n = $ number-of-iterations to do Binary-Search. \n",
    "* This relationship can be expressed in logarithm as exponents are inverse of logarithms.\n",
    "* For example $2^1 = 2$ can be written in logarithm as $log_22=1$, while $2^3 = 8$ can be written as $log_28=3$\n",
    "* Therefore Binary-Search has a Time-Complexity of $O(log_2n)$, which by default is $O(logn)$\n",
    "\n",
    "### Constraints:\n",
    "* For Binary-Search elements need to be sorted in increasing order\n",
    "\n",
    "#### Exercise:\n",
    "```\n",
    "\"\"\"You're going to write a binary search function.\n",
    "You should use an iterative approach - meaning\n",
    "using loops.\n",
    "Your function should take two inputs:\n",
    "a Python list to search through, and the value\n",
    "you're searching for.\n",
    "Assume the list only has distinct elements,\n",
    "meaning there are no repeated values, and \n",
    "elements are in a strictly increasing order.\n",
    "Return the index of value, or -1 if the value\n",
    "doesn't exist in the list.\"\"\"\n",
    "```"
   ]
  },
  {
   "cell_type": "code",
   "execution_count": 1,
   "id": "editorial-collector",
   "metadata": {},
   "outputs": [],
   "source": [
    "def binary_search(arr, val):\n",
    "    \"\"\"Function to find items via binary-search\n",
    "    @param arr: An iterable\n",
    "    @param val: The value to search for in arr\n",
    "    @return: The index of val in arr or -1 if val not in arr\n",
    "    \"\"\"     \n",
    "    try:\n",
    "        if not arr:\n",
    "            raise ValueError\n",
    "        assert arr == sorted(arr)\n",
    "    except ValueError:\n",
    "        return 'Array Cannot be Empty'\n",
    "    except AssertionError:\n",
    "        arr.sort()\n",
    "    \n",
    "    new_arr = arr[:]\n",
    "    while True:\n",
    "        if len(new_arr) % 2 == 0:\n",
    "            mid = (len(new_arr)//2)-1\n",
    "        else:\n",
    "            mid = len(new_arr)//2\n",
    "        \n",
    "        isLower = val < new_arr[mid]\n",
    "        isHigher = val > new_arr[mid]\n",
    "        \n",
    "        if isLower and len(new_arr)>1:\n",
    "            new_arr = new_arr[:mid]\n",
    "        elif isHigher and len(new_arr) >1:\n",
    "            new_arr = new_arr[mid+1:]\n",
    "        else:\n",
    "            if val == new_arr[mid]:\n",
    "                return arr.index(val)\n",
    "            else:\n",
    "                return -1 "
   ]
  },
  {
   "cell_type": "code",
   "execution_count": 2,
   "id": "controversial-double",
   "metadata": {},
   "outputs": [
    {
     "name": "stdout",
     "output_type": "stream",
     "text": [
      "-1\n",
      "4\n"
     ]
    }
   ],
   "source": [
    "test_list = [1,3,9,11,15,19,29]\n",
    "test_val1 = 25\n",
    "test_val2 = 15\n",
    "print(binary_search(test_list, test_val1))\n",
    "print(binary_search(test_list, test_val2))"
   ]
  }
 ],
 "metadata": {
  "kernelspec": {
   "display_name": "Python 3",
   "language": "python",
   "name": "python3"
  },
  "language_info": {
   "codemirror_mode": {
    "name": "ipython",
    "version": 3
   },
   "file_extension": ".py",
   "mimetype": "text/x-python",
   "name": "python",
   "nbconvert_exporter": "python",
   "pygments_lexer": "ipython3",
   "version": "3.8.5"
  }
 },
 "nbformat": 4,
 "nbformat_minor": 5
}
