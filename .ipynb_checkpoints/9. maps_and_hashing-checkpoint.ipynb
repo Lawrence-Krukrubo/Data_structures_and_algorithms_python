{
 "cells": [
  {
   "cell_type": "markdown",
   "id": "elder-picture",
   "metadata": {},
   "source": [
    "### [PYTHON-DATA-STRUCTURES](https://docs.python.org/3/tutorial/datastructures.html)"
   ]
  },
  {
   "cell_type": "markdown",
   "id": "expressed-cancer",
   "metadata": {},
   "source": [
    "## Maps:\n",
    "\n",
    "The defining characteristic of a map is it's Key-Value structure. You can look-up a key in order to get what's stored as it's value. Maps are also called dictionaries for a similar reason.\n",
    "* A `map` is a set-based data structure kind of like an `array` is a list-based data structure.\n",
    "* $map = <key: value>$... A group of `keys` is a `set`. Thus, each key only exists once in a map.\n",
    "\n",
    "**So what are maps used for other than dictionaries?**\n",
    "<br>We can use a map for a lot of things that have unique names. We can store a bunch of data as values for each unique name or item we care about, using maps. In Python, the map concept appears as a built-in data type called a dictionary. A dictionary contains key-value pairs.\n",
    "\n",
    "**Exercise:**\n",
    "```\n",
    "\"\"\"Time to play with Python dictionaries!\n",
    "You're going to work on a dictionary that\n",
    "stores cities by country and continent.\n",
    "One is done for you - the city of Mountain \n",
    "View is in the USA, which is in North America.\n",
    "\n",
    "You need to add the cities listed below by\n",
    "modifying the structure.\n",
    "Then, you should print out the values specified\n",
    "by looking them up in the structure.\n",
    "\n",
    "Cities to add:\n",
    "Bangalore (India, Asia)\n",
    "Atlanta (USA, North America)\n",
    "Cairo (Egypt, Africa)\n",
    "Shanghai (China, Asia)\"\"\"\n",
    "\n",
    "locations = {'North America': {'USA': ['Mountain View']}}\n",
    "```"
   ]
  },
  {
   "cell_type": "code",
   "execution_count": 1,
   "id": "raising-coverage",
   "metadata": {},
   "outputs": [],
   "source": [
    "locations = {'North America': {'USA': ['Mountain View']}}"
   ]
  },
  {
   "cell_type": "code",
   "execution_count": 2,
   "id": "precise-tennis",
   "metadata": {},
   "outputs": [
    {
     "name": "stdout",
     "output_type": "stream",
     "text": [
      "Done\n"
     ]
    }
   ],
   "source": [
    "locations['Asia'] = {'India':['bangalore']}\n",
    "locations['North America']['USA'].append('Atlanta')\n",
    "locations['Africa'] = {'Cairo':['Egypt']}\n",
    "locations['Asia']['China'] = ['Shanghai']\n",
    "print('Done')"
   ]
  },
  {
   "cell_type": "code",
   "execution_count": 3,
   "id": "young-perspective",
   "metadata": {},
   "outputs": [
    {
     "data": {
      "text/plain": [
       "{'North America': {'USA': ['Mountain View', 'Atlanta']},\n",
       " 'Asia': {'India': ['bangalore'], 'China': ['Shanghai']},\n",
       " 'Africa': {'Cairo': ['Egypt']}}"
      ]
     },
     "execution_count": 3,
     "metadata": {},
     "output_type": "execute_result"
    }
   ],
   "source": [
    "locations"
   ]
  },
  {
   "cell_type": "code",
   "execution_count": 4,
   "id": "powerful-technology",
   "metadata": {},
   "outputs": [
    {
     "name": "stdout",
     "output_type": "stream",
     "text": [
      "2\n",
      "India - bangalore\n",
      "China - Shanghai\n"
     ]
    }
   ],
   "source": [
    "print(f\"2\\n{list(locations['Asia'].keys())[0]} \\\n",
    "- {list(locations['Asia'].values())[0][0]}\\n{list(locations['Asia'].keys())[1]} \\\n",
    "- {list(locations['Asia'].values())[1][0]}\")"
   ]
  },
  {
   "cell_type": "code",
   "execution_count": 5,
   "id": "worldwide-authentication",
   "metadata": {},
   "outputs": [
    {
     "data": {
      "text/plain": [
       "['India', 'China']"
      ]
     },
     "execution_count": 5,
     "metadata": {},
     "output_type": "execute_result"
    }
   ],
   "source": [
    "list(locations['Asia'].keys())"
   ]
  },
  {
   "cell_type": "markdown",
   "id": "prime-graph",
   "metadata": {},
   "source": [
    "```\n",
    "\"\"\"Print the following (using \"print\").\n",
    "1. A list of all cities in the USA in\n",
    "alphabetic order.\n",
    "2. All cities in Asia, in alphabetic\n",
    "order, next to the name of the country.\n",
    "In your output, label each answer with a number\n",
    "so it looks like this:\n",
    "1\n",
    "American City\n",
    "American City\n",
    "2\n",
    "Asian City - Country\n",
    "Asian City - Country\"\"\"\n",
    "```"
   ]
  },
  {
   "cell_type": "code",
   "execution_count": 6,
   "id": "front-champion",
   "metadata": {},
   "outputs": [
    {
     "name": "stdout",
     "output_type": "stream",
     "text": [
      "1\n",
      "Atlanta\n",
      "Mountain View\n",
      "2\n",
      "bangalore - India\n",
      "Shanghai - China\n"
     ]
    }
   ],
   "source": [
    "for key, value in locations.items():\n",
    "    if key == 'North America':\n",
    "        details = sorted(locations[key]['USA'])\n",
    "        print(f'1\\n{details[0]}\\n{details[1]}')\n",
    "    if key == 'Asia':\n",
    "        cities = list(locations[key].values())\n",
    "        countries = list(locations[key].keys())\n",
    "        print(f'2\\n{cities[0][0]} - {countries[0]}')\n",
    "        print(cities[1][0], '-', countries[1])\n",
    "        "
   ]
  },
  {
   "cell_type": "markdown",
   "id": "mature-penalty",
   "metadata": {},
   "source": [
    "## Hashing\n",
    "\n",
    "Using a Data structure that employs a hash function allows us to do look-ups in constant time $O(1)$. Let that sink... lists do look-ups in linear time. Stacks and Queues for the head objects do look-ups in constant time. Priority queues do so in constant time for the element with the top priority, but any other element is found in linear-time search. The ability to do constant-time look-ups will make almost any algorithm instantly faster."
   ]
  },
  {
   "cell_type": "markdown",
   "id": "focused-inside",
   "metadata": {},
   "source": [
    "### Hash Functions\n",
    "* The purpose of a hash function is to transform some value into one that can be stored and retrieved easily. <br>We give it some value, it converts the value based on some formula and spits out a coded version of the value that's often the index in an array.\n",
    "\n",
    "\n",
    "* One common pattern in hash functions is to take the last few digits of a big or random number, divide it by some consistent number and using the remainder from that division to find a place to store that number in our array.\n",
    "\n",
    "\n",
    "* When numbers are big and random, we need some way to convert those numbers to array indices quickly. That's how the constant-time look-up works. you give your big number to a hash function which spits out a hash code that turns into the index of an array. Then we can go to the array and gt our original value in constant time.\n",
    "\n",
    "\n",
    "* Why use the last few digits of a big number? In most cases the last few digits are the most random."
   ]
  },
  {
   "cell_type": "markdown",
   "id": "progressive-theorem",
   "metadata": {},
   "source": [
    "### Collision:\n",
    "\n",
    "As it turns out there's a flaw in the system. There are times when a hash function will spit out the same hash value for 2 different inputs. This situation is called a collision.\n",
    "* There are 2 main ways to fix a collision... the 1st is to change the value in your hash function or to change the hash function completely so we have more than enough slots to store potential values.\n",
    "\n",
    "\n",
    "* We can also keep the original hash function, but change the structure of the array. So, instead of storing one hash value in each slot, we can store a list that contains all values hashed at that spot. These lists are generally called **`Buckets`**.\n",
    "\n",
    "\n",
    "* Down side of the `Bucket` approach is that we still need to iterate through a list of items everytime we want a value from that bucket. Therefore ideally a bucket shouldn't have more than 3 items.\n",
    "\n",
    "\n",
    "* Hash functions have a constant time best case and average case of $O(n)$, but because of the bucket system, in the worst case it's linear time $O(n)$\n",
    "\n",
    "### Note:\n",
    "\n",
    "There's no one perfect way to build a hash function, we need to consider all of these and build a system that makes the most sense of our data and limitations.\n",
    "\n",
    "Often we'd have to choose between a hash function that spreads out the values nicely but uses a lot of space and one that uses less buckets but might do some searching within each bucket.\n",
    "\n",
    "Hashing questions are popular because there's often not a perfect solution. We're expecte to talk about the upsides and downsides of whatever approach we use. So we must do our best to optimize the hash function and ensure we;re communicating with the interviewer well."
   ]
  },
  {
   "cell_type": "markdown",
   "id": "divine-thomson",
   "metadata": {},
   "source": [
    "### Load Factor:\n",
    "\n",
    "When we're talking about hash tables, we can define a \"load factor\":\n",
    "```\n",
    "Load Factor = Number of Entries / Number of Buckets\n",
    "```\n",
    "The purpose of a load factor is to give us a sense of how \"full\" a hash table is. For example, if we're trying to store 10 values in a hash table with 1000 buckets, the load factor would be 0.01, and the majority of buckets in the table will be empty. We end up wasting memory by having so many empty buckets, so we may want to rehash, or come up with a new hash function with less buckets. We can use our load factor as an indicator for when to rehash— **as the load factor approaches 0, the more empty, or sparse, our hash table is**.\n",
    "\n",
    "On the flip side, the closer our load factor is to 1 (meaning the number of values equals the number of buckets), the better it would be for us to rehash and add more buckets. **Any table with a load value greater than 1 is guaranteed to have collisions**."
   ]
  },
  {
   "cell_type": "markdown",
   "id": "alone-coffee",
   "metadata": {},
   "source": [
    "### Exercise:\n",
    "```\n",
    "\"\"\"Write a HashTable class that stores strings\n",
    "in a hash table, where keys are calculated\n",
    "using the first two letters of the string.\"\"\"\n",
    "\n",
    "The Hash Value Function Formula is:\n",
    "Hash Value = (ASCII Value of First Letter * 100) + ASCII Value of Second Letter \n",
    "\n",
    "You can assume that the string will have at least two letters, and the first two characters are uppercase letters (ASCII values from 65 to 90). You can use the Python function `ord()` to get the ASCII value of a letter, and `chr()` to get the letter associated with an ASCII value.\n",
    "\n",
    "You'll create a HashTable class, methods to store and lookup values, and a helper function to calculate a hash value given a string. You cannot use a Python dictionary— only lists! And remember to store lists at each bucket, and not just the string itself. For example, you can store \"UDACITY\" at index 8568 as [\"UDACITY\"].\n",
    "```"
   ]
  },
  {
   "cell_type": "code",
   "execution_count": 7,
   "id": "broadband-things",
   "metadata": {},
   "outputs": [
    {
     "data": {
      "text/plain": [
       "65"
      ]
     },
     "execution_count": 7,
     "metadata": {},
     "output_type": "execute_result"
    }
   ],
   "source": [
    "ord('A')"
   ]
  },
  {
   "cell_type": "code",
   "execution_count": 8,
   "id": "above-thing",
   "metadata": {},
   "outputs": [
    {
     "data": {
      "text/plain": [
       "'A'"
      ]
     },
     "execution_count": 8,
     "metadata": {},
     "output_type": "execute_result"
    }
   ],
   "source": [
    "chr(65)"
   ]
  },
  {
   "cell_type": "code",
   "execution_count": 9,
   "id": "dressed-columbus",
   "metadata": {},
   "outputs": [
    {
     "data": {
      "text/plain": [
       "97"
      ]
     },
     "execution_count": 9,
     "metadata": {},
     "output_type": "execute_result"
    }
   ],
   "source": [
    "ord('a')"
   ]
  },
  {
   "cell_type": "code",
   "execution_count": 15,
   "id": "narrative-depression",
   "metadata": {},
   "outputs": [
    {
     "data": {
      "text/plain": [
       "'a'"
      ]
     },
     "execution_count": 15,
     "metadata": {},
     "output_type": "execute_result"
    }
   ],
   "source": [
    "chr(97)"
   ]
  },
  {
   "cell_type": "code",
   "execution_count": 16,
   "id": "proved-exhaust",
   "metadata": {},
   "outputs": [],
   "source": [
    "class HashTable(object):\n",
    "    def __init__(self):\n",
    "        self.table = [None]*10000\n",
    "\n",
    "    def store(self, string):\n",
    "        \"\"\"Input a string that's stored in \n",
    "        the table.\"\"\"\n",
    "        \n",
    "        hash_value = self.calculate_hash_value(string)\n",
    "        \n",
    "        # If the Hash-table bucket contains some string,\n",
    "        # Append the new string, otherwise create the bucket\n",
    "        # With the present string\n",
    "        \n",
    "        if self.table[hash_value]:\n",
    "            self.table[hash_value].append(string)\n",
    "        else:\n",
    "            self.table[hash_value] = [string]\n",
    "\n",
    "    def lookup(self, string):\n",
    "        \"\"\"Return the hash value if the\n",
    "        string is already in the table.\n",
    "        Return -1 otherwise.\"\"\"\n",
    "        \n",
    "        hash_value = self.calculate_hash_value(string)\n",
    "        try:\n",
    "            assert string in self.table[hash_value]\n",
    "            return hash_value\n",
    "        except:\n",
    "            return -1\n",
    "\n",
    "    def calculate_hash_value(self, string):\n",
    "        \"\"\"Helper function to calulate a\n",
    "        hash value from a string.\n",
    "        This function implements the Hash value\n",
    "        Function Formula from above\"\"\"\n",
    "        \n",
    "        value = 0\n",
    "        \n",
    "        for i in string[:2]:\n",
    "            if string.index(i) > 0:\n",
    "                value+=ord(i)\n",
    "            else:\n",
    "                value+=ord(i)*100\n",
    "        return value"
   ]
  },
  {
   "cell_type": "code",
   "execution_count": 18,
   "id": "lucky-halloween",
   "metadata": {},
   "outputs": [
    {
     "name": "stdout",
     "output_type": "stream",
     "text": [
      "10000\n"
     ]
    }
   ],
   "source": [
    "# Setup\n",
    "hash_table = HashTable()\n",
    "\n",
    "# Let's print the total length of the hash table\n",
    "print(len(hash_table.table))"
   ]
  },
  {
   "cell_type": "code",
   "execution_count": 19,
   "id": "controversial-judgment",
   "metadata": {},
   "outputs": [
    {
     "name": "stdout",
     "output_type": "stream",
     "text": [
      "8568\n"
     ]
    }
   ],
   "source": [
    "# Test calculate_hash_value\n",
    "# Should be 8568\n",
    "print(hash_table.calculate_hash_value('UDACITY'))"
   ]
  },
  {
   "cell_type": "code",
   "execution_count": 21,
   "id": "talented-recipe",
   "metadata": {},
   "outputs": [
    {
     "name": "stdout",
     "output_type": "stream",
     "text": [
      "-1\n"
     ]
    }
   ],
   "source": [
    "# Test lookup edge case\n",
    "# Should be -1 as Udacity is not yet stoed in hash_table\n",
    "print(hash_table.lookup('UDACITY'))"
   ]
  },
  {
   "cell_type": "code",
   "execution_count": 22,
   "id": "clinical-november",
   "metadata": {},
   "outputs": [
    {
     "name": "stdout",
     "output_type": "stream",
     "text": [
      "8568\n"
     ]
    }
   ],
   "source": [
    "# Test store\n",
    "hash_table.store('UDACITY')\n",
    "\n",
    "# Should be 8568\n",
    "print(hash_table.lookup('UDACITY'))"
   ]
  },
  {
   "cell_type": "code",
   "execution_count": 23,
   "id": "subsequent-motivation",
   "metadata": {},
   "outputs": [
    {
     "name": "stdout",
     "output_type": "stream",
     "text": [
      "8568\n"
     ]
    }
   ],
   "source": [
    "# Test store edge case\n",
    "hash_table.store('UDACIOUS')\n",
    "\n",
    "# Should be 8568\n",
    "print(hash_table.lookup('UDACIOUS'))"
   ]
  },
  {
   "cell_type": "code",
   "execution_count": 24,
   "id": "twenty-trailer",
   "metadata": {},
   "outputs": [
    {
     "name": "stdout",
     "output_type": "stream",
     "text": [
      "['UDACITY', 'UDACIOUS']\n"
     ]
    }
   ],
   "source": [
    "print(hash_table.table[8568])"
   ]
  }
 ],
 "metadata": {
  "kernelspec": {
   "display_name": "Python 3",
   "language": "python",
   "name": "python3"
  },
  "language_info": {
   "codemirror_mode": {
    "name": "ipython",
    "version": 3
   },
   "file_extension": ".py",
   "mimetype": "text/x-python",
   "name": "python",
   "nbconvert_exporter": "python",
   "pygments_lexer": "ipython3",
   "version": "3.8.5"
  }
 },
 "nbformat": 4,
 "nbformat_minor": 5
}
