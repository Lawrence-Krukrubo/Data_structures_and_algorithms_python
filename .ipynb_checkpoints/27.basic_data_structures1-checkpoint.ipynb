{
 "cells": [
  {
   "cell_type": "markdown",
   "metadata": {},
   "source": [
    "## What Are Linear Structures?\n",
    "\n",
    "We will begin our study of data structures by considering four simple but very powerful concepts. `Stacks`, `queues`, `deques`, and `lists` are examples of data collections whose items are ordered depending on how they are added or removed. Once an item is added, it stays in that position relative to the other elements that came before and came after it. Collections such as these are often referred to as **`linear data structures`**.\n",
    "\n",
    "**Linear structures can be thought of as having two ends**. \n",
    "\n",
    "* Sometimes these ends are referred to as the `“left”` and the `“right”`or in some cases the `“front”` and the `“rear.”` You could also call them the `“top”` and the `“bottom.”` \n",
    "* The names given to the ends are not significant. What distinguishes one linear structure from another is the way in which items are added and removed, in particular the location where these additions and removals occur. \n",
    "* For example, a structure might allow new items to be added at only one end. Some structures might allow items to be removed from either end.\n",
    "\n",
    "These variations give rise to some of the most useful data structures in computer science. They appear in many algorithms and can be used to solve a variety of important problems."
   ]
  },
  {
   "cell_type": "markdown",
   "metadata": {},
   "source": [
    "### What is a Stack?\n",
    "\n",
    "A stack (sometimes called a `“push-down stack”`) is an ordered collection of items where the addition of new items and the removal of existing items always takes place at the same end. This end is commonly referred to as the “top.” The end opposite the top is known as the “base.”\n",
    "\n",
    "The base of the stack is significant since items stored in the stack that are closer to the base represent those that have been in the stack the longest. The most recently added item is the one that is in position to be removed first. This ordering principle is sometimes called **`LIFO`**, `last-in first-out`. It provides an ordering based on length of time in the collection. Newer items are near the top, while older items are near the base.\n",
    "\n",
    "Many examples of stacks occur in everyday situations. Almost any cafeteria has a stack of trays or plates where you take the one at the top, uncovering a new tray or plate for the next customer in line. Imagine a stack of books on a desk. The only book whose cover is visible is the one on top. To access others in the stack, we need to remove the ones that are sitting on top of them.\n",
    "\n",
    "<img src='https://runestone.academy/runestone/books/published/pythonds/_images/bookstack2.png'><br>**A Stack of Books**\n",
    "\n",
    "\n",
    "One of the most useful ideas related to stacks comes from the simple observation of items as they are added and then removed. Assume you start out with a clean desktop. Now place books one at a time on top of each other. You are constructing a stack. Consider what happens when you begin removing books. The order that they are removed is exactly the reverse of the order that they were placed. Stacks are fundamentally important, as they can be used to reverse the order of items. The order of insertion is the reverse of the order of removal. Figure below shows the Python data object stack as it was created and then again as items are removed. Note the order of the objects.\n",
    "\n",
    "<img src='https://runestone.academy/runestone/books/published/pythonds/_images/simplereversal.png'>\n",
    "\n",
    "Considering this **Reversal Property**, you can perhaps think of examples of stacks that occur as you use your computer. For example, every web browser has a Back button. As you navigate from web page to web page, those pages are placed on a stack (actually it is the URLs that are going on the stack). The current page that you are viewing is on the top and the first page you looked at is at the base. If you click on the Back button, you begin to move in reverse order through the pages.\n",
    "\n"
   ]
  },
  {
   "cell_type": "markdown",
   "metadata": {},
   "source": [
    "### The Stack Abstract Data Type:\n",
    "\n",
    "The stack abstract data type is defined by the following structure and operations. A stack is structured, as described above, as an ordered collection of items where items are added to and removed from the end called the “top.” Stacks are ordered LIFO. The stack operations are given below.\n",
    "\n",
    "* **Stack()** creates a new stack that is empty. It needs no parameters and returns an empty stack.\n",
    "\n",
    "* **push(item)** adds a new item to the top of the stack. It needs the item and returns nothing.\n",
    "\n",
    "* **pop()** removes the top item from the stack. It needs no parameters and returns the item. The stack is modified.\n",
    "\n",
    "* **peek()** returns the top item from the stack but does not remove it. It needs no parameters. The stack is not modified.\n",
    "\n",
    "* **isEmpty()** tests to see whether the stack is empty. It needs no parameters and returns a boolean value.\n",
    "\n",
    "* **size()** returns the number of items on the stack. It needs no parameters and returns an integer."
   ]
  },
  {
   "cell_type": "markdown",
   "metadata": {},
   "source": [
    "### Implementing a Stack in Python\n",
    "\n",
    "Now that we have clearly defined the stack as an abstract data type we will turn our attention to using Python to implement the stack. Recall that _when we give an abstract data type a physical implementation we refer to the implementation as a data structure_.\n",
    "\n",
    "As we described in Chapter 1, in Python, as in any object-oriented programming language, the implementation of choice for an abstract data type such as a stack is the creation of a new class. The stack operations are implemented as methods. Further, to implement a stack, which is a collection of elements, it makes sense to utilize the power and simplicity of the primitive collections provided by Python. We will use a list.\n",
    "\n",
    "Recall that the list class in Python provides an ordered collection mechanism and a set of methods. We need only to decide which end of the list will be considered the top of the stack and which will be the base. Once that decision is made, the operations can be implemented using the list methods such as append and pop.\n",
    "\n",
    "The following stack implementation assumes that the end of the list will hold the top element of the stack. As the stack grows (as push operations occur), new items will be added on the end of the list. pop operations will manipulate that same end."
   ]
  },
  {
   "cell_type": "code",
   "execution_count": 1,
   "metadata": {},
   "outputs": [],
   "source": [
    "class Stack:\n",
    "    \"\"\"Implement instances of Stack Objects\n",
    "    \n",
    "        Instance Variables:\n",
    "            self.items (list)\n",
    "    \"\"\"\n",
    "    \n",
    "    def __str__(self):\n",
    "        return f'{s.items}'\n",
    "    \n",
    "    def __init__(self):\n",
    "        self.items = []\n",
    "        \n",
    "    def push(self, item):\n",
    "        \"\"\"Add an item to the Stack\n",
    "        \"\"\"\n",
    "        self.items.append(item)\n",
    "        \n",
    "    def pop(self):\n",
    "        \"\"\"Pop and remove the last-added item\n",
    "            from the Stack and return it\n",
    "        \"\"\"\n",
    "        return self.items.pop()\n",
    "    \n",
    "    def peek(self):\n",
    "        \"\"\"Return the details of the\n",
    "            last item added to the Stack\n",
    "            without removing it\n",
    "        \"\"\"\n",
    "        return self.items[-1]\n",
    "    \n",
    "    def isEmpty(self):\n",
    "        \"\"\"Return True or False,\n",
    "            if Stack is empty or not.\n",
    "        \"\"\"\n",
    "        return not self.items\n",
    "    \n",
    "    def size(self):\n",
    "        \"\"\"Return the number of\n",
    "            elements in the Stack\n",
    "        \"\"\"\n",
    "        return len(self.items)"
   ]
  },
  {
   "cell_type": "code",
   "execution_count": 2,
   "metadata": {},
   "outputs": [
    {
     "name": "stdout",
     "output_type": "stream",
     "text": [
      "True\n"
     ]
    }
   ],
   "source": [
    "# Create a Stack\n",
    "s = Stack()\n",
    "print(s.isEmpty())"
   ]
  },
  {
   "cell_type": "code",
   "execution_count": 3,
   "metadata": {},
   "outputs": [
    {
     "data": {
      "text/plain": [
       "'dog'"
      ]
     },
     "execution_count": 3,
     "metadata": {},
     "output_type": "execute_result"
    }
   ],
   "source": [
    "# Push item dog to it\n",
    "s.push('dog')\n",
    "s.peek()"
   ]
  },
  {
   "cell_type": "code",
   "execution_count": 4,
   "metadata": {},
   "outputs": [
    {
     "data": {
      "text/plain": [
       "2"
      ]
     },
     "execution_count": 4,
     "metadata": {},
     "output_type": "execute_result"
    }
   ],
   "source": [
    "# Push item True to it\n",
    "s.push(True)\n",
    "\n",
    "# Check size, should be 2\n",
    "s.size()"
   ]
  },
  {
   "cell_type": "code",
   "execution_count": 5,
   "metadata": {},
   "outputs": [
    {
     "name": "stdout",
     "output_type": "stream",
     "text": [
      "False\n"
     ]
    }
   ],
   "source": [
    "# Check if Empty, should be False\n",
    "print(s.isEmpty())"
   ]
  },
  {
   "cell_type": "code",
   "execution_count": 6,
   "metadata": {},
   "outputs": [
    {
     "name": "stdout",
     "output_type": "stream",
     "text": [
      "8.4\n"
     ]
    }
   ],
   "source": [
    "# Push 8.4 to it\n",
    "s.push(8.4)\n",
    "\n",
    "# Pop the last item, should 8.4\n",
    "print(s.pop())"
   ]
  },
  {
   "cell_type": "code",
   "execution_count": 7,
   "metadata": {},
   "outputs": [
    {
     "name": "stdout",
     "output_type": "stream",
     "text": [
      "True\n"
     ]
    }
   ],
   "source": [
    "# Pop the last item, should be True\n",
    "print(s.pop())"
   ]
  },
  {
   "cell_type": "code",
   "execution_count": 8,
   "metadata": {},
   "outputs": [
    {
     "name": "stdout",
     "output_type": "stream",
     "text": [
      "1\n"
     ]
    }
   ],
   "source": [
    "# Print size, should be 1\n",
    "print(s.size())"
   ]
  },
  {
   "cell_type": "code",
   "execution_count": 9,
   "metadata": {},
   "outputs": [
    {
     "name": "stdout",
     "output_type": "stream",
     "text": [
      "['dog']\n"
     ]
    }
   ],
   "source": [
    "# Print the stack, should be a list of 1 item [dog]\n",
    "print(s)"
   ]
  },
  {
   "cell_type": "markdown",
   "metadata": {},
   "source": [
    "It is important to note that we could have chosen to implement the stack using a list where the top is at the beginning instead of at the end. In this case, the previous pop and append methods would no longer work and we would have to index position 0 (the first item in the list) explicitly using `pop` and `insert`.\n",
    "\n",
    "This ability to change the physical implementation of an abstract data type while maintaining the logical characteristics is an example of abstraction at work. However, even though the stack will work either way, if we consider the performance of the two implementations, there is definitely a difference. Recall that the `append` and `pop()` operations were both `O(1)`. This means that the first implementation will perform push and pop in constant time no matter how many items are on the stack. \n",
    "\n",
    "The performance of the second implementation suffers in that the `insert(0)` and `pop(0)` operations will both require $O(n)$ for a stack of size $n$. Clearly, even though the implementations are logically equivalent, they would have very different timings when performing benchmark testing."
   ]
  },
  {
   "cell_type": "markdown",
   "metadata": {},
   "source": [
    "**Write a function revstring(mystr) that uses a stack to reverse the characters in a string.**"
   ]
  },
  {
   "cell_type": "code",
   "execution_count": 10,
   "metadata": {},
   "outputs": [],
   "source": [
    "def revstring(mystr):\n",
    "    \"\"\"A function that uses a Stack\n",
    "        to reverse a string and returns\n",
    "        the string reversed.\n",
    "    \"\"\"\n",
    "    stack = Stack()\n",
    "    \n",
    "    # Add mystr to the stack\n",
    "    for i in mystr:\n",
    "        stack.push(i)\n",
    "    \n",
    "    # return mystr reversed from the stack\n",
    "    strr=''\n",
    "    while not stack.isEmpty():\n",
    "        strr+=stack.pop()\n",
    "    \n",
    "    return strr"
   ]
  },
  {
   "cell_type": "code",
   "execution_count": 11,
   "metadata": {},
   "outputs": [
    {
     "data": {
      "text/plain": [
       "'ecnerwal'"
      ]
     },
     "execution_count": 11,
     "metadata": {},
     "output_type": "execute_result"
    }
   ],
   "source": [
    "revstring('lawrence')"
   ]
  },
  {
   "cell_type": "markdown",
   "metadata": {},
   "source": [
    "### Challenge 1: Balanced-Paren\n",
    "\n",
    "The challenge then is to write an algorithm that will read a string of parentheses from left to right and decide whether the symbols are balanced. \n",
    "\n",
    "To solve this problem we need to make an important observation. \n",
    "* As you process symbols from left to right, the most recent opening parenthesis must match the next closing symbol (see image below). \n",
    "* Also, the first opening symbol processed may have to wait until the very last symbol for its match. \n",
    "* Closing symbols match opening symbols in the reverse order of their appearance; they match from the inside out. This is a clue that stacks can be used to solve the problem.\n",
    "\n",
    "<img src='https://runestone.academy/runestone/books/published/pythonds/_images/simpleparcheck.png'>\n",
    "\n",
    "Once you agree that a stack is the appropriate data structure for keeping the parentheses, the statement of the algorithm is straightforward. \n",
    "\n",
    "* Starting with an empty stack, process the parenthesis strings from left to right. \n",
    "* If a symbol is an opening parenthesis, push it on the stack as a signal that a corresponding closing symbol needs to appear later. \n",
    "* If, on the other hand, a symbol is a closing parenthesis, pop the stack. \n",
    "* As long as it is possible to pop the stack to match every closing symbol, the parentheses remain balanced. \n",
    "* If at any time there is no opening symbol on the stack to match a closing symbol, the string is not balanced properly. and should return False. \n",
    "* At the end of the string, when all symbols have been processed, the stack should be empty. and return True\n",
    "\n"
   ]
  },
  {
   "cell_type": "code",
   "execution_count": 47,
   "metadata": {},
   "outputs": [],
   "source": [
    "def parenChecker(parstring):\n",
    "    \"\"\"Method takes a string containing\n",
    "        parenthesis and checks if every\n",
    "        opening parenthesis has a closing one.\n",
    "        \n",
    "    @param parstring: A string containing parentheses\n",
    "    @return: True or Flase if parentheses balance or not.\n",
    "    \"\"\"\n",
    "    stack = Stack()\n",
    "    \n",
    "    for i in parstring:\n",
    "        if i == '(':\n",
    "            stack.push(i)\n",
    "        else:\n",
    "            if stack.isEmpty():\n",
    "            # If empty and we have a closing paren\n",
    "                return False\n",
    "            else:\n",
    "                stack.pop()\n",
    "                \n",
    "    return stack.isEmpty()"
   ]
  },
  {
   "cell_type": "code",
   "execution_count": 46,
   "metadata": {},
   "outputs": [
    {
     "name": "stdout",
     "output_type": "stream",
     "text": [
      "True\n",
      "False\n",
      "True\n",
      "False\n",
      "False\n",
      "False\n"
     ]
    }
   ],
   "source": [
    "print(parenChecker('((()))'))  # Should be True\n",
    "print(parenChecker('(()'))  # Should be False\n",
    "print(parenChecker('(((((())))))'))  # Should be True\n",
    "print(parenChecker('))(('))  # Should be False\n",
    "print(parenChecker(')'))  # Should be False\n",
    "print(parenChecker('('))  # Should be False"
   ]
  },
  {
   "cell_type": "markdown",
   "metadata": {},
   "source": [
    "### Challenge 2: Balanced-Symbols (A general solution)\n",
    "\n",
    "The balanced parentheses problem shown above is a specific case of a more general situation that arises in many programming languages. The general problem of balancing and nesting different kinds of opening and closing symbols occurs frequently. For example, in Python square brackets, `[]`, are used for lists; curly braces, `{}`, are used for dictionaries; and parentheses, `()`, are used for tuples and arithmetic expressions. It is possible to mix symbols as long as each maintains its own open and close relationship\n",
    "\n",
    "**The Algorithm:**\n",
    "\n",
    "* The simple parentheses checker from the previous section can easily be extended to handle these new types of symbols. \n",
    "* Recall that each opening symbol is simply pushed on the stack to wait for the matching closing symbol to appear later in the sequence. \n",
    "* When a closing symbol does appear, the only difference is that we must check to be sure that it correctly matches the type of the opening symbol on top of the stack. \n",
    "* If the two symbols do not match, the string is not balanced. \n",
    "* Once again, if the entire string is processed and nothing is left on the stack, the string is correctly balanced."
   ]
  },
  {
   "cell_type": "code",
   "execution_count": 52,
   "metadata": {},
   "outputs": [],
   "source": [
    "def symbolsChecker(parstring):\n",
    "    \"\"\"Method takes a string containing the symbols\n",
    "        [], () and {}, & checks if all are in pairs and\n",
    "        in the right order.\n",
    "        \n",
    "    @param parstring: A string containing symbols\n",
    "    @return: True or False if symbols balance or not.\n",
    "    \"\"\"\n",
    "    stack = Stack()\n",
    "    open_, close_ = '({[', ')}]'\n",
    "    \n",
    "    def match_symbols(x, y):\n",
    "        \"\"\"Helper method to confirm if\n",
    "            two symbols are a valid pair.\n",
    "        \"\"\"\n",
    "        check = x+y\n",
    "        pairs = [o+c for o,c in zip(open_, close_)]\n",
    "        return check in pairs\n",
    "    \n",
    "    for i in parstring:\n",
    "        if i in open_:\n",
    "            stack.push(i)\n",
    "        else:\n",
    "            if not stack.isEmpty():\n",
    "                x = stack.peek()\n",
    "                if match_symbols(x, i):\n",
    "                    stack.pop()\n",
    "                else:\n",
    "                    break\n",
    "            else:\n",
    "                return False\n",
    "            \n",
    "    return stack.isEmpty()"
   ]
  },
  {
   "cell_type": "code",
   "execution_count": 56,
   "metadata": {},
   "outputs": [
    {
     "name": "stdout",
     "output_type": "stream",
     "text": [
      "True\n",
      "False\n",
      "True\n",
      "False\n"
     ]
    }
   ],
   "source": [
    "print(symbolsChecker('{({([][])}())}')) # Should be True\n",
    "print(symbolsChecker('[{()]'))  # Should be False\n",
    "print(symbolsChecker('[{()}]'))  # Should be True\n",
    "print(symbolsChecker(']'))  # Should be False"
   ]
  }
 ],
 "metadata": {
  "kernelspec": {
   "display_name": "Python 3",
   "language": "python",
   "name": "python3"
  },
  "language_info": {
   "codemirror_mode": {
    "name": "ipython",
    "version": 3
   },
   "file_extension": ".py",
   "mimetype": "text/x-python",
   "name": "python",
   "nbconvert_exporter": "python",
   "pygments_lexer": "ipython3",
   "version": "3.7.5"
  }
 },
 "nbformat": 4,
 "nbformat_minor": 5
}
