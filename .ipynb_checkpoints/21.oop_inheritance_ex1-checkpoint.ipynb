{
 "cells": [
  {
   "cell_type": "markdown",
   "id": "violent-airplane",
   "metadata": {},
   "source": [
    "# Object-Oriented-Programming:\n",
    "\n",
    "Python is an object-oriented programming language. So far, we have used a number of built-in classes to show examples of data and control structures. One of the most powerful features in an object-oriented programming language is the ability to allow a programmer (problem solver) to create new classes that model data that is needed to solve the problem.\n",
    "\n",
    "We use abstract data types to provide the logical description of what a data object looks like **(its state)** and what it can do **(its methods)**. By building a `class` that implements an abstract data type, a programmer can take advantage of the abstraction process and at the same time provide the details necessary to actually use the abstraction in a program. Whenever we want to implement an abstract data type, we will do so with a new class."
   ]
  },
  {
   "cell_type": "code",
   "execution_count": null,
   "id": "wound-somalia",
   "metadata": {},
   "outputs": [],
   "source": []
  },
  {
   "cell_type": "markdown",
   "id": "wrapped-truth",
   "metadata": {},
   "source": [
    "### Shallow and Deep Equality\n",
    "\n",
    "* Two objects have **Shallow-Equality** if they are references of the same object. It don't matter if the 2 objects have different values, they are shallow-equal if they are refs of the same object address.\n",
    "* Two objects have **Deep-Equality** if they have equal values. They may be from different object references but have same values.\n",
    "* The **`__eq__`** method is another standard method available in any class. The `__eq__` method compares two objects and returns True if their values are the same, False otherwise. We can override the workings of this method to create both shallow and deep equality."
   ]
  },
  {
   "cell_type": "markdown",
   "id": "little-terrain",
   "metadata": {},
   "source": [
    "## Inheritance: Logic Gates and Circuits\n",
    "\n",
    "**Inheritance** is the ability for one class to be related to another class in much the same way that people can be related to one another. Children inherit characteristics from their parents. Similarly, Python child classes can inherit characteristic data and behavior from a parent class. <br>These classes are often referred to as **subclasses** and **superclasses**.\n",
    "\n",
    "<img src='https://runestone.academy/runestone/books/published/pythonds/_images/inheritance1.png' height=200 width=400>"
   ]
  },
  {
   "cell_type": "markdown",
   "id": "fewer-jungle",
   "metadata": {},
   "source": [
    "**Logic gates** are easily organized into a class inheritance hierarchy. At the top of the hierarchy, the **`LogicGate class`** represents the most general characteristics of logic gates: namely, a label for the gate and an output line. The next level of subclasses breaks the logic gates into two families, those that have one input line and those that have two. Below that, the specific logic functions of each appear...\n",
    "\n",
    "<img src='https://runestone.academy/runestone/books/published/pythonds/_images/gates.png' height=400 width=400>"
   ]
  },
  {
   "cell_type": "markdown",
   "id": "realistic-criterion",
   "metadata": {},
   "source": [
    "<img src='https://runestone.academy/runestone/books/published/pythonds/_images/circuit1.png' height=300 width=500>"
   ]
  },
  {
   "cell_type": "markdown",
   "id": "material-religious",
   "metadata": {},
   "source": [
    "Now that we have the basic gates working, we can turn our attention to building circuits like in the image above. In order to create a circuit, we need to connect gates together, the output of one flowing into the input of another. To do this, we will implement a new class called Connector.\n",
    "\n",
    "The Connector class will not reside in the gate hierarchy. It will, however, use the gate hierarchy in that each connector will have two gates, one on either end see fig below. This relationship is very important in object-oriented programming. It is called the **HAS-A Relationship**. Recall earlier that we used the phrase **“IS-A Relationship”** to say that a child class is related to a parent class, for example UnaryGate **IS-A LogicGate**.\n",
    "\n",
    "<img src='https://runestone.academy/runestone/books/published/pythonds/_images/connector.png' height=300 width=600>\n",
    "\n",
    "Now, with the Connector class, we say that a Connector **HAS-A LogicGate** meaning that connectors will have instances of the LogicGate class within them but are not part of the hierarchy. When designing classes, it is very important to distinguish between those that have the IS-A relationship (which requires inheritance) and those that have HAS-A relationships (with no inheritance)."
   ]
  },
  {
   "cell_type": "markdown",
   "id": "exempt-colleague",
   "metadata": {},
   "source": [
    "## Summary\n",
    "1. Computer science is the study of problem solving.\n",
    "\n",
    "2. Computer science uses abstraction as a tool for representing both processes and data.\n",
    "\n",
    "3. Abstract data types allow programmers to manage the complexity of a problem domain by hiding the details of the data.\n",
    "\n",
    "4. Python is a powerful, yet easy-to-use, object-oriented language.\n",
    "\n",
    "5. Lists, tuples, and strings are built in Python sequential collections.\n",
    "\n",
    "6. Dictionaries and sets are nonsequential collections of data.\n",
    "\n",
    "7. Classes allow programmers to implement abstract data types.\n",
    "\n",
    "8. Programmers can override standard methods as well as create new methods.\n",
    "\n",
    "9. Classes can be organized into hierarchies.\n",
    "\n",
    "10. A class constructor should always invoke the constructor of its parent before continuing on with its own data and behavior."
   ]
  },
  {
   "cell_type": "markdown",
   "id": "intelligent-karaoke",
   "metadata": {},
   "source": [
    "### Discussion Questions\n",
    "* Construct a class hierarchy for people on a college campus. Include faculty, staff, and students. What do they have in common? What distinguishes them from one another?\n",
    "\n",
    "* Construct a class hierarchy for bank accounts.\n",
    "\n",
    "* Construct a class hierarchy for different types of computers."
   ]
  },
  {
   "cell_type": "code",
   "execution_count": 1,
   "id": "published-basket",
   "metadata": {},
   "outputs": [
    {
     "name": "stdout",
     "output_type": "stream",
     "text": [
      "Done!\n"
     ]
    }
   ],
   "source": [
    "import time\n",
    "from collections import Counter\n",
    "import pandas as pd\n",
    "print('Done!')"
   ]
  },
  {
   "cell_type": "code",
   "execution_count": 2,
   "id": "affecting-admission",
   "metadata": {},
   "outputs": [],
   "source": [
    "class University:\n",
    "    def __init__(self, name, address, phone_str):\n",
    "        \n",
    "        self.uni_name = name\n",
    "        self.address = address\n",
    "        self.phone = phone_str\n",
    "        self.__faculties = {}\n",
    "    \n",
    "    \n",
    "    def __str__(self):\n",
    "        a = self.uni_name\n",
    "        b = self.address\n",
    "        c = self.phone\n",
    "        d = len(self.__faculties)\n",
    "        \n",
    "        return f'Name: {a}\\nAddress: {b}\\nContact: {c}\\nFaculty-Count: {d}'\n",
    "        \n",
    "        \n",
    "    def __get_faculty_data(self):\n",
    "        return self.__faculties\n",
    "    \n",
    "    \n",
    "    def __set_faculty(self, faculty):\n",
    "        self.__faculties[faculty.fac_name] = faculty\n",
    "        \n",
    "    \n",
    "    def get_total_students(self):\n",
    "        self.total_students = 0\n",
    "        for key, value in self.__faculties.items():\n",
    "            self.total_students+=value.get_total_students()\n",
    "        return self.total_students"
   ]
  },
  {
   "cell_type": "code",
   "execution_count": 3,
   "id": "potential-responsibility",
   "metadata": {},
   "outputs": [
    {
     "data": {
      "text/plain": [
       "['mary']"
      ]
     },
     "execution_count": 3,
     "metadata": {},
     "output_type": "execute_result"
    }
   ],
   "source": [
    "f = 'mary'\n",
    "g = f.split()[::-1]\n",
    "g"
   ]
  },
  {
   "cell_type": "code",
   "execution_count": 4,
   "id": "stretch-charles",
   "metadata": {},
   "outputs": [],
   "source": [
    "class Faculty(University):\n",
    "    def __init__(self, name, uni):\n",
    "        super(Faculty, self).__init__(name, address, phone_str)\n",
    "        \n",
    "        self.fac_name = name\n",
    "        self.uni_name = uni.uni_name\n",
    "        self.email = (f'{self.fac_name}@{self.uni_name}.com').replace('-','_').lower()\n",
    "        self.__departments = {}\n",
    "        \n",
    "        \n",
    "    def __str__(self):\n",
    "        a = self.uni_name\n",
    "        b = self.address\n",
    "        c = self.fac_name\n",
    "        d = self.email\n",
    "        e = len(self.__departments)\n",
    "        \n",
    "        return f'Uni: {a}\\nAddress: {b}\\nFaculty: {c}\\nEmail: {d}\\nDepartment-Count: {e}'\n",
    "    \n",
    "    \n",
    "    def clean_name(self, strr):\n",
    "            strr = ''.join([i if i.isalpha() else ' ' for i in strr])\n",
    "            splits = strr.split()\n",
    "            f = ''.join([i.capitalize()+' ' for i in splits])\n",
    "            return f[:-1]\n",
    "        \n",
    "    \n",
    "    def __get_faculty_data(self):\n",
    "        data = {}\n",
    "        data['Uni'] = self.uni_name\n",
    "        data['Address'] = self.address\n",
    "        data['Faculty-Name'] = self.fac_name\n",
    "        data['Email'] = self.email\n",
    "        data['Department-Count'] = len(self.__departments)\n",
    "        \n",
    "        return data\n",
    "    \n",
    "    \n",
    "    def get_departments(self):\n",
    "        return self.__departments\n",
    "    \n",
    "    \n",
    "    def get_total_students(self):\n",
    "        self.fac_students = 0\n",
    "        for key in self.__departments.keys():\n",
    "            self.fac_students+=self.__departments[key].get_total_students()\n",
    "        return self.fac_students\n",
    "    \n",
    "    \n",
    "    def __get_students_df(self):\n",
    "        \"\"\"Return all students details from\n",
    "            the Faculty in a Pandas Dataframe\n",
    "        \"\"\"\n",
    "        students_dict = self.__retrieve_all_students()\n",
    "        df_dict = {'Name':[], 'Faculty':[], 'Dept':[], 'Email':[]}\n",
    "        index = []\n",
    "        \n",
    "        for ID, student in students_dict.items():\n",
    "            index.append(ID)\n",
    "            df_dict['Name'].append(student.student_name)\n",
    "            df_dict['Faculty'].append(student.fac_name)\n",
    "            df_dict['Dept'].append(student.dept_name)\n",
    "            df_dict['Email'].append(student.email)\n",
    "            \n",
    "        df = pd.DataFrame(df_dict, index=index)\n",
    "        df.index.name = 'Student-ID'\n",
    "        \n",
    "        return df\n",
    "        \n",
    "    \n",
    "    \n",
    "    def __retrieve_all_students(self):\n",
    "        \"\"\"Helper method for getting all students \n",
    "           data, across all departments in faculty\n",
    "        \"\"\"\n",
    "        students_dict = {}\n",
    "        for dept_name, details in self.__departments.items():\n",
    "            dept_students = details._Department__get_all_students()\n",
    "            for key, value in dept_students.items():\n",
    "                students_dict[key] = value\n",
    "            \n",
    "        return students_dict\n",
    "    \n",
    "    \n",
    "    def get_student_data(self):\n",
    "        fac_students = self.__retrieve_all_students()\n",
    "        ans = input('Enter Student-ID(case sensitive)\\nOr Student-Name(s):')\n",
    "        print()\n",
    "        print('Fetching student data...')\n",
    "        print()\n",
    "        time.sleep(1)\n",
    "        error = 'No Matching Record Found!'\n",
    "        temp_list = []\n",
    "        match_list = []\n",
    "        try:\n",
    "            # If student-ID provided\n",
    "            int(ans[-1])\n",
    "            xy = fac_students.get(ans, error)\n",
    "            if type(xy) is str:\n",
    "                return xy\n",
    "            else:\n",
    "                return xy.get_student_data()\n",
    "        except ValueError:\n",
    "            ans = self.clean_name(ans)\n",
    "            ans_list = ans.split()\n",
    "            ans_rev = ans_list[::-1]\n",
    "            ans_rev = ''.join([i+' ' for i in ans_rev])\n",
    "            ans_rev = ans_rev[:-1]\n",
    "            \n",
    "            for ID, details in fac_students.items():\n",
    "                if (details.student_name == ans) or (details.student_name == ans_rev):\n",
    "                    match_list.append((details.student_name, ID))\n",
    "                else:\n",
    "                    for i in ans_list:\n",
    "                        if i in details.student_name:\n",
    "                            temp_list.append((details.student_name, ID))\n",
    "            \n",
    "        # If match found:\n",
    "        if match_list:\n",
    "            if len(match_list) > 1:\n",
    "                print(f'WARNING: Multiple Records Found with Name(s) {ans}\\nSee list of (Names, Students-ID):\\n{match_list}')\n",
    "                return 'You may Search Again With Student-ID.'\n",
    "            else:\n",
    "                return fac_students[match_list[0][1]].get_student_data()\n",
    "        \n",
    "        # If no match found return error\n",
    "        if not temp_list:\n",
    "            return error\n",
    "        # If multiple other records found return them\n",
    "        elif len(temp_list) > 1:\n",
    "            print(f'WARNING: Partial Records Found with Similar Name(s) {ans}\\nSee list of (Names, Students-ID):\\n{temp_list}')\n",
    "            return 'You may Search Again With Student-ID.'\n",
    "        # else return the single record found\n",
    "        else:\n",
    "            print(f'WARNING: Partial Record Found with Similar Name(s) {ans}\\nSee list of (Name, Students-ID):\\n{temp_list}')\n",
    "            return fac_students[temp_list[0][1]].get_student_data()\n",
    "        \n",
    "                \n",
    "    def __set_department(self, dept):\n",
    "        self.__departments[dept.dept_name] = dept"
   ]
  },
  {
   "cell_type": "code",
   "execution_count": 5,
   "id": "normal-senator",
   "metadata": {},
   "outputs": [],
   "source": [
    "class Department(Faculty):\n",
    "    def __init__(self, name, faculty):\n",
    "        super(Department, self).__init__(name, uni)\n",
    "        \n",
    "        self.dept_name = name\n",
    "        self.dept_tag = self.dept_name[:4].upper()\n",
    "        self.faculty = faculty\n",
    "        self.fac_name = faculty.fac_name\n",
    "        self.uni_name = faculty.uni_name\n",
    "        self.__students = {}\n",
    "        self.email = self.__set_dept_email()\n",
    "        self.courses = []\n",
    "        \n",
    "    def __set_dept_email(self):\n",
    "        a = self.dept_name\n",
    "        b = self.fac_name\n",
    "        c = self.uni_name\n",
    "        val = (f'{a}_dept.{b}@{c}.com').replace('-','_').lower()\n",
    "        return val\n",
    "    \n",
    "            \n",
    "    def __str__(self):\n",
    "        a = self.uni_name\n",
    "        b = self.fac_name\n",
    "        c = self.dept_name\n",
    "        d = self.dept_tag\n",
    "        e = self.email\n",
    "        f = len(self.courses)\n",
    "        \n",
    "        return f'Uni: {a}\\nFaculty {b}\\nDept: {c}\\nDept-Tag: {d}\\nEmail: {e}\\nCourse-Count: {f}'\n",
    "    \n",
    "    \n",
    "    def get_total_students(self):\n",
    "        return len(self.__students)\n",
    "    \n",
    "    \n",
    "    def __set_student(self, student):\n",
    "        self.__students[student.student_id] = student\n",
    "    \n",
    "    \n",
    "    def get_student_data(self):\n",
    "        ans = input('Enter Student-ID (case-sensitive) \\nOR Last-Name:')\n",
    "        print()\n",
    "        print('Fetching student data...')\n",
    "        print()\n",
    "        time.sleep(1)\n",
    "        error = 'No Matching Record Found!'\n",
    "        temp_list = []\n",
    "        \n",
    "        try:\n",
    "            int(ans[-1])\n",
    "            xy = self.__students.get(ans, error)\n",
    "            if type(xy) is str:\n",
    "                return xy\n",
    "            else:\n",
    "                return xy.get_student_data()   \n",
    "        except ValueError:\n",
    "            ans = self.clean_name(ans)\n",
    "            for ID, data in self.__students.items():\n",
    "                l_name = data.student_name.split()[-1]\n",
    "                if l_name == ans:\n",
    "                    temp_list.append((data.student_name, data.student_id))\n",
    "                    \n",
    "        if not temp_list:\n",
    "            return error\n",
    "        elif len(temp_list) != 1:\n",
    "            print(f'WARNING: Multiple Records Found with Last-Name {ans}\\nSee list of (Names, Students-ID):\\n{temp_list}')\n",
    "            return 'You may Search Again With Student-ID.'\n",
    "        else:\n",
    "            return self.__students.get(temp_list[0][1]).get_student_data()\n",
    "        \n",
    "        \n",
    "    def __get_students_df(self):\n",
    "        \"\"\"Return all students details from\n",
    "            the Dept in a Pandas Dataframe\n",
    "        \"\"\"\n",
    "        students_dict = self.__get_all_students()\n",
    "        df_dict = {'Name':[], 'Faculty':[], 'Dept':[], 'Email':[]}\n",
    "        index = []\n",
    "        \n",
    "        for ID, student in students_dict.items():\n",
    "            index.append(ID)\n",
    "            df_dict['Name'].append(student.student_name)\n",
    "            df_dict['Faculty'].append(student.fac_name)\n",
    "            df_dict['Dept'].append(student.dept_name)\n",
    "            df_dict['Email'].append(student.email)\n",
    "            \n",
    "        df = pd.DataFrame(df_dict, index=index)\n",
    "        df.index.name = 'Student-ID'\n",
    "        \n",
    "        return df\n",
    "\n",
    "    \n",
    "    def __get_all_students(self):\n",
    "        \"\"\"returns all students in a dictionary\n",
    "        \"\"\"\n",
    "        return self.__students\n",
    "    \n",
    "    \n",
    "    def get_courses(self):\n",
    "        return self.courses\n",
    "    \n",
    "    \n",
    "    def ___set_course(self, course):\n",
    "        self.courses.append(course)\n",
    "        \n",
    "        \n",
    "    def set_student_email(self):\n",
    "        a = self.student_name.lower()\n",
    "        b = self.dept_name\n",
    "        c = self.fac_name\n",
    "        d = self.uni_name\n",
    "        \n",
    "        return (f'{a}.{b}.{c}@{d}.com').lower().replace('-','_').replace(' ','_')"
   ]
  },
  {
   "cell_type": "code",
   "execution_count": 6,
   "id": "domestic-angle",
   "metadata": {},
   "outputs": [],
   "source": [
    "class Student(Department):\n",
    "    counter = 10\n",
    "    def __init__(self, name, dept):\n",
    "        self.dept = dept\n",
    "        super(Student, self).__init__(name, self.dept.faculty)\n",
    "        \n",
    "        self.student_name = self.clean_name(name)\n",
    "        self.dept_name = self.dept.dept_name\n",
    "        self.dept_tag = self.dept.dept_tag\n",
    "        self.email = self.set_student_email()\n",
    "        self.student_id = '%s%03d'%(self.dept_tag, Student.counter)\n",
    "        \n",
    "        Student.counter+=1\n",
    "        \n",
    "        \n",
    "    def __str__(self):\n",
    "        a = self.uni_name\n",
    "        b = self.address\n",
    "        c = self.student_name\n",
    "        d = self.student_id\n",
    "        e = self.dept_name\n",
    "        f = self.fac_name\n",
    "        g = self.email\n",
    "        \n",
    "        return f'Uni: {a}\\nAddress: {b}\\nStudent: {c}\\nStudent ID: {d}\\nDept: {e}\\nFaculty: {f}\\nEmail: {g}'\n",
    "    \n",
    "    def get_student_data(self):\n",
    "        data = {}\n",
    "        data['Uni'] = self.uni_name\n",
    "        data['Address'] = self.address\n",
    "        data['Student'] = self.student_name\n",
    "        data['Student ID'] = self.student_id\n",
    "        data['Dept'] = self.dept_name\n",
    "        data['Faculty'] = self.fac_name\n",
    "        data['Email'] = self.email\n",
    "        \n",
    "        return data"
   ]
  },
  {
   "cell_type": "code",
   "execution_count": null,
   "id": "certified-export",
   "metadata": {},
   "outputs": [],
   "source": []
  },
  {
   "cell_type": "markdown",
   "id": "supreme-worry",
   "metadata": {},
   "source": [
    "**Instantiate a University class object**"
   ]
  },
  {
   "cell_type": "code",
   "execution_count": 7,
   "id": "synthetic-interval",
   "metadata": {},
   "outputs": [],
   "source": [
    "name = 'Python-University'\n",
    "address = 'Mountain-view California'\n",
    "phone_str = '+99 555 1258 3697'\n",
    "\n",
    "uni = University(name, address, phone_str)"
   ]
  },
  {
   "cell_type": "code",
   "execution_count": 8,
   "id": "chief-harmony",
   "metadata": {},
   "outputs": [
    {
     "name": "stdout",
     "output_type": "stream",
     "text": [
      "Name: Python-University\n",
      "Address: Mountain-view California\n",
      "Contact: +99 555 1258 3697\n",
      "Faculty-Count: 0\n"
     ]
    }
   ],
   "source": [
    "print(uni)"
   ]
  },
  {
   "cell_type": "code",
   "execution_count": 9,
   "id": "polished-anxiety",
   "metadata": {},
   "outputs": [
    {
     "data": {
      "text/plain": [
       "{}"
      ]
     },
     "execution_count": 9,
     "metadata": {},
     "output_type": "execute_result"
    }
   ],
   "source": [
    "uni._University__get_faculty_data()"
   ]
  },
  {
   "cell_type": "code",
   "execution_count": 10,
   "id": "seeing-staff",
   "metadata": {},
   "outputs": [
    {
     "data": {
      "text/plain": [
       "0"
      ]
     },
     "execution_count": 10,
     "metadata": {},
     "output_type": "execute_result"
    }
   ],
   "source": [
    "uni.get_total_students()"
   ]
  },
  {
   "cell_type": "code",
   "execution_count": 11,
   "id": "useful-columbus",
   "metadata": {},
   "outputs": [
    {
     "name": "stdout",
     "output_type": "stream",
     "text": [
      "'University' object has no attribute '__set_faculty'\n"
     ]
    }
   ],
   "source": [
    "try:\n",
    "    uni.__set_faculty()\n",
    "except AttributeError as e:\n",
    "    print(e)"
   ]
  },
  {
   "cell_type": "markdown",
   "id": "quarterly-plane",
   "metadata": {},
   "source": [
    "The `__set_faculty()` method in the `University` class is private to be used within the University class only and can not be accessed out of class. Except we use the convention `uni._University__set_faculty()`"
   ]
  },
  {
   "cell_type": "markdown",
   "id": "younger-unknown",
   "metadata": {},
   "source": [
    "**Let's create some faculties for the python-university**"
   ]
  },
  {
   "cell_type": "code",
   "execution_count": 12,
   "id": "inappropriate-membership",
   "metadata": {},
   "outputs": [],
   "source": [
    "engr_fac = Faculty('Engineering', uni)\n",
    "man_sci_fac = Faculty('Management-Sciences', uni)\n",
    "for_lang_fac = Faculty('Foreign-Languages', uni)\n",
    "mar_sci_fac = Faculty('Marine-Sciences', uni)"
   ]
  },
  {
   "cell_type": "code",
   "execution_count": 13,
   "id": "determined-temple",
   "metadata": {},
   "outputs": [
    {
     "name": "stdout",
     "output_type": "stream",
     "text": [
      "Uni: Python-University\n",
      "Address: Mountain-view California\n",
      "Faculty: Engineering\n",
      "Email: engineering@python_university.com\n",
      "Department-Count: 0\n"
     ]
    }
   ],
   "source": [
    "print(engr_fac)"
   ]
  },
  {
   "cell_type": "code",
   "execution_count": 14,
   "id": "reliable-space",
   "metadata": {},
   "outputs": [
    {
     "name": "stdout",
     "output_type": "stream",
     "text": [
      "Uni: Python-University\n",
      "Address: Mountain-view California\n",
      "Faculty: Management-Sciences\n",
      "Email: management_sciences@python_university.com\n",
      "Department-Count: 0\n"
     ]
    }
   ],
   "source": [
    "print(man_sci_fac)"
   ]
  },
  {
   "cell_type": "code",
   "execution_count": 15,
   "id": "southeast-inclusion",
   "metadata": {},
   "outputs": [
    {
     "name": "stdout",
     "output_type": "stream",
     "text": [
      "+99 555 1258 3697\n",
      "Mountain-view California\n"
     ]
    }
   ],
   "source": [
    "# Let's print some University object attributes inherited by the faculties\n",
    "\n",
    "print(mar_sci_fac.phone)\n",
    "print(mar_sci_fac.address)"
   ]
  },
  {
   "cell_type": "code",
   "execution_count": 16,
   "id": "mediterranean-possible",
   "metadata": {},
   "outputs": [
    {
     "data": {
      "text/plain": [
       "{'Uni': 'Python-University',\n",
       " 'Address': 'Mountain-view California',\n",
       " 'Faculty-Name': 'Marine-Sciences',\n",
       " 'Email': 'marine_sciences@python_university.com',\n",
       " 'Department-Count': 0}"
      ]
     },
     "execution_count": 16,
     "metadata": {},
     "output_type": "execute_result"
    }
   ],
   "source": [
    "# Let's get the data for the Marine Faculty\n",
    "\n",
    "mar_sci_fac._Faculty__get_faculty_data()"
   ]
  },
  {
   "cell_type": "code",
   "execution_count": 17,
   "id": "heavy-german",
   "metadata": {},
   "outputs": [
    {
     "data": {
      "text/plain": [
       "0"
      ]
     },
     "execution_count": 17,
     "metadata": {},
     "output_type": "execute_result"
    }
   ],
   "source": [
    "# Let's get total students in the Marine Faculty, should print 0\n",
    "\n",
    "mar_sci_fac.get_total_students()"
   ]
  },
  {
   "cell_type": "code",
   "execution_count": 18,
   "id": "western-pipeline",
   "metadata": {},
   "outputs": [
    {
     "data": {
      "text/plain": [
       "{}"
      ]
     },
     "execution_count": 18,
     "metadata": {},
     "output_type": "execute_result"
    }
   ],
   "source": [
    "# Let's see the departments in Marine-Sci Faculty, should be empty\n",
    "\n",
    "mar_sci_fac.get_departments()"
   ]
  },
  {
   "cell_type": "markdown",
   "id": "muslim-calvin",
   "metadata": {},
   "source": [
    "**Let's set the faculties to Python-University**"
   ]
  },
  {
   "cell_type": "code",
   "execution_count": 19,
   "id": "neutral-update",
   "metadata": {},
   "outputs": [
    {
     "name": "stdout",
     "output_type": "stream",
     "text": [
      "Done!\n"
     ]
    }
   ],
   "source": [
    "faculty_list = [engr_fac, man_sci_fac, for_lang_fac, mar_sci_fac]\n",
    "\n",
    "for f in faculty_list:\n",
    "    uni._University__set_faculty(f)\n",
    "print('Done!')"
   ]
  },
  {
   "cell_type": "code",
   "execution_count": 20,
   "id": "black-twist",
   "metadata": {},
   "outputs": [
    {
     "name": "stdout",
     "output_type": "stream",
     "text": [
      "Name: Python-University\n",
      "Address: Mountain-view California\n",
      "Contact: +99 555 1258 3697\n",
      "Faculty-Count: 4\n"
     ]
    }
   ],
   "source": [
    "print(uni)\n",
    "\n",
    "# Faculty count should now be 4"
   ]
  },
  {
   "cell_type": "code",
   "execution_count": 21,
   "id": "linear-third",
   "metadata": {},
   "outputs": [
    {
     "data": {
      "text/plain": [
       "{'Engineering': <__main__.Faculty at 0x1f1b09a9610>,\n",
       " 'Management-Sciences': <__main__.Faculty at 0x1f1b09a9be0>,\n",
       " 'Foreign-Languages': <__main__.Faculty at 0x1f1b09a9790>,\n",
       " 'Marine-Sciences': <__main__.Faculty at 0x1f1b09a9c10>}"
      ]
     },
     "execution_count": 21,
     "metadata": {},
     "output_type": "execute_result"
    }
   ],
   "source": [
    "uni._University__get_faculty_data()\n",
    "\n",
    "# This should return a dictionary with faculty names as keys and faculties as values"
   ]
  },
  {
   "cell_type": "code",
   "execution_count": 22,
   "id": "suited-eugene",
   "metadata": {},
   "outputs": [
    {
     "data": {
      "text/plain": [
       "0"
      ]
     },
     "execution_count": 22,
     "metadata": {},
     "output_type": "execute_result"
    }
   ],
   "source": [
    "# Let's get the total students in the Engineering Faculty, should print 0\n",
    "\n",
    "uni._University__get_faculty_data()['Engineering'].get_total_students()"
   ]
  },
  {
   "cell_type": "code",
   "execution_count": 23,
   "id": "premier-restriction",
   "metadata": {},
   "outputs": [
    {
     "name": "stdout",
     "output_type": "stream",
     "text": [
      "Uni: Python-University\n",
      "Address: Mountain-view California\n",
      "Faculty: Engineering\n",
      "Email: engineering@python_university.com\n",
      "Department-Count: 0\n"
     ]
    }
   ],
   "source": [
    "# This should print the faculty data for only the Enginnering faculty\n",
    "\n",
    "print(uni._University__get_faculty_data()['Engineering'])"
   ]
  },
  {
   "cell_type": "code",
   "execution_count": 24,
   "id": "coordinated-species",
   "metadata": {},
   "outputs": [
    {
     "name": "stdout",
     "output_type": "stream",
     "text": [
      "foreign_languages@python_university.com\n"
     ]
    }
   ],
   "source": [
    "# this should print the email for the foreign-languages faculty only\n",
    "\n",
    "print(uni._University__get_faculty_data()['Foreign-Languages'].email)"
   ]
  },
  {
   "cell_type": "code",
   "execution_count": 25,
   "id": "incorporated-wells",
   "metadata": {},
   "outputs": [
    {
     "data": {
      "text/plain": [
       "0"
      ]
     },
     "execution_count": 25,
     "metadata": {},
     "output_type": "execute_result"
    }
   ],
   "source": [
    "# Let's get total students in University, should print 0 as no students yet\n",
    "\n",
    "uni.get_total_students()"
   ]
  },
  {
   "cell_type": "markdown",
   "id": "animated-scheduling",
   "metadata": {},
   "source": [
    "**Let's create some departments for the faculties**"
   ]
  },
  {
   "cell_type": "code",
   "execution_count": 26,
   "id": "technical-postage",
   "metadata": {},
   "outputs": [
    {
     "name": "stdout",
     "output_type": "stream",
     "text": [
      "Done!\n"
     ]
    }
   ],
   "source": [
    "# For Engineering Faculty\n",
    "civil_engr_dept = Department('Civil-Engr', engr_fac)\n",
    "mech_engr_dept = Department('Mechanical-Engr', engr_fac)\n",
    "computing_dept = Department('Computing', engr_fac)\n",
    "\n",
    "# For Management-Sciences Faculty\n",
    "banking_dept = Department('Banking', man_sci_fac)\n",
    "accounts_dept = Department('Accountancy', man_sci_fac)\n",
    "mass_comm_dept = Department('Mass-Communication', man_sci_fac)\n",
    "\n",
    "# For Foreign Language Faculty\n",
    "french_dept = Department('French', for_lang_fac)\n",
    "spanish_dept = Department('Spanish', for_lang_fac)\n",
    "italian_dept = Department('Italian', for_lang_fac)\n",
    "swahili_dept = Department('Swahili', for_lang_fac)\n",
    "\n",
    "# For Marine-Sci Faculty\n",
    "fishery_dept = Department('Fishery', mar_sci_fac)\n",
    "sea_fauna_dept = Department('Sea-Fauna', mar_sci_fac)\n",
    "ocean_res_dept = Department('Ocean-Reservation', mar_sci_fac)\n",
    "\n",
    "print('Done!')"
   ]
  },
  {
   "cell_type": "code",
   "execution_count": 27,
   "id": "governmental-belgium",
   "metadata": {},
   "outputs": [
    {
     "name": "stdout",
     "output_type": "stream",
     "text": [
      "Uni: Python-University\n",
      "Faculty Marine-Sciences\n",
      "Dept: Ocean-Reservation\n",
      "Dept-Tag: OCEA\n",
      "Email: ocean_reservation_dept.marine_sciences@python_university.com\n",
      "Course-Count: 0\n"
     ]
    }
   ],
   "source": [
    "# Let's print the details of the Ocean-reservation department\n",
    "\n",
    "print(ocean_res_dept)"
   ]
  },
  {
   "cell_type": "code",
   "execution_count": 28,
   "id": "expensive-lodge",
   "metadata": {},
   "outputs": [
    {
     "name": "stdout",
     "output_type": "stream",
     "text": [
      "Uni: Python-University\n",
      "Faculty Management-Sciences\n",
      "Dept: Accountancy\n",
      "Dept-Tag: ACCO\n",
      "Email: accountancy_dept.management_sciences@python_university.com\n",
      "Course-Count: 0\n"
     ]
    }
   ],
   "source": [
    "# Let's print the details of the accounts department\n",
    "\n",
    "print(accounts_dept)"
   ]
  },
  {
   "cell_type": "code",
   "execution_count": 29,
   "id": "interesting-creation",
   "metadata": {},
   "outputs": [],
   "source": [
    "# Let's make a list of all the departments so far\n",
    "\n",
    "dept_list = [\n",
    "    civil_engr_dept,\n",
    "    mech_engr_dept,\n",
    "    computing_dept,\n",
    "    banking_dept,\n",
    "    accounts_dept,\n",
    "    mass_comm_dept,\n",
    "    french_dept,\n",
    "    spanish_dept,\n",
    "    italian_dept,\n",
    "    swahili_dept,\n",
    "    fishery_dept,\n",
    "    sea_fauna_dept,\n",
    "    ocean_res_dept\n",
    "]"
   ]
  },
  {
   "cell_type": "markdown",
   "id": "mysterious-eligibility",
   "metadata": {},
   "source": [
    "**Let's add the departments to their relevant faculties**"
   ]
  },
  {
   "cell_type": "code",
   "execution_count": 30,
   "id": "extra-stranger",
   "metadata": {},
   "outputs": [
    {
     "name": "stdout",
     "output_type": "stream",
     "text": [
      "Done!\n"
     ]
    }
   ],
   "source": [
    "for i in range(len(dept_list)):\n",
    "    dept = dept_list[i]\n",
    "    if i < 3:\n",
    "        engr_fac._Faculty__set_department(dept)\n",
    "    elif i < 6:\n",
    "        man_sci_fac._Faculty__set_department(dept)\n",
    "    elif i < 10:\n",
    "        for_lang_fac._Faculty__set_department(dept)\n",
    "    else:\n",
    "        mar_sci_fac._Faculty__set_department(dept)\n",
    "        \n",
    "print('Done!')"
   ]
  },
  {
   "cell_type": "code",
   "execution_count": 31,
   "id": "bulgarian-devon",
   "metadata": {},
   "outputs": [
    {
     "name": "stdout",
     "output_type": "stream",
     "text": [
      "Uni: Python-University\n",
      "Address: Mountain-view California\n",
      "Faculty: Engineering\n",
      "Email: engineering@python_university.com\n",
      "Department-Count: 3\n"
     ]
    }
   ],
   "source": [
    "print(engr_fac)\n",
    "\n",
    "# Department-Count: should now be 3"
   ]
  },
  {
   "cell_type": "code",
   "execution_count": 32,
   "id": "average-insider",
   "metadata": {},
   "outputs": [
    {
     "name": "stdout",
     "output_type": "stream",
     "text": [
      "Uni: Python-University\n",
      "Address: Mountain-view California\n",
      "Faculty: Management-Sciences\n",
      "Email: management_sciences@python_university.com\n",
      "Department-Count: 3\n"
     ]
    }
   ],
   "source": [
    "print(man_sci_fac)\n",
    "\n",
    "# Department-Count: should now be 3"
   ]
  },
  {
   "cell_type": "code",
   "execution_count": 33,
   "id": "narrow-combination",
   "metadata": {},
   "outputs": [
    {
     "name": "stdout",
     "output_type": "stream",
     "text": [
      "Uni: Python-University\n",
      "Address: Mountain-view California\n",
      "Faculty: Foreign-Languages\n",
      "Email: foreign_languages@python_university.com\n",
      "Department-Count: 4\n"
     ]
    }
   ],
   "source": [
    "print(for_lang_fac)\n",
    "\n",
    "# Department-Count: should now be 4"
   ]
  },
  {
   "cell_type": "code",
   "execution_count": 34,
   "id": "whole-selection",
   "metadata": {
    "scrolled": true
   },
   "outputs": [
    {
     "name": "stdout",
     "output_type": "stream",
     "text": [
      "Uni: Python-University\n",
      "Address: Mountain-view California\n",
      "Faculty: Marine-Sciences\n",
      "Email: marine_sciences@python_university.com\n",
      "Department-Count: 3\n"
     ]
    }
   ],
   "source": [
    "print(mar_sci_fac)\n",
    "\n",
    "# Department-Count: should now be 3"
   ]
  },
  {
   "cell_type": "code",
   "execution_count": 35,
   "id": "alike-hanging",
   "metadata": {},
   "outputs": [
    {
     "data": {
      "text/plain": [
       "{'Fishery': <__main__.Department at 0x1f1b094efa0>,\n",
       " 'Sea-Fauna': <__main__.Department at 0x1f1b094eca0>,\n",
       " 'Ocean-Reservation': <__main__.Department at 0x1f1b094e100>}"
      ]
     },
     "execution_count": 35,
     "metadata": {},
     "output_type": "execute_result"
    }
   ],
   "source": [
    "mar_sci_fac.get_departments()"
   ]
  },
  {
   "cell_type": "code",
   "execution_count": 36,
   "id": "veterinary-opinion",
   "metadata": {},
   "outputs": [
    {
     "data": {
      "text/plain": [
       "{'French': <__main__.Department at 0x1f1b099abe0>,\n",
       " 'Spanish': <__main__.Department at 0x1f1b099a430>,\n",
       " 'Italian': <__main__.Department at 0x1f1b094ed90>,\n",
       " 'Swahili': <__main__.Department at 0x1f1b094eee0>}"
      ]
     },
     "execution_count": 36,
     "metadata": {},
     "output_type": "execute_result"
    }
   ],
   "source": [
    "for_lang_fac.get_departments()"
   ]
  },
  {
   "cell_type": "code",
   "execution_count": 37,
   "id": "cutting-eleven",
   "metadata": {},
   "outputs": [
    {
     "data": {
      "text/plain": [
       "{'Banking': <__main__.Department at 0x1f1b099ac40>,\n",
       " 'Accountancy': <__main__.Department at 0x1f1b099a490>,\n",
       " 'Mass-Communication': <__main__.Department at 0x1f1b099a8e0>}"
      ]
     },
     "execution_count": 37,
     "metadata": {},
     "output_type": "execute_result"
    }
   ],
   "source": [
    "man_sci_fac.get_departments()"
   ]
  },
  {
   "cell_type": "code",
   "execution_count": 38,
   "id": "classical-neutral",
   "metadata": {},
   "outputs": [
    {
     "data": {
      "text/plain": [
       "{'Civil-Engr': <__main__.Department at 0x1f1b099aca0>,\n",
       " 'Mechanical-Engr': <__main__.Department at 0x1f1b099aa90>,\n",
       " 'Computing': <__main__.Department at 0x1f1b099a100>}"
      ]
     },
     "execution_count": 38,
     "metadata": {},
     "output_type": "execute_result"
    }
   ],
   "source": [
    "engr_fac.get_departments()"
   ]
  },
  {
   "cell_type": "code",
   "execution_count": 39,
   "id": "quality-consumer",
   "metadata": {},
   "outputs": [
    {
     "data": {
      "text/plain": [
       "'swahili_dept.foreign_languages@python_university.com'"
      ]
     },
     "execution_count": 39,
     "metadata": {},
     "output_type": "execute_result"
    }
   ],
   "source": [
    "for_lang_fac.get_departments()['Swahili'].email\n",
    "\n",
    "# Should print just the email address for the Swahili dept"
   ]
  },
  {
   "cell_type": "code",
   "execution_count": 40,
   "id": "classified-service",
   "metadata": {},
   "outputs": [
    {
     "data": {
      "text/plain": [
       "'computing_dept.engineering@python_university.com'"
      ]
     },
     "execution_count": 40,
     "metadata": {},
     "output_type": "execute_result"
    }
   ],
   "source": [
    "engr_fac.get_departments()['Computing'].email\n",
    "\n",
    "# Should print just the email address for the Computing dept"
   ]
  },
  {
   "cell_type": "code",
   "execution_count": 41,
   "id": "known-mineral",
   "metadata": {},
   "outputs": [
    {
     "data": {
      "text/plain": [
       "'Mountain-view California'"
      ]
     },
     "execution_count": 41,
     "metadata": {},
     "output_type": "execute_result"
    }
   ],
   "source": [
    "for_lang_fac.address\n",
    "\n",
    "# Should print the University address"
   ]
  },
  {
   "cell_type": "markdown",
   "id": "permanent-variation",
   "metadata": {},
   "source": [
    "**Next, let's create some students for the respective departments**"
   ]
  },
  {
   "cell_type": "markdown",
   "id": "derived-newsletter",
   "metadata": {},
   "source": [
    "For Engr Faculty... Civil Engr dept"
   ]
  },
  {
   "cell_type": "code",
   "execution_count": 42,
   "id": "attempted-verification",
   "metadata": {},
   "outputs": [],
   "source": [
    "stud1 = Student('David Mark', civil_engr_dept)\n",
    "stud2 = Student('Trevor-Noah', civil_engr_dept)\n",
    "stud3 = Student('Mark Price', civil_engr_dept)\n",
    "stud4 = Student('Rita Bansky', civil_engr_dept)\n",
    "stud5 = Student('David Rye', civil_engr_dept)\n",
    "stud6 = Student('Kimberley Scott', civil_engr_dept)\n",
    "stud7 = Student('Brenda Mark', civil_engr_dept)\n",
    "stud8 = Student('Ryan-Presky', civil_engr_dept)\n",
    "stud9 = Student('Dave Marko', civil_engr_dept)"
   ]
  },
  {
   "cell_type": "code",
   "execution_count": 43,
   "id": "lasting-survival",
   "metadata": {
    "scrolled": true
   },
   "outputs": [
    {
     "data": {
      "text/plain": [
       "{'Uni': 'Python-University',\n",
       " 'Address': 'Mountain-view California',\n",
       " 'Student': 'David Mark',\n",
       " 'Student ID': 'CIVI010',\n",
       " 'Dept': 'Civil-Engr',\n",
       " 'Faculty': 'Engineering',\n",
       " 'Email': 'david_mark.civil_engr.engineering@python_university.com'}"
      ]
     },
     "execution_count": 43,
     "metadata": {},
     "output_type": "execute_result"
    }
   ],
   "source": [
    "stud1.get_student_data()"
   ]
  },
  {
   "cell_type": "code",
   "execution_count": 44,
   "id": "corporate-natural",
   "metadata": {},
   "outputs": [
    {
     "data": {
      "text/plain": [
       "{}"
      ]
     },
     "execution_count": 44,
     "metadata": {},
     "output_type": "execute_result"
    }
   ],
   "source": [
    "stud1.get_departments()"
   ]
  },
  {
   "cell_type": "code",
   "execution_count": 45,
   "id": "collaborative-explanation",
   "metadata": {},
   "outputs": [
    {
     "name": "stdout",
     "output_type": "stream",
     "text": [
      "Uni: Python-University\n",
      "Address: Mountain-view California\n",
      "Student: Dave Marko\n",
      "Student ID: CIVI018\n",
      "Dept: Civil-Engr\n",
      "Faculty: Engineering\n",
      "Email: dave_marko.civil_engr.engineering@python_university.com\n"
     ]
    }
   ],
   "source": [
    "print(stud9)"
   ]
  },
  {
   "cell_type": "markdown",
   "id": "respective-pipeline",
   "metadata": {},
   "source": [
    "For Engr Faculty... Mech Engr dept"
   ]
  },
  {
   "cell_type": "code",
   "execution_count": 46,
   "id": "pediatric-atlantic",
   "metadata": {},
   "outputs": [],
   "source": [
    "# For Engr Faculty\n",
    "# Mechanical Engr dept\n",
    "\n",
    "stud10 = Student('Harry Ray', mech_engr_dept)\n",
    "stud11 = Student('Minsky-Noah', mech_engr_dept)\n",
    "stud12 = Student('Markel Press', mech_engr_dept)\n",
    "stud13 = Student('Peter Barnie', mech_engr_dept)\n",
    "stud14 = Student('David Rook', mech_engr_dept)\n",
    "stud15 = Student('Kim Schultz', mech_engr_dept)\n",
    "stud16 = Student('Brenda Mario', mech_engr_dept)\n",
    "stud17 = Student('Ian-Precious', mech_engr_dept)\n",
    "stud18 = Student('Dave Made', mech_engr_dept)"
   ]
  },
  {
   "cell_type": "code",
   "execution_count": 47,
   "id": "clear-trace",
   "metadata": {},
   "outputs": [
    {
     "data": {
      "text/plain": [
       "{'Uni': 'Python-University',\n",
       " 'Address': 'Mountain-view California',\n",
       " 'Student': 'Harry Ray',\n",
       " 'Student ID': 'MECH019',\n",
       " 'Dept': 'Mechanical-Engr',\n",
       " 'Faculty': 'Engineering',\n",
       " 'Email': 'harry_ray.mechanical_engr.engineering@python_university.com'}"
      ]
     },
     "execution_count": 47,
     "metadata": {},
     "output_type": "execute_result"
    }
   ],
   "source": [
    "stud10.get_student_data()"
   ]
  },
  {
   "cell_type": "code",
   "execution_count": 48,
   "id": "divine-duplicate",
   "metadata": {},
   "outputs": [
    {
     "name": "stdout",
     "output_type": "stream",
     "text": [
      "Uni: Python-University\n",
      "Address: Mountain-view California\n",
      "Student: Dave Made\n",
      "Student ID: MECH027\n",
      "Dept: Mechanical-Engr\n",
      "Faculty: Engineering\n",
      "Email: dave_made.mechanical_engr.engineering@python_university.com\n"
     ]
    }
   ],
   "source": [
    "print(stud18)"
   ]
  },
  {
   "cell_type": "markdown",
   "id": "insured-hampton",
   "metadata": {},
   "source": [
    "For Engr Faculty... Computing dept"
   ]
  },
  {
   "cell_type": "code",
   "execution_count": 49,
   "id": "interracial-newark",
   "metadata": {},
   "outputs": [],
   "source": [
    "# For Engr Faculty\n",
    "# Computing dept\n",
    "\n",
    "stud19 = Student('Jacob blake', computing_dept)\n",
    "stud20 = Student('tara Ferdi', computing_dept)\n",
    "stud21 = Student('Moses Ilunge', computing_dept)\n",
    "stud22 = Student('Harvey Olu', computing_dept)\n",
    "stud23 = Student('Chris Egbu', computing_dept)\n",
    "stud24 = Student('Lawrence Kruks', computing_dept)\n",
    "stud25 = Student('Gilbert Roonie', computing_dept)\n",
    "stud26 = Student('Ian-Garcia', computing_dept)\n",
    "stud27 = Student('Dilla Paige', computing_dept)\n",
    "stud28 = Student('robo monterrey', computing_dept)\n",
    "stud29 = Student('Evans Jack', computing_dept)\n",
    "stud30 = Student('francis-kuronemi', computing_dept)\n",
    "stud31 = Student('Liyel Mark', computing_dept)"
   ]
  },
  {
   "cell_type": "code",
   "execution_count": 50,
   "id": "optical-republican",
   "metadata": {},
   "outputs": [
    {
     "name": "stdout",
     "output_type": "stream",
     "text": [
      "Uni: Python-University\n",
      "Address: Mountain-view California\n",
      "Student: Jacob Blake\n",
      "Student ID: COMP028\n",
      "Dept: Computing\n",
      "Faculty: Engineering\n",
      "Email: jacob_blake.computing.engineering@python_university.com\n"
     ]
    }
   ],
   "source": [
    "print(stud19)"
   ]
  },
  {
   "cell_type": "code",
   "execution_count": 51,
   "id": "timely-monte",
   "metadata": {},
   "outputs": [
    {
     "name": "stdout",
     "output_type": "stream",
     "text": [
      "Uni: Python-University\n",
      "Address: Mountain-view California\n",
      "Student: Lawrence Kruks\n",
      "Student ID: COMP033\n",
      "Dept: Computing\n",
      "Faculty: Engineering\n",
      "Email: lawrence_kruks.computing.engineering@python_university.com\n"
     ]
    }
   ],
   "source": [
    "print(stud24)"
   ]
  },
  {
   "cell_type": "markdown",
   "id": "successful-exhaust",
   "metadata": {},
   "source": [
    "Let's add these Student objects to the respective departments in Engineering Faculty"
   ]
  },
  {
   "cell_type": "code",
   "execution_count": 52,
   "id": "textile-reminder",
   "metadata": {},
   "outputs": [],
   "source": [
    "engr_fac_students = [\n",
    "    stud1, stud2, stud3, stud4, stud5, stud6, stud7, stud8, stud9, stud10,\n",
    "    stud11, stud12, stud13, stud14, stud15, stud16, stud17, stud18, stud19,\n",
    "    stud20, stud21, stud22, stud23, stud24, stud25, stud26, stud27, stud28,\n",
    "    stud29, stud30, stud31\n",
    "]"
   ]
  },
  {
   "cell_type": "code",
   "execution_count": 53,
   "id": "social-dominican",
   "metadata": {},
   "outputs": [],
   "source": [
    "def add_students_to_depts(students_list, faculty):\n",
    "    \"\"\"Add Student objects in a faculty to their\n",
    "        respective Department instances.\n",
    "    \"\"\"\n",
    "    dept_dict = faculty.get_departments()\n",
    "    \n",
    "    for name, value in dept_dict.items():\n",
    "        for student in students_list:\n",
    "            if student.dept_name == name:\n",
    "                value._Department__set_student(student)\n",
    "    print('Done!')"
   ]
  },
  {
   "cell_type": "code",
   "execution_count": 54,
   "id": "patent-settle",
   "metadata": {},
   "outputs": [
    {
     "name": "stdout",
     "output_type": "stream",
     "text": [
      "Done!\n"
     ]
    }
   ],
   "source": [
    "add_students_to_depts(engr_fac_students, engr_fac)"
   ]
  },
  {
   "cell_type": "markdown",
   "id": "acceptable-groove",
   "metadata": {},
   "source": [
    "**Let's see the faculties again in the Uni**"
   ]
  },
  {
   "cell_type": "code",
   "execution_count": 55,
   "id": "convenient-appraisal",
   "metadata": {
    "scrolled": true
   },
   "outputs": [
    {
     "data": {
      "text/plain": [
       "{'Engineering': <__main__.Faculty at 0x1f1b09a9610>,\n",
       " 'Management-Sciences': <__main__.Faculty at 0x1f1b09a9be0>,\n",
       " 'Foreign-Languages': <__main__.Faculty at 0x1f1b09a9790>,\n",
       " 'Marine-Sciences': <__main__.Faculty at 0x1f1b09a9c10>}"
      ]
     },
     "execution_count": 55,
     "metadata": {},
     "output_type": "execute_result"
    }
   ],
   "source": [
    "uni._University__get_faculty_data()"
   ]
  },
  {
   "cell_type": "markdown",
   "id": "innovative-concern",
   "metadata": {},
   "source": [
    "**Getting Total students from each Faculty using the University object**..."
   ]
  },
  {
   "cell_type": "code",
   "execution_count": 56,
   "id": "adopted-diary",
   "metadata": {},
   "outputs": [
    {
     "data": {
      "text/plain": [
       "31"
      ]
     },
     "execution_count": 56,
     "metadata": {},
     "output_type": "execute_result"
    }
   ],
   "source": [
    "# Getting total students for Engineering Faculty from the University Object\n",
    "\n",
    "uni._University__get_faculty_data()['Engineering'].get_total_students()"
   ]
  },
  {
   "cell_type": "code",
   "execution_count": 57,
   "id": "compact-parking",
   "metadata": {},
   "outputs": [
    {
     "data": {
      "text/plain": [
       "0"
      ]
     },
     "execution_count": 57,
     "metadata": {},
     "output_type": "execute_result"
    }
   ],
   "source": [
    "# Getting total students for Man-Sci Faculty from the University Object\n",
    "\n",
    "uni._University__get_faculty_data()['Management-Sciences'].get_total_students()"
   ]
  },
  {
   "cell_type": "code",
   "execution_count": 58,
   "id": "viral-watershed",
   "metadata": {},
   "outputs": [
    {
     "data": {
      "text/plain": [
       "0"
      ]
     },
     "execution_count": 58,
     "metadata": {},
     "output_type": "execute_result"
    }
   ],
   "source": [
    "# Getting total students for Mar-Sci Faculty from the University Object\n",
    "\n",
    "uni._University__get_faculty_data()['Marine-Sciences'].get_total_students()"
   ]
  },
  {
   "cell_type": "code",
   "execution_count": 59,
   "id": "solved-citizenship",
   "metadata": {},
   "outputs": [
    {
     "data": {
      "text/plain": [
       "0"
      ]
     },
     "execution_count": 59,
     "metadata": {},
     "output_type": "execute_result"
    }
   ],
   "source": [
    "# Getting total students for Foreign-Lang Faculty from the University Object\n",
    "\n",
    "uni._University__get_faculty_data()['Foreign-Languages'].get_total_students()"
   ]
  },
  {
   "cell_type": "markdown",
   "id": "mediterranean-office",
   "metadata": {},
   "source": [
    "**Getting total students directly from the University Object**..."
   ]
  },
  {
   "cell_type": "code",
   "execution_count": 60,
   "id": "acting-cyprus",
   "metadata": {},
   "outputs": [
    {
     "data": {
      "text/plain": [
       "31"
      ]
     },
     "execution_count": 60,
     "metadata": {},
     "output_type": "execute_result"
    }
   ],
   "source": [
    "# Getting total students directly from the University Object\n",
    "\n",
    "uni.get_total_students()"
   ]
  },
  {
   "cell_type": "markdown",
   "id": "vital-anchor",
   "metadata": {},
   "source": [
    "**Getting total students directly from each Department Object...**"
   ]
  },
  {
   "cell_type": "code",
   "execution_count": 61,
   "id": "trained-hybrid",
   "metadata": {},
   "outputs": [
    {
     "data": {
      "text/plain": [
       "13"
      ]
     },
     "execution_count": 61,
     "metadata": {},
     "output_type": "execute_result"
    }
   ],
   "source": [
    "computing_dept.get_total_students()"
   ]
  },
  {
   "cell_type": "code",
   "execution_count": 62,
   "id": "engaging-tamil",
   "metadata": {},
   "outputs": [
    {
     "data": {
      "text/plain": [
       "9"
      ]
     },
     "execution_count": 62,
     "metadata": {},
     "output_type": "execute_result"
    }
   ],
   "source": [
    "mech_engr_dept.get_total_students()"
   ]
  },
  {
   "cell_type": "code",
   "execution_count": 63,
   "id": "dirty-playing",
   "metadata": {},
   "outputs": [
    {
     "data": {
      "text/plain": [
       "9"
      ]
     },
     "execution_count": 63,
     "metadata": {},
     "output_type": "execute_result"
    }
   ],
   "source": [
    "civil_engr_dept.get_total_students()"
   ]
  },
  {
   "cell_type": "code",
   "execution_count": 64,
   "id": "quarterly-coalition",
   "metadata": {},
   "outputs": [
    {
     "data": {
      "text/plain": [
       "0"
      ]
     },
     "execution_count": 64,
     "metadata": {},
     "output_type": "execute_result"
    }
   ],
   "source": [
    "french_dept.get_total_students()"
   ]
  },
  {
   "cell_type": "markdown",
   "id": "fifth-graduate",
   "metadata": {},
   "source": [
    "**Getting Total Students directly from the Faculty objects**"
   ]
  },
  {
   "cell_type": "code",
   "execution_count": 65,
   "id": "objective-venezuela",
   "metadata": {},
   "outputs": [
    {
     "data": {
      "text/plain": [
       "31"
      ]
     },
     "execution_count": 65,
     "metadata": {},
     "output_type": "execute_result"
    }
   ],
   "source": [
    "engr_fac.get_total_students()"
   ]
  },
  {
   "cell_type": "code",
   "execution_count": 66,
   "id": "arabic-roman",
   "metadata": {},
   "outputs": [
    {
     "data": {
      "text/plain": [
       "0"
      ]
     },
     "execution_count": 66,
     "metadata": {},
     "output_type": "execute_result"
    }
   ],
   "source": [
    "man_sci_fac.get_total_students()"
   ]
  },
  {
   "cell_type": "code",
   "execution_count": 67,
   "id": "roman-field",
   "metadata": {},
   "outputs": [
    {
     "data": {
      "text/plain": [
       "0"
      ]
     },
     "execution_count": 67,
     "metadata": {},
     "output_type": "execute_result"
    }
   ],
   "source": [
    "mar_sci_fac.get_total_students()"
   ]
  },
  {
   "cell_type": "code",
   "execution_count": 68,
   "id": "national-treasury",
   "metadata": {},
   "outputs": [
    {
     "data": {
      "text/plain": [
       "0"
      ]
     },
     "execution_count": 68,
     "metadata": {},
     "output_type": "execute_result"
    }
   ],
   "source": [
    "for_lang_fac.get_total_students()"
   ]
  },
  {
   "cell_type": "markdown",
   "id": "protective-contamination",
   "metadata": {},
   "source": [
    "**Retrieving Students data on a Departmental level**\n",
    "\n",
    "* Here we expect Department Staff to be able to retrieve students data either via Student-ID or Student-LastName\n",
    "* Each Department Staff can only search and find students within their respective departments."
   ]
  },
  {
   "cell_type": "code",
   "execution_count": 69,
   "id": "funny-auckland",
   "metadata": {},
   "outputs": [
    {
     "name": "stdout",
     "output_type": "stream",
     "text": [
      "Uni: Python-University\n",
      "Address: Mountain-view California\n",
      "Student: Brenda Mark\n",
      "Student ID: CIVI016\n",
      "Dept: Civil-Engr\n",
      "Faculty: Engineering\n",
      "Email: brenda_mark.civil_engr.engineering@python_university.com\n"
     ]
    }
   ],
   "source": [
    "print(stud7)"
   ]
  },
  {
   "cell_type": "code",
   "execution_count": 70,
   "id": "interior-voltage",
   "metadata": {},
   "outputs": [
    {
     "name": "stdout",
     "output_type": "stream",
     "text": [
      "Enter Student-ID (case-sensitive) \n",
      "OR Last-Name:CIVI016\n",
      "\n",
      "Fetching student data...\n",
      "\n"
     ]
    },
    {
     "data": {
      "text/plain": [
       "{'Uni': 'Python-University',\n",
       " 'Address': 'Mountain-view California',\n",
       " 'Student': 'Brenda Mark',\n",
       " 'Student ID': 'CIVI016',\n",
       " 'Dept': 'Civil-Engr',\n",
       " 'Faculty': 'Engineering',\n",
       " 'Email': 'brenda_mark.civil_engr.engineering@python_university.com'}"
      ]
     },
     "execution_count": 70,
     "metadata": {},
     "output_type": "execute_result"
    }
   ],
   "source": [
    "# Trying to retieve the above students data with Student ID in Civil Engr Dept\n",
    "\n",
    "civil_engr_dept.get_student_data()"
   ]
  },
  {
   "cell_type": "code",
   "execution_count": 71,
   "id": "anonymous-weekend",
   "metadata": {},
   "outputs": [
    {
     "name": "stdout",
     "output_type": "stream",
     "text": [
      "Enter Student-ID (case-sensitive) \n",
      "OR Last-Name:CIVI016\n",
      "\n",
      "Fetching student data...\n",
      "\n"
     ]
    },
    {
     "data": {
      "text/plain": [
       "'No Matching Record Found!'"
      ]
     },
     "execution_count": 71,
     "metadata": {},
     "output_type": "execute_result"
    }
   ],
   "source": [
    "# Trying to retieve the above students data with Student ID in a different Dept\n",
    "\n",
    "french_dept.get_student_data()"
   ]
  },
  {
   "cell_type": "code",
   "execution_count": 72,
   "id": "indirect-argument",
   "metadata": {},
   "outputs": [
    {
     "name": "stdout",
     "output_type": "stream",
     "text": [
      "Enter Student-ID (case-sensitive) \n",
      "OR Last-Name:mark\n",
      "\n",
      "Fetching student data...\n",
      "\n"
     ]
    },
    {
     "data": {
      "text/plain": [
       "{'Uni': 'Python-University',\n",
       " 'Address': 'Mountain-view California',\n",
       " 'Student': 'Liyel Mark',\n",
       " 'Student ID': 'COMP040',\n",
       " 'Dept': 'Computing',\n",
       " 'Faculty': 'Engineering',\n",
       " 'Email': 'liyel_mark.computing.engineering@python_university.com'}"
      ]
     },
     "execution_count": 72,
     "metadata": {},
     "output_type": "execute_result"
    }
   ],
   "source": [
    "# Trying to retieve the above students data with Student Lastname in a different Dept\n",
    "\n",
    "computing_dept.get_student_data()"
   ]
  },
  {
   "cell_type": "markdown",
   "id": "current-words",
   "metadata": {},
   "source": [
    "We see that using the last-name of mark, we are able to retrieve the only Student data in Computing Dept with that last-name.<br>\n",
    "Let's try to use the same last-name in the Civil-Engr Dept"
   ]
  },
  {
   "cell_type": "code",
   "execution_count": 73,
   "id": "dynamic-lloyd",
   "metadata": {},
   "outputs": [
    {
     "name": "stdout",
     "output_type": "stream",
     "text": [
      "Enter Student-ID (case-sensitive) \n",
      "OR Last-Name:Mark\n",
      "\n",
      "Fetching student data...\n",
      "\n",
      "WARNING: Multiple Records Found with Last-Name Mark\n",
      "See list of (Names, Students-ID):\n",
      "[('David Mark', 'CIVI010'), ('Brenda Mark', 'CIVI016')]\n"
     ]
    },
    {
     "data": {
      "text/plain": [
       "'You may Search Again With Student-ID.'"
      ]
     },
     "execution_count": 73,
     "metadata": {},
     "output_type": "execute_result"
    }
   ],
   "source": [
    "# Trying to retieve the above students data with Student Lastname in Civil Dept\n",
    "\n",
    "civil_engr_dept.get_student_data()"
   ]
  },
  {
   "cell_type": "markdown",
   "id": "responsible-amplifier",
   "metadata": {},
   "source": [
    "We can see that when more than one student in the department, has the same last-name used for the search, a list of tuples is returned, containing each student name and ID that matches the last-name used. With a concluding message to retry a more informed-search with this new data."
   ]
  },
  {
   "cell_type": "code",
   "execution_count": 74,
   "id": "interstate-russia",
   "metadata": {},
   "outputs": [
    {
     "name": "stdout",
     "output_type": "stream",
     "text": [
      "Enter Student-ID (case-sensitive) \n",
      "OR Last-Name:KruKS\n",
      "\n",
      "Fetching student data...\n",
      "\n"
     ]
    },
    {
     "data": {
      "text/plain": [
       "{'Uni': 'Python-University',\n",
       " 'Address': 'Mountain-view California',\n",
       " 'Student': 'Lawrence Kruks',\n",
       " 'Student ID': 'COMP033',\n",
       " 'Dept': 'Computing',\n",
       " 'Faculty': 'Engineering',\n",
       " 'Email': 'lawrence_kruks.computing.engineering@python_university.com'}"
      ]
     },
     "execution_count": 74,
     "metadata": {},
     "output_type": "execute_result"
    }
   ],
   "source": [
    "# let's look for students details for a Student with last-name Kruks in Computing Dept\n",
    "\n",
    "computing_dept.get_student_data()"
   ]
  },
  {
   "cell_type": "code",
   "execution_count": 75,
   "id": "minute-right",
   "metadata": {},
   "outputs": [
    {
     "name": "stdout",
     "output_type": "stream",
     "text": [
      "Enter Student-ID (case-sensitive) \n",
      "OR Last-Name:willsonn\n",
      "\n",
      "Fetching student data...\n",
      "\n"
     ]
    },
    {
     "data": {
      "text/plain": [
       "'No Matching Record Found!'"
      ]
     },
     "execution_count": 75,
     "metadata": {},
     "output_type": "execute_result"
    }
   ],
   "source": [
    "# Finally let's look for students details for a Student with non-existent last name in Computing Dept\n",
    "\n",
    "computing_dept.get_student_data()"
   ]
  },
  {
   "cell_type": "code",
   "execution_count": 76,
   "id": "occasional-development",
   "metadata": {},
   "outputs": [
    {
     "data": {
      "text/html": [
       "<div>\n",
       "<style scoped>\n",
       "    .dataframe tbody tr th:only-of-type {\n",
       "        vertical-align: middle;\n",
       "    }\n",
       "\n",
       "    .dataframe tbody tr th {\n",
       "        vertical-align: top;\n",
       "    }\n",
       "\n",
       "    .dataframe thead th {\n",
       "        text-align: right;\n",
       "    }\n",
       "</style>\n",
       "<table border=\"1\" class=\"dataframe\">\n",
       "  <thead>\n",
       "    <tr style=\"text-align: right;\">\n",
       "      <th></th>\n",
       "      <th>Name</th>\n",
       "      <th>Faculty</th>\n",
       "      <th>Dept</th>\n",
       "      <th>Email</th>\n",
       "    </tr>\n",
       "    <tr>\n",
       "      <th>Student-ID</th>\n",
       "      <th></th>\n",
       "      <th></th>\n",
       "      <th></th>\n",
       "      <th></th>\n",
       "    </tr>\n",
       "  </thead>\n",
       "  <tbody>\n",
       "    <tr>\n",
       "      <th>COMP028</th>\n",
       "      <td>Jacob Blake</td>\n",
       "      <td>Engineering</td>\n",
       "      <td>Computing</td>\n",
       "      <td>jacob_blake.computing.engineering@python_unive...</td>\n",
       "    </tr>\n",
       "    <tr>\n",
       "      <th>COMP029</th>\n",
       "      <td>Tara Ferdi</td>\n",
       "      <td>Engineering</td>\n",
       "      <td>Computing</td>\n",
       "      <td>tara_ferdi.computing.engineering@python_univer...</td>\n",
       "    </tr>\n",
       "    <tr>\n",
       "      <th>COMP030</th>\n",
       "      <td>Moses Ilunge</td>\n",
       "      <td>Engineering</td>\n",
       "      <td>Computing</td>\n",
       "      <td>moses_ilunge.computing.engineering@python_univ...</td>\n",
       "    </tr>\n",
       "    <tr>\n",
       "      <th>COMP031</th>\n",
       "      <td>Harvey Olu</td>\n",
       "      <td>Engineering</td>\n",
       "      <td>Computing</td>\n",
       "      <td>harvey_olu.computing.engineering@python_univer...</td>\n",
       "    </tr>\n",
       "    <tr>\n",
       "      <th>COMP032</th>\n",
       "      <td>Chris Egbu</td>\n",
       "      <td>Engineering</td>\n",
       "      <td>Computing</td>\n",
       "      <td>chris_egbu.computing.engineering@python_univer...</td>\n",
       "    </tr>\n",
       "    <tr>\n",
       "      <th>COMP033</th>\n",
       "      <td>Lawrence Kruks</td>\n",
       "      <td>Engineering</td>\n",
       "      <td>Computing</td>\n",
       "      <td>lawrence_kruks.computing.engineering@python_un...</td>\n",
       "    </tr>\n",
       "    <tr>\n",
       "      <th>COMP034</th>\n",
       "      <td>Gilbert Roonie</td>\n",
       "      <td>Engineering</td>\n",
       "      <td>Computing</td>\n",
       "      <td>gilbert_roonie.computing.engineering@python_un...</td>\n",
       "    </tr>\n",
       "    <tr>\n",
       "      <th>COMP035</th>\n",
       "      <td>Ian Garcia</td>\n",
       "      <td>Engineering</td>\n",
       "      <td>Computing</td>\n",
       "      <td>ian_garcia.computing.engineering@python_univer...</td>\n",
       "    </tr>\n",
       "    <tr>\n",
       "      <th>COMP036</th>\n",
       "      <td>Dilla Paige</td>\n",
       "      <td>Engineering</td>\n",
       "      <td>Computing</td>\n",
       "      <td>dilla_paige.computing.engineering@python_unive...</td>\n",
       "    </tr>\n",
       "    <tr>\n",
       "      <th>COMP037</th>\n",
       "      <td>Robo Monterrey</td>\n",
       "      <td>Engineering</td>\n",
       "      <td>Computing</td>\n",
       "      <td>robo_monterrey.computing.engineering@python_un...</td>\n",
       "    </tr>\n",
       "    <tr>\n",
       "      <th>COMP038</th>\n",
       "      <td>Evans Jack</td>\n",
       "      <td>Engineering</td>\n",
       "      <td>Computing</td>\n",
       "      <td>evans_jack.computing.engineering@python_univer...</td>\n",
       "    </tr>\n",
       "    <tr>\n",
       "      <th>COMP039</th>\n",
       "      <td>Francis Kuronemi</td>\n",
       "      <td>Engineering</td>\n",
       "      <td>Computing</td>\n",
       "      <td>francis_kuronemi.computing.engineering@python_...</td>\n",
       "    </tr>\n",
       "    <tr>\n",
       "      <th>COMP040</th>\n",
       "      <td>Liyel Mark</td>\n",
       "      <td>Engineering</td>\n",
       "      <td>Computing</td>\n",
       "      <td>liyel_mark.computing.engineering@python_univer...</td>\n",
       "    </tr>\n",
       "  </tbody>\n",
       "</table>\n",
       "</div>"
      ],
      "text/plain": [
       "                        Name      Faculty       Dept  \\\n",
       "Student-ID                                             \n",
       "COMP028          Jacob Blake  Engineering  Computing   \n",
       "COMP029           Tara Ferdi  Engineering  Computing   \n",
       "COMP030         Moses Ilunge  Engineering  Computing   \n",
       "COMP031           Harvey Olu  Engineering  Computing   \n",
       "COMP032           Chris Egbu  Engineering  Computing   \n",
       "COMP033       Lawrence Kruks  Engineering  Computing   \n",
       "COMP034       Gilbert Roonie  Engineering  Computing   \n",
       "COMP035           Ian Garcia  Engineering  Computing   \n",
       "COMP036          Dilla Paige  Engineering  Computing   \n",
       "COMP037       Robo Monterrey  Engineering  Computing   \n",
       "COMP038           Evans Jack  Engineering  Computing   \n",
       "COMP039     Francis Kuronemi  Engineering  Computing   \n",
       "COMP040           Liyel Mark  Engineering  Computing   \n",
       "\n",
       "                                                        Email  \n",
       "Student-ID                                                     \n",
       "COMP028     jacob_blake.computing.engineering@python_unive...  \n",
       "COMP029     tara_ferdi.computing.engineering@python_univer...  \n",
       "COMP030     moses_ilunge.computing.engineering@python_univ...  \n",
       "COMP031     harvey_olu.computing.engineering@python_univer...  \n",
       "COMP032     chris_egbu.computing.engineering@python_univer...  \n",
       "COMP033     lawrence_kruks.computing.engineering@python_un...  \n",
       "COMP034     gilbert_roonie.computing.engineering@python_un...  \n",
       "COMP035     ian_garcia.computing.engineering@python_univer...  \n",
       "COMP036     dilla_paige.computing.engineering@python_unive...  \n",
       "COMP037     robo_monterrey.computing.engineering@python_un...  \n",
       "COMP038     evans_jack.computing.engineering@python_univer...  \n",
       "COMP039     francis_kuronemi.computing.engineering@python_...  \n",
       "COMP040     liyel_mark.computing.engineering@python_univer...  "
      ]
     },
     "execution_count": 76,
     "metadata": {},
     "output_type": "execute_result"
    }
   ],
   "source": [
    "# Let's get all students in computing Dept in a Pandas Dataframe\n",
    "\n",
    "computing_dept._Department__get_students_df()"
   ]
  },
  {
   "cell_type": "code",
   "execution_count": 77,
   "id": "delayed-nicaragua",
   "metadata": {},
   "outputs": [
    {
     "data": {
      "text/html": [
       "<div>\n",
       "<style scoped>\n",
       "    .dataframe tbody tr th:only-of-type {\n",
       "        vertical-align: middle;\n",
       "    }\n",
       "\n",
       "    .dataframe tbody tr th {\n",
       "        vertical-align: top;\n",
       "    }\n",
       "\n",
       "    .dataframe thead th {\n",
       "        text-align: right;\n",
       "    }\n",
       "</style>\n",
       "<table border=\"1\" class=\"dataframe\">\n",
       "  <thead>\n",
       "    <tr style=\"text-align: right;\">\n",
       "      <th></th>\n",
       "      <th>Name</th>\n",
       "      <th>Faculty</th>\n",
       "      <th>Dept</th>\n",
       "      <th>Email</th>\n",
       "    </tr>\n",
       "    <tr>\n",
       "      <th>Student-ID</th>\n",
       "      <th></th>\n",
       "      <th></th>\n",
       "      <th></th>\n",
       "      <th></th>\n",
       "    </tr>\n",
       "  </thead>\n",
       "  <tbody>\n",
       "    <tr>\n",
       "      <th>CIVI010</th>\n",
       "      <td>David Mark</td>\n",
       "      <td>Engineering</td>\n",
       "      <td>Civil-Engr</td>\n",
       "      <td>david_mark.civil_engr.engineering@python_unive...</td>\n",
       "    </tr>\n",
       "    <tr>\n",
       "      <th>CIVI011</th>\n",
       "      <td>Trevor Noah</td>\n",
       "      <td>Engineering</td>\n",
       "      <td>Civil-Engr</td>\n",
       "      <td>trevor_noah.civil_engr.engineering@python_univ...</td>\n",
       "    </tr>\n",
       "    <tr>\n",
       "      <th>CIVI012</th>\n",
       "      <td>Mark Price</td>\n",
       "      <td>Engineering</td>\n",
       "      <td>Civil-Engr</td>\n",
       "      <td>mark_price.civil_engr.engineering@python_unive...</td>\n",
       "    </tr>\n",
       "    <tr>\n",
       "      <th>CIVI013</th>\n",
       "      <td>Rita Bansky</td>\n",
       "      <td>Engineering</td>\n",
       "      <td>Civil-Engr</td>\n",
       "      <td>rita_bansky.civil_engr.engineering@python_univ...</td>\n",
       "    </tr>\n",
       "    <tr>\n",
       "      <th>CIVI014</th>\n",
       "      <td>David Rye</td>\n",
       "      <td>Engineering</td>\n",
       "      <td>Civil-Engr</td>\n",
       "      <td>david_rye.civil_engr.engineering@python_univer...</td>\n",
       "    </tr>\n",
       "    <tr>\n",
       "      <th>CIVI015</th>\n",
       "      <td>Kimberley Scott</td>\n",
       "      <td>Engineering</td>\n",
       "      <td>Civil-Engr</td>\n",
       "      <td>kimberley_scott.civil_engr.engineering@python_...</td>\n",
       "    </tr>\n",
       "    <tr>\n",
       "      <th>CIVI016</th>\n",
       "      <td>Brenda Mark</td>\n",
       "      <td>Engineering</td>\n",
       "      <td>Civil-Engr</td>\n",
       "      <td>brenda_mark.civil_engr.engineering@python_univ...</td>\n",
       "    </tr>\n",
       "    <tr>\n",
       "      <th>CIVI017</th>\n",
       "      <td>Ryan Presky</td>\n",
       "      <td>Engineering</td>\n",
       "      <td>Civil-Engr</td>\n",
       "      <td>ryan_presky.civil_engr.engineering@python_univ...</td>\n",
       "    </tr>\n",
       "    <tr>\n",
       "      <th>CIVI018</th>\n",
       "      <td>Dave Marko</td>\n",
       "      <td>Engineering</td>\n",
       "      <td>Civil-Engr</td>\n",
       "      <td>dave_marko.civil_engr.engineering@python_unive...</td>\n",
       "    </tr>\n",
       "  </tbody>\n",
       "</table>\n",
       "</div>"
      ],
      "text/plain": [
       "                       Name      Faculty        Dept  \\\n",
       "Student-ID                                             \n",
       "CIVI010          David Mark  Engineering  Civil-Engr   \n",
       "CIVI011         Trevor Noah  Engineering  Civil-Engr   \n",
       "CIVI012          Mark Price  Engineering  Civil-Engr   \n",
       "CIVI013         Rita Bansky  Engineering  Civil-Engr   \n",
       "CIVI014           David Rye  Engineering  Civil-Engr   \n",
       "CIVI015     Kimberley Scott  Engineering  Civil-Engr   \n",
       "CIVI016         Brenda Mark  Engineering  Civil-Engr   \n",
       "CIVI017         Ryan Presky  Engineering  Civil-Engr   \n",
       "CIVI018          Dave Marko  Engineering  Civil-Engr   \n",
       "\n",
       "                                                        Email  \n",
       "Student-ID                                                     \n",
       "CIVI010     david_mark.civil_engr.engineering@python_unive...  \n",
       "CIVI011     trevor_noah.civil_engr.engineering@python_univ...  \n",
       "CIVI012     mark_price.civil_engr.engineering@python_unive...  \n",
       "CIVI013     rita_bansky.civil_engr.engineering@python_univ...  \n",
       "CIVI014     david_rye.civil_engr.engineering@python_univer...  \n",
       "CIVI015     kimberley_scott.civil_engr.engineering@python_...  \n",
       "CIVI016     brenda_mark.civil_engr.engineering@python_univ...  \n",
       "CIVI017     ryan_presky.civil_engr.engineering@python_univ...  \n",
       "CIVI018     dave_marko.civil_engr.engineering@python_unive...  "
      ]
     },
     "execution_count": 77,
     "metadata": {},
     "output_type": "execute_result"
    }
   ],
   "source": [
    "# Let's get all students in Civil Dept in a Pandas Dataframe\n",
    "\n",
    "civil_engr_dept._Department__get_students_df()"
   ]
  },
  {
   "cell_type": "code",
   "execution_count": 78,
   "id": "deluxe-humidity",
   "metadata": {},
   "outputs": [
    {
     "data": {
      "text/html": [
       "<div>\n",
       "<style scoped>\n",
       "    .dataframe tbody tr th:only-of-type {\n",
       "        vertical-align: middle;\n",
       "    }\n",
       "\n",
       "    .dataframe tbody tr th {\n",
       "        vertical-align: top;\n",
       "    }\n",
       "\n",
       "    .dataframe thead th {\n",
       "        text-align: right;\n",
       "    }\n",
       "</style>\n",
       "<table border=\"1\" class=\"dataframe\">\n",
       "  <thead>\n",
       "    <tr style=\"text-align: right;\">\n",
       "      <th></th>\n",
       "      <th>Name</th>\n",
       "      <th>Faculty</th>\n",
       "      <th>Dept</th>\n",
       "      <th>Email</th>\n",
       "    </tr>\n",
       "    <tr>\n",
       "      <th>Student-ID</th>\n",
       "      <th></th>\n",
       "      <th></th>\n",
       "      <th></th>\n",
       "      <th></th>\n",
       "    </tr>\n",
       "  </thead>\n",
       "  <tbody>\n",
       "    <tr>\n",
       "      <th>MECH019</th>\n",
       "      <td>Harry Ray</td>\n",
       "      <td>Engineering</td>\n",
       "      <td>Mechanical-Engr</td>\n",
       "      <td>harry_ray.mechanical_engr.engineering@python_u...</td>\n",
       "    </tr>\n",
       "    <tr>\n",
       "      <th>MECH020</th>\n",
       "      <td>Minsky Noah</td>\n",
       "      <td>Engineering</td>\n",
       "      <td>Mechanical-Engr</td>\n",
       "      <td>minsky_noah.mechanical_engr.engineering@python...</td>\n",
       "    </tr>\n",
       "    <tr>\n",
       "      <th>MECH021</th>\n",
       "      <td>Markel Press</td>\n",
       "      <td>Engineering</td>\n",
       "      <td>Mechanical-Engr</td>\n",
       "      <td>markel_press.mechanical_engr.engineering@pytho...</td>\n",
       "    </tr>\n",
       "    <tr>\n",
       "      <th>MECH022</th>\n",
       "      <td>Peter Barnie</td>\n",
       "      <td>Engineering</td>\n",
       "      <td>Mechanical-Engr</td>\n",
       "      <td>peter_barnie.mechanical_engr.engineering@pytho...</td>\n",
       "    </tr>\n",
       "    <tr>\n",
       "      <th>MECH023</th>\n",
       "      <td>David Rook</td>\n",
       "      <td>Engineering</td>\n",
       "      <td>Mechanical-Engr</td>\n",
       "      <td>david_rook.mechanical_engr.engineering@python_...</td>\n",
       "    </tr>\n",
       "    <tr>\n",
       "      <th>MECH024</th>\n",
       "      <td>Kim Schultz</td>\n",
       "      <td>Engineering</td>\n",
       "      <td>Mechanical-Engr</td>\n",
       "      <td>kim_schultz.mechanical_engr.engineering@python...</td>\n",
       "    </tr>\n",
       "    <tr>\n",
       "      <th>MECH025</th>\n",
       "      <td>Brenda Mario</td>\n",
       "      <td>Engineering</td>\n",
       "      <td>Mechanical-Engr</td>\n",
       "      <td>brenda_mario.mechanical_engr.engineering@pytho...</td>\n",
       "    </tr>\n",
       "    <tr>\n",
       "      <th>MECH026</th>\n",
       "      <td>Ian Precious</td>\n",
       "      <td>Engineering</td>\n",
       "      <td>Mechanical-Engr</td>\n",
       "      <td>ian_precious.mechanical_engr.engineering@pytho...</td>\n",
       "    </tr>\n",
       "    <tr>\n",
       "      <th>MECH027</th>\n",
       "      <td>Dave Made</td>\n",
       "      <td>Engineering</td>\n",
       "      <td>Mechanical-Engr</td>\n",
       "      <td>dave_made.mechanical_engr.engineering@python_u...</td>\n",
       "    </tr>\n",
       "  </tbody>\n",
       "</table>\n",
       "</div>"
      ],
      "text/plain": [
       "                    Name      Faculty             Dept  \\\n",
       "Student-ID                                               \n",
       "MECH019        Harry Ray  Engineering  Mechanical-Engr   \n",
       "MECH020      Minsky Noah  Engineering  Mechanical-Engr   \n",
       "MECH021     Markel Press  Engineering  Mechanical-Engr   \n",
       "MECH022     Peter Barnie  Engineering  Mechanical-Engr   \n",
       "MECH023       David Rook  Engineering  Mechanical-Engr   \n",
       "MECH024      Kim Schultz  Engineering  Mechanical-Engr   \n",
       "MECH025     Brenda Mario  Engineering  Mechanical-Engr   \n",
       "MECH026     Ian Precious  Engineering  Mechanical-Engr   \n",
       "MECH027        Dave Made  Engineering  Mechanical-Engr   \n",
       "\n",
       "                                                        Email  \n",
       "Student-ID                                                     \n",
       "MECH019     harry_ray.mechanical_engr.engineering@python_u...  \n",
       "MECH020     minsky_noah.mechanical_engr.engineering@python...  \n",
       "MECH021     markel_press.mechanical_engr.engineering@pytho...  \n",
       "MECH022     peter_barnie.mechanical_engr.engineering@pytho...  \n",
       "MECH023     david_rook.mechanical_engr.engineering@python_...  \n",
       "MECH024     kim_schultz.mechanical_engr.engineering@python...  \n",
       "MECH025     brenda_mario.mechanical_engr.engineering@pytho...  \n",
       "MECH026     ian_precious.mechanical_engr.engineering@pytho...  \n",
       "MECH027     dave_made.mechanical_engr.engineering@python_u...  "
      ]
     },
     "execution_count": 78,
     "metadata": {},
     "output_type": "execute_result"
    }
   ],
   "source": [
    "# Let's get all students in Mechanical Dept in a Pandas Dataframe\n",
    "\n",
    "mech_engr_dept._Department__get_students_df()"
   ]
  },
  {
   "cell_type": "code",
   "execution_count": 79,
   "id": "casual-miniature",
   "metadata": {},
   "outputs": [
    {
     "data": {
      "text/html": [
       "<div>\n",
       "<style scoped>\n",
       "    .dataframe tbody tr th:only-of-type {\n",
       "        vertical-align: middle;\n",
       "    }\n",
       "\n",
       "    .dataframe tbody tr th {\n",
       "        vertical-align: top;\n",
       "    }\n",
       "\n",
       "    .dataframe thead th {\n",
       "        text-align: right;\n",
       "    }\n",
       "</style>\n",
       "<table border=\"1\" class=\"dataframe\">\n",
       "  <thead>\n",
       "    <tr style=\"text-align: right;\">\n",
       "      <th></th>\n",
       "      <th>Name</th>\n",
       "      <th>Faculty</th>\n",
       "      <th>Dept</th>\n",
       "      <th>Email</th>\n",
       "    </tr>\n",
       "    <tr>\n",
       "      <th>Student-ID</th>\n",
       "      <th></th>\n",
       "      <th></th>\n",
       "      <th></th>\n",
       "      <th></th>\n",
       "    </tr>\n",
       "  </thead>\n",
       "  <tbody>\n",
       "  </tbody>\n",
       "</table>\n",
       "</div>"
      ],
      "text/plain": [
       "Empty DataFrame\n",
       "Columns: [Name, Faculty, Dept, Email]\n",
       "Index: []"
      ]
     },
     "execution_count": 79,
     "metadata": {},
     "output_type": "execute_result"
    }
   ],
   "source": [
    "# Let's get all students in Franch Dept in a Pandas Dataframe\n",
    "\n",
    "french_dept._Department__get_students_df()"
   ]
  },
  {
   "cell_type": "markdown",
   "id": "becoming-large",
   "metadata": {},
   "source": [
    "**Retrieving Students data on a Faculty level**\n",
    "\n",
    "* Here we expect Faculty Staff to be able to retrieve students data either via Student-ID or any name of the student or both names\n",
    "* Each Faculty Staff can only search and find students within their respective faculty."
   ]
  },
  {
   "cell_type": "code",
   "execution_count": 80,
   "id": "complimentary-optimization",
   "metadata": {},
   "outputs": [
    {
     "name": "stdout",
     "output_type": "stream",
     "text": [
      "Enter Student-ID(case sensitive)\n",
      "Or Student-Name(s):marK\n",
      "\n",
      "Fetching student data...\n",
      "\n",
      "WARNING: Partial Records Found with Similar Name(s) Mark\n",
      "See list of (Names, Students-ID):\n",
      "[('David Mark', 'CIVI010'), ('Mark Price', 'CIVI012'), ('Brenda Mark', 'CIVI016'), ('Dave Marko', 'CIVI018'), ('Markel Press', 'MECH021'), ('Liyel Mark', 'COMP040')]\n"
     ]
    },
    {
     "data": {
      "text/plain": [
       "'You may Search Again With Student-ID.'"
      ]
     },
     "execution_count": 80,
     "metadata": {},
     "output_type": "execute_result"
    }
   ],
   "source": [
    "# Let's search for any student with either First-Name or Last-Name as Mark in Engr-Faculty...\n",
    "\n",
    "engr_fac.get_student_data()"
   ]
  },
  {
   "cell_type": "markdown",
   "id": "changing-processing",
   "metadata": {},
   "source": [
    "We can see that the full-names and Student-IDs for all students whose first-name or last-name contain `Mark` across all departments within the faculty of Engr are returned. This search traverses the entire departments within the faculty, to retrieve the students that match the search name."
   ]
  },
  {
   "cell_type": "code",
   "execution_count": 81,
   "id": "civilian-panic",
   "metadata": {},
   "outputs": [
    {
     "name": "stdout",
     "output_type": "stream",
     "text": [
      "Enter Student-ID(case sensitive)\n",
      "Or Student-Name(s):mark price\n",
      "\n",
      "Fetching student data...\n",
      "\n"
     ]
    },
    {
     "data": {
      "text/plain": [
       "{'Uni': 'Python-University',\n",
       " 'Address': 'Mountain-view California',\n",
       " 'Student': 'Mark Price',\n",
       " 'Student ID': 'CIVI012',\n",
       " 'Dept': 'Civil-Engr',\n",
       " 'Faculty': 'Engineering',\n",
       " 'Email': 'mark_price.civil_engr.engineering@python_university.com'}"
      ]
     },
     "execution_count": 81,
     "metadata": {},
     "output_type": "execute_result"
    }
   ],
   "source": [
    "# Now that we have these results, let's select student Mark Price for the search with his Student-ID or full name\n",
    "\n",
    "engr_fac.get_student_data()"
   ]
  },
  {
   "cell_type": "code",
   "execution_count": 82,
   "id": "aboriginal-sweden",
   "metadata": {},
   "outputs": [
    {
     "name": "stdout",
     "output_type": "stream",
     "text": [
      "Enter Student-ID(case sensitive)\n",
      "Or Student-Name(s):evans jack\n",
      "\n",
      "Fetching student data...\n",
      "\n"
     ]
    },
    {
     "data": {
      "text/plain": [
       "{'Uni': 'Python-University',\n",
       " 'Address': 'Mountain-view California',\n",
       " 'Student': 'Evans Jack',\n",
       " 'Student ID': 'COMP038',\n",
       " 'Dept': 'Computing',\n",
       " 'Faculty': 'Engineering',\n",
       " 'Email': 'evans_jack.computing.engineering@python_university.com'}"
      ]
     },
     "execution_count": 82,
     "metadata": {},
     "output_type": "execute_result"
    }
   ],
   "source": [
    "# Now Let's search for a specific student with both first and last names given in Engr Faculty\n",
    "\n",
    "engr_fac.get_student_data()"
   ]
  },
  {
   "cell_type": "code",
   "execution_count": 83,
   "id": "warming-short",
   "metadata": {},
   "outputs": [
    {
     "name": "stdout",
     "output_type": "stream",
     "text": [
      "Enter Student-ID(case sensitive)\n",
      "Or Student-Name(s):tara ferdi\n",
      "\n",
      "Fetching student data...\n",
      "\n"
     ]
    },
    {
     "data": {
      "text/plain": [
       "{'Uni': 'Python-University',\n",
       " 'Address': 'Mountain-view California',\n",
       " 'Student': 'Tara Ferdi',\n",
       " 'Student ID': 'COMP029',\n",
       " 'Dept': 'Computing',\n",
       " 'Faculty': 'Engineering',\n",
       " 'Email': 'tara_ferdi.computing.engineering@python_university.com'}"
      ]
     },
     "execution_count": 83,
     "metadata": {},
     "output_type": "execute_result"
    }
   ],
   "source": [
    "# Now Let's search for another specific student with both first and last names given in Engr Faculty\n",
    "\n",
    "engr_fac.get_student_data()"
   ]
  },
  {
   "cell_type": "code",
   "execution_count": 84,
   "id": "republican-package",
   "metadata": {},
   "outputs": [
    {
     "name": "stdout",
     "output_type": "stream",
     "text": [
      "Enter Student-ID(case sensitive)\n",
      "Or Student-Name(s):ian\n",
      "\n",
      "Fetching student data...\n",
      "\n",
      "WARNING: Partial Records Found with Similar Name(s) Ian\n",
      "See list of (Names, Students-ID):\n",
      "[('Ian Precious', 'MECH026'), ('Ian Garcia', 'COMP035')]\n"
     ]
    },
    {
     "data": {
      "text/plain": [
       "'You may Search Again With Student-ID.'"
      ]
     },
     "execution_count": 84,
     "metadata": {},
     "output_type": "execute_result"
    }
   ],
   "source": [
    "# Now Let's search for another student with either first or last name given in Engr Faculty\n",
    "\n",
    "engr_fac.get_student_data()"
   ]
  },
  {
   "cell_type": "code",
   "execution_count": 85,
   "id": "saving-celtic",
   "metadata": {},
   "outputs": [
    {
     "name": "stdout",
     "output_type": "stream",
     "text": [
      "Enter Student-ID(case sensitive)\n",
      "Or Student-Name(s):mario brenda\n",
      "\n",
      "Fetching student data...\n",
      "\n"
     ]
    },
    {
     "data": {
      "text/plain": [
       "{'Uni': 'Python-University',\n",
       " 'Address': 'Mountain-view California',\n",
       " 'Student': 'Brenda Mario',\n",
       " 'Student ID': 'MECH025',\n",
       " 'Dept': 'Mechanical-Engr',\n",
       " 'Faculty': 'Engineering',\n",
       " 'Email': 'brenda_mario.mechanical_engr.engineering@python_university.com'}"
      ]
     },
     "execution_count": 85,
     "metadata": {},
     "output_type": "execute_result"
    }
   ],
   "source": [
    "# Now Let's search for another student with the first and last name mistakenly interchanged\n",
    "\n",
    "engr_fac.get_student_data()"
   ]
  },
  {
   "cell_type": "code",
   "execution_count": 86,
   "id": "abandoned-audit",
   "metadata": {},
   "outputs": [
    {
     "data": {
      "text/html": [
       "<div>\n",
       "<style scoped>\n",
       "    .dataframe tbody tr th:only-of-type {\n",
       "        vertical-align: middle;\n",
       "    }\n",
       "\n",
       "    .dataframe tbody tr th {\n",
       "        vertical-align: top;\n",
       "    }\n",
       "\n",
       "    .dataframe thead th {\n",
       "        text-align: right;\n",
       "    }\n",
       "</style>\n",
       "<table border=\"1\" class=\"dataframe\">\n",
       "  <thead>\n",
       "    <tr style=\"text-align: right;\">\n",
       "      <th></th>\n",
       "      <th>Name</th>\n",
       "      <th>Faculty</th>\n",
       "      <th>Dept</th>\n",
       "      <th>Email</th>\n",
       "    </tr>\n",
       "    <tr>\n",
       "      <th>Student-ID</th>\n",
       "      <th></th>\n",
       "      <th></th>\n",
       "      <th></th>\n",
       "      <th></th>\n",
       "    </tr>\n",
       "  </thead>\n",
       "  <tbody>\n",
       "    <tr>\n",
       "      <th>CIVI010</th>\n",
       "      <td>David Mark</td>\n",
       "      <td>Engineering</td>\n",
       "      <td>Civil-Engr</td>\n",
       "      <td>david_mark.civil_engr.engineering@python_unive...</td>\n",
       "    </tr>\n",
       "    <tr>\n",
       "      <th>CIVI011</th>\n",
       "      <td>Trevor Noah</td>\n",
       "      <td>Engineering</td>\n",
       "      <td>Civil-Engr</td>\n",
       "      <td>trevor_noah.civil_engr.engineering@python_univ...</td>\n",
       "    </tr>\n",
       "    <tr>\n",
       "      <th>CIVI012</th>\n",
       "      <td>Mark Price</td>\n",
       "      <td>Engineering</td>\n",
       "      <td>Civil-Engr</td>\n",
       "      <td>mark_price.civil_engr.engineering@python_unive...</td>\n",
       "    </tr>\n",
       "    <tr>\n",
       "      <th>CIVI013</th>\n",
       "      <td>Rita Bansky</td>\n",
       "      <td>Engineering</td>\n",
       "      <td>Civil-Engr</td>\n",
       "      <td>rita_bansky.civil_engr.engineering@python_univ...</td>\n",
       "    </tr>\n",
       "    <tr>\n",
       "      <th>CIVI014</th>\n",
       "      <td>David Rye</td>\n",
       "      <td>Engineering</td>\n",
       "      <td>Civil-Engr</td>\n",
       "      <td>david_rye.civil_engr.engineering@python_univer...</td>\n",
       "    </tr>\n",
       "    <tr>\n",
       "      <th>CIVI015</th>\n",
       "      <td>Kimberley Scott</td>\n",
       "      <td>Engineering</td>\n",
       "      <td>Civil-Engr</td>\n",
       "      <td>kimberley_scott.civil_engr.engineering@python_...</td>\n",
       "    </tr>\n",
       "    <tr>\n",
       "      <th>CIVI016</th>\n",
       "      <td>Brenda Mark</td>\n",
       "      <td>Engineering</td>\n",
       "      <td>Civil-Engr</td>\n",
       "      <td>brenda_mark.civil_engr.engineering@python_univ...</td>\n",
       "    </tr>\n",
       "    <tr>\n",
       "      <th>CIVI017</th>\n",
       "      <td>Ryan Presky</td>\n",
       "      <td>Engineering</td>\n",
       "      <td>Civil-Engr</td>\n",
       "      <td>ryan_presky.civil_engr.engineering@python_univ...</td>\n",
       "    </tr>\n",
       "    <tr>\n",
       "      <th>CIVI018</th>\n",
       "      <td>Dave Marko</td>\n",
       "      <td>Engineering</td>\n",
       "      <td>Civil-Engr</td>\n",
       "      <td>dave_marko.civil_engr.engineering@python_unive...</td>\n",
       "    </tr>\n",
       "    <tr>\n",
       "      <th>MECH019</th>\n",
       "      <td>Harry Ray</td>\n",
       "      <td>Engineering</td>\n",
       "      <td>Mechanical-Engr</td>\n",
       "      <td>harry_ray.mechanical_engr.engineering@python_u...</td>\n",
       "    </tr>\n",
       "    <tr>\n",
       "      <th>MECH020</th>\n",
       "      <td>Minsky Noah</td>\n",
       "      <td>Engineering</td>\n",
       "      <td>Mechanical-Engr</td>\n",
       "      <td>minsky_noah.mechanical_engr.engineering@python...</td>\n",
       "    </tr>\n",
       "    <tr>\n",
       "      <th>MECH021</th>\n",
       "      <td>Markel Press</td>\n",
       "      <td>Engineering</td>\n",
       "      <td>Mechanical-Engr</td>\n",
       "      <td>markel_press.mechanical_engr.engineering@pytho...</td>\n",
       "    </tr>\n",
       "    <tr>\n",
       "      <th>MECH022</th>\n",
       "      <td>Peter Barnie</td>\n",
       "      <td>Engineering</td>\n",
       "      <td>Mechanical-Engr</td>\n",
       "      <td>peter_barnie.mechanical_engr.engineering@pytho...</td>\n",
       "    </tr>\n",
       "    <tr>\n",
       "      <th>MECH023</th>\n",
       "      <td>David Rook</td>\n",
       "      <td>Engineering</td>\n",
       "      <td>Mechanical-Engr</td>\n",
       "      <td>david_rook.mechanical_engr.engineering@python_...</td>\n",
       "    </tr>\n",
       "    <tr>\n",
       "      <th>MECH024</th>\n",
       "      <td>Kim Schultz</td>\n",
       "      <td>Engineering</td>\n",
       "      <td>Mechanical-Engr</td>\n",
       "      <td>kim_schultz.mechanical_engr.engineering@python...</td>\n",
       "    </tr>\n",
       "    <tr>\n",
       "      <th>MECH025</th>\n",
       "      <td>Brenda Mario</td>\n",
       "      <td>Engineering</td>\n",
       "      <td>Mechanical-Engr</td>\n",
       "      <td>brenda_mario.mechanical_engr.engineering@pytho...</td>\n",
       "    </tr>\n",
       "    <tr>\n",
       "      <th>MECH026</th>\n",
       "      <td>Ian Precious</td>\n",
       "      <td>Engineering</td>\n",
       "      <td>Mechanical-Engr</td>\n",
       "      <td>ian_precious.mechanical_engr.engineering@pytho...</td>\n",
       "    </tr>\n",
       "    <tr>\n",
       "      <th>MECH027</th>\n",
       "      <td>Dave Made</td>\n",
       "      <td>Engineering</td>\n",
       "      <td>Mechanical-Engr</td>\n",
       "      <td>dave_made.mechanical_engr.engineering@python_u...</td>\n",
       "    </tr>\n",
       "    <tr>\n",
       "      <th>COMP028</th>\n",
       "      <td>Jacob Blake</td>\n",
       "      <td>Engineering</td>\n",
       "      <td>Computing</td>\n",
       "      <td>jacob_blake.computing.engineering@python_unive...</td>\n",
       "    </tr>\n",
       "    <tr>\n",
       "      <th>COMP029</th>\n",
       "      <td>Tara Ferdi</td>\n",
       "      <td>Engineering</td>\n",
       "      <td>Computing</td>\n",
       "      <td>tara_ferdi.computing.engineering@python_univer...</td>\n",
       "    </tr>\n",
       "    <tr>\n",
       "      <th>COMP030</th>\n",
       "      <td>Moses Ilunge</td>\n",
       "      <td>Engineering</td>\n",
       "      <td>Computing</td>\n",
       "      <td>moses_ilunge.computing.engineering@python_univ...</td>\n",
       "    </tr>\n",
       "    <tr>\n",
       "      <th>COMP031</th>\n",
       "      <td>Harvey Olu</td>\n",
       "      <td>Engineering</td>\n",
       "      <td>Computing</td>\n",
       "      <td>harvey_olu.computing.engineering@python_univer...</td>\n",
       "    </tr>\n",
       "    <tr>\n",
       "      <th>COMP032</th>\n",
       "      <td>Chris Egbu</td>\n",
       "      <td>Engineering</td>\n",
       "      <td>Computing</td>\n",
       "      <td>chris_egbu.computing.engineering@python_univer...</td>\n",
       "    </tr>\n",
       "    <tr>\n",
       "      <th>COMP033</th>\n",
       "      <td>Lawrence Kruks</td>\n",
       "      <td>Engineering</td>\n",
       "      <td>Computing</td>\n",
       "      <td>lawrence_kruks.computing.engineering@python_un...</td>\n",
       "    </tr>\n",
       "    <tr>\n",
       "      <th>COMP034</th>\n",
       "      <td>Gilbert Roonie</td>\n",
       "      <td>Engineering</td>\n",
       "      <td>Computing</td>\n",
       "      <td>gilbert_roonie.computing.engineering@python_un...</td>\n",
       "    </tr>\n",
       "    <tr>\n",
       "      <th>COMP035</th>\n",
       "      <td>Ian Garcia</td>\n",
       "      <td>Engineering</td>\n",
       "      <td>Computing</td>\n",
       "      <td>ian_garcia.computing.engineering@python_univer...</td>\n",
       "    </tr>\n",
       "    <tr>\n",
       "      <th>COMP036</th>\n",
       "      <td>Dilla Paige</td>\n",
       "      <td>Engineering</td>\n",
       "      <td>Computing</td>\n",
       "      <td>dilla_paige.computing.engineering@python_unive...</td>\n",
       "    </tr>\n",
       "    <tr>\n",
       "      <th>COMP037</th>\n",
       "      <td>Robo Monterrey</td>\n",
       "      <td>Engineering</td>\n",
       "      <td>Computing</td>\n",
       "      <td>robo_monterrey.computing.engineering@python_un...</td>\n",
       "    </tr>\n",
       "    <tr>\n",
       "      <th>COMP038</th>\n",
       "      <td>Evans Jack</td>\n",
       "      <td>Engineering</td>\n",
       "      <td>Computing</td>\n",
       "      <td>evans_jack.computing.engineering@python_univer...</td>\n",
       "    </tr>\n",
       "    <tr>\n",
       "      <th>COMP039</th>\n",
       "      <td>Francis Kuronemi</td>\n",
       "      <td>Engineering</td>\n",
       "      <td>Computing</td>\n",
       "      <td>francis_kuronemi.computing.engineering@python_...</td>\n",
       "    </tr>\n",
       "    <tr>\n",
       "      <th>COMP040</th>\n",
       "      <td>Liyel Mark</td>\n",
       "      <td>Engineering</td>\n",
       "      <td>Computing</td>\n",
       "      <td>liyel_mark.computing.engineering@python_univer...</td>\n",
       "    </tr>\n",
       "  </tbody>\n",
       "</table>\n",
       "</div>"
      ],
      "text/plain": [
       "                        Name      Faculty             Dept  \\\n",
       "Student-ID                                                   \n",
       "CIVI010           David Mark  Engineering       Civil-Engr   \n",
       "CIVI011          Trevor Noah  Engineering       Civil-Engr   \n",
       "CIVI012           Mark Price  Engineering       Civil-Engr   \n",
       "CIVI013          Rita Bansky  Engineering       Civil-Engr   \n",
       "CIVI014            David Rye  Engineering       Civil-Engr   \n",
       "CIVI015      Kimberley Scott  Engineering       Civil-Engr   \n",
       "CIVI016          Brenda Mark  Engineering       Civil-Engr   \n",
       "CIVI017          Ryan Presky  Engineering       Civil-Engr   \n",
       "CIVI018           Dave Marko  Engineering       Civil-Engr   \n",
       "MECH019            Harry Ray  Engineering  Mechanical-Engr   \n",
       "MECH020          Minsky Noah  Engineering  Mechanical-Engr   \n",
       "MECH021         Markel Press  Engineering  Mechanical-Engr   \n",
       "MECH022         Peter Barnie  Engineering  Mechanical-Engr   \n",
       "MECH023           David Rook  Engineering  Mechanical-Engr   \n",
       "MECH024          Kim Schultz  Engineering  Mechanical-Engr   \n",
       "MECH025         Brenda Mario  Engineering  Mechanical-Engr   \n",
       "MECH026         Ian Precious  Engineering  Mechanical-Engr   \n",
       "MECH027            Dave Made  Engineering  Mechanical-Engr   \n",
       "COMP028          Jacob Blake  Engineering        Computing   \n",
       "COMP029           Tara Ferdi  Engineering        Computing   \n",
       "COMP030         Moses Ilunge  Engineering        Computing   \n",
       "COMP031           Harvey Olu  Engineering        Computing   \n",
       "COMP032           Chris Egbu  Engineering        Computing   \n",
       "COMP033       Lawrence Kruks  Engineering        Computing   \n",
       "COMP034       Gilbert Roonie  Engineering        Computing   \n",
       "COMP035           Ian Garcia  Engineering        Computing   \n",
       "COMP036          Dilla Paige  Engineering        Computing   \n",
       "COMP037       Robo Monterrey  Engineering        Computing   \n",
       "COMP038           Evans Jack  Engineering        Computing   \n",
       "COMP039     Francis Kuronemi  Engineering        Computing   \n",
       "COMP040           Liyel Mark  Engineering        Computing   \n",
       "\n",
       "                                                        Email  \n",
       "Student-ID                                                     \n",
       "CIVI010     david_mark.civil_engr.engineering@python_unive...  \n",
       "CIVI011     trevor_noah.civil_engr.engineering@python_univ...  \n",
       "CIVI012     mark_price.civil_engr.engineering@python_unive...  \n",
       "CIVI013     rita_bansky.civil_engr.engineering@python_univ...  \n",
       "CIVI014     david_rye.civil_engr.engineering@python_univer...  \n",
       "CIVI015     kimberley_scott.civil_engr.engineering@python_...  \n",
       "CIVI016     brenda_mark.civil_engr.engineering@python_univ...  \n",
       "CIVI017     ryan_presky.civil_engr.engineering@python_univ...  \n",
       "CIVI018     dave_marko.civil_engr.engineering@python_unive...  \n",
       "MECH019     harry_ray.mechanical_engr.engineering@python_u...  \n",
       "MECH020     minsky_noah.mechanical_engr.engineering@python...  \n",
       "MECH021     markel_press.mechanical_engr.engineering@pytho...  \n",
       "MECH022     peter_barnie.mechanical_engr.engineering@pytho...  \n",
       "MECH023     david_rook.mechanical_engr.engineering@python_...  \n",
       "MECH024     kim_schultz.mechanical_engr.engineering@python...  \n",
       "MECH025     brenda_mario.mechanical_engr.engineering@pytho...  \n",
       "MECH026     ian_precious.mechanical_engr.engineering@pytho...  \n",
       "MECH027     dave_made.mechanical_engr.engineering@python_u...  \n",
       "COMP028     jacob_blake.computing.engineering@python_unive...  \n",
       "COMP029     tara_ferdi.computing.engineering@python_univer...  \n",
       "COMP030     moses_ilunge.computing.engineering@python_univ...  \n",
       "COMP031     harvey_olu.computing.engineering@python_univer...  \n",
       "COMP032     chris_egbu.computing.engineering@python_univer...  \n",
       "COMP033     lawrence_kruks.computing.engineering@python_un...  \n",
       "COMP034     gilbert_roonie.computing.engineering@python_un...  \n",
       "COMP035     ian_garcia.computing.engineering@python_univer...  \n",
       "COMP036     dilla_paige.computing.engineering@python_unive...  \n",
       "COMP037     robo_monterrey.computing.engineering@python_un...  \n",
       "COMP038     evans_jack.computing.engineering@python_univer...  \n",
       "COMP039     francis_kuronemi.computing.engineering@python_...  \n",
       "COMP040     liyel_mark.computing.engineering@python_univer...  "
      ]
     },
     "execution_count": 86,
     "metadata": {},
     "output_type": "execute_result"
    }
   ],
   "source": [
    "# Now let's get the dataframe distribution for all students in the Faculty\n",
    "\n",
    "engr_fac._Faculty__get_students_df()                                                                                                  "
   ]
  },
  {
   "cell_type": "code",
   "execution_count": 87,
   "id": "bulgarian-committee",
   "metadata": {},
   "outputs": [
    {
     "name": "stdout",
     "output_type": "stream",
     "text": [
      "Done!\n"
     ]
    }
   ],
   "source": [
    "# Let's create another student with same name 'David-Mark' in computing Dept\n",
    "stud32 = Student('David Mark', computing_dept)\n",
    "\n",
    "# Let's add this student to the computing department\n",
    "add_students_to_depts([stud32], engr_fac)"
   ]
  },
  {
   "cell_type": "code",
   "execution_count": 88,
   "id": "corporate-killer",
   "metadata": {},
   "outputs": [
    {
     "name": "stdout",
     "output_type": "stream",
     "text": [
      "Enter Student-ID(case sensitive)\n",
      "Or Student-Name(s):david mark\n",
      "\n",
      "Fetching student data...\n",
      "\n",
      "WARNING: Multiple Records Found with Name(s) David Mark\n",
      "See list of (Names, Students-ID):\n",
      "[('David Mark', 'CIVI010'), ('David Mark', 'COMP041')]\n"
     ]
    },
    {
     "data": {
      "text/plain": [
       "'You may Search Again With Student-ID.'"
      ]
     },
     "execution_count": 88,
     "metadata": {},
     "output_type": "execute_result"
    }
   ],
   "source": [
    "# Now Let's search for another student with first and last names David mark\n",
    "\n",
    "engr_fac.get_student_data()"
   ]
  },
  {
   "cell_type": "code",
   "execution_count": 90,
   "id": "special-regard",
   "metadata": {},
   "outputs": [
    {
     "data": {
      "text/plain": [
       "32"
      ]
     },
     "execution_count": 90,
     "metadata": {},
     "output_type": "execute_result"
    }
   ],
   "source": [
    "engr_fac.get_total_students()"
   ]
  },
  {
   "cell_type": "markdown",
   "id": "standing-genealogy",
   "metadata": {},
   "source": [
    "### Complete Exercises\n",
    "\n",
    "**[CHAPTER Programming Exercises](https://runestone.academy/runestone/books/published/pythonds/Introduction/Exercises.html)**"
   ]
  },
  {
   "cell_type": "code",
   "execution_count": null,
   "id": "lightweight-camera",
   "metadata": {},
   "outputs": [],
   "source": []
  },
  {
   "cell_type": "code",
   "execution_count": null,
   "id": "characteristic-career",
   "metadata": {},
   "outputs": [],
   "source": []
  },
  {
   "cell_type": "code",
   "execution_count": null,
   "id": "romance-catalog",
   "metadata": {},
   "outputs": [],
   "source": []
  }
 ],
 "metadata": {
  "kernelspec": {
   "display_name": "Python 3",
   "language": "python",
   "name": "python3"
  },
  "language_info": {
   "codemirror_mode": {
    "name": "ipython",
    "version": 3
   },
   "file_extension": ".py",
   "mimetype": "text/x-python",
   "name": "python",
   "nbconvert_exporter": "python",
   "pygments_lexer": "ipython3",
   "version": "3.8.5"
  }
 },
 "nbformat": 4,
 "nbformat_minor": 5
}
