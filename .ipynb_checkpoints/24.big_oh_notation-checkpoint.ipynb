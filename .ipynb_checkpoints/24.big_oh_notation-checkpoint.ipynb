{
 "cells": [
  {
   "cell_type": "markdown",
   "id": "extra-humidity",
   "metadata": {},
   "source": [
    "## Big-Oh Notation"
   ]
  },
  {
   "cell_type": "markdown",
   "id": "described-prior",
   "metadata": {},
   "source": [
    "When trying to characterize an algorithm’s efficiency in terms of **execution time**, independent of any particular program or computer, it is important to quantify the number of operations or steps that the algorithm will require. \n",
    "\n",
    "If each of these steps is considered to be a basic unit of computation, then the execution time for an algorithm can be expressed as `the number of steps required to solve the problem`. Deciding on an appropriate basic unit of computation can be a complicated problem and will depend on how the algorithm is implemented."
   ]
  },
  {
   "cell_type": "code",
   "execution_count": 1,
   "id": "systematic-jones",
   "metadata": {},
   "outputs": [
    {
     "name": "stdout",
     "output_type": "stream",
     "text": [
      "(55, 0.0)\n"
     ]
    }
   ],
   "source": [
    "# A basic summation program, seen in the last notebook...\n",
    "\n",
    "import time\n",
    "\n",
    "def sumOfN(n):\n",
    "    start = time.time()\n",
    "\n",
    "    theSum = 0\n",
    "    for i in range(1,n+1):\n",
    "        theSum = theSum + i\n",
    "\n",
    "    end = time.time()\n",
    "\n",
    "    return theSum, end-start\n",
    "\n",
    "print(sumOfN(10))"
   ]
  },
  {
   "cell_type": "markdown",
   "id": "stone-racing",
   "metadata": {},
   "source": [
    "A good basic unit of computation for comparing the summation algorithms shown earlier might be to count the number of assignment statements performed to compute the sum. In the function `sumOfN`, the number of assignment statements is 1 (`theSum=0`) plus the value of $n$ (the number of times we perform `theSum=theSum+i`). \n",
    "\n",
    "We can denote this by a function, call it $T$, where $T(n)=1+n$. The parameter $n$ is often referred to as the **“size of the problem,”** and we can read this as “$T(n)$ is the time it takes to solve a problem of size $n$, namely $1+n$ steps.”`"
   ]
  },
  {
   "cell_type": "markdown",
   "id": "shaped-jones",
   "metadata": {},
   "source": [
    "In the summation functions given above, it makes sense to use the number of terms in the summation to denote the size of the problem. \n",
    "\n",
    "We can then say that the sum of the first 100,000 integers is a bigger instance of the summation problem than the sum of the first 1,000. Because of this, it might seem reasonable that the time required to solve the larger case would be greater than for the smaller case. \n",
    "\n",
    "Our goal then is to show how the algorithm’s **execution time** changes with respect to the **size** of the problem."
   ]
  },
  {
   "cell_type": "markdown",
   "id": "heavy-emission",
   "metadata": {},
   "source": [
    "Computer scientists prefer to take this analysis technique one step further. It turns out that the exact number of operations is not as important as determining the most dominant part of the $T(n)$ function. In other words, as the problem gets larger, some portion of the $T(n)$ function tends to overpower the rest. This **dominant term** is what, in the end, is used for comparison"
   ]
  },
  {
   "cell_type": "markdown",
   "id": "superior-housing",
   "metadata": {},
   "source": [
    "The **order of magnitude function** describes the part of $T(n)$ that increases the fastest as the value of $n$ increases. Order of magnitude is often called **Big-O notation** (for “order”) and written as $O(f(n))$. It provides a _useful approximation_ to the actual number of steps in the computation. The function $f(n)$ provides a simple representation of the dominant part of the original $T(n)$.\n",
    "\n",
    "In the above example, $T(n)=1+n$. As $n$ gets large, the constant 1 will become less and less significant to the final result. If we are looking for an approximation for $T(n)$, then we can drop the 1 and simply say that the running time is $O(n)$. It is important to note that the 1 is certainly significant for $T(n)$. However, as $n$ gets large, our approximation will be just as accurate without it."
   ]
  },
  {
   "cell_type": "markdown",
   "id": "cardiovascular-tours",
   "metadata": {},
   "source": [
    "As another example, suppose that for some algorithm, the exact number of steps is $T(n)=5n^2+27n+1005$. When $n$ is small, say 1 or 2, the constant 1005 seems to be the dominant part of the function. \n",
    "\n",
    "However, as $n$ gets larger, the $n^2$ term becomes the most important. In fact, when $n$ is really large, the other two terms become insignificant in the role that they play in determining the final result. Again, to approximate $T(n)$ as $n$ gets large, we can ignore the other terms and focus on $5n^2$. In addition, the coefficient 5 becomes insignificant as $n$ gets large. We would say then that the function $T(n)$ has an order of magnitude $f(n)=n^2$, or simply that it is $O(n^2)$."
   ]
  },
  {
   "cell_type": "markdown",
   "id": "wooden-coating",
   "metadata": {},
   "source": [
    "## Best-Case, Average-Case and Worst-Case\n",
    "\n",
    "Although we do not see this in the summation example, sometimes the performance of an algorithm depends on the exact values of the data rather than simply the size of the problem. For these kinds of algorithms we need to characterize their performance in terms of **best case**, **worst case**, or **average case** performance. \n",
    "\n",
    "The worst case performance refers to a particular data set where the algorithm performs especially poorly. Whereas a different data set for the exact same algorithm might have extraordinarily good performance. However, in most cases the algorithm performs somewhere in between these two extremes (average case). It is important for a computer scientist to understand these distinctions so they are not misled by one particular case.\n",
    "\n",
    "Some very common order of magnitude functions:\n",
    "\n",
    "\n",
    "| $f(n)$ | Name |\n",
    "| --- | --- |\n",
    "| $1$ | Constant |\n",
    "| $log_n$ | Logarithmic |\n",
    "| $n$ | Linear |\n",
    "| $nlog_n$ | Log Linear |\n",
    "| $n^2$ | Quadratic |\n",
    "| $n^3$ | Cubic |\n",
    "| $2^n$ | Exponential |"
   ]
  },
  {
   "cell_type": "markdown",
   "id": "informal-analysis",
   "metadata": {},
   "source": [
    "<img src='https://runestone.academy/runestone/books/published/pythonds/_images/newplot.png' height=300 width=600>\n",
    "\n",
    "From the image above, notice that when $n$ is small, the functions are not very well defined with respect to one another. It is hard to tell which is dominant. However, as $n$ grows, there is a definite relationship and it is easy to see how they compare with one another."
   ]
  },
  {
   "cell_type": "markdown",
   "id": "major-runner",
   "metadata": {},
   "source": [
    "Example\n",
    "\n",
    "```\n",
    "a=5\n",
    "b=6\n",
    "c=10\n",
    "\n",
    "for i in range(n):\n",
    "   for j in range(n):\n",
    "      x = i * i\n",
    "      y = j * j\n",
    "      z = i * j\n",
    "      \n",
    "for k in range(n):\n",
    "   w = a*k + 45\n",
    "   v = b*b\n",
    "   \n",
    "d = 33\n",
    "```\n",
    "\n",
    "The number of assignment operations is the sum of four terms. \n",
    "* The first term is the constant $3$, representing the three assignment statements at the start of the fragment. \n",
    "* The second term is $3n^2$, since there are three statements that are performed $n^2$ times due to the nested iteration. \n",
    "* The third term is $2n$, two statements iterated $n$ times. \n",
    "* Finally, the fourth term is the constant $1$, representing the final assignment statement. \n",
    "* This gives us $T(n)=3+3n^2+2n+1=3n^2+2n+4$. By looking at the exponents, we can easily see that the $n^2$ term will be dominant and therefore this fragment of code is $O(n^2)$. \n",
    "* Note that all of the other terms as well as the coefficient on the dominant term can be ignored as $n$ grows larger.\n"
   ]
  },
  {
   "cell_type": "markdown",
   "id": "opposite-chancellor",
   "metadata": {},
   "source": [
    "<img src='https://runestone.academy/runestone/books/published/pythonds/_images/newplot2.png' height=300 width=600>\n",
    "\n",
    "From the image above, Note that $T(n)$ is initially larger than the cubic function. However, as $n$ grows, the cubic function quickly overtakes $T(n)$. It is easy to see that $T(n)$ then follows the quadratic function as $n$ continues to grow.\n",
    "\n",
    "\n",
    "**Self Check:**\n",
    "\n",
    "Write two Python functions to find the minimum number in a list. The first function should compare each number to every other number on the list. $O(n^2)$. The second function should be linear $O(n)$."
   ]
  },
  {
   "cell_type": "code",
   "execution_count": 15,
   "id": "painful-patch",
   "metadata": {},
   "outputs": [],
   "source": [
    "import time\n",
    "from random import randrange\n",
    "import matplotlib.pyplot as plt\n",
    "import pandas as pd"
   ]
  },
  {
   "cell_type": "code",
   "execution_count": 2,
   "id": "signed-raise",
   "metadata": {},
   "outputs": [
    {
     "data": {
      "text/plain": [
       "0"
      ]
     },
     "execution_count": 2,
     "metadata": {},
     "output_type": "execute_result"
    }
   ],
   "source": [
    "def findMin(arr):\n",
    "    \"\"\"Find min in arr via a\n",
    "        quadratic execution time\n",
    "    \"\"\"\n",
    "    mini=float('inf')\n",
    "    \n",
    "    for i in arr:\n",
    "        for j in arr:\n",
    "            if min(i,j) < mini:\n",
    "                mini = min(i,j)\n",
    "            \n",
    "    return mini\n",
    "\n",
    "lyst = [5,7,9,23,8,2,6,0,7]\n",
    "\n",
    "findMin(lyst)"
   ]
  },
  {
   "cell_type": "code",
   "execution_count": 3,
   "id": "organized-singer",
   "metadata": {},
   "outputs": [
    {
     "data": {
      "text/plain": [
       "0"
      ]
     },
     "execution_count": 3,
     "metadata": {},
     "output_type": "execute_result"
    }
   ],
   "source": [
    "def findMin2(arr):\n",
    "    \"\"\"Find min in arr via a\n",
    "        linear execution time\n",
    "    \"\"\"\n",
    "    mini=float('inf')\n",
    "    \n",
    "    for i in arr:\n",
    "        if i < mini:\n",
    "            mini = i\n",
    "            \n",
    "    return mini\n",
    "\n",
    "lyst = [5,7,9,23,8,2,6,0,7]\n",
    "\n",
    "findMin2(lyst)"
   ]
  },
  {
   "cell_type": "code",
   "execution_count": 30,
   "id": "stainless-desert",
   "metadata": {},
   "outputs": [],
   "source": [
    "def time_to_list(method):\n",
    "    \"\"\"Find the time to traverse a list\n",
    "        via quadratic and linear execution\n",
    "    \n",
    "    @param method: is a function that takes \n",
    "                    an array\n",
    "    @return: A list of time stamps\n",
    "    \"\"\"\n",
    "    time_list = []\n",
    "    \n",
    "    for listsize in range(500, 15001, 500):\n",
    "        rands = [randrange(60000) for x in range(listsize)]\n",
    "        start = time.time()\n",
    "        mini = method(rands)\n",
    "        timing = round(time.time()-start, 6)\n",
    "        time_list.append(timing)\n",
    "        \n",
    "    return time_list"
   ]
  },
  {
   "cell_type": "code",
   "execution_count": 6,
   "id": "behavioral-maintenance",
   "metadata": {},
   "outputs": [],
   "source": [
    "# For the Quadratic findMIn\n",
    "\n",
    "quad_time = time_to_list(findMin)"
   ]
  },
  {
   "cell_type": "code",
   "execution_count": 7,
   "id": "piano-cosmetic",
   "metadata": {},
   "outputs": [],
   "source": [
    "# For the linear findMIn\n",
    "\n",
    "linear_time = time_to_list(findMin2)"
   ]
  },
  {
   "cell_type": "code",
   "execution_count": 8,
   "id": "sacred-building",
   "metadata": {},
   "outputs": [
    {
     "data": {
      "text/plain": [
       "True"
      ]
     },
     "execution_count": 8,
     "metadata": {},
     "output_type": "execute_result"
    }
   ],
   "source": [
    "len(quad_time) == len(linear_time)"
   ]
  },
  {
   "cell_type": "code",
   "execution_count": 26,
   "id": "straight-voluntary",
   "metadata": {},
   "outputs": [],
   "source": [
    "def plotLines(*args, title=None, names=[]):\n",
    "    \"\"\"Plot lines from respective arrays\n",
    "    \"\"\"\n",
    "    size = len(args[0])\n",
    "    for arr in args:\n",
    "        assert len(arr) == size, 'Each Item Must Have Same Len'\n",
    "        \n",
    "    df_list = [lyst for lyst in args]\n",
    "    df = pd.DataFrame(df_list).T\n",
    "    df.columns = names\n",
    "    df.plot()\n",
    "    plt.title(title, fontweight='bold')"
   ]
  },
  {
   "cell_type": "code",
   "execution_count": 29,
   "id": "increased-christopher",
   "metadata": {},
   "outputs": [
    {
     "data": {
      "image/png": "[encoded data removed]",
      "text/plain": [
       "<Figure size 432x288 with 1 Axes>"
      ]
     },
     "metadata": {
      "needs_background": "light"
     },
     "output_type": "display_data"
    }
   ],
   "source": [
    "title = 'Quadratic and Linear Time Comparison'\n",
    "names=['quad-time', 'linear-time']\n",
    "\n",
    "plotLines(quad_time, linear_time, title=title, names=names)"
   ]
  },
  {
   "cell_type": "markdown",
   "id": "antique-ethernet",
   "metadata": {},
   "source": [
    "## Anagram\n",
    "\n",
    "A good example problem for showing algorithms with different orders of magnitude is the classic anagram detection problem for strings. One string is an anagram of another if the second is simply a rearrangement of the first. For example, 'heart' and 'earth' are anagrams. The strings 'python' and 'typhon' are anagrams as well. \n",
    "\n",
    "For the sake of simplicity, we will assume that the two strings in question are of equal length and that they are made up of symbols from the set of 26 lowercase alphabetic characters. Our goal is to write a boolean function that will take two strings and return whether they are anagrams.\n",
    "\n",
    "\n",
    "**Solution 1: Checking Off**\n",
    "\n",
    "Our first solution to the anagram problem will check the lengths of the strings and then to see that each character in the first string actually occurs in the second. If it is possible to “checkoff” each character, then the two strings must be anagrams. Checking off a character will be accomplished by replacing it with the special Python value None. However, since strings in Python are immutable, the first step in the process will be to convert the second string to a list. Each character from the first string can be checked against the characters in the list and if found, checked off by replacement. ActiveCode 1 shows this function."
   ]
  },
  {
   "cell_type": "code",
   "execution_count": 54,
   "id": "accessible-projection",
   "metadata": {},
   "outputs": [
    {
     "data": {
      "text/plain": [
       "True"
      ]
     },
     "execution_count": 54,
     "metadata": {},
     "output_type": "execute_result"
    }
   ],
   "source": [
    "# Anagram solution 1: Checking off\n",
    "\n",
    "def ana_checkingoff(s1, s2):\n",
    "    alist = list(s2)\n",
    "    \n",
    "    for char in s1:\n",
    "        for elem in alist:\n",
    "            if char == elem:\n",
    "                alist[alist.index(elem)] = None\n",
    "                break\n",
    "                \n",
    "    return alist.count(None) == len(s1) == len(s2)\n",
    "\n",
    "ana_checkingoff('rabcdj','dcbjar')"
   ]
  },
  {
   "cell_type": "markdown",
   "id": "quality-combination",
   "metadata": {},
   "source": [
    "To analyze this algorithm, we need to note that each of the n characters in s1 will cause an iteration through up to $n$ characters in the list from s2. Each of the $n$ positions in the list will be visited once to match a character from s1. Thus for each character in s1, the entire s2 is iterated in worse case. This gives an execution time of $O(n^2)$\n",
    "\n",
    "\n",
    "**Solution 2: Sort and Compare**\n",
    "\n",
    "Another solution to the anagram problem will make use of the fact that even though s1 and s2 are different, they are anagrams only if they consist of exactly the same characters. So, if we begin by sorting each string alphabetically, from a to z, we will end up with the same string if the original two strings are anagrams. Again, in Python we can use the built-in sort method on lists by simply converting each string to a list at the start."
   ]
  },
  {
   "cell_type": "code",
   "execution_count": 47,
   "id": "large-nothing",
   "metadata": {},
   "outputs": [
    {
     "data": {
      "text/plain": [
       "True"
      ]
     },
     "execution_count": 47,
     "metadata": {},
     "output_type": "execute_result"
    }
   ],
   "source": [
    "def ana_sorting(s1, s2):\n",
    "    alist = sorted(list(s1))\n",
    "    blist = sorted(list(s2))\n",
    "    \n",
    "    for a, b in zip(alist, blist):\n",
    "        if a == b:\n",
    "            matches = True\n",
    "        else:\n",
    "            matches = False\n",
    "            break\n",
    "            \n",
    "    return matches\n",
    "    \n",
    "ana_sorting('rabcdek','dcekbar')"
   ]
  },
  {
   "cell_type": "markdown",
   "id": "transparent-tragedy",
   "metadata": {},
   "source": [
    "At first glance you may be tempted to think that this algorithm is $O(n)$, since there is one simple iteration to compare the n characters after the sorting process. \n",
    "However, the two calls to the Python sort method are not without their own cost. As we will see in a later chapter, sorting is typically either $O(n^2)$ or $O(nlogn)$, so the sorting operations dominate the iteration. \n",
    "In the end, this algorithm will have the same order of magnitude as that of the sorting process.\n",
    "\n",
    "\n",
    "**Solution 3: Brute Force**\n",
    "\n",
    "* A brute force technique for solving a problem typically tries to exhaust all possibilities. For the anagram detection problem, we can simply generate a list of all possible strings using the characters from s1 and then see if s2 occurs. \n",
    "* However, there is a difficulty with this approach. When generating all possible strings from s1, there are $n$ possible first characters, $n−1$ possible characters for the second position, $n−2$ for the third, and so on. The total number of candidate strings is $n∗(n−1)∗(n−2)∗...∗3∗2∗1$, which is $n!$. \n",
    "* Although some of the strings may be duplicates, the program cannot know this ahead of time and so it will still generate $n!$ different strings.\n",
    "\n",
    "It turns out that $n!$ grows even faster than $2^n$ as $n$ gets large. In fact, if s1 were 20 characters long, there would be `20!=2,432,902,008,176,640,000` possible candidate strings. If we processed one possibility every second, it would still take us `77,146,816,596` years to go through the entire list. This is probably not going to be a good solution."
   ]
  },
  {
   "cell_type": "code",
   "execution_count": 115,
   "id": "furnished-conference",
   "metadata": {},
   "outputs": [
    {
     "name": "stdout",
     "output_type": "stream",
     "text": [
      "2432902008176640000\n"
     ]
    }
   ],
   "source": [
    "def fact(n):\n",
    "    # base case\n",
    "    if n <= 1:\n",
    "        return 1\n",
    "    \n",
    "    # recursive case\n",
    "    return n * fact(n-1)\n",
    "\n",
    "print(fact(20))"
   ]
  },
  {
   "cell_type": "markdown",
   "id": "precious-investment",
   "metadata": {},
   "source": [
    "**Solution 4: Count and Compare**\n",
    "\n",
    "Our final solution to the anagram problem takes advantage of the fact that any two anagrams will have the same number of a’s, the same number of b’s, the same number of c’s, and so on. In order to decide whether two strings are anagrams, we will first count the number of times each character occurs. Since there are 26 possible characters, we can use a list of 26 counters, one for each possible character. Each time we see a particular character, we will increment the counter at that position. In the end, if the two lists of counters are identical, the strings must be anagrams."
   ]
  },
  {
   "cell_type": "code",
   "execution_count": 144,
   "id": "incident-prospect",
   "metadata": {},
   "outputs": [],
   "source": [
    "def ana_count_compare(s1, s2):\n",
    "    assert len(s1) == len(s2),'ERROR: len(s1) != len(s2)'\n",
    "    \n",
    "    dict1 = {}\n",
    "    dict2 = {}\n",
    "    \n",
    "    for chr1, chr2 in zip(list(s1), list(s2)):\n",
    "        dict1[chr1] = list(s1).count(chr1)\n",
    "        dict2[chr2] = list(s2).count(chr2)\n",
    "    \n",
    "    return dict1 == dict2 "
   ]
  },
  {
   "cell_type": "code",
   "execution_count": 145,
   "id": "purple-indianapolis",
   "metadata": {},
   "outputs": [
    {
     "data": {
      "text/plain": [
       "True"
      ]
     },
     "execution_count": 145,
     "metadata": {},
     "output_type": "execute_result"
    }
   ],
   "source": [
    "ana_count_compare('abbcddk','kddcbba')"
   ]
  },
  {
   "cell_type": "markdown",
   "id": "computational-ghana",
   "metadata": {},
   "source": [
    "Again, `ana_count_compare` solution has an iteration. However, unlike `ana_checkingoff` solution, its not nested. This method takes the 2 lists of s1 and s2 into a zip object and iterates through the zip object, appending the count of each character in s1 and s2 to two dictionaries. Adding it all up gives us two selections, two assignments and the iteration through the zip object of len($n$). Thus, $T(n)=n+4$ steps. That is $O(n)$. We have found a linear order of magnitude algorithm for solving this problem.\n",
    "\n",
    "**Before leaving this example, we need to say something about space requirements.** \n",
    "* Although the last solution was able to run in linear time, it could only do so by using additional storage to keep the two dictionaries of character counts. \n",
    "* In other words, this algorithm sacrificed space in order to gain time.\n",
    "* This is a common occurrence. On many occasions you will need to make decisions between time and space trade-offs. \n",
    "* In this case, the amount of extra space is not significant. However, if the underlying alphabet had millions of characters, there would be more concern. \n",
    "* As a computer scientist, when given a choice of algorithms, it will be up to you to determine the best use of computing resources given a particular problem."
   ]
  },
  {
   "cell_type": "code",
   "execution_count": 1,
   "id": "rapid-yemen",
   "metadata": {},
   "outputs": [],
   "source": [
    "def halving(n):\n",
    "    \"\"\"Consecutively print the values\n",
    "        of n//2 until 0.\n",
    "    \"\"\"\n",
    "    while n:\n",
    "        print(n)\n",
    "        n//=2"
   ]
  },
  {
   "cell_type": "code",
   "execution_count": 3,
   "id": "intermediate-construction",
   "metadata": {},
   "outputs": [
    {
     "name": "stdout",
     "output_type": "stream",
     "text": [
      "100\n",
      "50\n",
      "25\n",
      "12\n",
      "6\n",
      "3\n",
      "1\n"
     ]
    }
   ],
   "source": [
    "halving(100)"
   ]
  },
  {
   "cell_type": "markdown",
   "id": "interesting-magic",
   "metadata": {},
   "source": [
    "From the above `halving` function, the value of $n$ is cut in half each time through the loop so it will only take $log n$ iterations. This function has an execution time of $O(log(n))$"
   ]
  },
  {
   "cell_type": "code",
   "execution_count": null,
   "id": "veterinary-backup",
   "metadata": {},
   "outputs": [],
   "source": []
  }
 ],
 "metadata": {
  "kernelspec": {
   "display_name": "Python 3",
   "language": "python",
   "name": "python3"
  },
  "language_info": {
   "codemirror_mode": {
    "name": "ipython",
    "version": 3
   },
   "file_extension": ".py",
   "mimetype": "text/x-python",
   "name": "python",
   "nbconvert_exporter": "python",
   "pygments_lexer": "ipython3",
   "version": "3.8.5"
  }
 },
 "nbformat": 4,
 "nbformat_minor": 5
}
