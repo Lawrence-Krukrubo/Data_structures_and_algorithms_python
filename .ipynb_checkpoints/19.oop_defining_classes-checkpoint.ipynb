{
 "cells": [
  {
   "cell_type": "markdown",
   "id": "violent-airplane",
   "metadata": {},
   "source": [
    "# Object-Oriented-Programming:\n",
    "\n",
    "Python is an object-oriented programming language. So far, we have used a number of built-in classes to show examples of data and control structures. One of the most powerful features in an object-oriented programming language is the ability to allow a programmer (problem solver) to create new classes that model data that is needed to solve the problem.\n",
    "\n",
    "We use abstract data types to provide the logical description of what a data object looks like **(its state)** and what it can do **(its methods)**. By building a `class` that implements an abstract data type, a programmer can take advantage of the abstraction process and at the same time provide the details necessary to actually use the abstraction in a program. Whenever we want to implement an abstract data type, we will do so with a new class."
   ]
  },
  {
   "cell_type": "markdown",
   "id": "occasional-regulation",
   "metadata": {},
   "source": [
    "### Class Fraction...\n",
    "\n",
    "A fraction such as $3\\over5$ consists of two parts. The top value, known as the numerator, can be any integer. The bottom value, called the denominator, can be any integer greater than 0 (negative fractions have a negative numerator). Although it is possible to create a floating point approximation for any fraction, in this case we would like to represent the fraction as an exact value.\n",
    "\n",
    "The operations for the Fraction type will allow a Fraction data object to behave like any other numeric value. We need to be able to add, subtract, multiply, and divide fractions. We also want to be able to show fractions using the standard “slash” form, for example `3/5`. In addition, all fraction methods should return results in their lowest terms so that no matter what computation is performed, we always end up with the most common form."
   ]
  },
  {
   "cell_type": "code",
   "execution_count": 1,
   "id": "abroad-bobby",
   "metadata": {},
   "outputs": [],
   "source": [
    "class Fraction:\n",
    "    \"\"\"A class for instantiating\n",
    "        Fraction objects.\n",
    "    \"\"\"\n",
    "    def __init__(self, top, bottom):\n",
    "        self.num = top\n",
    "        self.den = bottom"
   ]
  },
  {
   "cell_type": "code",
   "execution_count": 2,
   "id": "complicated-intensity",
   "metadata": {},
   "outputs": [
    {
     "name": "stdout",
     "output_type": "stream",
     "text": [
      "<__main__.Fraction object at 0x00000214780BAF40>\n"
     ]
    }
   ],
   "source": [
    "myf = Fraction(3, 5)\n",
    "print(myf)"
   ]
  },
  {
   "cell_type": "code",
   "execution_count": 4,
   "id": "fiscal-tenant",
   "metadata": {},
   "outputs": [],
   "source": [
    "class Fraction:\n",
    "    \"\"\"A class for instantiating\n",
    "        Fraction objects.\n",
    "    \"\"\"\n",
    "    def __init__(self, top, bottom):\n",
    "        if not (type(top) == type(bottom) == int):\n",
    "            raise TypeError('Top & Bottom Must be Integers')\n",
    "            \n",
    "        self.gcd = Fraction.euclid_algo(top, bottom)\n",
    "        # Define Numerator and Denominator\n",
    "        self.num = top//self.gcd\n",
    "        self.den = bottom//self.gcd\n",
    "        \n",
    "        \n",
    "    # Using the built-in __str__ method\n",
    "    # calls to print() activate this method\n",
    "    def __str__(self):\n",
    "        \"\"\"Prints out the numerator/denominator\n",
    "            using the slash notation\n",
    "        \"\"\"\n",
    "        if Fraction.check_wholeness(self.num, self.den):\n",
    "            return str(1)\n",
    "        return str(self.num)+'/'+str(self.den)\n",
    "    \n",
    "    \n",
    "    def __repr__(self):\n",
    "        return self.__str__()\n",
    "    \n",
    "    \n",
    "    @staticmethod\n",
    "    def euclid_algo(x, y):\n",
    "        \"\"\"Helper function to find the GCD\n",
    "            (Greatest-Common-Divisor)\n",
    "            of 2 numbers using the euclid's algorithm\n",
    "        \"\"\"\n",
    "        m = max(x,y)\n",
    "        n = abs(min(x,y))\n",
    "\n",
    "        while m % n != 0:\n",
    "            old_m = m\n",
    "            old_n = n\n",
    "            \n",
    "            m = old_n\n",
    "            n = old_m % old_n\n",
    "\n",
    "        return n\n",
    "    \n",
    "    \n",
    "    @staticmethod\n",
    "    def check_negs(num, den):\n",
    "        \"\"\"Check if Both num and den\n",
    "            are both negative numbers\n",
    "            if so return the abs() value\n",
    "        \"\"\"\n",
    "        if num < 0 > den:\n",
    "            num = abs(num)\n",
    "            den = abs(den)\n",
    "            \n",
    "        return num, den\n",
    "    \n",
    "    \n",
    "    @staticmethod\n",
    "    def check_wholeness(num, den):\n",
    "        \"\"\"Check if the Fraction values\n",
    "            qualify for a whole-number\n",
    "        \"\"\"\n",
    "        if num == den:\n",
    "            return int(True)\n",
    "    \n",
    "    \n",
    "     # Let's override the default __add__ function\n",
    "    def __add__(self, other):\n",
    "        \"\"\"Performs fraction addition of 2 Fraction objs.\n",
    "        @param other: A Fraction object\n",
    "        @return: A new Fraction object.\n",
    "        \"\"\"\n",
    "        if type(other) is not Fraction:\n",
    "            return Fraction.__radd__(self, other)\n",
    "        new_num = (self.num*other.den) + (other.num*self.den)\n",
    "        new_den = self.den * other.den\n",
    "        \n",
    "        new_num, new_den = Fraction.check_negs(new_num, new_den)\n",
    "        Fraction.check_wholeness(new_num, new_den)\n",
    "        \n",
    "        return Fraction(new_num, new_den)\n",
    "    \n",
    "    \n",
    "    def __radd__(self, other):\n",
    "        \"\"\"Performs addition between non-Fraction objects,\n",
    "            In this case only Integers and Fraction objects,\n",
    "            as well as Vice-Versa\n",
    "        \"\"\"\n",
    "        try:\n",
    "            assert type(other) in [int, Fraction]\n",
    "            if type(other) is int and other == 0:\n",
    "                return Fraction(self.num, self.den)\n",
    "        except AssertionError as e:\n",
    "            print(e)\n",
    "            return f'Must be type int or Fraction not {type(other)}'\n",
    "        \n",
    "        if type(other) is int:\n",
    "            new_num = self.den * other + self.num\n",
    "            new_den = self.den\n",
    "            new_num, new_den = Fraction.check_negs(new_num, new_den)\n",
    "            Fraction.check_wholeness(new_num, new_den)\n",
    "            return Fraction(new_num, self.den)\n",
    "        else:\n",
    "            return Fraction.__add__(self, other)\n",
    "        \n",
    "        \n",
    "    def __iadd__(self, other):\n",
    "        \"\"\"Performs the self-update method by\n",
    "            instantly adding a Fraction to another\n",
    "        \"\"\"\n",
    "        if type(other) is not Fraction:\n",
    "            return Fraction.__radd__(self, other)\n",
    "        \n",
    "        new_fraction = Fraction.__add__(self, other)\n",
    "        Fraction.check_wholeness(new_fraction.num, new_fraction.den)\n",
    "        \n",
    "        return new_fraction\n",
    "    \n",
    "    \n",
    "    # Find out if two Fractions have same values. \n",
    "    # This means they have deep-equality.\n",
    "    def __eq__(self, other):\n",
    "        \"\"\"Assert if two Fraction objects are equal\n",
    "        @return: True or False\n",
    "        \"\"\"\n",
    "        self_num = self.num * other.den\n",
    "        other_num = other.num * self.den\n",
    "        \n",
    "        return self_num == other_num\n",
    "    \n",
    "    \n",
    "    # Let's add a method to subtract one Fraction from another\n",
    "    def __sub__(self, other):\n",
    "        \"\"\"Subtract One Fraction obj from another\n",
    "        @return: A new fraction object simplified to lowest form\n",
    "        \"\"\"\n",
    "        if self.__eq__(other):\n",
    "            return 0\n",
    "        \n",
    "        new_num = (self.num*other.den) - (other.num*self.den)\n",
    "        new_den = self.den * other.den\n",
    "        \n",
    "        new_num, new_den = Fraction.check_negs(new_num, new_den)\n",
    "        Fraction.check_wholeness(new_num, new_den)\n",
    "        \n",
    "        return Fraction(new_num, new_den)\n",
    "    \n",
    "    \n",
    "    # Let's add a method to multiply one Fraction with another\n",
    "    def __mul__(self, other):\n",
    "        \"\"\"Multiply one Fraction Object with another\n",
    "        @return: A new Fraction object\n",
    "        \"\"\"\n",
    "        new_num = self.num * other.num\n",
    "        new_den = self.den * other.den\n",
    "        \n",
    "        new_num, new_den = Fraction.check_negs(new_num, new_den)\n",
    "        Fraction.check_wholeness(new_num, new_den)\n",
    "        \n",
    "        return Fraction(new_num, new_den)\n",
    "    \n",
    "    \n",
    "    # Let's add a method to divide one Fraction with another\n",
    "    # In python3, we have the __truediv__ for float division (/) and\n",
    "    # __floordiv__ for integer division (//)\n",
    "    def __truediv__(self, other):\n",
    "        \"\"\"Divide one Fraction Object with another\n",
    "        @return: A new Fraction object\n",
    "        \"\"\"\n",
    "        # Div is inverse of mul for the right operand\n",
    "        other_num, other_den = other.den, other.num\n",
    "        \n",
    "        return self.__mul__(Fraction(other_num, other_den))\n",
    "    \n",
    "    \n",
    "    # Let's add a method to compare if one Fraction \n",
    "    # is greater than another\n",
    "    def __gt__(self, other):\n",
    "        \"\"\"Assert if One Fraction is > another\n",
    "        @return: Bool; True or False\n",
    "        \"\"\"\n",
    "        self_decimal = round(self.num / self.den, 8)\n",
    "        other_decimal = round(other.num / other.den, 8)\n",
    "        \n",
    "        return self_decimal > other_decimal\n",
    "    \n",
    "    \n",
    "    # Let's add a method to compare if one Fraction \n",
    "    # is less than another\n",
    "    def __lt__(self, other):\n",
    "        \"\"\"Assert if One Fraction is < another\n",
    "        @return: Bool; True or False\n",
    "        \"\"\"\n",
    "        self_decimal = round(self.num / self.den, 8)\n",
    "        other_decimal = round(other.num / other.den, 8)\n",
    "        \n",
    "        return self_decimal < other_decimal\n",
    "    \n",
    "    def get_num(self):\n",
    "        return self.num\n",
    "    \n",
    "    def get_den(self):\n",
    "        return self.den\n",
    "        "
   ]
  },
  {
   "cell_type": "code",
   "execution_count": 5,
   "id": "sonic-curtis",
   "metadata": {},
   "outputs": [
    {
     "name": "stdout",
     "output_type": "stream",
     "text": [
      "1/4\n"
     ]
    }
   ],
   "source": [
    "f1 = Fraction(1, 4)\n",
    "print(f1)"
   ]
  },
  {
   "cell_type": "code",
   "execution_count": 6,
   "id": "crucial-latvia",
   "metadata": {},
   "outputs": [
    {
     "name": "stdout",
     "output_type": "stream",
     "text": [
      "37/4\n"
     ]
    }
   ],
   "source": [
    "# Adding an integer to f1 courtesy of the __radd__() dunder method\n",
    "\n",
    "print(f1+9)"
   ]
  },
  {
   "cell_type": "code",
   "execution_count": 7,
   "id": "fresh-distance",
   "metadata": {},
   "outputs": [
    {
     "name": "stdout",
     "output_type": "stream",
     "text": [
      "37/4\n"
     ]
    }
   ],
   "source": [
    "# Adding f1 to an integer courtesy of the __radd__() dunder method\n",
    "\n",
    "print(9 + f1)"
   ]
  },
  {
   "cell_type": "code",
   "execution_count": 8,
   "id": "alone-excuse",
   "metadata": {},
   "outputs": [
    {
     "name": "stdout",
     "output_type": "stream",
     "text": [
      "1/2\n"
     ]
    }
   ],
   "source": [
    "f2 = Fraction(1, 2)\n",
    "print(f2)"
   ]
  },
  {
   "cell_type": "code",
   "execution_count": 9,
   "id": "ranking-commerce",
   "metadata": {},
   "outputs": [
    {
     "name": "stdout",
     "output_type": "stream",
     "text": [
      "3/4\n"
     ]
    }
   ],
   "source": [
    "print(f1+f2)"
   ]
  },
  {
   "cell_type": "code",
   "execution_count": 10,
   "id": "wound-fitness",
   "metadata": {},
   "outputs": [
    {
     "data": {
      "text/plain": [
       "3/4"
      ]
     },
     "execution_count": 10,
     "metadata": {},
     "output_type": "execute_result"
    }
   ],
   "source": [
    "# The below expression prints out without explicit call to print()\n",
    "# This is because of the __repr__() dunder method, which itself calls the __str__() method\n",
    "\n",
    "f1 + f2"
   ]
  },
  {
   "cell_type": "code",
   "execution_count": 11,
   "id": "traditional-grenada",
   "metadata": {},
   "outputs": [
    {
     "name": "stdout",
     "output_type": "stream",
     "text": [
      "I ate 1/2 of the pizza\n"
     ]
    }
   ],
   "source": [
    "print('I ate %s of the pizza' %(f2))"
   ]
  },
  {
   "cell_type": "code",
   "execution_count": 12,
   "id": "banner-neighborhood",
   "metadata": {},
   "outputs": [
    {
     "name": "stdout",
     "output_type": "stream",
     "text": [
      "3/4\n"
     ]
    }
   ],
   "source": [
    "f3 = f1 + f2\n",
    "print(f3)"
   ]
  },
  {
   "cell_type": "code",
   "execution_count": 13,
   "id": "difficult-tours",
   "metadata": {},
   "outputs": [
    {
     "name": "stdout",
     "output_type": "stream",
     "text": [
      "1/4\n"
     ]
    }
   ],
   "source": [
    "print(f1)"
   ]
  },
  {
   "cell_type": "code",
   "execution_count": 14,
   "id": "cardiovascular-coating",
   "metadata": {},
   "outputs": [],
   "source": [
    "# Now let's update f1 to (f1+f3) using the assignment operator +=,\n",
    "# which should now make f1 =  1/1 or 1\n",
    "\n",
    "f1+=f3"
   ]
  },
  {
   "cell_type": "code",
   "execution_count": 15,
   "id": "invisible-lender",
   "metadata": {},
   "outputs": [
    {
     "data": {
      "text/plain": [
       "1"
      ]
     },
     "execution_count": 15,
     "metadata": {},
     "output_type": "execute_result"
    }
   ],
   "source": [
    "f1"
   ]
  },
  {
   "cell_type": "code",
   "execution_count": 16,
   "id": "according-investigation",
   "metadata": {},
   "outputs": [
    {
     "name": "stdout",
     "output_type": "stream",
     "text": [
      "1/4\n"
     ]
    }
   ],
   "source": [
    "f4 = Fraction(5, 20)\n",
    "print(f4)"
   ]
  },
  {
   "cell_type": "code",
   "execution_count": 17,
   "id": "wound-somalia",
   "metadata": {},
   "outputs": [
    {
     "name": "stdout",
     "output_type": "stream",
     "text": [
      "1\n"
     ]
    }
   ],
   "source": [
    "print(Fraction.euclid_algo(f4.num, f4.den))"
   ]
  },
  {
   "cell_type": "markdown",
   "id": "wrapped-truth",
   "metadata": {},
   "source": [
    "### Shallow and Deep Equality\n",
    "\n",
    "* Two objects have **Shallow-Equality** if they are references of the same object. It don't matter if the 2 objects have different values, they are shallow-equal if they are refs of the same object address.\n",
    "* Two objects have **Deep-Equality** if they have equal values. They may be from different object references but have same values.\n",
    "* The **`__eq__`** method is another standard method available in any class. The `__eq__` method compares two objects and returns True if their values are the same, False otherwise. We can override the workings of this method to create both shallow and deep equality."
   ]
  },
  {
   "cell_type": "markdown",
   "id": "emerging-environment",
   "metadata": {},
   "source": [
    "#### Comparing Fraction objects..."
   ]
  },
  {
   "cell_type": "code",
   "execution_count": 19,
   "id": "fresh-question",
   "metadata": {},
   "outputs": [
    {
     "name": "stdout",
     "output_type": "stream",
     "text": [
      "1/2\n"
     ]
    }
   ],
   "source": [
    "f5 = Fraction(2,4)\n",
    "print(f5)"
   ]
  },
  {
   "cell_type": "code",
   "execution_count": 20,
   "id": "atmospheric-concert",
   "metadata": {},
   "outputs": [
    {
     "data": {
      "text/plain": [
       "True"
      ]
     },
     "execution_count": 20,
     "metadata": {},
     "output_type": "execute_result"
    }
   ],
   "source": [
    "# Let's check if 2/4 is equal to 1/2... should be True\n",
    "\n",
    "f5 == f2"
   ]
  },
  {
   "cell_type": "code",
   "execution_count": 21,
   "id": "swiss-chemical",
   "metadata": {},
   "outputs": [
    {
     "data": {
      "text/plain": [
       "False"
      ]
     },
     "execution_count": 21,
     "metadata": {},
     "output_type": "execute_result"
    }
   ],
   "source": [
    "# Let's check if 1/4 is equal to 1/2... should be False\n",
    "\n",
    "f1 == f2"
   ]
  },
  {
   "cell_type": "code",
   "execution_count": 22,
   "id": "small-haiti",
   "metadata": {},
   "outputs": [
    {
     "name": "stdout",
     "output_type": "stream",
     "text": [
      "False\n"
     ]
    }
   ],
   "source": [
    "# Let's check if 1/2 is greater than 1/4... should be True\n",
    "\n",
    "print(f2 > f1)"
   ]
  },
  {
   "cell_type": "code",
   "execution_count": 23,
   "id": "egyptian-compression",
   "metadata": {},
   "outputs": [
    {
     "name": "stdout",
     "output_type": "stream",
     "text": [
      "True\n"
     ]
    }
   ],
   "source": [
    "# Let's check if 1/2 is less than 3/4... should be True\n",
    "\n",
    "print(f2 < f3)"
   ]
  },
  {
   "cell_type": "markdown",
   "id": "departmental-annotation",
   "metadata": {},
   "source": [
    "#### Subtracting Fraction objects..."
   ]
  },
  {
   "cell_type": "code",
   "execution_count": 24,
   "id": "specified-croatia",
   "metadata": {},
   "outputs": [
    {
     "name": "stdout",
     "output_type": "stream",
     "text": [
      "-1/2\n"
     ]
    }
   ],
   "source": [
    "# Subtract 1/4 from 1/2 should be 1/4\n",
    "\n",
    "print(f2 - f1)"
   ]
  },
  {
   "cell_type": "code",
   "execution_count": 25,
   "id": "organized-navigator",
   "metadata": {},
   "outputs": [
    {
     "name": "stdout",
     "output_type": "stream",
     "text": [
      "1/2\n"
     ]
    }
   ],
   "source": [
    "# Subtract 1/2 from 1/4 should be -1/4\n",
    "\n",
    "print(f1 - f2)"
   ]
  },
  {
   "cell_type": "code",
   "execution_count": 26,
   "id": "latter-liver",
   "metadata": {},
   "outputs": [
    {
     "name": "stdout",
     "output_type": "stream",
     "text": [
      "0\n"
     ]
    }
   ],
   "source": [
    "# Subtract 1/2 from 2/4 should be 0\n",
    "\n",
    "print(f5 - f2)"
   ]
  },
  {
   "cell_type": "code",
   "execution_count": 27,
   "id": "recorded-canyon",
   "metadata": {},
   "outputs": [
    {
     "name": "stdout",
     "output_type": "stream",
     "text": [
      "-3/4\n"
     ]
    }
   ],
   "source": [
    "# Subtract 1/4 from 5/20 should be 0\n",
    "\n",
    "print(f4 - f1)"
   ]
  },
  {
   "cell_type": "code",
   "execution_count": 28,
   "id": "existing-formula",
   "metadata": {},
   "outputs": [
    {
     "name": "stdout",
     "output_type": "stream",
     "text": [
      "1/2\n"
     ]
    }
   ],
   "source": [
    "# Subtract 5/20 from 3/4 should be 1/2\n",
    "\n",
    "print(f3 - f4)"
   ]
  },
  {
   "cell_type": "markdown",
   "id": "chubby-container",
   "metadata": {},
   "source": [
    "#### Multiplying Fraction objects..."
   ]
  },
  {
   "cell_type": "code",
   "execution_count": 29,
   "id": "thermal-ghost",
   "metadata": {},
   "outputs": [
    {
     "name": "stdout",
     "output_type": "stream",
     "text": [
      "f6: 2/3\n",
      "f7: 1/6\n",
      "f8: 4/1\n"
     ]
    }
   ],
   "source": [
    "f6 = Fraction(2,3)\n",
    "f7 = Fraction(1,6)\n",
    "f8 = Fraction(4,1)\n",
    "\n",
    "print('f6: %s\\nf7: %s\\nf8: %s' %(f6, f7, f8))"
   ]
  },
  {
   "cell_type": "code",
   "execution_count": 30,
   "id": "wicked-discovery",
   "metadata": {},
   "outputs": [
    {
     "name": "stdout",
     "output_type": "stream",
     "text": [
      "1/4\n"
     ]
    }
   ],
   "source": [
    "# Multiply 1/2 by 2/4 should be 1/4\n",
    "\n",
    "print(f2 * f5)"
   ]
  },
  {
   "cell_type": "code",
   "execution_count": 31,
   "id": "centered-lemon",
   "metadata": {},
   "outputs": [
    {
     "name": "stdout",
     "output_type": "stream",
     "text": [
      "1/4\n"
     ]
    }
   ],
   "source": [
    "# Multiply 1/4 by 5/20 should be 1/16\n",
    "\n",
    "print(f1 * f4)"
   ]
  },
  {
   "cell_type": "code",
   "execution_count": 32,
   "id": "gentle-devon",
   "metadata": {},
   "outputs": [
    {
     "name": "stdout",
     "output_type": "stream",
     "text": [
      "3/8\n"
     ]
    }
   ],
   "source": [
    "# Multiply 3/4 by 2/4 should be 3/8\n",
    "\n",
    "print(f3 * f5)"
   ]
  },
  {
   "cell_type": "code",
   "execution_count": 33,
   "id": "registered-publisher",
   "metadata": {},
   "outputs": [
    {
     "name": "stdout",
     "output_type": "stream",
     "text": [
      "1/2\n"
     ]
    }
   ],
   "source": [
    "# Multiply 1/4 by 2/4 should be 1/8\n",
    "\n",
    "print(f1 * f5)"
   ]
  },
  {
   "cell_type": "code",
   "execution_count": 34,
   "id": "likely-terminal",
   "metadata": {},
   "outputs": [
    {
     "name": "stdout",
     "output_type": "stream",
     "text": [
      "2/3\n"
     ]
    }
   ],
   "source": [
    "# Multiply 1/6 by 4/1 should be 2/3\n",
    "\n",
    "print(f7 * f8)"
   ]
  },
  {
   "cell_type": "markdown",
   "id": "soviet-bicycle",
   "metadata": {},
   "source": [
    "#### Dividing Fraction objects..."
   ]
  },
  {
   "cell_type": "code",
   "execution_count": 35,
   "id": "institutional-underground",
   "metadata": {},
   "outputs": [
    {
     "name": "stdout",
     "output_type": "stream",
     "text": [
      "1\n"
     ]
    }
   ],
   "source": [
    "# Divide 2/3 by 2/3 should be 1/1\n",
    "\n",
    "print(f6 / f6)"
   ]
  },
  {
   "cell_type": "code",
   "execution_count": 36,
   "id": "consecutive-occasion",
   "metadata": {},
   "outputs": [
    {
     "name": "stdout",
     "output_type": "stream",
     "text": [
      "8/1\n"
     ]
    }
   ],
   "source": [
    "# Divide 4/1 by 1/2 should be 8/1\n",
    "\n",
    "print(f8 / f2)"
   ]
  },
  {
   "cell_type": "code",
   "execution_count": 37,
   "id": "comparative-turning",
   "metadata": {},
   "outputs": [
    {
     "name": "stdout",
     "output_type": "stream",
     "text": [
      "1/8\n"
     ]
    }
   ],
   "source": [
    "# Divide 1/2 by 4/1 should be 1/8\n",
    "\n",
    "print(f2 / f8)"
   ]
  },
  {
   "cell_type": "code",
   "execution_count": 38,
   "id": "surgical-swedish",
   "metadata": {},
   "outputs": [
    {
     "name": "stdout",
     "output_type": "stream",
     "text": [
      "4/1\n"
     ]
    }
   ],
   "source": [
    "# Divide 1/4 by 5/20 should be 1/1\n",
    "\n",
    "print(f1 / f4)"
   ]
  },
  {
   "cell_type": "code",
   "execution_count": 39,
   "id": "fifty-decade",
   "metadata": {},
   "outputs": [
    {
     "name": "stdout",
     "output_type": "stream",
     "text": [
      "2/1\n"
     ]
    }
   ],
   "source": [
    "# Divide 1/2 by 5/20 should be 2/1\n",
    "\n",
    "print(f2 / f4)"
   ]
  },
  {
   "cell_type": "markdown",
   "id": "little-terrain",
   "metadata": {},
   "source": [
    "## Inheritance: Logic Gates and Circuits\n",
    "\n",
    "**Inheritance** is the ability for one class to be related to another class in much the same way that people can be related to one another. Children inherit characteristics from their parents. Similarly, Python child classes can inherit characteristic data and behavior from a parent class. <br>These classes are often referred to as **subclasses** and **superclasses**.\n",
    "\n",
    "<img src='https://runestone.academy/runestone/books/published/pythonds/_images/inheritance1.png' height=200 width=400>"
   ]
  },
  {
   "cell_type": "markdown",
   "id": "fewer-jungle",
   "metadata": {},
   "source": [
    "**Logic gates** are easily organized into a class inheritance hierarchy. At the top of the hierarchy, the **`LogicGate class`** represents the most general characteristics of logic gates: namely, a label for the gate and an output line. The next level of subclasses breaks the logic gates into two families, those that have one input line and those that have two. Below that, the specific logic functions of each appear...\n",
    "\n",
    "<img src='https://runestone.academy/runestone/books/published/pythonds/_images/gates.png' height=400 width=400>"
   ]
  },
  {
   "cell_type": "code",
   "execution_count": 40,
   "id": "imposed-complement",
   "metadata": {},
   "outputs": [],
   "source": [
    "class LogicGate:\n",
    "    \"\"\"A class for instantiating and performing\n",
    "        LogicGates operations, such as AND, OR, NOT.\n",
    "    \"\"\"\n",
    "    def __init__(self, name):\n",
    "        self.label = name\n",
    "        self.output = None\n",
    "        \n",
    "    def getLabel(self):    \n",
    "        return self.label\n",
    "    \n",
    "    def getOutput(self):\n",
    "        # performGateLogic to be defined in subclass\n",
    "        self.output = self.performGateLogic()\n",
    "        return self.output"
   ]
  },
  {
   "cell_type": "markdown",
   "id": "awful-injection",
   "metadata": {},
   "source": [
    "At this point, we will not implement the performGateLogic function. The reason for this is that we do not know how each gate will perform its own logic operation. Those details will be included by each individual gate that is added to the hierarchy. This is a very powerful idea in object-oriented programming. We are writing a method that will use code that does not exist yet.\n",
    "\n",
    "The parameter self is a reference to the actual gate object invoking the method. Any new logic gate that gets added to the hierarchy will simply need to implement the performGateLogic function and it will be used at the appropriate time. Once done, the gate can provide its output value. This ability to extend a hierarchy that currently exists and provide the specific functions that the hierarchy needs to use the new class is extremely important for reusing existing code.\n",
    "\n",
    "\n",
    "We categorized the logic gates based on the number of input lines. The AND gate has two input lines. The OR gate also has two input lines. NOT gates have one input line. The BinaryGate class will be a subclass of LogicGate and will add two input lines. The UnaryGate class will also subclass LogicGate but will have only a single input line. In computer circuit design, these lines are sometimes called “pins” so we will use that terminology in our implementation."
   ]
  },
  {
   "cell_type": "code",
   "execution_count": 41,
   "id": "limiting-delay",
   "metadata": {},
   "outputs": [],
   "source": [
    "class BinaryGate(LogicGate):\n",
    "    \"\"\"A class for instantiating Binary\n",
    "        LogicGates operations like AND, OR.\n",
    "    \"\"\"\n",
    "    def __init__(self, name):\n",
    "        LogicGate.__init__(self, name)\n",
    "        \n",
    "        self.pinA = None\n",
    "        self.pinB = None\n",
    "        \n",
    "    def getPinA(self):\n",
    "        \"\"\"Get value of input 1.\n",
    "        If val >= 1 return 1 else 0\n",
    "        \"\"\"\n",
    "        val = int(input(\"Enter Pin A input for gate \"+ self.getLabel()+\"-->\"))\n",
    "        \n",
    "        return int(val >= 1)\n",
    "    \n",
    "    def getPinB(self):\n",
    "        \"\"\"Get value of input 2.\n",
    "        If val >= 1 return 1 else 0\n",
    "        \"\"\"\n",
    "        val = int(input(\"Enter Pin B input for gate \"+ self.getLabel()+\"-->\"))\n",
    "        \n",
    "        return int(val >= 1)"
   ]
  },
  {
   "cell_type": "code",
   "execution_count": 42,
   "id": "boring-cleaners",
   "metadata": {},
   "outputs": [],
   "source": [
    "class UnaryGate(LogicGate):\n",
    "    \"\"\"A class for instantiating Unary\n",
    "        LogicGates operations like NOT.\n",
    "    \"\"\"\n",
    "    def __init__(self, name):\n",
    "        super(UnaryGate, self).__init__(name)\n",
    "        \n",
    "        self.pin = None\n",
    "        \n",
    "    def getPin(self):\n",
    "        \"\"\"Get value of single input.\n",
    "        If val >= 1 return 1 else 0\n",
    "        \"\"\"\n",
    "        val = int(input(\"Enter Pin input for gate \"+ self.getLabel()+\"-->\"))\n",
    "        \n",
    "        return int(val >= 1)"
   ]
  },
  {
   "cell_type": "markdown",
   "id": "nominated-diagnosis",
   "metadata": {},
   "source": [
    "The constructors in both of these classes start with an explicit call to the constructor of the parent class using the parent’s `__init__` method. When creating an instance of the BinaryGate class, we first want to initialize any data items that are inherited from LogicGate. In this case, that means the label for the gate as well as the output. The constructor then goes on to add the two input lines (pinA and pinB). This is a very common pattern that you should always use when building class hierarchies. Child class constructors need to call parent class constructors and then move on to their own distinguishing data.\n",
    "\n",
    "Python also has a function called **`super`** which can be used in place of explicitly naming the parent class as we did in BinaryGate. This is a more general mechanism, and is widely used, especially when a class has more than one parent. `super` is used in the UnaryGate to call the LogicGate's `__init__` constructor."
   ]
  },
  {
   "cell_type": "code",
   "execution_count": 43,
   "id": "pursuant-default",
   "metadata": {},
   "outputs": [],
   "source": [
    "class AndGate(BinaryGate):\n",
    "    \"\"\"Class for instantiating AND\n",
    "        BinaryGate Operations.\n",
    "    \"\"\"\n",
    "    def __init__(self, name):\n",
    "        super(AndGate, self).__init__(name)\n",
    "        \n",
    "    def performGateLogic(self):\n",
    "        a = self.getPinA()\n",
    "        b = self.getPinB()\n",
    "        \n",
    "        if a == b == 1:\n",
    "            return 1\n",
    "        else:\n",
    "            return 0"
   ]
  },
  {
   "cell_type": "markdown",
   "id": "colonial-treaty",
   "metadata": {},
   "source": [
    "The AndGate inherits from the BinaryGate which inturn inherits from the LogicGate. So the AndGate needs no additional data, since it already has access to the label, output from LogicGate as well as the PinA and PinB from BinaryGate. All it needs is the `performGateLogic` method to perform the AND logic"
   ]
  },
  {
   "cell_type": "code",
   "execution_count": 44,
   "id": "selected-birmingham",
   "metadata": {},
   "outputs": [],
   "source": [
    "g1 = AndGate('G1')"
   ]
  },
  {
   "cell_type": "code",
   "execution_count": 45,
   "id": "recognized-aquatic",
   "metadata": {},
   "outputs": [
    {
     "data": {
      "text/plain": [
       "'G1'"
      ]
     },
     "execution_count": 45,
     "metadata": {},
     "output_type": "execute_result"
    }
   ],
   "source": [
    "g1.getLabel()"
   ]
  },
  {
   "cell_type": "code",
   "execution_count": 46,
   "id": "discrete-shoot",
   "metadata": {},
   "outputs": [
    {
     "name": "stdout",
     "output_type": "stream",
     "text": [
      "Enter Pin A input for gate G1-->0\n",
      "Enter Pin B input for gate G1-->1\n"
     ]
    },
    {
     "data": {
      "text/plain": [
       "0"
      ]
     },
     "execution_count": 46,
     "metadata": {},
     "output_type": "execute_result"
    }
   ],
   "source": [
    "g1.getOutput()"
   ]
  },
  {
   "cell_type": "code",
   "execution_count": 47,
   "id": "american-albuquerque",
   "metadata": {},
   "outputs": [],
   "source": [
    "class OrGate(BinaryGate):\n",
    "    \"\"\"Class for instantiating OR\n",
    "        BinaryGate operations.\n",
    "    \"\"\"\n",
    "    def __init__(self, name):\n",
    "        super(OrGate, self).__init__(name)\n",
    "        \n",
    "    def performGateLogic(self):\n",
    "        a = self.getPinA()\n",
    "        b = self.getPinB()\n",
    "        \n",
    "        if a == b == 0:\n",
    "            return 0\n",
    "        else:\n",
    "            return 1"
   ]
  },
  {
   "cell_type": "code",
   "execution_count": 48,
   "id": "flush-portrait",
   "metadata": {},
   "outputs": [],
   "source": [
    "g2 = OrGate('G2')"
   ]
  },
  {
   "cell_type": "code",
   "execution_count": 49,
   "id": "lesser-pantyhose",
   "metadata": {},
   "outputs": [
    {
     "name": "stdout",
     "output_type": "stream",
     "text": [
      "Enter Pin A input for gate G2-->0\n",
      "Enter Pin B input for gate G2-->1\n"
     ]
    },
    {
     "data": {
      "text/plain": [
       "1"
      ]
     },
     "execution_count": 49,
     "metadata": {},
     "output_type": "execute_result"
    }
   ],
   "source": [
    "g2.getOutput()"
   ]
  },
  {
   "cell_type": "code",
   "execution_count": 50,
   "id": "hearing-contrary",
   "metadata": {},
   "outputs": [
    {
     "name": "stdout",
     "output_type": "stream",
     "text": [
      "Enter Pin A input for gate G2-->0\n",
      "Enter Pin B input for gate G2-->0\n"
     ]
    },
    {
     "data": {
      "text/plain": [
       "0"
      ]
     },
     "execution_count": 50,
     "metadata": {},
     "output_type": "execute_result"
    }
   ],
   "source": [
    "g2.getOutput()"
   ]
  },
  {
   "cell_type": "code",
   "execution_count": 51,
   "id": "rocky-malta",
   "metadata": {},
   "outputs": [],
   "source": [
    "class NotGate(UnaryGate):\n",
    "    \"\"\"Class for instantiating NOT\n",
    "        UnaryGate operations.\n",
    "    \"\"\"\n",
    "    def __init__(self, name):\n",
    "        super(NotGate, self).__init__(name)\n",
    "        \n",
    "    def performGateLogic(self):\n",
    "        pin = self.getPin()\n",
    "        \n",
    "        return int(not pin)"
   ]
  },
  {
   "cell_type": "code",
   "execution_count": 52,
   "id": "geographic-riding",
   "metadata": {},
   "outputs": [],
   "source": [
    "g3 = NotGate('G3')"
   ]
  },
  {
   "cell_type": "code",
   "execution_count": 53,
   "id": "prompt-design",
   "metadata": {},
   "outputs": [
    {
     "name": "stdout",
     "output_type": "stream",
     "text": [
      "Enter Pin input for gate G3-->1\n"
     ]
    },
    {
     "data": {
      "text/plain": [
       "0"
      ]
     },
     "execution_count": 53,
     "metadata": {},
     "output_type": "execute_result"
    }
   ],
   "source": [
    "g3.getOutput()"
   ]
  },
  {
   "cell_type": "code",
   "execution_count": 54,
   "id": "variable-crown",
   "metadata": {},
   "outputs": [
    {
     "name": "stdout",
     "output_type": "stream",
     "text": [
      "Enter Pin input for gate G3-->0\n"
     ]
    },
    {
     "data": {
      "text/plain": [
       "1"
      ]
     },
     "execution_count": 54,
     "metadata": {},
     "output_type": "execute_result"
    }
   ],
   "source": [
    "g3.getOutput()"
   ]
  },
  {
   "cell_type": "markdown",
   "id": "realistic-criterion",
   "metadata": {},
   "source": [
    "<img src='https://runestone.academy/runestone/books/published/pythonds/_images/circuit1.png' height=300 width=500>"
   ]
  },
  {
   "cell_type": "markdown",
   "id": "material-religious",
   "metadata": {},
   "source": [
    "Now that we have the basic gates working, we can turn our attention to building circuits like in the image above. In order to create a circuit, we need to connect gates together, the output of one flowing into the input of another. To do this, we will implement a new class called Connector.\n",
    "\n",
    "The Connector class will not reside in the gate hierarchy. It will, however, use the gate hierarchy in that each connector will have two gates, one on either end see fig below. This relationship is very important in object-oriented programming. It is called the **HAS-A Relationship**. Recall earlier that we used the phrase **“IS-A Relationship”** to say that a child class is related to a parent class, for example UnaryGate **IS-A LogicGate**.\n",
    "\n",
    "<img src='https://runestone.academy/runestone/books/published/pythonds/_images/connector.png' height=300 width=600>\n",
    "\n",
    "Now, with the Connector class, we say that a Connector **HAS-A LogicGate** meaning that connectors will have instances of the LogicGate class within them but are not part of the hierarchy. When designing classes, it is very important to distinguish between those that have the IS-A relationship (which requires inheritance) and those that have HAS-A relationships (with no inheritance)."
   ]
  },
  {
   "cell_type": "code",
   "execution_count": 55,
   "id": "blond-professional",
   "metadata": {},
   "outputs": [],
   "source": [
    "class Connector:\n",
    "    \"\"\"Class for instantiating connector objects\n",
    "        for LogicGate operations.\n",
    "    \"\"\"\n",
    "    def __init__(self, fgate, tgate):\n",
    "        self.fromGate = fgate\n",
    "        self.toGate = tgate\n",
    "        \n",
    "        tgate.setNextPin(self)\n",
    "        \n",
    "    def getFrom(self):\n",
    "        return self.fromGate\n",
    "    \n",
    "    def getTo(self):\n",
    "        return self.toGate"
   ]
  },
  {
   "cell_type": "markdown",
   "id": "described-experience",
   "metadata": {},
   "source": [
    "The call to `setNextPin` is very important for making connections. We need to add this method to our gate classes so that each togate can choose the proper input line for the connection. So we'd add this method to BinaryGate and UnaryGate classes"
   ]
  },
  {
   "cell_type": "code",
   "execution_count": 56,
   "id": "structural-seller",
   "metadata": {},
   "outputs": [],
   "source": [
    "class BinaryGate(LogicGate):\n",
    "    \"\"\"A class for instantiating Binary\n",
    "        LogicGates operations like AND, OR.\n",
    "    \"\"\"\n",
    "    def __init__(self, name):\n",
    "        LogicGate.__init__(self, name)\n",
    "        \n",
    "        self.pinA = None\n",
    "        self.pinB = None\n",
    "        \n",
    "    def getPinA(self):\n",
    "        \"\"\"Get value of input 1.\n",
    "        If val >= 1 return 1 else 0\n",
    "        \"\"\"\n",
    "        val = int(input(\"Enter Pin A input for gate \"+ self.getLabel()+\"-->\"))\n",
    "        \n",
    "        return int(val >= 1)\n",
    "    \n",
    "    def getPinB(self):\n",
    "        \"\"\"Get value of input 2.\n",
    "        If val >= 1 return 1 else 0\n",
    "        \"\"\"\n",
    "        val = int(input(\"Enter Pin B input for gate \"+ self.getLabel()+\"-->\"))\n",
    "        \n",
    "        return int(val >= 1)\n",
    "    \n",
    "    def setNextPin(self, source):\n",
    "        if not self.pinA:\n",
    "            self.pinA = source\n",
    "        else:\n",
    "            if not self.pinB:\n",
    "                self.pinB = source\n",
    "            else:\n",
    "                raise RuntimeError(\"ERROR: NO EMPTY PINS\")\n",
    "            "
   ]
  },
  {
   "cell_type": "code",
   "execution_count": 57,
   "id": "announced-object",
   "metadata": {},
   "outputs": [],
   "source": [
    "class UnaryGate(LogicGate):\n",
    "    \"\"\"A class for instantiating Unary\n",
    "        LogicGates operations like NOT.\n",
    "    \"\"\"\n",
    "    def __init__(self, name):\n",
    "        super(UnaryGate, self).__init__(name)\n",
    "        \n",
    "        self.pin = None\n",
    "        \n",
    "    def getPin(self):\n",
    "        \"\"\"Get value of single input.\n",
    "        If val >= 1 return 1 else 0\n",
    "        \"\"\"\n",
    "        val = int(input(\"Enter Pin input for gate \"+ self.getLabel()+\"-->\"))\n",
    "        \n",
    "        return int(val >= 1)\n",
    "    \n",
    "    def setNextPin(self, source):\n",
    "        if not self.pin:\n",
    "            self.pin = source\n",
    "        else:\n",
    "            raise RuntimeError('ERROR: NO EMPTY PINS')"
   ]
  },
  {
   "cell_type": "markdown",
   "id": "crude-talent",
   "metadata": {},
   "source": [
    "Now it is possible to get input from two places: externally, as before, and from the output of a gate that is connected to that input line. This requires a change to the `getPinA` and `getPinB` methods. If the input line is not connected to anything (None), then ask the user externally as before. However, if there is a connection, the connection is accessed and fromgate’s output value is retrieved. This in turn causes that gate to process its logic. This continues until all input is available and the final output value becomes the required input for the gate in question. In a sense, the circuit works backwards to find the input necessary to finally produce output."
   ]
  },
  {
   "cell_type": "code",
   "execution_count": 58,
   "id": "loved-cursor",
   "metadata": {},
   "outputs": [],
   "source": [
    "class BinaryGate(LogicGate):\n",
    "    \"\"\"A class for instantiating Binary\n",
    "        LogicGates operations like AND, OR.\n",
    "    \"\"\"\n",
    "    def __init__(self, name):\n",
    "        LogicGate.__init__(self, name)\n",
    "        \n",
    "        self.pinA = None\n",
    "        self.pinB = None\n",
    "        \n",
    "    def getPinA(self):\n",
    "        \"\"\"Get value of input 1.\n",
    "        If val >= 1 return 1 else 0\n",
    "        else, if value exists return it\n",
    "        \"\"\"\n",
    "        if not self.pinA:\n",
    "            val = int(input(\"Enter Pin A input for gate \"+ self.getLabel()+\"-->\"))\n",
    "            return int(val >= 1)\n",
    "        else:\n",
    "            return self.pinA.getFrom().getOutput()\n",
    "    \n",
    "    def getPinB(self):\n",
    "        \"\"\"Get value of input 2.\n",
    "        If val >= 1 return 1 else 0\n",
    "        else, if value exists return it\n",
    "        \"\"\"\n",
    "        if not self.pinB:\n",
    "            val = int(input(\"Enter Pin B input for gate \"+ self.getLabel()+\"-->\"))\n",
    "            return int(val >= 1)\n",
    "        else:\n",
    "            return self.pinB.getFrom().getOutput()\n",
    "    \n",
    "    def setNextPin(self, source):\n",
    "        if not self.pinA:\n",
    "            self.pinA = source\n",
    "        else:\n",
    "            if not self.pinB:\n",
    "                self.pinB = source\n",
    "            else:\n",
    "                raise RuntimeError(\"ERROR: NO EMPTY PINS\")\n",
    "            "
   ]
  },
  {
   "cell_type": "code",
   "execution_count": 59,
   "id": "cordless-elevation",
   "metadata": {},
   "outputs": [],
   "source": [
    "class UnaryGate(LogicGate):\n",
    "    \"\"\"A class for instantiating Unary\n",
    "        LogicGates operations like NOT.\n",
    "    \"\"\"\n",
    "    def __init__(self, name):\n",
    "        super(UnaryGate, self).__init__(name)\n",
    "        \n",
    "        self.pin = None\n",
    "        \n",
    "    def getPin(self):\n",
    "        \"\"\"Get value of single input.\n",
    "        If val >= 1 return 1 else 0\n",
    "        else, if value exists return it\n",
    "        \"\"\"\n",
    "        if not self.pin:\n",
    "            val = int(input(\"Enter Pin input for gate \"+ self.getLabel()+\"-->\"))\n",
    "            return int(val >= 1)\n",
    "        else:\n",
    "            return self.pin.getFrom().getOutput()\n",
    "    \n",
    "    def setNextPin(self, source):\n",
    "        if not self.pin:\n",
    "            self.pin = source\n",
    "        else:\n",
    "            raise RuntimeError('ERROR: NO EMPTY PINS')"
   ]
  },
  {
   "cell_type": "markdown",
   "id": "specified-opening",
   "metadata": {},
   "source": [
    "After altering the Binary and Unary gates, let's re-run their subclasses below..."
   ]
  },
  {
   "cell_type": "code",
   "execution_count": 60,
   "id": "based-supplier",
   "metadata": {},
   "outputs": [],
   "source": [
    "class AndGate(BinaryGate):\n",
    "    \"\"\"Class for instantiating AND\n",
    "        BinaryGate Operations.\n",
    "        \n",
    "        AND returns True if both Inputs \n",
    "        are True and False otherwise.\n",
    "    \"\"\"\n",
    "    def __init__(self, name):\n",
    "        super(AndGate, self).__init__(name)\n",
    "        \n",
    "    def performGateLogic(self):\n",
    "        a = self.getPinA()\n",
    "        b = self.getPinB()\n",
    "        \n",
    "        if a == b == 1:\n",
    "            return 1\n",
    "        else:\n",
    "            return 0"
   ]
  },
  {
   "cell_type": "code",
   "execution_count": 61,
   "id": "danish-exception",
   "metadata": {},
   "outputs": [],
   "source": [
    "class OrGate(BinaryGate):\n",
    "    \"\"\"Class for instantiating OR\n",
    "        BinaryGate operations.\n",
    "        \n",
    "        OR returns False if both inputs\n",
    "        are False and True otherwise.\n",
    "    \"\"\"\n",
    "    def __init__(self, name):\n",
    "        super(OrGate, self).__init__(name)\n",
    "        \n",
    "    def performGateLogic(self):\n",
    "        a = self.getPinA()\n",
    "        b = self.getPinB()\n",
    "        \n",
    "        if a == b == 0:\n",
    "            return 0\n",
    "        else:\n",
    "            return 1"
   ]
  },
  {
   "cell_type": "code",
   "execution_count": 62,
   "id": "massive-grace",
   "metadata": {},
   "outputs": [],
   "source": [
    "class NotGate(UnaryGate):\n",
    "    \"\"\"Class for instantiating NOT\n",
    "        UnaryGate operations.\n",
    "        \n",
    "        Not Negates the Ground Truth\n",
    "    \"\"\"\n",
    "    def __init__(self, name):\n",
    "        super(NotGate, self).__init__(name)\n",
    "        \n",
    "    def performGateLogic(self):\n",
    "        pin = self.getPin()\n",
    "        \n",
    "        return int(not pin)"
   ]
  },
  {
   "cell_type": "code",
   "execution_count": 63,
   "id": "novel-chrome",
   "metadata": {},
   "outputs": [],
   "source": [
    "g1 = AndGate('G1-AND')\n",
    "g2 = AndGate('G2-AND')\n",
    "g3 = OrGate('G3-OR')\n",
    "g4 = NotGate('G4-NOT')"
   ]
  },
  {
   "cell_type": "code",
   "execution_count": 64,
   "id": "covered-drunk",
   "metadata": {},
   "outputs": [],
   "source": [
    "c1 = Connector(g1, g3)\n",
    "c2 = Connector(g2, g3)\n",
    "c3 = Connector(g3, g4)"
   ]
  },
  {
   "cell_type": "markdown",
   "id": "excess-polls",
   "metadata": {},
   "source": [
    "The outputs from the two AND gates `(g1 and g2)` are connected to the OR gate `(g3)` and that output is connected to the NOT gate `(g4)`. The output from the NOT gate is the output of the entire circuit. For example:"
   ]
  },
  {
   "cell_type": "code",
   "execution_count": 65,
   "id": "framed-portugal",
   "metadata": {},
   "outputs": [
    {
     "name": "stdout",
     "output_type": "stream",
     "text": [
      "Enter Pin A input for gate G1-AND-->1\n",
      "Enter Pin B input for gate G1-AND-->1\n",
      "Enter Pin A input for gate G2-AND-->0\n",
      "Enter Pin B input for gate G2-AND-->1\n"
     ]
    },
    {
     "data": {
      "text/plain": [
       "0"
      ]
     },
     "execution_count": 65,
     "metadata": {},
     "output_type": "execute_result"
    }
   ],
   "source": [
    "g4.getOutput()"
   ]
  },
  {
   "cell_type": "markdown",
   "id": "accepting-savage",
   "metadata": {},
   "source": [
    "#### Self Check\n",
    "\n",
    "Create a two new gate classes, one called **`NorGate`** the other called **`NandGate`**. NandGates work like AndGates that have a Not attached to the output. NorGates work lake OrGates that have a Not attached to the output."
   ]
  },
  {
   "cell_type": "code",
   "execution_count": 66,
   "id": "animal-deputy",
   "metadata": {},
   "outputs": [],
   "source": [
    "class NorGate(OrGate):\n",
    "    \"\"\"Class for instantiating NOR\n",
    "        BinaryGate operations.\n",
    "        \n",
    "        NOR negates the Ground Truth of\n",
    "        an OR gate.\n",
    "    \"\"\"\n",
    "    def __init__(self, name):\n",
    "        super(NorGate, self).__init__(name)\n",
    "    \n",
    "    \n",
    "    # Here we override the OR-Gate method\n",
    "    # by switching the return values 1, 0,\n",
    "    # This creates the NOR-Gate values\n",
    "    def performGateLogic(self):\n",
    "        a = self.getPinA()\n",
    "        b = self.getPinB()\n",
    "        \n",
    "        if a == b == 0:\n",
    "            return 1\n",
    "        else:\n",
    "            return 0"
   ]
  },
  {
   "cell_type": "code",
   "execution_count": 67,
   "id": "proved-second",
   "metadata": {},
   "outputs": [
    {
     "data": {
      "text/plain": [
       "'T1'"
      ]
     },
     "execution_count": 67,
     "metadata": {},
     "output_type": "execute_result"
    }
   ],
   "source": [
    "t1 = OrGate('T1')\n",
    "t1.getLabel()"
   ]
  },
  {
   "cell_type": "code",
   "execution_count": 68,
   "id": "needed-electronics",
   "metadata": {},
   "outputs": [
    {
     "name": "stdout",
     "output_type": "stream",
     "text": [
      "Enter Pin A input for gate T1-->0\n",
      "Enter Pin B input for gate T1-->1\n"
     ]
    },
    {
     "data": {
      "text/plain": [
       "1"
      ]
     },
     "execution_count": 68,
     "metadata": {},
     "output_type": "execute_result"
    }
   ],
   "source": [
    "t1.getOutput()"
   ]
  },
  {
   "cell_type": "code",
   "execution_count": 69,
   "id": "impressive-extreme",
   "metadata": {},
   "outputs": [
    {
     "data": {
      "text/plain": [
       "'T2'"
      ]
     },
     "execution_count": 69,
     "metadata": {},
     "output_type": "execute_result"
    }
   ],
   "source": [
    "t2 = NorGate('T2')\n",
    "t2.getLabel()"
   ]
  },
  {
   "cell_type": "code",
   "execution_count": 70,
   "id": "environmental-blade",
   "metadata": {},
   "outputs": [
    {
     "name": "stdout",
     "output_type": "stream",
     "text": [
      "Enter Pin A input for gate T2-->0\n",
      "Enter Pin B input for gate T2-->1\n"
     ]
    },
    {
     "data": {
      "text/plain": [
       "0"
      ]
     },
     "execution_count": 70,
     "metadata": {},
     "output_type": "execute_result"
    }
   ],
   "source": [
    "t2.getOutput()"
   ]
  },
  {
   "cell_type": "code",
   "execution_count": null,
   "id": "lesbian-riverside",
   "metadata": {},
   "outputs": [],
   "source": []
  },
  {
   "cell_type": "code",
   "execution_count": 71,
   "id": "inside-flash",
   "metadata": {},
   "outputs": [],
   "source": [
    "class NandGate(AndGate):\n",
    "    \"\"\"Class for instantiating NAND\n",
    "        BinaryGate operations.\n",
    "        \n",
    "        NAND negates the Ground Truth of\n",
    "        an AND gate.\n",
    "    \"\"\"\n",
    "    def __init__(self, name):\n",
    "        super(NandGate, self).__init__(name)\n",
    "    \n",
    "    \n",
    "    # Here we override the AND-Gate method\n",
    "    # by switching the return values 1, 0,\n",
    "    # This creates the NAND-Gate values\n",
    "    def performGateLogic(self):\n",
    "        a = self.getPinA()\n",
    "        b = self.getPinB()\n",
    "        \n",
    "        if a == b == 1:\n",
    "            return 0\n",
    "        else:\n",
    "            return 1"
   ]
  },
  {
   "cell_type": "code",
   "execution_count": 72,
   "id": "disturbed-sellers",
   "metadata": {},
   "outputs": [
    {
     "data": {
      "text/plain": [
       "'T3'"
      ]
     },
     "execution_count": 72,
     "metadata": {},
     "output_type": "execute_result"
    }
   ],
   "source": [
    "t3 = AndGate('T3')\n",
    "t3.getLabel()"
   ]
  },
  {
   "cell_type": "code",
   "execution_count": 73,
   "id": "hairy-contamination",
   "metadata": {},
   "outputs": [
    {
     "name": "stdout",
     "output_type": "stream",
     "text": [
      "Enter Pin A input for gate T3-->1\n",
      "Enter Pin B input for gate T3-->1\n"
     ]
    },
    {
     "data": {
      "text/plain": [
       "1"
      ]
     },
     "execution_count": 73,
     "metadata": {},
     "output_type": "execute_result"
    }
   ],
   "source": [
    "t3.getOutput()"
   ]
  },
  {
   "cell_type": "code",
   "execution_count": 74,
   "id": "adopted-pickup",
   "metadata": {},
   "outputs": [
    {
     "data": {
      "text/plain": [
       "'T4'"
      ]
     },
     "execution_count": 74,
     "metadata": {},
     "output_type": "execute_result"
    }
   ],
   "source": [
    "t4 = NandGate('T4')\n",
    "t4.getLabel()"
   ]
  },
  {
   "cell_type": "code",
   "execution_count": 75,
   "id": "several-worcester",
   "metadata": {},
   "outputs": [
    {
     "name": "stdout",
     "output_type": "stream",
     "text": [
      "Enter Pin A input for gate T4-->1\n",
      "Enter Pin B input for gate T4-->1\n"
     ]
    },
    {
     "data": {
      "text/plain": [
       "0"
      ]
     },
     "execution_count": 75,
     "metadata": {},
     "output_type": "execute_result"
    }
   ],
   "source": [
    "t4.getOutput()"
   ]
  },
  {
   "cell_type": "code",
   "execution_count": null,
   "id": "entitled-vatican",
   "metadata": {},
   "outputs": [],
   "source": []
  },
  {
   "cell_type": "code",
   "execution_count": 76,
   "id": "lightweight-hampshire",
   "metadata": {},
   "outputs": [],
   "source": [
    "class XorGate(BinaryGate):\n",
    "    \"\"\"Class for instantiating XOR\n",
    "        BinaryGate operations.\n",
    "        \n",
    "        Exclusive-OR (XOR) returns True \n",
    "        only if one input is True and\n",
    "        False otherwise.\n",
    "    \"\"\"\n",
    "    def __init__(self, name):\n",
    "        super(XorGate, self).__init__(name)\n",
    "    \n",
    "    def performGateLogic(self):\n",
    "        pinA = self.getPinA()\n",
    "        pinB = self.getPinB()\n",
    "        \n",
    "        return int(pinA != pinB)"
   ]
  },
  {
   "cell_type": "code",
   "execution_count": 77,
   "id": "veterinary-concentrate",
   "metadata": {},
   "outputs": [
    {
     "name": "stdout",
     "output_type": "stream",
     "text": [
      "Enter Pin A input for gate T1-->1\n",
      "Enter Pin B input for gate T1-->0\n"
     ]
    },
    {
     "data": {
      "text/plain": [
       "1"
      ]
     },
     "execution_count": 77,
     "metadata": {},
     "output_type": "execute_result"
    }
   ],
   "source": [
    "# t1 is OrGate\n",
    "\n",
    "t1.getOutput()"
   ]
  },
  {
   "cell_type": "code",
   "execution_count": 78,
   "id": "unlimited-highlight",
   "metadata": {},
   "outputs": [
    {
     "data": {
      "text/plain": [
       "'T5'"
      ]
     },
     "execution_count": 78,
     "metadata": {},
     "output_type": "execute_result"
    }
   ],
   "source": [
    "t5 = XorGate('T5')\n",
    "t5.getLabel()"
   ]
  },
  {
   "cell_type": "code",
   "execution_count": 79,
   "id": "decimal-client",
   "metadata": {},
   "outputs": [
    {
     "name": "stdout",
     "output_type": "stream",
     "text": [
      "Enter Pin A input for gate T5-->1\n",
      "Enter Pin B input for gate T5-->1\n"
     ]
    },
    {
     "data": {
      "text/plain": [
       "0"
      ]
     },
     "execution_count": 79,
     "metadata": {},
     "output_type": "execute_result"
    }
   ],
   "source": [
    "t5.getOutput()"
   ]
  },
  {
   "cell_type": "markdown",
   "id": "exempt-colleague",
   "metadata": {},
   "source": [
    "## Summary\n",
    "1. Computer science is the study of problem solving.\n",
    "\n",
    "2. Computer science uses abstraction as a tool for representing both processes and data.\n",
    "\n",
    "3. Abstract data types allow programmers to manage the complexity of a problem domain by hiding the details of the data.\n",
    "\n",
    "4. Python is a powerful, yet easy-to-use, object-oriented language.\n",
    "\n",
    "5. Lists, tuples, and strings are built in Python sequential collections.\n",
    "\n",
    "6. Dictionaries and sets are nonsequential collections of data.\n",
    "\n",
    "7. Classes allow programmers to implement abstract data types.\n",
    "\n",
    "8. Programmers can override standard methods as well as create new methods.\n",
    "\n",
    "9. Classes can be organized into hierarchies.\n",
    "\n",
    "10. A class constructor should always invoke the constructor of its parent before continuing on with its own data and behavior."
   ]
  },
  {
   "cell_type": "markdown",
   "id": "intelligent-karaoke",
   "metadata": {},
   "source": [
    "### Discussion Questions\n",
    "* Construct a class hierarchy for people on a college campus. Include faculty, staff, and students. What do they have in common? What distinguishes them from one another?\n",
    "\n",
    "* Construct a class hierarchy for bank accounts.\n",
    "\n",
    "* Construct a class hierarchy for different types of computers."
   ]
  },
  {
   "cell_type": "markdown",
   "id": "standing-genealogy",
   "metadata": {},
   "source": [
    "### Complete Exercises\n",
    "\n",
    "**[CHAPTER Programming Exercises](https://runestone.academy/runestone/books/published/pythonds/Introduction/Exercises.html)**"
   ]
  },
  {
   "cell_type": "code",
   "execution_count": 80,
   "id": "surgical-guatemala",
   "metadata": {},
   "outputs": [],
   "source": [
    "class HalfAdder():\n",
    "    \"\"\"A class for instantiating and performing\n",
    "        Half-Adder Intergrated-Circuits(IC) operations.\n",
    "    \"\"\"\n",
    "    def __init__(self, name):\n",
    "        self.label = name\n",
    "        self.output = None\n",
    "        \n",
    "    def get_label(self):\n",
    "        return self.label\n",
    "    \n",
    "    def get_output(self):\n",
    "        self.output = self.perform_gate_logic()\n",
    "        return self.output"
   ]
  },
  {
   "cell_type": "code",
   "execution_count": 81,
   "id": "wrong-banks",
   "metadata": {},
   "outputs": [],
   "source": [
    "class Input(HalfAdder):\n",
    "    def __init__(self, name):\n",
    "        super(Input, self).__init__(name)\n",
    "    \n",
    "    def __xor(self):\n",
    "        \"\"\"Performs XOR Gate Operations.\n",
    "        \n",
    "            Returns int(True) if only one pin is 1 \n",
    "            and False otherwise.\n",
    "        \"\"\"\n",
    "        return int(self.pinA != self.pinB)\n",
    "    \n",
    "    \n",
    "    def __and(self):\n",
    "        \"\"\"Performs AND Gate Operations.\n",
    "        \n",
    "            Returns int(True) if both pins are 1\n",
    "            and False otherwise.\n",
    "        \"\"\"\n",
    "        return int(self.pinA == self.pinB == 1)\n",
    "    \n",
    "    \n",
    "    def __get_pins(self):\n",
    "        pinA = int(input(f'Enter 0 or 1 for pin-A, gate-{self.get_label()}: '))\n",
    "        pinB = int(input(f'Enter 0 or 1 for pin-B, gate-{self.get_label()}: '))\n",
    "        \n",
    "        return pinA, pinB\n",
    "    \n",
    "    \n",
    "    def get_sum(self):\n",
    "        return self.__xor()\n",
    "    \n",
    "    \n",
    "    def get_carry(self):\n",
    "        return self.__and()\n",
    "    \n",
    "    \n",
    "    def perform_gate_logic(self):\n",
    "        \"\"\"Performs \n",
    "        \"\"\"\n",
    "        self.pinA, self.pinB = self.__get_pins()\n",
    "        \n",
    "        try:\n",
    "            assert (self.pinA in [0,1] and self.pinB in [0,1])\n",
    "        except AssertionError:\n",
    "            return 'WARNING: Input Only 0 or 1,'\n",
    "        \n",
    "        self.sum = self.get_sum()\n",
    "        self.carry = self.get_carry()\n",
    "        \n",
    "        summary = f'Sum: {self.sum}, Carry: {self.carry}'\n",
    "        \n",
    "        return summary"
   ]
  },
  {
   "cell_type": "code",
   "execution_count": 82,
   "id": "interested-ending",
   "metadata": {},
   "outputs": [],
   "source": [
    "input1 = Input('Input-One')"
   ]
  },
  {
   "cell_type": "code",
   "execution_count": 83,
   "id": "smooth-serve",
   "metadata": {},
   "outputs": [
    {
     "data": {
      "text/plain": [
       "'Input-One'"
      ]
     },
     "execution_count": 83,
     "metadata": {},
     "output_type": "execute_result"
    }
   ],
   "source": [
    "input1.get_label()"
   ]
  },
  {
   "cell_type": "code",
   "execution_count": 84,
   "id": "cardiovascular-sessions",
   "metadata": {},
   "outputs": [
    {
     "name": "stdout",
     "output_type": "stream",
     "text": [
      "None\n"
     ]
    }
   ],
   "source": [
    "print(input1.output)"
   ]
  },
  {
   "cell_type": "code",
   "execution_count": 85,
   "id": "aquatic-happiness",
   "metadata": {},
   "outputs": [
    {
     "name": "stdout",
     "output_type": "stream",
     "text": [
      "Enter 0 or 1 for pin-A, gate-Input-One: 0\n",
      "Enter 0 or 1 for pin-B, gate-Input-One: 1\n"
     ]
    },
    {
     "data": {
      "text/plain": [
       "'Sum: 1, Carry: 0'"
      ]
     },
     "execution_count": 85,
     "metadata": {},
     "output_type": "execute_result"
    }
   ],
   "source": [
    "input1.get_output()"
   ]
  },
  {
   "cell_type": "code",
   "execution_count": 86,
   "id": "strong-demonstration",
   "metadata": {},
   "outputs": [
    {
     "name": "stdout",
     "output_type": "stream",
     "text": [
      "Sum: 1, Carry: 0\n"
     ]
    }
   ],
   "source": [
    "print(input1.output)"
   ]
  }
 ],
 "metadata": {
  "kernelspec": {
   "display_name": "Python 3",
   "language": "python",
   "name": "python3"
  },
  "language_info": {
   "codemirror_mode": {
    "name": "ipython",
    "version": 3
   },
   "file_extension": ".py",
   "mimetype": "text/x-python",
   "name": "python",
   "nbconvert_exporter": "python",
   "pygments_lexer": "ipython3",
   "version": "3.8.5"
  }
 },
 "nbformat": 4,
 "nbformat_minor": 5
}
