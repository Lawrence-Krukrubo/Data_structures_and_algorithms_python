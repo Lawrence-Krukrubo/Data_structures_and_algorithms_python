{
 "cells": [
  {
   "cell_type": "markdown",
   "id": "violent-airplane",
   "metadata": {},
   "source": [
    "# Object-Oriented-Programming:\n",
    "\n",
    "Python is an object-oriented programming language. So far, we have used a number of built-in classes to show examples of data and control structures. One of the most powerful features in an object-oriented programming language is the ability to allow a programmer (problem solver) to create new classes that model data that is needed to solve the problem.\n",
    "\n",
    "We use abstract data types to provide the logical description of what a data object looks like **(its state)** and what it can do **(its methods)**. By building a `class` that implements an abstract data type, a programmer can take advantage of the abstraction process and at the same time provide the details necessary to actually use the abstraction in a program. Whenever we want to implement an abstract data type, we will do so with a new class."
   ]
  },
  {
   "cell_type": "markdown",
   "id": "occasional-regulation",
   "metadata": {},
   "source": [
    "### Class Fraction...\n",
    "\n",
    "A fraction such as $3\\over5$ consists of two parts. The top value, known as the numerator, can be any integer. The bottom value, called the denominator, can be any integer greater than 0 (negative fractions have a negative numerator). Although it is possible to create a floating point approximation for any fraction, in this case we would like to represent the fraction as an exact value.\n",
    "\n",
    "The operations for the Fraction type will allow a Fraction data object to behave like any other numeric value. We need to be able to add, subtract, multiply, and divide fractions. We also want to be able to show fractions using the standard “slash” form, for example `3/5`. In addition, all fraction methods should return results in their lowest terms so that no matter what computation is performed, we always end up with the most common form."
   ]
  },
  {
   "cell_type": "code",
   "execution_count": 1,
   "id": "abroad-bobby",
   "metadata": {},
   "outputs": [],
   "source": [
    "class Fraction:\n",
    "    \"\"\"A class for instantiating\n",
    "        Fraction objects.\n",
    "    \"\"\"\n",
    "    def __init__(self, top, bottom):\n",
    "        self.num = top\n",
    "        self.den = bottom"
   ]
  },
  {
   "cell_type": "code",
   "execution_count": 2,
   "id": "complicated-intensity",
   "metadata": {},
   "outputs": [
    {
     "name": "stdout",
     "output_type": "stream",
     "text": [
      "<__main__.Fraction object at 0x0000029D23E7AF10>\n"
     ]
    }
   ],
   "source": [
    "myf = Fraction(3, 5)\n",
    "print(myf)"
   ]
  },
  {
   "cell_type": "code",
   "execution_count": 3,
   "id": "fiscal-tenant",
   "metadata": {},
   "outputs": [],
   "source": [
    "class Fraction:\n",
    "    \"\"\"A class for instantiating\n",
    "        Fraction objects.\n",
    "    \"\"\"\n",
    "    def __init__(self, top, bottom):\n",
    "        self.num = top\n",
    "        self.den = bottom\n",
    "        \n",
    "        \n",
    "    # Using the built-in __str__ method\n",
    "    # calls to print() activate this method\n",
    "    def __str__(self):\n",
    "        \"\"\"Prints out the numerator/denominator\n",
    "            using the slash notation\n",
    "        \"\"\"\n",
    "        return str(self.num)+'/'+str(self.den)\n",
    "    \n",
    "    \n",
    "    @staticmethod\n",
    "    def euclid_algo(x, y):\n",
    "        \"\"\"Helper function to find the GCD\n",
    "            (Greatest-Common-Divisor)\n",
    "            of 2 numbers using the euclid's algorithm\n",
    "        \"\"\"\n",
    "        m = max(x,y)\n",
    "        n = abs(min(x,y))\n",
    "\n",
    "        while m % n != 0:\n",
    "            old_m = m\n",
    "            old_n = n\n",
    "            \n",
    "            m = old_n\n",
    "            n = old_m % old_n\n",
    "\n",
    "        return n\n",
    "    \n",
    "    \n",
    "    # Let's override the default __add__ function\n",
    "    def __add__(self, other):\n",
    "        \"\"\"Performs fraction addition of 2 Fraction objs.\n",
    "        @param other: A Fraction object\n",
    "        @return: A new Fraction object.\n",
    "        \"\"\"\n",
    "        new_num = (self.num*other.den) + (other.num*self.den)\n",
    "        new_den = self.den * other.den\n",
    "        gcd = Fraction.euclid_algo(new_num, new_den)\n",
    "        \n",
    "        return Fraction(new_num//gcd, new_den//gcd)\n",
    "    \n",
    "    \n",
    "    # Find out if two Fractions have same values. \n",
    "    # This means they have deep-equality.\n",
    "    def __eq__(self, other):\n",
    "        \"\"\"Assert if two Fraction objects are equal\n",
    "        @return: True or False\n",
    "        \"\"\"\n",
    "        self_num = self.num * other.den\n",
    "        other_num = other.num * self.den\n",
    "        \n",
    "        return self_num == other_num\n",
    "    \n",
    "    \n",
    "    # Let's add a method to subtract one Fraction from another\n",
    "    def __sub__(self, other):\n",
    "        \"\"\"Subtract One Fraction obj from another\n",
    "        @return: A new fraction object simplified to lowest form\n",
    "        \"\"\"\n",
    "        if self.__eq__(other):\n",
    "            return 0\n",
    "        \n",
    "        new_num = (self.num*other.den) - (other.num*self.den)\n",
    "        new_den = self.den * other.den\n",
    "        gcd = Fraction.euclid_algo(new_num, new_den)\n",
    "        \n",
    "        return Fraction(new_num//gcd, new_den//gcd)\n",
    "    \n",
    "    \n",
    "    # Let's add a method to multiply one Fraction with another\n",
    "    def __mul__(self, other):\n",
    "        \"\"\"Multiply one Fraction Object with another\n",
    "        @return: A new Fraction object\n",
    "        \"\"\"\n",
    "        new_num = self.num * other.num\n",
    "        new_den = self.den * other.den\n",
    "        gcd = Fraction.euclid_algo(new_num, new_den)\n",
    "        \n",
    "        return Fraction(new_num//gcd, new_den//gcd)\n",
    "    \n",
    "    \n",
    "    # Let's add a method to divide one Fraction with another\n",
    "    # In python3, we have the __truediv__ for float division (/) and\n",
    "    # __floordiv__ for integer division (//)\n",
    "    def __truediv__(self, other):\n",
    "        \"\"\"Divide one Fraction Object with another\n",
    "        @return: A new Fraction object\n",
    "        \"\"\"\n",
    "        # Div is inverse of mul for the right operand\n",
    "        other_num, other_den = other.den, other.num\n",
    "        \n",
    "        return self.__mul__(Fraction(other_num, other_den))\n",
    "    \n",
    "    \n",
    "    # Let's add a method to compare if one Fraction \n",
    "    # is greater than another\n",
    "    def __gt__(self, other):\n",
    "        \"\"\"Assert if One Fraction is > another\n",
    "        @return: Bool; True or False\n",
    "        \"\"\"\n",
    "        self_decimal = round(self.num / self.den, 8)\n",
    "        other_decimal = round(other.num / other.den, 8)\n",
    "        \n",
    "        return self_decimal > other_decimal\n",
    "    \n",
    "    \n",
    "    # Let's add a method to compare if one Fraction \n",
    "    # is less than another\n",
    "    def __lt__(self, other):\n",
    "        \"\"\"Assert if One Fraction is < another\n",
    "        @return: Bool; True or False\n",
    "        \"\"\"\n",
    "        self_decimal = round(self.num / self.den, 8)\n",
    "        other_decimal = round(other.num / other.den, 8)\n",
    "        \n",
    "        return self_decimal < other_decimal\n",
    "        "
   ]
  },
  {
   "cell_type": "code",
   "execution_count": 4,
   "id": "sonic-curtis",
   "metadata": {},
   "outputs": [
    {
     "name": "stdout",
     "output_type": "stream",
     "text": [
      "1/4\n"
     ]
    }
   ],
   "source": [
    "f1 = Fraction(1, 4)\n",
    "print(f1)"
   ]
  },
  {
   "cell_type": "code",
   "execution_count": 5,
   "id": "alone-excuse",
   "metadata": {},
   "outputs": [
    {
     "name": "stdout",
     "output_type": "stream",
     "text": [
      "1/2\n"
     ]
    }
   ],
   "source": [
    "f2 = Fraction(1, 2)\n",
    "print(f2)"
   ]
  },
  {
   "cell_type": "code",
   "execution_count": 6,
   "id": "traditional-grenada",
   "metadata": {},
   "outputs": [
    {
     "name": "stdout",
     "output_type": "stream",
     "text": [
      "I ate 1/2 of the pizza\n"
     ]
    }
   ],
   "source": [
    "print('I ate %s of the pizza' %(f2))"
   ]
  },
  {
   "cell_type": "code",
   "execution_count": 7,
   "id": "banner-neighborhood",
   "metadata": {},
   "outputs": [
    {
     "name": "stdout",
     "output_type": "stream",
     "text": [
      "3/4\n"
     ]
    }
   ],
   "source": [
    "f3 = f1 + f2\n",
    "print(f3)"
   ]
  },
  {
   "cell_type": "code",
   "execution_count": 39,
   "id": "difficult-tours",
   "metadata": {},
   "outputs": [
    {
     "name": "stdout",
     "output_type": "stream",
     "text": [
      "5/4\n"
     ]
    }
   ],
   "source": [
    "print(f2 + f3)"
   ]
  },
  {
   "cell_type": "code",
   "execution_count": 8,
   "id": "according-investigation",
   "metadata": {},
   "outputs": [
    {
     "name": "stdout",
     "output_type": "stream",
     "text": [
      "5/20\n"
     ]
    }
   ],
   "source": [
    "f4 = Fraction(5, 20)\n",
    "print(f4)"
   ]
  },
  {
   "cell_type": "code",
   "execution_count": 9,
   "id": "wound-somalia",
   "metadata": {},
   "outputs": [
    {
     "name": "stdout",
     "output_type": "stream",
     "text": [
      "5\n"
     ]
    }
   ],
   "source": [
    "print(Fraction.euclid_algo(f4.num, f4.den))"
   ]
  },
  {
   "cell_type": "markdown",
   "id": "wrapped-truth",
   "metadata": {},
   "source": [
    "### Shallow and Deep Equality\n",
    "\n",
    "* Two objects have **Shallow-Equality** if they are references of the same object. It don't matter if the 2 objects have different values, they are shallow-equal if they are refs of the same object address.\n",
    "* Two objects have **Deep-Equality** if they have equal values. They may be from different object references but have same values.\n",
    "* The **`__eq__`** method is another standard method available in any class. The `__eq__` method compares two objects and returns True if their values are the same, False otherwise. We can override the workings of this method to create both shallow and deep equality."
   ]
  },
  {
   "cell_type": "markdown",
   "id": "emerging-environment",
   "metadata": {},
   "source": [
    "#### Comparing Fraction objects..."
   ]
  },
  {
   "cell_type": "code",
   "execution_count": 10,
   "id": "fresh-question",
   "metadata": {},
   "outputs": [
    {
     "name": "stdout",
     "output_type": "stream",
     "text": [
      "2/4\n"
     ]
    }
   ],
   "source": [
    "f5 = Fraction(2,4)\n",
    "print(f5)"
   ]
  },
  {
   "cell_type": "code",
   "execution_count": 11,
   "id": "atmospheric-concert",
   "metadata": {},
   "outputs": [
    {
     "data": {
      "text/plain": [
       "True"
      ]
     },
     "execution_count": 11,
     "metadata": {},
     "output_type": "execute_result"
    }
   ],
   "source": [
    "# Let's check if 2/4 is equal to 1/2... should be True\n",
    "\n",
    "f5 == f2"
   ]
  },
  {
   "cell_type": "code",
   "execution_count": 12,
   "id": "swiss-chemical",
   "metadata": {},
   "outputs": [
    {
     "data": {
      "text/plain": [
       "False"
      ]
     },
     "execution_count": 12,
     "metadata": {},
     "output_type": "execute_result"
    }
   ],
   "source": [
    "# Let's check if 1/4 is equal to 1/2... should be False\n",
    "\n",
    "f1 == f2"
   ]
  },
  {
   "cell_type": "code",
   "execution_count": 13,
   "id": "small-haiti",
   "metadata": {},
   "outputs": [
    {
     "name": "stdout",
     "output_type": "stream",
     "text": [
      "True\n"
     ]
    }
   ],
   "source": [
    "# Let's check if 1/2 is greater than 1/4... should be True\n",
    "\n",
    "print(f2 > f1)"
   ]
  },
  {
   "cell_type": "code",
   "execution_count": 14,
   "id": "egyptian-compression",
   "metadata": {},
   "outputs": [
    {
     "name": "stdout",
     "output_type": "stream",
     "text": [
      "True\n"
     ]
    }
   ],
   "source": [
    "# Let's check if 1/2 is less than 3/4... should be True\n",
    "\n",
    "print(f2 < f3)"
   ]
  },
  {
   "cell_type": "markdown",
   "id": "departmental-annotation",
   "metadata": {},
   "source": [
    "#### Subtracting Fraction objects..."
   ]
  },
  {
   "cell_type": "code",
   "execution_count": 22,
   "id": "specified-croatia",
   "metadata": {},
   "outputs": [
    {
     "name": "stdout",
     "output_type": "stream",
     "text": [
      "1/4\n"
     ]
    }
   ],
   "source": [
    "# Subtract 1/4 from 1/2 should be 1/4\n",
    "\n",
    "print(f2 - f1)"
   ]
  },
  {
   "cell_type": "code",
   "execution_count": 23,
   "id": "organized-navigator",
   "metadata": {},
   "outputs": [
    {
     "name": "stdout",
     "output_type": "stream",
     "text": [
      "-1/4\n"
     ]
    }
   ],
   "source": [
    "# Subtract 1/2 from 1/4 should be -1/4\n",
    "\n",
    "print(f1 - f2)"
   ]
  },
  {
   "cell_type": "code",
   "execution_count": 24,
   "id": "latter-liver",
   "metadata": {},
   "outputs": [
    {
     "name": "stdout",
     "output_type": "stream",
     "text": [
      "0\n"
     ]
    }
   ],
   "source": [
    "# Subtract 1/2 from 2/4 should be 0\n",
    "\n",
    "print(f5 - f2)"
   ]
  },
  {
   "cell_type": "code",
   "execution_count": 25,
   "id": "recorded-canyon",
   "metadata": {},
   "outputs": [
    {
     "name": "stdout",
     "output_type": "stream",
     "text": [
      "0\n"
     ]
    }
   ],
   "source": [
    "# Subtract 1/4 from 5/20 should be 0\n",
    "\n",
    "print(f4 - f1)"
   ]
  },
  {
   "cell_type": "code",
   "execution_count": 26,
   "id": "existing-formula",
   "metadata": {},
   "outputs": [
    {
     "name": "stdout",
     "output_type": "stream",
     "text": [
      "1/2\n"
     ]
    }
   ],
   "source": [
    "# Subtract 5/20 from 3/4 should be 1/2\n",
    "\n",
    "print(f3 - f4)"
   ]
  },
  {
   "cell_type": "markdown",
   "id": "chubby-container",
   "metadata": {},
   "source": [
    "#### Multiplying Fraction objects..."
   ]
  },
  {
   "cell_type": "code",
   "execution_count": 27,
   "id": "thermal-ghost",
   "metadata": {},
   "outputs": [
    {
     "name": "stdout",
     "output_type": "stream",
     "text": [
      "f6: 2/3\n",
      "f7: 1/6\n",
      "f8: 4/1\n"
     ]
    }
   ],
   "source": [
    "f6 = Fraction(2,3)\n",
    "f7 = Fraction(1,6)\n",
    "f8 = Fraction(4,1)\n",
    "\n",
    "print('f6: %s\\nf7: %s\\nf8: %s' %(f6, f7, f8))"
   ]
  },
  {
   "cell_type": "code",
   "execution_count": 28,
   "id": "wicked-discovery",
   "metadata": {},
   "outputs": [
    {
     "name": "stdout",
     "output_type": "stream",
     "text": [
      "1/4\n"
     ]
    }
   ],
   "source": [
    "# Multiply 1/2 by 2/4 should be 1/4\n",
    "\n",
    "print(f2 * f5)"
   ]
  },
  {
   "cell_type": "code",
   "execution_count": 29,
   "id": "centered-lemon",
   "metadata": {},
   "outputs": [
    {
     "name": "stdout",
     "output_type": "stream",
     "text": [
      "1/16\n"
     ]
    }
   ],
   "source": [
    "# Multiply 1/4 by 5/20 should be 1/16\n",
    "\n",
    "print(f1 * f4)"
   ]
  },
  {
   "cell_type": "code",
   "execution_count": 30,
   "id": "gentle-devon",
   "metadata": {},
   "outputs": [
    {
     "name": "stdout",
     "output_type": "stream",
     "text": [
      "3/8\n"
     ]
    }
   ],
   "source": [
    "# Multiply 3/4 by 2/4 should be 3/8\n",
    "\n",
    "print(f3 * f5)"
   ]
  },
  {
   "cell_type": "code",
   "execution_count": 31,
   "id": "registered-publisher",
   "metadata": {},
   "outputs": [
    {
     "name": "stdout",
     "output_type": "stream",
     "text": [
      "1/8\n"
     ]
    }
   ],
   "source": [
    "# Multiply 1/4 by 2/4 should be 1/8\n",
    "\n",
    "print(f1 * f5)"
   ]
  },
  {
   "cell_type": "code",
   "execution_count": 32,
   "id": "likely-terminal",
   "metadata": {},
   "outputs": [
    {
     "name": "stdout",
     "output_type": "stream",
     "text": [
      "2/3\n"
     ]
    }
   ],
   "source": [
    "# Multiply 1/6 by 4/1 should be 2/3\n",
    "\n",
    "print(f7 * f8)"
   ]
  },
  {
   "cell_type": "markdown",
   "id": "soviet-bicycle",
   "metadata": {},
   "source": [
    "#### Dividing Fraction objects..."
   ]
  },
  {
   "cell_type": "code",
   "execution_count": 33,
   "id": "institutional-underground",
   "metadata": {},
   "outputs": [
    {
     "name": "stdout",
     "output_type": "stream",
     "text": [
      "1/1\n"
     ]
    }
   ],
   "source": [
    "# Divide 2/3 by 2/3 should be 1/1\n",
    "\n",
    "print(f6 / f6)"
   ]
  },
  {
   "cell_type": "code",
   "execution_count": 34,
   "id": "consecutive-occasion",
   "metadata": {},
   "outputs": [
    {
     "name": "stdout",
     "output_type": "stream",
     "text": [
      "8/1\n"
     ]
    }
   ],
   "source": [
    "# Divide 4/1 by 1/2 should be 8/1\n",
    "\n",
    "print(f8 / f2)"
   ]
  },
  {
   "cell_type": "code",
   "execution_count": 35,
   "id": "comparative-turning",
   "metadata": {},
   "outputs": [
    {
     "name": "stdout",
     "output_type": "stream",
     "text": [
      "1/8\n"
     ]
    }
   ],
   "source": [
    "# Divide 1/2 by 4/1 should be 1/8\n",
    "\n",
    "print(f2 / f8)"
   ]
  },
  {
   "cell_type": "code",
   "execution_count": 37,
   "id": "surgical-swedish",
   "metadata": {},
   "outputs": [
    {
     "name": "stdout",
     "output_type": "stream",
     "text": [
      "1/1\n"
     ]
    }
   ],
   "source": [
    "# Divide 1/4 by 5/20 should be 1/1\n",
    "\n",
    "print(f1 / f4)"
   ]
  },
  {
   "cell_type": "code",
   "execution_count": 38,
   "id": "fifty-decade",
   "metadata": {},
   "outputs": [
    {
     "name": "stdout",
     "output_type": "stream",
     "text": [
      "2/1\n"
     ]
    }
   ],
   "source": [
    "# Divide 1/2 by 5/20 should be 2/1\n",
    "\n",
    "print(f2 / f4)"
   ]
  },
  {
   "cell_type": "markdown",
   "id": "little-terrain",
   "metadata": {},
   "source": [
    "## Inheritance: Logic Gates and Circuits\n",
    "\n",
    "**Inheritance** is the ability for one class to be related to another class in much the same way that people can be related to one another. Children inherit characteristics from their parents. Similarly, Python child classes can inherit characteristic data and behavior from a parent class. <br>These classes are often referred to as **subclasses** and **superclasses**.\n",
    "\n",
    "<img src='https://runestone.academy/runestone/books/published/pythonds/_images/inheritance1.png' height=200 width=400>"
   ]
  },
  {
   "cell_type": "markdown",
   "id": "fewer-jungle",
   "metadata": {},
   "source": [
    "**Logic gates** are easily organized into a class inheritance hierarchy. At the top of the hierarchy, the **`LogicGate class`** represents the most general characteristics of logic gates: namely, a label for the gate and an output line. The next level of subclasses breaks the logic gates into two families, those that have one input line and those that have two. Below that, the specific logic functions of each appear...\n",
    "\n",
    "<img src='https://runestone.academy/runestone/books/published/pythonds/_images/gates.png' height=400 width=400>"
   ]
  },
  {
   "cell_type": "code",
   "execution_count": 40,
   "id": "imposed-complement",
   "metadata": {},
   "outputs": [],
   "source": [
    "class LogicGate:\n",
    "    \"\"\"A class for instantiating and performing\n",
    "        LogicGates operations, such as AND, OR, NOT.\n",
    "    \"\"\"\n",
    "    def __init__(self, label):\n",
    "        self.label = label\n",
    "        self.output = None\n",
    "        \n",
    "    def getLabel(self):    \n",
    "        return self.label\n",
    "    \n",
    "    def getOutput(self):\n",
    "        # performGateLogic to be defined in subclass\n",
    "        self.output = self.performGateLogic()\n",
    "        return self.output"
   ]
  }
 ],
 "metadata": {
  "kernelspec": {
   "display_name": "Python 3",
   "language": "python",
   "name": "python3"
  },
  "language_info": {
   "codemirror_mode": {
    "name": "ipython",
    "version": 3
   },
   "file_extension": ".py",
   "mimetype": "text/x-python",
   "name": "python",
   "nbconvert_exporter": "python",
   "pygments_lexer": "ipython3",
   "version": "3.8.5"
  }
 },
 "nbformat": 4,
 "nbformat_minor": 5
}
