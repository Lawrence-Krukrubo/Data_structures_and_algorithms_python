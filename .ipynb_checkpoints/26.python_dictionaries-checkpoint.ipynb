{
 "cells": [
  {
   "cell_type": "markdown",
   "id": "protective-watch",
   "metadata": {},
   "source": [
    "## Dictionaries\n",
    "\n",
    "The second major Python data structure is the dictionary. As you probably recall, dictionaries differ from lists in that you can access items in a dictionary by a key rather than a position.\n",
    "\n",
    "The thing that is most important to notice right now is that the get item and set item operations on a dictionary are $O(1)$. Another important dictionary operation is the contains operation. Checking to see whether a key is in the dictionary or not is also $O(1)$. The efficiency of all dictionary operations is summarized in Table below. One important side note on dictionary performance is that the efficiencies we provide in the table are for average performance. In some rare cases the contains, get item, and set item operations can degenerate into $O(n)$ performance\n",
    "\n"
   ]
  },
  {
   "cell_type": "markdown",
   "id": "smoking-island",
   "metadata": {},
   "source": [
    "## Big-O Efficiency of Average Dictionary Operations\n",
    "\n",
    "\n",
    "| Operation | Big-O Efficiency |\n",
    "| --- | --- |\n",
    "| `copy` | $O(n)$ |\n",
    "| `get item` | $O(1)$ |\n",
    "| `set item` | $O(1)$ |\n",
    "| `delete item` | $O(1)$ |\n",
    "| `iteration` | $O(n)$ |\n",
    "| `contains (in)` | $O(1)$ |\n",
    "\n",
    "\n",
    "\n",
    "**List and Dictionary `contains (in)` Experiment:**\n",
    "\n",
    "We will compare the performance of the contains operation between lists and dictionaries. In the process we will confirm that the contains operator for lists is $O(n)$ and the contains operator for dictionaries is $O(1)$.\n",
    "\n",
    "The experiment we will use to compare the two is simple. We’ll make a list with a range of numbers in it. Then we will pick numbers at random and check to see if the numbers are in the list. If our performance tables are correct the bigger the list the longer it should take to determine if any one number is contained in the list.\n",
    "\n",
    "We will repeat the same experiment for a dictionary that contains numbers as the keys. In this experiment we should see that determining whether or not a number is in the dictionary is not only much faster, but the time it takes to check should remain constant even as the dictionary grows larger."
   ]
  },
  {
   "cell_type": "code",
   "execution_count": 60,
   "id": "identified-backing",
   "metadata": {},
   "outputs": [],
   "source": [
    "from random import randrange\n",
    "import time, timeit\n",
    "import pandas as pd\n",
    "import matplotlib.pyplot as plt"
   ]
  },
  {
   "cell_type": "code",
   "execution_count": 61,
   "id": "small-mercy",
   "metadata": {},
   "outputs": [],
   "source": [
    "def list_dict_comparison():\n",
    "    \"\"\"Compares the contain (in) operation\n",
    "        on lists and dictionaries. \n",
    "        \n",
    "    @return: two lists with the time for a list\n",
    "            and dictionary\n",
    "    \"\"\"\n",
    "    list_time = []\n",
    "    dict_time = []\n",
    "    count = 0\n",
    "    \n",
    "    for i in range(300000, 9000001, 300000):\n",
    "        lyst = list(range(i))\n",
    "        dict_ = {j:j for j in range(i)}\n",
    "        rrand = randrange(30000000)\n",
    "        start = time.time()\n",
    "        rrand in lyst\n",
    "        list_time.append(round(time.time()-start, 3))\n",
    "        start = time.time()\n",
    "        rrand in dict_\n",
    "        dict_time.append(round(time.time()-start, 3))\n",
    "        \n",
    "        print('List: %5.3f ; Dict: %5.3f' %(list_time[count], dict_time[count]))\n",
    "        count+=1\n",
    "        \n",
    "    return list_time, dict_time"
   ]
  },
  {
   "cell_type": "code",
   "execution_count": 62,
   "id": "eastern-married",
   "metadata": {},
   "outputs": [
    {
     "name": "stdout",
     "output_type": "stream",
     "text": [
      "List: 0.004 ; Dict: 0.000\n",
      "List: 0.011 ; Dict: 0.000\n",
      "List: 0.012 ; Dict: 0.000\n",
      "List: 0.017 ; Dict: 0.000\n",
      "List: 0.022 ; Dict: 0.000\n",
      "List: 0.027 ; Dict: 0.000\n",
      "List: 0.064 ; Dict: 0.000\n",
      "List: 0.034 ; Dict: 0.000\n",
      "List: 0.039 ; Dict: 0.000\n",
      "List: 0.042 ; Dict: 0.000\n",
      "List: 0.048 ; Dict: 0.000\n",
      "List: 0.050 ; Dict: 0.000\n",
      "List: 0.044 ; Dict: 0.000\n",
      "List: 0.059 ; Dict: 0.000\n",
      "List: 0.063 ; Dict: 0.000\n",
      "List: 0.068 ; Dict: 0.000\n",
      "List: 0.073 ; Dict: 0.000\n",
      "List: 0.076 ; Dict: 0.000\n",
      "List: 0.082 ; Dict: 0.000\n",
      "List: 0.086 ; Dict: 0.000\n",
      "List: 0.094 ; Dict: 0.000\n",
      "List: 0.053 ; Dict: 0.000\n",
      "List: 0.109 ; Dict: 0.000\n",
      "List: 0.109 ; Dict: 0.000\n",
      "List: 0.081 ; Dict: 0.000\n",
      "List: 0.116 ; Dict: 0.000\n",
      "List: 0.118 ; Dict: 0.000\n",
      "List: 0.125 ; Dict: 0.000\n",
      "List: 0.024 ; Dict: 0.000\n",
      "List: 0.134 ; Dict: 0.000\n"
     ]
    }
   ],
   "source": [
    "list_time, dict_time = list_dict_comparison()"
   ]
  },
  {
   "cell_type": "code",
   "execution_count": 58,
   "id": "otherwise-concord",
   "metadata": {},
   "outputs": [],
   "source": [
    "def plotLines(*args, title=None, names=[]):\n",
    "    \"\"\"Plot lines from respective arrays\n",
    "    \"\"\"\n",
    "    size = len(args[0])\n",
    "    for arr in args:\n",
    "        assert len(arr) == size, 'Each Item Must Have Same Len'\n",
    "        \n",
    "    df_list = [lyst for lyst in args]\n",
    "    df = pd.DataFrame(df_list).T\n",
    "    df.columns = names\n",
    "    df.plot()\n",
    "    plt.title(title, fontweight='bold')"
   ]
  },
  {
   "cell_type": "code",
   "execution_count": 63,
   "id": "scheduled-society",
   "metadata": {},
   "outputs": [
    {
     "data": {
      "image/png": "[encoded data removed]",
      "text/plain": [
       "<Figure size 432x288 with 1 Axes>"
      ]
     },
     "metadata": {
      "needs_background": "light"
     },
     "output_type": "display_data"
    }
   ],
   "source": [
    "title = 'List and Dictionary item-in time comparison:'\n",
    "names = ['list_time', 'dict_time']\n",
    "plotLines(list_time, dict_time, title=title, names=names)"
   ]
  },
  {
   "cell_type": "markdown",
   "id": "laughing-chance",
   "metadata": {},
   "source": [
    "We can see that generally as the list length increases, the time to find the item also increases $O(n)$, while generally the time to find the item in a dictionary key remains constant $O(1)$.\n",
    "\n",
    "You can see that the dictionary is consistently faster. For the smallest list size of 10,000 elements a dictionary is 89.4 times faster than a list. You can also see that the time it takes for the contains operator on the list grows linearly with the size of the list. This verifies the assertion that the contains operator on a list is $O(n)$. It can also be seen that the time for the contains operator on a dictionary is constant even as the dictionary size grows. In fact for a dictionary size of 10,000 the contains operation took 0.004 milliseconds and for the dictionary size of 990,000 it also took 0.004 milliseconds too.\n",
    "\n",
    "**The only dictionary operations that are not $O(1)$ are those that require iteration.**"
   ]
  },
  {
   "cell_type": "markdown",
   "id": "ahead-quest",
   "metadata": {},
   "source": [
    "## Summary\n",
    "\n",
    "Algorithm analysis is an **implementation-independent** way of measuring an algorithm.\n",
    "\n",
    "**`Big-O notation`** allows algorithms to be classified by their dominant process with respect to the size of the problem.\n",
    "\n",
    "\n",
    "### Exercises"
   ]
  },
  {
   "cell_type": "code",
   "execution_count": 66,
   "id": "ultimate-princeton",
   "metadata": {},
   "outputs": [],
   "source": [
    "# Give the Big-O performance of the following code fragment:\n",
    "n = 10\n",
    "\n",
    "for i in range(n):\n",
    "    for j in range(n):\n",
    "        k = 2 + 2"
   ]
  },
  {
   "cell_type": "markdown",
   "id": "cardiac-level",
   "metadata": {},
   "source": [
    "The $Big-O$ performance above is $O(n*n)$ = $O(n^2)$ due to the nested loop that runs through $n$ for each step of the outer loops $n$"
   ]
  },
  {
   "cell_type": "code",
   "execution_count": 67,
   "id": "returning-exhibit",
   "metadata": {},
   "outputs": [],
   "source": [
    "# Give the Big-O performance of the following code fragment:\n",
    "\n",
    "for i in range(n):\n",
    "     k = 2 + 2"
   ]
  },
  {
   "cell_type": "markdown",
   "id": "recent-absorption",
   "metadata": {},
   "source": [
    "The $Big-O$ performance above is $O(n+1)$ = $O(n)$ due to the loop that runs through $n$ "
   ]
  },
  {
   "cell_type": "code",
   "execution_count": 68,
   "id": "noticed-market",
   "metadata": {},
   "outputs": [],
   "source": [
    "# Give the Big-O performance of the following code fragment:\n",
    "\n",
    "i = n\n",
    "while i > 0:\n",
    "    k = 2 + 2\n",
    "    i = i // 2"
   ]
  },
  {
   "cell_type": "markdown",
   "id": "aggregate-communication",
   "metadata": {},
   "source": [
    "The $Big-O$ performance above is $O(log(n)+2)$ = $O(log(n))$ due to the fact that $n$ is cut in half each time of the iteration"
   ]
  },
  {
   "cell_type": "code",
   "execution_count": 69,
   "id": "plastic-plaza",
   "metadata": {},
   "outputs": [],
   "source": [
    "# Give the Big-O performance of the following code fragment:\n",
    "\n",
    "for i in range(n):\n",
    "    for j in range(n):\n",
    "        for k in range(n):\n",
    "            k = 2 + 2"
   ]
  },
  {
   "cell_type": "markdown",
   "id": "metropolitan-cradle",
   "metadata": {},
   "source": [
    "The $Big-O$ performance above is $O(n*n*n+1)$ = $O(n^3)$ due to the triple nested loop that runs through $n$ each time"
   ]
  },
  {
   "cell_type": "code",
   "execution_count": null,
   "id": "grand-treaty",
   "metadata": {},
   "outputs": [],
   "source": [
    "# Give the Big-O performance of the following code fragment:\n",
    "\n",
    "for i in range(n):\n",
    "    k = 2 + 2\n",
    "for j in range(n):\n",
    "    k = 2 + 2\n",
    "for k in range(n):\n",
    "    k = 2 + 2"
   ]
  },
  {
   "cell_type": "markdown",
   "id": "developmental-momentum",
   "metadata": {},
   "source": [
    "The $Big-O$ performance above is $O(3(1+n))$ = $O(3 + 3n)$ = $O(n)$. Beacuse, as the input grows, the $n$ becomes the dominant factor."
   ]
  },
  {
   "cell_type": "markdown",
   "id": "wicked-attachment",
   "metadata": {},
   "source": [
    "**Programming Exercises**\n",
    "\n",
    "1. Devise an experiment to verify that the list index operator is $O(1)$\n",
    "\n",
    "2. Devise an experiment to verify that get item and set item are $O(1)$ for dictionaries.\n",
    "\n",
    "3. Devise an experiment that compares the performance of the del operator on lists and dictionaries.\n",
    "\n",
    "4. Given a list of numbers in random order, write an algorithm that works in $O(nlog(n))$ to find the $k$th smallest number in the list. Note that $O(nlog(n))$ in quick-sort simply means doing roughly $n$ comparisons in $log(n)$ steps.\n",
    "\n",
    "5. Can you improve the algorithm from the previous problem to be linear? Explain."
   ]
  },
  {
   "cell_type": "code",
   "execution_count": null,
   "id": "discrete-society",
   "metadata": {},
   "outputs": [],
   "source": []
  }
 ],
 "metadata": {
  "kernelspec": {
   "display_name": "Python 3",
   "language": "python",
   "name": "python3"
  },
  "language_info": {
   "codemirror_mode": {
    "name": "ipython",
    "version": 3
   },
   "file_extension": ".py",
   "mimetype": "text/x-python",
   "name": "python",
   "nbconvert_exporter": "python",
   "pygments_lexer": "ipython3",
   "version": "3.8.5"
  }
 },
 "nbformat": 4,
 "nbformat_minor": 5
}
