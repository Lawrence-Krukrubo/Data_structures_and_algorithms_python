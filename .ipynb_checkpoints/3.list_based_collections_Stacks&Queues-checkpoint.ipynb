{
 "cells": [
  {
   "cell_type": "markdown",
   "id": "popular-surgeon",
   "metadata": {},
   "source": [
    "### [PYTHON-DATA-STRUCTURES](https://docs.python.org/3/tutorial/datastructures.html)"
   ]
  },
  {
   "cell_type": "markdown",
   "id": "concrete-rental",
   "metadata": {},
   "source": [
    "## Stacks:\n",
    "\n",
    "Stacks are also list-based Data Structures so they have a lil bit of different flair than arrays and linked-lists.\n",
    "* The main idea is a Stack is like a stack of objects in real life.\n",
    "* We put elements ontop and have easy access to the elements ontop.\n",
    "* Stacks implement the **LIFO (Last-In-First-Out)** paradigm.\n",
    "* **`Push`** is the term used to add an element to a stack, not insert.\n",
    "* **`Pop`** is the term used when an element is removed from a Stack.\n",
    "* Since all we care about is the top element, then the operation should take constant time $O(1)$ for both operations\n",
    "* Stacks can be implemented by different collection-based data types like list, linked-list and so on. As long as they abide by the `LIFO paradigm` of Stack.\n",
    "* In Stacks **LIFO** means the last element `pushed` in is always the first element to be `popped` out."
   ]
  },
  {
   "cell_type": "markdown",
   "id": "clinical-billy",
   "metadata": {},
   "source": [
    "```\n",
    "\"\"\"Add a couple methods to our LinkedList class,\n",
    "and use that to implement a Stack.\n",
    "You have 4 functions below to fill in:\n",
    "insert_first, delete_first, push, and pop.\n",
    "Think about this while you're implementing:\n",
    "why is it easier to add an \"insert_first\"\n",
    "function than just use \"append\"?\"\"\"\n",
    "```"
   ]
  },
  {
   "cell_type": "code",
   "execution_count": 1,
   "id": "norwegian-teaching",
   "metadata": {},
   "outputs": [],
   "source": [
    "class Element(object):\n",
    "    def __init__(self, value):\n",
    "        self.value = value\n",
    "        self.next = None"
   ]
  },
  {
   "cell_type": "code",
   "execution_count": 2,
   "id": "australian-environment",
   "metadata": {},
   "outputs": [],
   "source": [
    "class LinkedList(object):\n",
    "    _COUNTER=0\n",
    "    \n",
    "    def __init__(self, head=None):\n",
    "        self.head = head\n",
    "        LinkedList._COUNTER+=1\n",
    "        \n",
    "    def append(self, new_element):\n",
    "        current = self.head\n",
    "        try:\n",
    "            assert isinstance(new_element, Element)\n",
    "        except AssertionError as e:\n",
    "            return e\n",
    "        \n",
    "        if self.head:\n",
    "            while current.next:\n",
    "                current = current.next\n",
    "            current.next = new_element\n",
    "        else:\n",
    "            self.head = new_element\n",
    "            \n",
    "        LinkedList._COUNTER+=1\n",
    "    \n",
    "    def get_position(self, position):\n",
    "        \"\"\"Get an element from a particular position.\n",
    "        Assume the first position is \"1\".\n",
    "        Return \"None\" if position is not in the list.\"\"\"\n",
    "        try:\n",
    "            assert position >= 1\n",
    "            assert self.head\n",
    "        except AssertionError:\n",
    "            return None\n",
    "    \n",
    "        current = self.head\n",
    "        \n",
    "        for i in range(1, position+1):\n",
    "            if i == position:\n",
    "                return current\n",
    "            try:\n",
    "                current = current.next\n",
    "            except:\n",
    "                return None\n",
    "            \n",
    "    def insert(self, new_element, position):\n",
    "        \"\"\"Insert a new node at the given position.\n",
    "        Assume the first position is \"1\".\n",
    "        Inserting at position 3 means between\n",
    "        the 2nd and 3rd elements.\"\"\"\n",
    "        \n",
    "        try:\n",
    "            assert isinstance(new_element, Element)\n",
    "        except AssertionError as e:\n",
    "            return e\n",
    "        \n",
    "        try:\n",
    "            assert position >= 1\n",
    "            curr_elem = self.get_position(position)\n",
    "        except AssertionError:\n",
    "            return None\n",
    "        \n",
    "        if position > 1 and position <= LinkedList._COUNTER:\n",
    "            prev_elem = self.get_position(position-1)\n",
    "            prev_elem.next = new_element\n",
    "            new_element.next = curr_elem\n",
    "            \n",
    "        elif position == 1:\n",
    "            new_element.next = curr_elem\n",
    "            self.head = new_element\n",
    "        else:\n",
    "            return 'NONE: Kindly use append()'\n",
    "        \n",
    "        LinkedList._COUNTER+=1\n",
    "            \n",
    "    def delete(self, value):\n",
    "        \"\"\"Delete the first node with a given value.\"\"\"\n",
    "        \n",
    "        try:\n",
    "            assert self.head is not None\n",
    "        except AssertionError:\n",
    "            return None\n",
    "\n",
    "        if value == self.get_position(1).value:\n",
    "            self.head = self.get_position(2)\n",
    "            LinkedList._COUNTER-=1\n",
    "        else:\n",
    "            i = 1\n",
    "            while True:\n",
    "                try:\n",
    "                    x = self.get_position(i)\n",
    "                except:\n",
    "                    return None\n",
    "\n",
    "                if x.value == value:\n",
    "                    try:\n",
    "                        prev_ = self.get_position(i-1)\n",
    "                        next_ = self.get_position(i+1)\n",
    "                        prev_.next = next_\n",
    "                        break\n",
    "                    except:\n",
    "                        prev_.next = None\n",
    "                    LinkedList._COUNTER-=1\n",
    "                i+=1\n",
    "        LinkedList._COUNTER-=1\n",
    "                \n",
    "    \n",
    "    def insert_first(self, new_element):\n",
    "        \"Insert new element as the head of the LinkedList\"\n",
    "        try:\n",
    "            assert isinstance(new_element, Element)\n",
    "        except:\n",
    "            return None\n",
    "        \n",
    "        new_element.next = self.head\n",
    "        self.head = new_element\n",
    "        LinkedList._COUNTER+=1\n",
    "    \n",
    "        \n",
    "    def delete_first(self):\n",
    "        \"Delete the first (head) element in the LinkedList and return it\"\n",
    "        current = self.head\n",
    "        if current:\n",
    "            self.head = current.next\n",
    "            LinkedList._COUNTER-=1\n",
    "            return current\n",
    "        else:\n",
    "            return None"
   ]
  },
  {
   "cell_type": "code",
   "execution_count": 3,
   "id": "studied-expense",
   "metadata": {},
   "outputs": [],
   "source": [
    "class Stack(object):\n",
    "    def __init__(self, top=None):\n",
    "        if not isinstance(top, LinkedList):\n",
    "            self.ll = LinkedList(top)\n",
    "        else:\n",
    "            self.ll = top\n",
    "    \n",
    "    def push(self, new_element):\n",
    "        \"Push (add) a new element onto the top of the stack\"\n",
    "        \n",
    "        try:\n",
    "            assert isinstance(new_element, Element)\n",
    "        except:\n",
    "            return None\n",
    "        \n",
    "        self.ll.insert_first(new_element)\n",
    "        \n",
    "    def pop(self):\n",
    "        \"Pop (remove) the first element off the top of the stack and return it\"\n",
    "        \n",
    "        return self.ll.delete_first()"
   ]
  },
  {
   "cell_type": "markdown",
   "id": "thermal-homeless",
   "metadata": {},
   "source": [
    "### Stack Practice:\n",
    "\n",
    "We'd create a Stack made up of a Linked list with 3 elements and then we shall push an additional element unto the stack, and pop it while keeping track of the number of elements in the Stack. "
   ]
  },
  {
   "cell_type": "code",
   "execution_count": 4,
   "id": "allied-burns",
   "metadata": {},
   "outputs": [
    {
     "name": "stdout",
     "output_type": "stream",
     "text": [
      "5\n",
      "None\n"
     ]
    }
   ],
   "source": [
    "el1 = Element(5)\n",
    "el2 = Element(10)\n",
    "el3 = Element(15)\n",
    "\n",
    "# Print value and next of el1\n",
    "print(el1.value)\n",
    "print(el1.next)"
   ]
  },
  {
   "cell_type": "code",
   "execution_count": 5,
   "id": "rotary-cutting",
   "metadata": {},
   "outputs": [],
   "source": [
    "# Now create a linked list with these elements\n",
    "\n",
    "lynked_lyst = LinkedList(el1)\n",
    "lynked_lyst.append(el2)\n",
    "lynked_lyst.append(el3)"
   ]
  },
  {
   "cell_type": "code",
   "execution_count": 6,
   "id": "sufficient-separation",
   "metadata": {},
   "outputs": [
    {
     "name": "stdout",
     "output_type": "stream",
     "text": [
      "10\n"
     ]
    }
   ],
   "source": [
    "# Let's play with it \n",
    "\n",
    "x = lynked_lyst.get_position(2)\n",
    "print(x.value)"
   ]
  },
  {
   "cell_type": "code",
   "execution_count": 7,
   "id": "technical-devil",
   "metadata": {},
   "outputs": [
    {
     "name": "stdout",
     "output_type": "stream",
     "text": [
      "3\n"
     ]
    }
   ],
   "source": [
    "# Let's count the number of elements in the Lynked_lyst\n",
    "\n",
    "print(lynked_lyst._COUNTER)"
   ]
  },
  {
   "cell_type": "code",
   "execution_count": 8,
   "id": "framed-belly",
   "metadata": {},
   "outputs": [],
   "source": [
    "# Now, create a Stack from the lynked_lyst object\n",
    "\n",
    "stack = Stack(lynked_lyst)"
   ]
  },
  {
   "cell_type": "code",
   "execution_count": 9,
   "id": "prerequisite-novel",
   "metadata": {},
   "outputs": [
    {
     "data": {
      "text/plain": [
       "3"
      ]
     },
     "execution_count": 9,
     "metadata": {},
     "output_type": "execute_result"
    }
   ],
   "source": [
    "# Let's reconfirm howmany elements in the lynked_lyst that forms the stack\n",
    "\n",
    "stack.ll._COUNTER"
   ]
  },
  {
   "cell_type": "code",
   "execution_count": 10,
   "id": "received-villa",
   "metadata": {},
   "outputs": [],
   "source": [
    "# Now let's push an element unto the stack\n",
    "\n",
    "el4 = Element(20)\n",
    "stack.push(el4)"
   ]
  },
  {
   "cell_type": "code",
   "execution_count": 11,
   "id": "finished-wichita",
   "metadata": {},
   "outputs": [
    {
     "name": "stdout",
     "output_type": "stream",
     "text": [
      "4\n"
     ]
    }
   ],
   "source": [
    "# Let's reconfirm howmany elements in the lynked_lyst that forms the stack\n",
    "\n",
    "print(stack.ll._COUNTER)"
   ]
  },
  {
   "cell_type": "code",
   "execution_count": 12,
   "id": "matched-guidance",
   "metadata": {},
   "outputs": [
    {
     "data": {
      "text/plain": [
       "20"
      ]
     },
     "execution_count": 12,
     "metadata": {},
     "output_type": "execute_result"
    }
   ],
   "source": [
    "# Let's confirm the element at position 1 is the last element we pushed\n",
    "\n",
    "stack.ll.get_position(1).value"
   ]
  },
  {
   "cell_type": "code",
   "execution_count": 13,
   "id": "positive-sigma",
   "metadata": {},
   "outputs": [],
   "source": [
    "# Now let's pop the last element we pushed in at position 1, in line with LIFO(Last In First Out)\n",
    "\n",
    "el_popd = stack.pop()"
   ]
  },
  {
   "cell_type": "code",
   "execution_count": 14,
   "id": "korean-baptist",
   "metadata": {},
   "outputs": [
    {
     "data": {
      "text/plain": [
       "20"
      ]
     },
     "execution_count": 14,
     "metadata": {},
     "output_type": "execute_result"
    }
   ],
   "source": [
    "# Let's see the value of the popped element\n",
    "\n",
    "el_popd.value"
   ]
  },
  {
   "cell_type": "code",
   "execution_count": 15,
   "id": "right-ranking",
   "metadata": {},
   "outputs": [
    {
     "name": "stdout",
     "output_type": "stream",
     "text": [
      "3\n"
     ]
    }
   ],
   "source": [
    "# Let's reconfirm howmany elements in the lynked_lyst that forms the stack\n",
    "\n",
    "print(stack.ll._COUNTER)"
   ]
  },
  {
   "cell_type": "code",
   "execution_count": 16,
   "id": "agreed-scholarship",
   "metadata": {},
   "outputs": [
    {
     "data": {
      "text/plain": [
       "5"
      ]
     },
     "execution_count": 16,
     "metadata": {},
     "output_type": "execute_result"
    }
   ],
   "source": [
    "# Finally, Let's confirm the element at position 1 is no longer the last element we pushed (20)\n",
    "\n",
    "stack.ll.get_position(1).value"
   ]
  },
  {
   "cell_type": "code",
   "execution_count": null,
   "id": "controlled-yukon",
   "metadata": {},
   "outputs": [],
   "source": []
  },
  {
   "cell_type": "markdown",
   "id": "magnetic-joint",
   "metadata": {},
   "source": [
    "## Queues:\n",
    "\n",
    "Queues are based on the **`FIFO (First-In-First-Out)`** paradigm.\n",
    "* They are the opposite of a Stack in the sense that stacks do LIFO and queues do FIFO\n",
    "* The first element in the queue which is the oldest element is called the `head`. \n",
    "* The last or newest element is called the `tail`.\n",
    "* `Enqueue` is the term used to refer to adding a new element to the tail of the queue\n",
    "* `Dequeue` is when we remove a head element of the queue.\n",
    "* `Peek` is when you look at the head element without removing it.\n",
    "* Note all these can also be done with a Linked list."
   ]
  },
  {
   "cell_type": "markdown",
   "id": "ahead-discrimination",
   "metadata": {},
   "source": [
    "## Dequeues\n",
    "\n",
    "Is a double-ended-queue where you can enqueue or dequeue both ways.\n",
    "* Dequeues are generalized versions of both Stacks and Queues. \n",
    "* And we can treat Dequeues like a Stack where we add and remove elements from only one end. Or a Queue where we add and remove objects from opposite ends. "
   ]
  },
  {
   "cell_type": "markdown",
   "id": "careful-equivalent",
   "metadata": {},
   "source": [
    "## Priority Queue\n",
    "\n",
    "Here we assign each element a numerical priority when its inserted into the queue.\n",
    "* When you dequeue, you remove the element with the highest priority first. \n",
    "* However if the elements have the same priority the oldest element gets dequeued first just like in a queue.\n",
    "\n",
    "### Queue Practice"
   ]
  },
  {
   "cell_type": "code",
   "execution_count": 21,
   "id": "necessary-skating",
   "metadata": {},
   "outputs": [],
   "source": [
    "from collections import deque\n",
    "import numpy as np"
   ]
  },
  {
   "cell_type": "markdown",
   "id": "amateur-friend",
   "metadata": {},
   "source": [
    "```\n",
    "\"\"\"Make a Queue class using a list!\n",
    "Hint: You can use any Python list method\n",
    "you'd like! Try to write each one in as \n",
    "few lines as possible.\n",
    "Make sure you pass the test cases too!\"\"\"\n",
    "```"
   ]
  },
  {
   "cell_type": "code",
   "execution_count": 17,
   "id": "dirty-incident",
   "metadata": {},
   "outputs": [],
   "source": [
    "class Queue:\n",
    "    def __init__(self, head=None):\n",
    "        self.storage = [head]\n",
    "        \n",
    "    def peek(self):\n",
    "        return self.storage[0]\n",
    "    \n",
    "    def enqueue(self, new_element):\n",
    "        self.storage.append(new_element)\n",
    "        \n",
    "    def dequeue(self):\n",
    "        return self.storage.pop(0)"
   ]
  },
  {
   "cell_type": "code",
   "execution_count": 22,
   "id": "sitting-highlight",
   "metadata": {},
   "outputs": [],
   "source": [
    "class Dequeue:\n",
    "    def __init__(self, head=None):\n",
    "        try:\n",
    "            assert type(head) in [tuple, list]\n",
    "        except AssertionError:\n",
    "            lyst = []\n",
    "            lyst.append(head)\n",
    "        self.storage = deque(lyst)\n",
    "        \n",
    "    def append(self, new_element):\n",
    "        self.storage.append(new_element)\n",
    "        \n",
    "    def pop_left(self):\n",
    "        return self.storage.popleft()\n",
    "    \n",
    "    def pop_right(self):\n",
    "        return self.storage.pop()\n",
    "    \n",
    "    def peek(self):\n",
    "        return self.storage[0]\n",
    "    \n",
    "    def length(self):\n",
    "        return len(self.storage)"
   ]
  },
  {
   "cell_type": "code",
   "execution_count": 19,
   "id": "fatty-training",
   "metadata": {},
   "outputs": [],
   "source": [
    "el1 = Element(10)\n",
    "el2 = Element(20)\n",
    "el3 = Element(30)"
   ]
  },
  {
   "cell_type": "markdown",
   "id": "advance-parker",
   "metadata": {},
   "source": [
    "### Create a Dequeue with the Linked-List elements"
   ]
  },
  {
   "cell_type": "code",
   "execution_count": 23,
   "id": "distinguished-webmaster",
   "metadata": {},
   "outputs": [],
   "source": [
    "linked_elems = Dequeue(el1)"
   ]
  },
  {
   "cell_type": "code",
   "execution_count": 24,
   "id": "distributed-insulin",
   "metadata": {},
   "outputs": [],
   "source": [
    "# Append the second element\n",
    "linked_elems.append(el2)"
   ]
  },
  {
   "cell_type": "code",
   "execution_count": 26,
   "id": "particular-bryan",
   "metadata": {},
   "outputs": [
    {
     "data": {
      "text/plain": [
       "10"
      ]
     },
     "execution_count": 26,
     "metadata": {},
     "output_type": "execute_result"
    }
   ],
   "source": [
    "# Let's see the value of the first or head element\n",
    "linked_elems.peek().value"
   ]
  },
  {
   "cell_type": "code",
   "execution_count": 25,
   "id": "naval-kazakhstan",
   "metadata": {},
   "outputs": [],
   "source": [
    "# append the third element\n",
    "linked_elems.append(el3)"
   ]
  },
  {
   "cell_type": "code",
   "execution_count": 27,
   "id": "proved-sender",
   "metadata": {},
   "outputs": [
    {
     "data": {
      "text/plain": [
       "3"
      ]
     },
     "execution_count": 27,
     "metadata": {},
     "output_type": "execute_result"
    }
   ],
   "source": [
    "# Let' see the total number of elements\n",
    "linked_elems.length()"
   ]
  },
  {
   "cell_type": "code",
   "execution_count": 28,
   "id": "formal-notebook",
   "metadata": {},
   "outputs": [
    {
     "data": {
      "text/plain": [
       "10"
      ]
     },
     "execution_count": 28,
     "metadata": {},
     "output_type": "execute_result"
    }
   ],
   "source": [
    "# Pop the first enqueued element out like a Queue\n",
    "linked_elems.pop_left().value"
   ]
  },
  {
   "cell_type": "code",
   "execution_count": 29,
   "id": "weighted-combination",
   "metadata": {},
   "outputs": [
    {
     "data": {
      "text/plain": [
       "2"
      ]
     },
     "execution_count": 29,
     "metadata": {},
     "output_type": "execute_result"
    }
   ],
   "source": [
    "# Let' see the total number of elements\n",
    "linked_elems.length()"
   ]
  },
  {
   "cell_type": "code",
   "execution_count": 30,
   "id": "naked-infection",
   "metadata": {},
   "outputs": [
    {
     "data": {
      "text/plain": [
       "30"
      ]
     },
     "execution_count": 30,
     "metadata": {},
     "output_type": "execute_result"
    }
   ],
   "source": [
    "# Pop the last enqueued element out like a Stack\n",
    "linked_elems.pop_right().value"
   ]
  },
  {
   "cell_type": "code",
   "execution_count": 31,
   "id": "academic-traffic",
   "metadata": {},
   "outputs": [
    {
     "data": {
      "text/plain": [
       "1"
      ]
     },
     "execution_count": 31,
     "metadata": {},
     "output_type": "execute_result"
    }
   ],
   "source": [
    "# Let' see the total number of elements\n",
    "linked_elems.length()"
   ]
  }
 ],
 "metadata": {
  "kernelspec": {
   "display_name": "Python 3",
   "language": "python",
   "name": "python3"
  },
  "language_info": {
   "codemirror_mode": {
    "name": "ipython",
    "version": 3
   },
   "file_extension": ".py",
   "mimetype": "text/x-python",
   "name": "python",
   "nbconvert_exporter": "python",
   "pygments_lexer": "ipython3",
   "version": "3.8.5"
  }
 },
 "nbformat": 4,
 "nbformat_minor": 5
}
