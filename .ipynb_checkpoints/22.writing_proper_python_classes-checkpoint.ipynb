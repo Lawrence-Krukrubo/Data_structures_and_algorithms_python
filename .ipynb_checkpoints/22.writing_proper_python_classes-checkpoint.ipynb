{
 "cells": [
  {
   "cell_type": "markdown",
   "metadata": {},
   "source": [
    "# Writing a Proper Python Class\n",
    "\n",
    "When writing a class there are a lot of things to consider. Especially if you are going to release your class for others to use. We will build a simple class to represent a die that you can roll, and a cup to contain a bunch of dice. We will incrementally improve our implementations to take into consderation the following aspects of desiging a class that works well in the Python ecosystem.\n",
    "\n",
    "* Each class should have a docstring to provide some level of documentation on how to use the class.\n",
    "\n",
    "* Each class should have a `__str__` magic method to give it a meaninigful string representation.\n",
    "\n",
    "* Each class should have a proper `__repr__` magic method for representation in the interactive shell, the debugger, and other cases where string conversion does not happen.\n",
    "\n",
    "* Each class should be comparable so it can be sorted and meaningfully compared with other instances. At a minimum this means implementing `__eq__` and `__lt__`.\n",
    "\n",
    "You should think about access control for each instance variable. Which attributes do you want to make **public**, which attributes do you want to make **read only**, and which attributes do you want to control or do **value checking** on before you allow them to be changed.\n",
    "\n",
    "If the class is a container for other classes then there are some further considerations:\n",
    "\n",
    "* You should be able to find out how many things the container holds using `len`\n",
    "\n",
    "* You should be able to iterate over the items in the container.\n",
    "\n",
    "* You may want to allow users to access the items in the container using the `square bracket` index notation."
   ]
  },
  {
   "cell_type": "markdown",
   "metadata": {},
   "source": [
    "## A Basic implementation of the MSDie class"
   ]
  },
  {
   "cell_type": "code",
   "execution_count": 1,
   "metadata": {},
   "outputs": [],
   "source": [
    "import random"
   ]
  },
  {
   "cell_type": "code",
   "execution_count": 2,
   "metadata": {},
   "outputs": [],
   "source": [
    "class MSDie:\n",
    "    \"\"\"\n",
    "    Class to instantiate \n",
    "    Multi-sided Die Objects\n",
    "    \n",
    "    Instance Variables:\n",
    "        num_sides\n",
    "        current_value\n",
    "    \"\"\"\n",
    "    \n",
    "    def __init__(self, num_sides):\n",
    "        self.num_sides = num_sides\n",
    "        self.current_value = self.roll()\n",
    "        \n",
    "    def roll(self):\n",
    "        \"\"\"Performs a random roll\n",
    "            of a die with 1 as min value\n",
    "        \"\"\"\n",
    "        self.current_value = random.randrange(1, self.num_sides+1)\n",
    "        return self.current_value"
   ]
  },
  {
   "cell_type": "code",
   "execution_count": 3,
   "metadata": {},
   "outputs": [
    {
     "name": "stdout",
     "output_type": "stream",
     "text": [
      "<__main__.MSDie object at 0x00000147C32A3748> 6\n",
      "<__main__.MSDie object at 0x00000147C32A3748> 6\n",
      "<__main__.MSDie object at 0x00000147C32A3748> 3\n",
      "<__main__.MSDie object at 0x00000147C32A3748> 5\n",
      "<__main__.MSDie object at 0x00000147C32A3748> 5\n",
      "<__main__.MSDie object at 0x00000147C32A3748> 6\n"
     ]
    }
   ],
   "source": [
    "myDie = MSDie(6)\n",
    "\n",
    "for i in range(6):\n",
    "    print(myDie, myDie.current_value)\n",
    "    myDie.roll()"
   ]
  },
  {
   "cell_type": "code",
   "execution_count": 4,
   "metadata": {},
   "outputs": [
    {
     "name": "stdout",
     "output_type": "stream",
     "text": [
      "[<__main__.MSDie object at 0x00000147C32A3B88>, <__main__.MSDie object at 0x00000147C32A3BC8>]\n"
     ]
    }
   ],
   "source": [
    "d_list = [MSDie(6), MSDie(20)]\n",
    "print(d_list)"
   ]
  },
  {
   "cell_type": "markdown",
   "metadata": {},
   "source": [
    "It would be nicer if we could just print(my_die) and have the value of the die show up without having to know about the instance variable called `current_value`.\n",
    "\n",
    "Lets fix up the representation to make printing and interacting with the die a bit more convenient. For this we will implement the `__str__` and `__repr__` magic methods."
   ]
  },
  {
   "cell_type": "code",
   "execution_count": 5,
   "metadata": {},
   "outputs": [],
   "source": [
    "class MSDie:\n",
    "    \"\"\"\n",
    "    Class to instantiate \n",
    "    Multi-sided Die Objects\n",
    "    \n",
    "    Instance Variables:\n",
    "        num_sides\n",
    "        current_value\n",
    "    \"\"\"\n",
    "    \n",
    "    def __init__(self, num_sides):\n",
    "        self.num_sides = num_sides\n",
    "        self.current_value = self.roll()\n",
    "        \n",
    "    def roll(self):\n",
    "        \"\"\"Performs a random roll\n",
    "            of a die with 1 as min value\n",
    "        \"\"\"\n",
    "        self.current_value = random.randrange(1, self.num_sides+1)\n",
    "        return self.current_value\n",
    "    \n",
    "    def __str__(self):\n",
    "        return str(self.current_value)\n",
    "    \n",
    "    def __repr__(self):\n",
    "        return f'(MSDie({self.num_sides}):- Current_value:{self.current_value})'\n",
    "    \n",
    "    def __eq__(self, other):\n",
    "        \"\"\"Check Equality:\n",
    "        \n",
    "        If other is a Die, check if its num_sides\n",
    "        are equal to self num_sides. Else if it's an int\n",
    "        check if self.current_value == other.\n",
    "        \"\"\"\n",
    "        if isinstance(other, MSDie):\n",
    "            return self.num_sides == other.num_sides\n",
    "        else:\n",
    "            try:\n",
    "                assert isinstance(other, int)\n",
    "                return self.current_value == other\n",
    "            except AssertionError:\n",
    "                return 'ERROR: Other must be int or MSDie instance.'\n",
    "    \n",
    "    def __lt__(self, other):\n",
    "        \"\"\"Check Less-Than:\n",
    "        \n",
    "        If other is a Die, check if self.num_sides < other.num_sides. \n",
    "        Else if it's an int, check if self.current_value < other.\n",
    "        \"\"\"\n",
    "        if isinstance(other, MSDie):\n",
    "            return self.num_sides < other.num_sides\n",
    "        else:\n",
    "            try:\n",
    "                assert isinstance(other, int)\n",
    "                return self.current_value < other\n",
    "            except AssertionError:\n",
    "                return 'ERROR: Other must be int or MSDie instance.'\n",
    "            \n",
    "    \n",
    "    def __gt__(self, other):\n",
    "        \"\"\"Check Greater-Than:\n",
    "        \n",
    "        If other is a Die, check if self.num_sides > other.num_sides. \n",
    "        Else if it's an int, check if self.current_value > other.\n",
    "        \"\"\"\n",
    "        if isinstance(other, MSDie):\n",
    "            return self.num_sides > other.num_sides\n",
    "        else:\n",
    "            try:\n",
    "                assert isinstance(other, int)\n",
    "                return self.current_value > other\n",
    "            except AssertionError:\n",
    "                return 'ERROR: Other must be int or MSDie instance.'\n",
    "    \n",
    "    def __add__(self, other):\n",
    "        \"\"\"Add self to other Die:\n",
    "        @param other: Must be an MSDie object.\n",
    "        return a new Die of size(self.num_sides + other.num_sides)\n",
    "        \"\"\"\n",
    "        if not isinstance(other, MSDie):\n",
    "            return 'ERROR: Other must be MSDie instance.'\n",
    "        return MSDie(self.num_sides+other.num_sides)\n",
    "        \n",
    "    \n",
    "    def __sub__(self, other):\n",
    "        \"\"\"Subtract self from other Die:\n",
    "        @param other: Must be an MSDie object.\n",
    "        return a new Die of size(other.num_sides - self.num_sides)\n",
    "        \"\"\"\n",
    "        if not isinstance(other, MSDie):\n",
    "            return 'ERROR: Other must be MSDie instance.'\n",
    "        else:\n",
    "            if self.num_sides == other.num_sides:\n",
    "                return \"ERROR: No Die\"\n",
    "            else:\n",
    "                return MSDie(abs(other.num_sides - self.num_sides))\n",
    "            \n",
    "    def get_num_sides(self):\n",
    "        return self.num_sides"
   ]
  },
  {
   "cell_type": "code",
   "execution_count": 6,
   "metadata": {},
   "outputs": [
    {
     "name": "stdout",
     "output_type": "stream",
     "text": [
      "5\n",
      "4\n",
      "5\n",
      "2\n",
      "1\n",
      "3\n"
     ]
    }
   ],
   "source": [
    "myDie = MSDie(6)\n",
    "myDie2 = MSDie(6)\n",
    "myDie3 = MSDie(10)\n",
    "\n",
    "for i in range(6):\n",
    "    print(myDie)\n",
    "    myDie.roll()"
   ]
  },
  {
   "cell_type": "code",
   "execution_count": 7,
   "metadata": {},
   "outputs": [
    {
     "name": "stdout",
     "output_type": "stream",
     "text": [
      "[(MSDie(6):- Current_value:5), (MSDie(20):- Current_value:14)]\n"
     ]
    }
   ],
   "source": [
    "d_list = [MSDie(6), MSDie(20)]\n",
    "print(d_list)"
   ]
  },
  {
   "cell_type": "markdown",
   "metadata": {},
   "source": [
    "Notice that when we print a list of objects, the `repr` is used to display those objects. Having a good `repr` makes it easier to debug with simple print statements."
   ]
  },
  {
   "cell_type": "markdown",
   "metadata": {},
   "source": [
    "**Checking Equality**"
   ]
  },
  {
   "cell_type": "code",
   "execution_count": 8,
   "metadata": {},
   "outputs": [
    {
     "data": {
      "text/plain": [
       "True"
      ]
     },
     "execution_count": 8,
     "metadata": {},
     "output_type": "execute_result"
    }
   ],
   "source": [
    "# Testing equality of two Dice. This checks if both dice have equal num_sides. Should be True\n",
    "\n",
    "myDie == myDie2"
   ]
  },
  {
   "cell_type": "code",
   "execution_count": 11,
   "metadata": {},
   "outputs": [
    {
     "data": {
      "text/plain": [
       "True"
      ]
     },
     "execution_count": 11,
     "metadata": {},
     "output_type": "execute_result"
    }
   ],
   "source": [
    "# Testing Equality of the current value of a die and an int\n",
    "\n",
    "myDie == 5"
   ]
  },
  {
   "cell_type": "code",
   "execution_count": 12,
   "metadata": {},
   "outputs": [
    {
     "data": {
      "text/plain": [
       "True"
      ]
     },
     "execution_count": 12,
     "metadata": {},
     "output_type": "execute_result"
    }
   ],
   "source": [
    "myDie < myDie3"
   ]
  },
  {
   "cell_type": "code",
   "execution_count": 13,
   "metadata": {},
   "outputs": [
    {
     "data": {
      "text/plain": [
       "True"
      ]
     },
     "execution_count": 13,
     "metadata": {},
     "output_type": "execute_result"
    }
   ],
   "source": [
    "myDie < 6"
   ]
  },
  {
   "cell_type": "code",
   "execution_count": 14,
   "metadata": {},
   "outputs": [
    {
     "data": {
      "text/plain": [
       "True"
      ]
     },
     "execution_count": 14,
     "metadata": {},
     "output_type": "execute_result"
    }
   ],
   "source": [
    "myDie3 > myDie2"
   ]
  },
  {
   "cell_type": "code",
   "execution_count": 15,
   "metadata": {},
   "outputs": [
    {
     "data": {
      "text/plain": [
       "False"
      ]
     },
     "execution_count": 15,
     "metadata": {},
     "output_type": "execute_result"
    }
   ],
   "source": [
    "myDie3 > 6"
   ]
  },
  {
   "cell_type": "markdown",
   "metadata": {},
   "source": [
    "**Checking addition and subtraction of 2 Dice**"
   ]
  },
  {
   "cell_type": "code",
   "execution_count": 16,
   "metadata": {},
   "outputs": [
    {
     "data": {
      "text/plain": [
       "(MSDie(10):- Current_value:1)"
      ]
     },
     "execution_count": 16,
     "metadata": {},
     "output_type": "execute_result"
    }
   ],
   "source": [
    "myDie3"
   ]
  },
  {
   "cell_type": "code",
   "execution_count": 17,
   "metadata": {},
   "outputs": [
    {
     "data": {
      "text/plain": [
       "(MSDie(4):- Current_value:3)"
      ]
     },
     "execution_count": 17,
     "metadata": {},
     "output_type": "execute_result"
    }
   ],
   "source": [
    "myDie3 - myDie"
   ]
  },
  {
   "cell_type": "code",
   "execution_count": 18,
   "metadata": {},
   "outputs": [
    {
     "data": {
      "text/plain": [
       "(MSDie(16):- Current_value:8)"
      ]
     },
     "execution_count": 18,
     "metadata": {},
     "output_type": "execute_result"
    }
   ],
   "source": [
    "myDie3 + myDie"
   ]
  },
  {
   "cell_type": "markdown",
   "metadata": {},
   "source": [
    "**Time to Build the class Cup, to hold a bunch of Dice.<br>This class will be an abstract Data Type with a state as well as behavior or methods**"
   ]
  },
  {
   "cell_type": "code",
   "execution_count": 19,
   "metadata": {},
   "outputs": [],
   "source": [
    "class Cup:\n",
    "    \"\"\"A Cup container for holding Dice objects\n",
    "    \n",
    "        Instance Variables:\n",
    "            name\n",
    "            diceList\n",
    "    \n",
    "    \"\"\"\n",
    "    def __init__(self, name, diceList):\n",
    "        self.name = name\n",
    "        self.diceList = diceList\n",
    "        \n",
    "    def __str__(self):\n",
    "        name = self.name\n",
    "        size = self.get_size()\n",
    "        min_ = self.get_min_die().get_num_sides()\n",
    "        max_ = self.get_max_die().get_num_sides()\n",
    "        \n",
    "        return f'Name: {name}\\nSize: {size} Dice\\nMin-Die: {min_}-Sides\\nMax-Die: {max_}-Sides'\n",
    "    \n",
    "    def __repr__(self):\n",
    "        return self.__str__()\n",
    "        \n",
    "    def get_size(self):\n",
    "        return len(self.diceList)\n",
    "    \n",
    "    def get_die(self, num_sides):\n",
    "        \"\"\"Get first Die with num_sides,\n",
    "            without popping it off.\n",
    "        \n",
    "        @param num_sides: integer\n",
    "        @return: Die object with num_sides or 'None'\n",
    "        \"\"\"\n",
    "        for die in self.diceList:\n",
    "            if die.get_num_sides() == num_sides:\n",
    "                return die\n",
    "            \n",
    "        return f'ERROR: No Die With {num_sides} Sides Found!'\n",
    "    \n",
    "    def add_die(self, other):\n",
    "        \"\"\"Add a new Die to the diceList\n",
    "        \n",
    "        @param other: Die object\n",
    "        @return: None\n",
    "        \"\"\"\n",
    "        if isinstance(other, MSDie):\n",
    "            self.diceList.append(other)\n",
    "        else:\n",
    "            print('ERROR: Other Must be a Die object.')\n",
    "    \n",
    "    def remove_die(self, num_sides):\n",
    "        \"\"\"Delete the first Die with\n",
    "            num_sides from diceList\n",
    "        \"\"\"\n",
    "        isFound = False\n",
    "        \n",
    "        for die in self.diceList:\n",
    "            if die.get_num_sides() == num_sides:\n",
    "                isFound = True\n",
    "                ind = self.diceList.index(die)\n",
    "                del self.diceList[ind]\n",
    "                break\n",
    "                \n",
    "        if not isFound:\n",
    "            print(f'ERROR: No Die With {num_sides} Sides Found!')\n",
    "        \n",
    "            \n",
    "    def pop_die(self, num_sides):\n",
    "        \"\"\"Return first Die with num_sides,\n",
    "            by popping it off diceList.\n",
    "\n",
    "            @param num_sides: integer\n",
    "            @return: Die object with num_sides or 'None'\n",
    "            \"\"\"\n",
    "        for die in self.diceList:\n",
    "            if die.get_num_sides() == num_sides:\n",
    "                ind = self.diceList.index(die)\n",
    "                return self.diceList.pop(ind)\n",
    "            \n",
    "        return 'None'\n",
    "    \n",
    "    def get_max_die(self):\n",
    "        \"\"\"Return the biggest Die.\n",
    "        \"\"\"\n",
    "        maxx = float('-inf')\n",
    "        ind = None\n",
    "        \n",
    "        for die in self.diceList:\n",
    "            if die.get_num_sides() > maxx:\n",
    "                maxx = die.get_num_sides()\n",
    "                ind = self.diceList.index(die)\n",
    "                \n",
    "        return self.diceList[ind]\n",
    "            \n",
    "    \n",
    "    def get_min_die(self):\n",
    "        \"\"\"Return the smallest Die\n",
    "        \"\"\"\n",
    "        minn = float('inf')\n",
    "        ind = None\n",
    "        \n",
    "        for die in self.diceList:\n",
    "            if die.get_num_sides() < minn:\n",
    "                minn = die.get_num_sides()\n",
    "                ind = self.diceList.index(die)\n",
    "                \n",
    "        return self.diceList[ind]"
   ]
  },
  {
   "cell_type": "code",
   "execution_count": 20,
   "metadata": {},
   "outputs": [],
   "source": [
    "dice_list = [myDie, myDie2, myDie3, MSDie(5), MSDie(12), MSDie(9), MSDie(14), MSDie(3)]"
   ]
  },
  {
   "cell_type": "code",
   "execution_count": 21,
   "metadata": {},
   "outputs": [],
   "source": [
    "cup_holder = Cup('Dice-Cup-Holder', dice_list)"
   ]
  },
  {
   "cell_type": "code",
   "execution_count": 22,
   "metadata": {},
   "outputs": [
    {
     "name": "stdout",
     "output_type": "stream",
     "text": [
      "Name: Dice-Cup-Holder\n",
      "Size: 8 Dice\n",
      "Min-Die: 3-Sides\n",
      "Max-Die: 14-Sides\n"
     ]
    }
   ],
   "source": [
    "# Print the cup-holder object using __str__\n",
    "\n",
    "print(cup_holder)"
   ]
  },
  {
   "cell_type": "code",
   "execution_count": 23,
   "metadata": {},
   "outputs": [
    {
     "data": {
      "text/plain": [
       "(MSDie(14):- Current_value:9)"
      ]
     },
     "execution_count": 23,
     "metadata": {},
     "output_type": "execute_result"
    }
   ],
   "source": [
    "# Find the biggest die in the cup_holder\n",
    "\n",
    "cup_holder.get_max_die()"
   ]
  },
  {
   "cell_type": "code",
   "execution_count": 24,
   "metadata": {},
   "outputs": [
    {
     "data": {
      "text/plain": [
       "14"
      ]
     },
     "execution_count": 24,
     "metadata": {},
     "output_type": "execute_result"
    }
   ],
   "source": [
    "# Get the num_sides of the biggest Die.\n",
    "\n",
    "cup_holder.get_max_die().get_num_sides()"
   ]
  },
  {
   "cell_type": "code",
   "execution_count": 25,
   "metadata": {},
   "outputs": [
    {
     "data": {
      "text/plain": [
       "(MSDie(3):- Current_value:1)"
      ]
     },
     "execution_count": 25,
     "metadata": {},
     "output_type": "execute_result"
    }
   ],
   "source": [
    "# Find the smallest die in the cup_holder\n",
    "\n",
    "cup_holder.get_min_die()"
   ]
  },
  {
   "cell_type": "code",
   "execution_count": 26,
   "metadata": {},
   "outputs": [
    {
     "data": {
      "text/plain": [
       "Name: Dice-Cup-Holder\n",
       "Size: 8 Dice\n",
       "Min-Die: 3-Sides\n",
       "Max-Die: 14-Sides"
      ]
     },
     "execution_count": 26,
     "metadata": {},
     "output_type": "execute_result"
    }
   ],
   "source": [
    "# Display the cup-holder object using __repr__\n",
    "\n",
    "cup_holder"
   ]
  },
  {
   "cell_type": "code",
   "execution_count": 27,
   "metadata": {},
   "outputs": [
    {
     "data": {
      "text/plain": [
       "8"
      ]
     },
     "execution_count": 27,
     "metadata": {},
     "output_type": "execute_result"
    }
   ],
   "source": [
    "# Check the size of cup-holder. Should be 8\n",
    "\n",
    "cup_holder.get_size()"
   ]
  },
  {
   "cell_type": "markdown",
   "metadata": {},
   "source": [
    "**Adding and Removing Die objects**"
   ]
  },
  {
   "cell_type": "code",
   "execution_count": 28,
   "metadata": {},
   "outputs": [],
   "source": [
    "new_die = MSDie(8)\n",
    "\n",
    "# Add the new-die\n",
    "\n",
    "cup_holder.add_die(new_die)"
   ]
  },
  {
   "cell_type": "code",
   "execution_count": 29,
   "metadata": {},
   "outputs": [
    {
     "data": {
      "text/plain": [
       "9"
      ]
     },
     "execution_count": 29,
     "metadata": {},
     "output_type": "execute_result"
    }
   ],
   "source": [
    "# Check the size of cup-holder. Should be 9\n",
    "\n",
    "cup_holder.get_size()"
   ]
  },
  {
   "cell_type": "code",
   "execution_count": 30,
   "metadata": {},
   "outputs": [
    {
     "data": {
      "text/plain": [
       "(MSDie(10):- Current_value:1)"
      ]
     },
     "execution_count": 30,
     "metadata": {},
     "output_type": "execute_result"
    }
   ],
   "source": [
    "# Let's get the die with 10 sides\n",
    "\n",
    "cup_holder.get_die(10)"
   ]
  },
  {
   "cell_type": "code",
   "execution_count": 31,
   "metadata": {},
   "outputs": [
    {
     "data": {
      "text/plain": [
       "9"
      ]
     },
     "execution_count": 31,
     "metadata": {},
     "output_type": "execute_result"
    }
   ],
   "source": [
    "# Check the size of cup-holder. Should still be 9\n",
    "\n",
    "cup_holder.get_size()"
   ]
  },
  {
   "cell_type": "code",
   "execution_count": 32,
   "metadata": {},
   "outputs": [
    {
     "data": {
      "text/plain": [
       "'ERROR: No Die With 15 Sides Found!'"
      ]
     },
     "execution_count": 32,
     "metadata": {},
     "output_type": "execute_result"
    }
   ],
   "source": [
    "# Let's get the die with 15 sides\n",
    "\n",
    "cup_holder.get_die(15)"
   ]
  },
  {
   "cell_type": "code",
   "execution_count": 33,
   "metadata": {},
   "outputs": [],
   "source": [
    "# Lets remove one die with 6 sides\n",
    "\n",
    "cup_holder.remove_die(6)"
   ]
  },
  {
   "cell_type": "code",
   "execution_count": 34,
   "metadata": {},
   "outputs": [
    {
     "data": {
      "text/plain": [
       "8"
      ]
     },
     "execution_count": 34,
     "metadata": {},
     "output_type": "execute_result"
    }
   ],
   "source": [
    "# Check the size of cup-holder. Should be 8\n",
    "\n",
    "cup_holder.get_size()"
   ]
  },
  {
   "cell_type": "code",
   "execution_count": 35,
   "metadata": {},
   "outputs": [],
   "source": [
    "# Let's pop the die with 10 sides\n",
    "\n",
    "popd = cup_holder.pop_die(10)"
   ]
  },
  {
   "cell_type": "code",
   "execution_count": 36,
   "metadata": {},
   "outputs": [
    {
     "data": {
      "text/plain": [
       "(MSDie(10):- Current_value:1)"
      ]
     },
     "execution_count": 36,
     "metadata": {},
     "output_type": "execute_result"
    }
   ],
   "source": [
    "popd"
   ]
  },
  {
   "cell_type": "code",
   "execution_count": 37,
   "metadata": {},
   "outputs": [
    {
     "data": {
      "text/plain": [
       "7"
      ]
     },
     "execution_count": 37,
     "metadata": {},
     "output_type": "execute_result"
    }
   ],
   "source": [
    "# Check the size of cup-holder. Should be 7\n",
    "\n",
    "cup_holder.get_size()"
   ]
  },
  {
   "cell_type": "markdown",
   "metadata": {},
   "source": [
    "**Playing with Objects**"
   ]
  },
  {
   "cell_type": "code",
   "execution_count": 38,
   "metadata": {},
   "outputs": [
    {
     "data": {
      "text/plain": [
       "14"
      ]
     },
     "execution_count": 38,
     "metadata": {},
     "output_type": "execute_result"
    }
   ],
   "source": [
    "# Let's get the num_sides of the Die in the fifth element position of cup-holder\n",
    "\n",
    "cup_holder.diceList[4].get_num_sides()"
   ]
  },
  {
   "cell_type": "code",
   "execution_count": 39,
   "metadata": {},
   "outputs": [
    {
     "data": {
      "text/plain": [
       "(MSDie(14):- Current_value:9)"
      ]
     },
     "execution_count": 39,
     "metadata": {},
     "output_type": "execute_result"
    }
   ],
   "source": [
    "# Let's print the details of this Die to be sure\n",
    "\n",
    "cup_holder.diceList[4]"
   ]
  },
  {
   "cell_type": "markdown",
   "metadata": {},
   "source": [
    "Let's add the first and last dies in cup_holder.dicelist and append it as a new die"
   ]
  },
  {
   "cell_type": "code",
   "execution_count": 40,
   "metadata": {},
   "outputs": [],
   "source": [
    "new_die = cup_holder.diceList[0] + cup_holder.diceList[-1]\n",
    "\n",
    "# Add new-die to cup-holder\n",
    "\n",
    "cup_holder.add_die(new_die)"
   ]
  },
  {
   "cell_type": "code",
   "execution_count": 41,
   "metadata": {},
   "outputs": [
    {
     "data": {
      "text/plain": [
       "(MSDie(14):- Current_value:13)"
      ]
     },
     "execution_count": 41,
     "metadata": {},
     "output_type": "execute_result"
    }
   ],
   "source": [
    "# Let's see the added Die\n",
    "\n",
    "cup_holder.diceList[-1]"
   ]
  },
  {
   "cell_type": "code",
   "execution_count": 42,
   "metadata": {},
   "outputs": [
    {
     "data": {
      "text/plain": [
       "8"
      ]
     },
     "execution_count": 42,
     "metadata": {},
     "output_type": "execute_result"
    }
   ],
   "source": [
    "# Check the size of cup-holder. Should now be 8\n",
    "\n",
    "cup_holder.get_size()"
   ]
  },
  {
   "cell_type": "code",
   "execution_count": 43,
   "metadata": {},
   "outputs": [
    {
     "data": {
      "text/plain": [
       "'Dice-Cup-Holder'"
      ]
     },
     "execution_count": 43,
     "metadata": {},
     "output_type": "execute_result"
    }
   ],
   "source": [
    "cup_holder.name"
   ]
  },
  {
   "cell_type": "code",
   "execution_count": 44,
   "metadata": {},
   "outputs": [
    {
     "data": {
      "text/plain": [
       "[(MSDie(6):- Current_value:1),\n",
       " (MSDie(5):- Current_value:3),\n",
       " (MSDie(12):- Current_value:9),\n",
       " (MSDie(9):- Current_value:8),\n",
       " (MSDie(14):- Current_value:9),\n",
       " (MSDie(3):- Current_value:1),\n",
       " (MSDie(8):- Current_value:2),\n",
       " (MSDie(14):- Current_value:13)]"
      ]
     },
     "execution_count": 44,
     "metadata": {},
     "output_type": "execute_result"
    }
   ],
   "source": [
    "# Let's see all the Dice in the cup-holder diceList\n",
    "\n",
    "cup_holder.diceList                                             "
   ]
  },
  {
   "cell_type": "code",
   "execution_count": null,
   "metadata": {},
   "outputs": [],
   "source": []
  }
 ],
 "metadata": {
  "kernelspec": {
   "display_name": "Python 3",
   "language": "python",
   "name": "python3"
  },
  "language_info": {
   "codemirror_mode": {
    "name": "ipython",
    "version": 3
   },
   "file_extension": ".py",
   "mimetype": "text/x-python",
   "name": "python",
   "nbconvert_exporter": "python",
   "pygments_lexer": "ipython3",
   "version": "3.7.5"
  }
 },
 "nbformat": 4,
 "nbformat_minor": 5
}
