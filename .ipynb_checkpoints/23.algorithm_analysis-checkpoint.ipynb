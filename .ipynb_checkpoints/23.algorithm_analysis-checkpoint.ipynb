{
 "cells": [
  {
   "cell_type": "markdown",
   "metadata": {},
   "source": [
    "# Objectives\n",
    "\n",
    "1. To understand why algorithm analysis is important.\n",
    "\n",
    "2. To be able to use “Big-O” to describe execution time.\n",
    "\n",
    "3. To understand the “Big-O” execution time of common operations on Python lists and dictionaries.\n",
    "\n",
    "4. To understand how the implementation of Python data impacts algorithm analysis.\n",
    "\n",
    "5. To understand how to benchmark simple Python programs."
   ]
  },
  {
   "cell_type": "markdown",
   "metadata": {},
   "source": [
    "### When two programs solve the same problem but look different, is one program better than the other?\n",
    "\n",
    "In order to answer this question, we need to remember that there is an important difference between a program and the underlying algorithm that the program is representing. <br>**An algorithm** is a generic, step-by-step list of instructions for solving a problem. It is a method for solving any instance of the problem such that given a particular input, the algorithm produces the desired result. <br>**A program**, on the other hand, is an algorithm that has been encoded into some programming language. There may be many programs for the same algorithm, depending on the programmer and the programming language being used.\n",
    "\n",
    "**Algorithm analysis** is concerned with comparing algorithms based upon the amount of computing resources that each algorithm uses. We want to be able to consider two algorithms and say that one is better than the other because it is more efficient in its use of those resources or perhaps because it simply uses fewer."
   ]
  },
  {
   "cell_type": "code",
   "execution_count": 1,
   "metadata": {},
   "outputs": [],
   "source": [
    "import time\n",
    "\n",
    "def sumOfN(n):\n",
    "    start = time.time()\n",
    "\n",
    "    theSum = 0\n",
    "    for i in range(1,n+1):\n",
    "        theSum = theSum + i\n",
    "\n",
    "    end = time.time()\n",
    "\n",
    "    return theSum, end-start"
   ]
  },
  {
   "cell_type": "code",
   "execution_count": 2,
   "metadata": {},
   "outputs": [
    {
     "name": "stdout",
     "output_type": "stream",
     "text": [
      "Sum is 50005000, Time is  0.0010004\n",
      "Sum is 50005000, Time is  0.0009975\n",
      "Sum is 50005000, Time is  0.0009992\n",
      "Sum is 50005000, Time is  0.0019968\n",
      "Sum is 50005000, Time is  0.0019979\n",
      "Sum is 50005000, Time is  0.0009997\n",
      "Sum is 50005000, Time is  0.0009992\n",
      "Sum is 50005000, Time is  0.0020015\n",
      "Sum is 50005000, Time is  0.0019963\n",
      "Sum is 50005000, Time is  0.0010002\n",
      "average time is 0.0013989 secs!\n"
     ]
    }
   ],
   "source": [
    "# Taking an average of the function's run time over a series of runs, \n",
    "# Gives us a fair idea of the function's running time\n",
    "\n",
    "times = 0.0\n",
    "n = 10000\n",
    "k = 10\n",
    "\n",
    "for i in range(k):\n",
    "    summ, time_ = sumOfN(n)\n",
    "    print('Sum is %i, Time is %10.7f' %(summ, time_))  # For n = 10,000\n",
    "    times+=time_\n",
    "    \n",
    "print(f'average time is {round(times/10, 7)} secs!')"
   ]
  },
  {
   "cell_type": "code",
   "execution_count": 3,
   "metadata": {},
   "outputs": [
    {
     "name": "stdout",
     "output_type": "stream",
     "text": [
      "Sum is 5000050000, Time is  0.0199885\n",
      "Sum is 5000050000, Time is  0.0159883\n",
      "Sum is 5000050000, Time is  0.0189874\n",
      "Sum is 5000050000, Time is  0.0109775\n",
      "Sum is 5000050000, Time is  0.0099931\n",
      "Sum is 5000050000, Time is  0.0089865\n",
      "Sum is 5000050000, Time is  0.0110004\n",
      "Sum is 5000050000, Time is  0.0089941\n",
      "Sum is 5000050000, Time is  0.0103540\n",
      "Sum is 5000050000, Time is  0.0100009\n",
      "average time is 0.0125271 secs!\n"
     ]
    }
   ],
   "source": [
    "# Let's increase n to 100K\n",
    "\n",
    "times = 0.0\n",
    "n = 100000\n",
    "\n",
    "for i in range(k):\n",
    "    summ, time_ = sumOfN(n)\n",
    "    print('Sum is %i, Time is %10.7f' %(summ, time_))  # For n = 100,000\n",
    "    times+=time_\n",
    "    \n",
    "print(f'average time is {round(times/10, 7)} secs!')"
   ]
  },
  {
   "cell_type": "code",
   "execution_count": 4,
   "metadata": {},
   "outputs": [
    {
     "name": "stdout",
     "output_type": "stream",
     "text": [
      "Sum is 500000500000, Time is  0.1399112\n",
      "Sum is 500000500000, Time is  0.0889523\n",
      "Sum is 500000500000, Time is  0.0959411\n",
      "Sum is 500000500000, Time is  0.1189201\n",
      "Sum is 500000500000, Time is  0.0989382\n",
      "Sum is 500000500000, Time is  0.1109340\n",
      "Sum is 500000500000, Time is  0.0969403\n",
      "Sum is 500000500000, Time is  0.0939333\n",
      "Sum is 500000500000, Time is  0.0899575\n",
      "Sum is 500000500000, Time is  0.1109200\n",
      "average time is 0.1045348 secs!\n"
     ]
    }
   ],
   "source": [
    "# Let's increase n to 1M\n",
    "\n",
    "times = 0.0\n",
    "n = 1000000\n",
    "\n",
    "for i in range(k):\n",
    "    summ, time_ = sumOfN(n)\n",
    "    print('Sum is %i, Time is %10.7f' %(summ, time_))  # For n = 1000,000\n",
    "    times+=time_\n",
    "    \n",
    "print(f'average time is {round(times/10, 7)} secs!')"
   ]
  },
  {
   "cell_type": "code",
   "execution_count": 5,
   "metadata": {},
   "outputs": [
    {
     "name": "stdout",
     "output_type": "stream",
     "text": [
      "Sum is 50000005000000, Time is  0.9054451\n",
      "Sum is 50000005000000, Time is  1.3191833\n",
      "Sum is 50000005000000, Time is  1.1222980\n",
      "Sum is 50000005000000, Time is  1.0643432\n",
      "Sum is 50000005000000, Time is  0.9254327\n",
      "Sum is 50000005000000, Time is  0.9883814\n",
      "Sum is 50000005000000, Time is  0.9614112\n",
      "Sum is 50000005000000, Time is  1.0133729\n",
      "Sum is 50000005000000, Time is  1.0343604\n",
      "Sum is 50000005000000, Time is  0.9364121\n",
      "average time is 1.027064 secs!\n"
     ]
    }
   ],
   "source": [
    "# Let's increase n to 10M\n",
    "\n",
    "times = 0.0\n",
    "n = 10000000\n",
    "\n",
    "for i in range(k):\n",
    "    summ, time_ = sumOfN(n)\n",
    "    print('Sum is %i, Time is %10.7f' %(summ, time_))  # For n = 10,000,000\n",
    "    times+=time_\n",
    "    \n",
    "print(f'average time is {round(times/10, 7)} secs!')"
   ]
  },
  {
   "cell_type": "markdown",
   "metadata": {},
   "source": [
    "**We observe for the iterative algorithm above that the time is fairly consistent and generally increases 10 times more as we increase n by a product of 10**"
   ]
  },
  {
   "cell_type": "markdown",
   "metadata": {},
   "source": [
    "Let's try a new algorithm for solving `sum-of-n`, this function, sumOfN2, takes advantage of a closed equation:-\n",
    "\n",
    "${\\sum_{i=1}}^n = {{n(n+1)}\\over 2}$, to compute the sum of the first n integers without iterating."
   ]
  },
  {
   "cell_type": "code",
   "execution_count": 6,
   "metadata": {},
   "outputs": [
    {
     "name": "stdout",
     "output_type": "stream",
     "text": [
      "(55, 0.0)\n"
     ]
    }
   ],
   "source": [
    "def sumOfN2(n):\n",
    "    start = time.time()\n",
    "    summ = (n*(n+1))//2\n",
    "    duration = time.time() - start\n",
    "    \n",
    "    return summ, duration\n",
    "\n",
    "print(sumOfN2(10))"
   ]
  },
  {
   "cell_type": "code",
   "execution_count": 7,
   "metadata": {
    "scrolled": true
   },
   "outputs": [
    {
     "name": "stdout",
     "output_type": "stream",
     "text": [
      "Sum is 50005000, Time is 0.0000000000\n",
      "Sum is 50005000, Time is 0.0000000000\n",
      "Sum is 50005000, Time is 0.0000000000\n",
      "Sum is 50005000, Time is 0.0000000000\n",
      "Sum is 50005000, Time is 0.0000000000\n",
      "Sum is 50005000, Time is 0.0000000000\n",
      "Sum is 50005000, Time is 0.0000000000\n",
      "Sum is 50005000, Time is 0.0000000000\n",
      "Sum is 50005000, Time is 0.0000000000\n",
      "Sum is 50005000, Time is 0.0000000000\n"
     ]
    }
   ],
   "source": [
    "for i in range(10):\n",
    "    print('Sum is %i, Time is %10.10f' %sumOfN2(10000))  # For 10,000"
   ]
  },
  {
   "cell_type": "code",
   "execution_count": 8,
   "metadata": {},
   "outputs": [
    {
     "name": "stdout",
     "output_type": "stream",
     "text": [
      "Sum is 5000050000, Time is 0.0000000000\n",
      "Sum is 5000050000, Time is 0.0000000000\n",
      "Sum is 5000050000, Time is 0.0000000000\n",
      "Sum is 5000050000, Time is 0.0000000000\n",
      "Sum is 5000050000, Time is 0.0000000000\n",
      "Sum is 5000050000, Time is 0.0000000000\n",
      "Sum is 5000050000, Time is 0.0000000000\n",
      "Sum is 5000050000, Time is 0.0000000000\n",
      "Sum is 5000050000, Time is 0.0000000000\n",
      "Sum is 5000050000, Time is 0.0000000000\n"
     ]
    }
   ],
   "source": [
    "for i in range(10):\n",
    "    print('Sum is %i, Time is %10.10f' %sumOfN2(100000)) # For 100,000"
   ]
  },
  {
   "cell_type": "code",
   "execution_count": 9,
   "metadata": {},
   "outputs": [
    {
     "name": "stdout",
     "output_type": "stream",
     "text": [
      "Sum is 500000500000, Time is 0.0000000000\n",
      "Sum is 500000500000, Time is 0.0000000000\n",
      "Sum is 500000500000, Time is 0.0000000000\n",
      "Sum is 500000500000, Time is 0.0000000000\n",
      "Sum is 500000500000, Time is 0.0000000000\n",
      "Sum is 500000500000, Time is 0.0000000000\n",
      "Sum is 500000500000, Time is 0.0000000000\n",
      "Sum is 500000500000, Time is 0.0000000000\n",
      "Sum is 500000500000, Time is 0.0000000000\n",
      "Sum is 500000500000, Time is 0.0000000000\n"
     ]
    }
   ],
   "source": [
    "for i in range(10):\n",
    "    print('Sum is %i, Time is %10.10f' %sumOfN2(1000000)) # For 1000,000"
   ]
  },
  {
   "cell_type": "code",
   "execution_count": 10,
   "metadata": {},
   "outputs": [
    {
     "name": "stdout",
     "output_type": "stream",
     "text": [
      "Sum is 50000005000000, Time is 0.0000000000\n",
      "Sum is 50000005000000, Time is 0.0000000000\n",
      "Sum is 50000005000000, Time is 0.0000000000\n",
      "Sum is 50000005000000, Time is 0.0000000000\n",
      "Sum is 50000005000000, Time is 0.0000000000\n",
      "Sum is 50000005000000, Time is 0.0000000000\n",
      "Sum is 50000005000000, Time is 0.0000000000\n",
      "Sum is 50000005000000, Time is 0.0000000000\n",
      "Sum is 50000005000000, Time is 0.0000000000\n",
      "Sum is 50000005000000, Time is 0.0000000000\n"
     ]
    }
   ],
   "source": [
    "for i in range(10):\n",
    "    print('Sum is %i, Time is %10.10f' %sumOfN2(10000000)) # For 10,000,000"
   ]
  },
  {
   "cell_type": "code",
   "execution_count": 11,
   "metadata": {},
   "outputs": [
    {
     "name": "stdout",
     "output_type": "stream",
     "text": [
      "Sum is 5000000050000000, Time is 0.0000000000\n",
      "Sum is 5000000050000000, Time is 0.0000000000\n",
      "Sum is 5000000050000000, Time is 0.0000000000\n",
      "Sum is 5000000050000000, Time is 0.0000000000\n",
      "Sum is 5000000050000000, Time is 0.0000000000\n",
      "Sum is 5000000050000000, Time is 0.0000000000\n",
      "Sum is 5000000050000000, Time is 0.0000000000\n",
      "Sum is 5000000050000000, Time is 0.0000000000\n",
      "Sum is 5000000050000000, Time is 0.0000000000\n",
      "Sum is 5000000050000000, Time is 0.0000000000\n"
     ]
    }
   ],
   "source": [
    "for i in range(10):\n",
    "    print('Sum is %i, Time is %10.10f' %sumOfN2(100000000))  # For 100,000,000"
   ]
  },
  {
   "cell_type": "markdown",
   "metadata": {},
   "source": [
    "There are two important things to notice about this output. \n",
    "* First, the times recorded above are shorter than any of the previous examples. \n",
    "* Second, they are very consistent no matter what the value of `n` from 10K to 100M. It appears that `sumOfN2` is hardly impacted by the number of integers being added.\n",
    "\n",
    "But what does this benchmark really tell us? Intuitively, we can see that the iterative solutions seem to be doing more work since some program steps are being repeated. This is likely the reason it is taking longer. Also, the time required for the iterative solution seems to increase as we increase the value of n. However, there is a problem. If we ran the same function on a different computer or used a different programming language, we would likely get different results. It could take even longer to perform sumOfN2 if the computer were older.\n",
    "\n",
    "Let's see a recursive solution..."
   ]
  },
  {
   "cell_type": "code",
   "execution_count": 12,
   "metadata": {},
   "outputs": [
    {
     "name": "stdout",
     "output_type": "stream",
     "text": [
      "55\n"
     ]
    }
   ],
   "source": [
    "def sumOfN3(n):\n",
    "    # base case\n",
    "    if n <= 1:\n",
    "        return 1\n",
    "    \n",
    "    return n + sumOfN3(n-1)\n",
    "\n",
    "print(sumOfN3(10))"
   ]
  },
  {
   "cell_type": "code",
   "execution_count": 13,
   "metadata": {},
   "outputs": [
    {
     "name": "stdout",
     "output_type": "stream",
     "text": [
      "Sum is 500500, Time is  0.0009992\n",
      "Sum is 500500, Time is  0.0000000\n",
      "Sum is 500500, Time is  0.0009968\n",
      "Sum is 500500, Time is  0.0009999\n",
      "Sum is 500500, Time is  0.0009992\n",
      "Sum is 500500, Time is  0.0009992\n",
      "Sum is 500500, Time is  0.0010040\n",
      "Sum is 500500, Time is  0.0009995\n",
      "Sum is 500500, Time is  0.0000000\n",
      "Sum is 500500, Time is  0.0009985\n",
      "average time is 0.0007996 secs!\n"
     ]
    }
   ],
   "source": [
    "times = 0.0\n",
    "n = 1000\n",
    "\n",
    "for i in range(10):\n",
    "    start = time.time()\n",
    "    summ = sumOfN3(n)\n",
    "    duration = time.time() - start\n",
    "    print('Sum is %i, Time is %10.7f' %(summ, duration)) # For n = 1,000 \n",
    "    times+=duration\n",
    "\n",
    "print(f'average time is {round(times/10,7)} secs!')"
   ]
  },
  {
   "cell_type": "code",
   "execution_count": 14,
   "metadata": {},
   "outputs": [
    {
     "name": "stdout",
     "output_type": "stream",
     "text": [
      "Sum is 2001000, Time is  0.0129924\n",
      "Sum is 2001000, Time is  0.0010049\n",
      "Sum is 2001000, Time is  0.0010052\n",
      "Sum is 2001000, Time is  0.0009999\n",
      "Sum is 2001000, Time is  0.0010047\n",
      "Sum is 2001000, Time is  0.0009999\n",
      "Sum is 2001000, Time is  0.0020001\n",
      "Sum is 2001000, Time is  0.0010026\n",
      "Sum is 2001000, Time is  0.0020015\n",
      "Sum is 2001000, Time is  0.0029986\n",
      "average time is 0.002601 secs!\n"
     ]
    }
   ],
   "source": [
    "times = 0.0\n",
    "n = 2000\n",
    "\n",
    "for i in range(10):\n",
    "    start = time.time()\n",
    "    summ = sumOfN3(n)\n",
    "    duration = time.time() - start\n",
    "    print('Sum is %i, Time is %10.7f' %(summ, duration)) # For n = 2,000 \n",
    "    times+=duration\n",
    "\n",
    "print(f'average time is {round(times/10,7)} secs!')"
   ]
  },
  {
   "cell_type": "markdown",
   "metadata": {},
   "source": [
    "**We can see that the recursive case has an even more expensive running time, with just 2000 value running for as high as 0.002601 secs, which is more than the average entire time taken to run 10000 values iteratively. Recursion is quite space expensive too as seen below, if we try to add 5000 numbers recursively it produces a `RecursionError` saying `maximum recursion depth exceeded`** "
   ]
  },
  {
   "cell_type": "code",
   "execution_count": 15,
   "metadata": {},
   "outputs": [
    {
     "name": "stdout",
     "output_type": "stream",
     "text": [
      "maximum recursion depth exceeded in comparison\n"
     ]
    }
   ],
   "source": [
    "try:\n",
    "    times = 0.0\n",
    "    n = 5000\n",
    "\n",
    "    for i in range(10):\n",
    "        start = time.time()\n",
    "        summ = sumOfN3(n)\n",
    "        duration = time.time() - start\n",
    "        print('Sum is %i, Time is %10.7f' %(summ, duration)) # For n = 5,000 \n",
    "        times+=duration\n",
    "\n",
    "    print(f'average time is {round(times/10,7)} secs!')\n",
    "except RecursionError as e:\n",
    "    print(e)"
   ]
  },
  {
   "cell_type": "markdown",
   "metadata": {},
   "source": [
    "**Therefore, we need a way to evaluate an algorithms performance consistently, irrespective of the running time of the algorithm. Since running-time is also a function of the underlying computing resource used to run the program and this would differ, producing conflicting results depending on the computing hardware used.**"
   ]
  },
  {
   "cell_type": "markdown",
   "metadata": {},
   "source": [
    "### Big-Oh-Notation"
   ]
  }
 ],
 "metadata": {
  "kernelspec": {
   "display_name": "Python 3",
   "language": "python",
   "name": "python3"
  },
  "language_info": {
   "codemirror_mode": {
    "name": "ipython",
    "version": 3
   },
   "file_extension": ".py",
   "mimetype": "text/x-python",
   "name": "python",
   "nbconvert_exporter": "python",
   "pygments_lexer": "ipython3",
   "version": "3.7.5"
  }
 },
 "nbformat": 4,
 "nbformat_minor": 5
}
