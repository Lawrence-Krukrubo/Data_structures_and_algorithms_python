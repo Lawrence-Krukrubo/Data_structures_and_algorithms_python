{
 "cells": [
  {
   "cell_type": "markdown",
   "id": "automotive-european",
   "metadata": {},
   "source": [
    "## Graphs:\n",
    "\n",
    "A graph is a data-structure designed to show relationships between objects. the purpose of a graph is to show how different things are connected to one another. it's also sometimes called a network. A graph is similar to a tree in many ways.\n",
    "* Graphs also contain `Nodes` or `Vertices` and connections between nodes also called `edges`.\n",
    "* Infact, a tree is just a more specific type of graph. It's just like a binary-tree is a type of tree and a BST is a type of binary-tree.\n",
    "* In graphs, cycles are allowed. This means we can start at any node and chart a path right back to the start node. This implies that unlike trees, graphs don't really have a root-node.\n",
    "* Graphs are really vaguely defined. this is so all different use cases of graphs are accommodated.\n",
    "* It's common to think that nodes are the parts of graphs that store data and edges are merely connections between nodes. But in reality, edges can also store data. Edges often contain data about the strength of a connection between nodes.\n",
    "* The information we decide to store in the edges, may depend on what we intend to do with the graph."
   ]
  },
  {
   "cell_type": "markdown",
   "id": "former-heater",
   "metadata": {},
   "source": [
    "### Directions and Cycles:\n",
    "\n",
    "* Edges can have a direction. Meaning the relationship between two nodes is one-way and not the other. **`Directed-Graph`** is the term for when the edges in a graph have a direction.\n",
    "* If we make a round trip and travel through the same two nodes going in opposite directions, we might have two edges between the same 2 nodes, one representing each direction we're travelling.\n",
    "* An **`Undirected-Graph`** has edges with no sense of direction.\n",
    "* Graphs permit cycles, while trees do not. Cycles in a graph are quite dangerous in implementation. They can result in infinite loops. Thus one needs a way to keep track of visited nodes in a graph to avoid this issue.\n",
    "* **`Acyclic`** graphs have no cycles. They are like trees.\n",
    "* One kind of acyclic graph that shows up more often is a **`DAG (Directed-Acyclic-Graph)`**. It's really just what it sounds like:- A directed graph with no cycles."
   ]
  },
  {
   "cell_type": "markdown",
   "id": "significant-developer",
   "metadata": {},
   "source": [
    "## Connectivity:\n",
    "\n",
    "Another important property of graphs is connectivity. In `graph-theory` connectivity has a special kind of name. \n",
    "* A connected graph has no disconnected nodes or vertices.\n",
    "* A disconnected graph has some node or vertex that can't be reached by the other vertices.                                                                                   \n",
    "\n",
    "### The Connectivity Metric:\n",
    "The principle behind connectivity simply measures the minimum number of elements or edges that need to be removed for a graph to be disconnected.\n",
    "\n",
    "Talking about connectivity in a directed graph is a bit more complicated than in an undirected graph. Let's look at some more definitions:\n",
    "\n",
    "**Disconnected**\n",
    "\n",
    "Disconnected graphs are very similar whether the graph's directed or undirected—there is some vertex or group of vertices that have no connection with the rest of the graph.\n",
    "\n",
    "**Weakly Connected**\n",
    "\n",
    "A directed graph is weakly connected when only replacing all of the directed edges with undirected edges can cause it to be connected. Imagine that your graph has several vertices with one outbound edge, meaning an edge that points from it to some other vertex in the graph. There's no way to reach all of those vertices from any other vertex in the graph, but if those edges were changed to be undirected all vertices would be easily accessible.\n",
    "\n",
    "**Connected**\n",
    "\n",
    "Here we only use \"connected graph\" to refer to undirected graphs. In a connected graph, there is some path between one vertex and every other vertex.\n",
    "\n",
    "**Strongly Connected**\n",
    "\n",
    "Strongly connected directed graphs must have a path from every node and every other node. So, there must be a path from $A$ to $B$ and $B$ to $A$.\n",
    "\n",
    "**Node Degree**\n",
    "\n",
    "This is denoted as the number of edges connected to a particular node."
   ]
  },
  {
   "cell_type": "markdown",
   "id": "proof-ethnic",
   "metadata": {},
   "source": [
    "### Graph Representations:\n",
    "\n",
    "Graphs can be functionally the same but built in a handful of different ways. For example using OOP, vertex (nodes) and edge objects can be created and given properties like name, value, ID, a list of edges it's connected to and so on just as we did with Trees. \n",
    "\n",
    "However, operations that traverse graphs can be more inconvenient if we need to search through vertex and edge objects. There are several ways of representing connections on simple graphs that only use lists.\n",
    "\n",
    "1. **Edge Lists:** An edge-list is simply a list of edges. The edges themselves are represented as a list of just two elements each, the ID number of the `from` node and that of the `to` node. Thus the edge-list is a list of lists or a 2D list, where each sub-list is a list of only 2 elements.\n",
    "\n",
    "\n",
    "2. **Adjacency List:** In an Adjacency-list, our vertices or Nodes,                                                                                                                            normally have an ID number that corresponds to the index in an array. While in the array, each space is used to store a list of nodes that the nodes with that ID is adjacent to. Also the adjacency list is 2D as it's a list that contains other lists.\n",
    "\n",
    "\n",
    "3. **Adjacency Matrix:** Lastly, an adjacency matrix can be used. A matrix is essentially a 2D array and the lists inside are all the same length. A matrix can also be called a rectangular-array. The adjacency matrix is quite similar to the adjacency array. The indices in the outer array still represent nodes with those IDs, and the lists inside still represent which nodes are adjacent. Although this is done slightly different in exactly One-Hot-Encoding style.\n",
    "\n",
    "Which method of representation we use depends on what makes the most sense for us and what operations we'd be performing most often. If we're looking at Node-degree, the adjacency-list will probably be the fastest."
   ]
  },
  {
   "cell_type": "markdown",
   "id": "regular-plain",
   "metadata": {},
   "source": [
    "## Graph Traversal:\n",
    "\n",
    "* **Graph search** and **Graph-Traversal** are very similar. Difference is that in a graph search, the search stops when the element is found, while in a graph-traversal all nodes are visited atleast once based on some traversal algorithm."
   ]
  },
  {
   "cell_type": "markdown",
   "id": "fifth-arcade",
   "metadata": {},
   "source": [
    "###  DFS in Graphs\n",
    "\n",
    "* Unlike a `Tree`, there's no root in a graph, so no obvious place to start. We can begin with any `node`. First, mark the `node` selected as **`seen`**. A common implementation of DFS is a **Stack (LIFO)**. So we can store the `node` we just saw on a Stack. Next, we pick an `edge`, follow it and mark the next `node` as **`seen`** and add it to the Stack. We continue like this for all edges and nodes.\n",
    "\n",
    "\n",
    "* If we hit a node that has been previously seen before, just go back to the previous node and try another edge. If we run out of edges with new nodes, we pop the current node from the stack and go back to the one before it, which is just the next one on the Stack. \n",
    "\n",
    "\n",
    "* We continue step 2 above until we've popped everything off the Stack or we've found the node we were originally looking for.\n",
    "\n",
    "\n",
    "* Another common implementation of DFS uses Recursion and no Stack. In this algorithm, we're explicitly visiting every edge and vertex once. Thus the Runtime is written as $O(|E| + |V|)$, which reads the number of edges, plus the number of vertices."
   ]
  },
  {
   "cell_type": "markdown",
   "id": "unknown-volunteer",
   "metadata": {},
   "source": [
    "###  BFS in Graphs:\n",
    "\n",
    "* This is actually quite similar as with Trees. We're still visiting every edge and marking off every node.\n",
    "\n",
    "\n",
    "* However, here we search every edge of one node before continuing to another node. We start with the first node and mark it as seen, then visit the node adjacent to it and once we mark that node, we can add it to a **Queue (FIFO)**. Then we go back to that first node and visit every thing adjacent to it, marking each as seen and adding it to the Queue.\n",
    "\n",
    "\n",
    "* When we've run out of edges, we can just DEqueue a node from the Queue and use that as our next starting point. Then we look at evrery node adjacent to that one adding each one to the Queue until we've exhausted our options.\n",
    "\n",
    "\n",
    "* Note that, when we Dequeue, we're getting a node adjacent to the last node we just saw.\n",
    "\n",
    "\n",
    "* We can kind of visualize a BFS as creating a Tree out of a Graph. The node that we start with becomes the root. The group of adjacent nodes to the root becomes the first level. We need to continue adding nodes one level at a time. We finish off one level entirely before moving unto the next.\n",
    "\n",
    "\n",
    "* The efficiency is still $O(|E| + |V|)$, which reads the number of edges, plus the number of vertices."
   ]
  },
  {
   "cell_type": "markdown",
   "id": "computational-inspiration",
   "metadata": {},
   "source": [
    "#### Graph Traversal Practice\n",
    "\n",
    "The basic graph traversals show up a lot in technical interviews, particularly in more complicated graph-based algorithms. It's important to make sure you have a mastery before moving on!\n",
    "\n",
    "Next, you'll practice writing code to do these searches in Python. We'll have the same base that we started with in the last quiz, with one exception—the Node class now has a visited flag that we can use during the traversals. Write a recursive solution for DFS and an iterative solution for BFS."
   ]
  },
  {
   "cell_type": "code",
   "execution_count": 1,
   "id": "marked-blair",
   "metadata": {},
   "outputs": [],
   "source": [
    "class Node(object):\n",
    "    def __init__(self, value):\n",
    "        self.value = value\n",
    "        self.edges = []\n",
    "        self.visited = False"
   ]
  },
  {
   "cell_type": "code",
   "execution_count": 2,
   "id": "lesbian-entertainment",
   "metadata": {},
   "outputs": [],
   "source": [
    "class Edge(object):\n",
    "    def __init__(self, value, node_from, node_to):\n",
    "        self.value = value\n",
    "        self.node_from = node_from\n",
    "        self.node_to = node_to"
   ]
  },
  {
   "cell_type": "code",
   "execution_count": 3,
   "id": "public-bangladesh",
   "metadata": {},
   "outputs": [],
   "source": [
    "# You only need to change code with docs strings that have TODO.\n",
    "# Specifically: Graph.dfs_helper and Graph.bfs\n",
    "# New methods have been added to associate node numbers with names\n",
    "# Specifically: Graph.set_node_names\n",
    "# and the methods ending in \"_names\" which will print names instead\n",
    "# of node numbers"
   ]
  },
  {
   "cell_type": "code",
   "execution_count": 4,
   "id": "interested-andrews",
   "metadata": {},
   "outputs": [],
   "source": [
    "class Graph(object):\n",
    "    def __init__(self, nodes=None, edges=None):\n",
    "        self.nodes = nodes or []\n",
    "        self.edges = edges or []\n",
    "        self.node_names = []\n",
    "        self._node_map = {}\n",
    "        \n",
    "        \n",
    "    def set_node_names(self, names):\n",
    "        \"\"\"The Nth name in names should correspond to node number N.\n",
    "        Node numbers are 0 based (starting at 0).\n",
    "        node-names should be set after fully building the graph, in the same\n",
    "        order of the nodes in self.nodes\n",
    "        @param names: A tuple of string names\n",
    "        \"\"\"\n",
    "        self.node_names = list(names)\n",
    "        \n",
    "    \n",
    "    def insert_node(self, new_node_val):\n",
    "        \"\"\"Insert a new node object with value:-\n",
    "            new_node_val\n",
    "        @param new_node_vaL: int, The Value of the new-node object\n",
    "        @return: new_node object\n",
    "        \"\"\"\n",
    "        new_node = Node(new_node_val)\n",
    "        self.nodes.append(new_node)\n",
    "        self._node_map[new_node_val] = new_node\n",
    "        \n",
    "        return new_node\n",
    "    \n",
    "    def insert_edge(self, new_edge_val, node_from_val, node_to_val):\n",
    "        \"\"\"Insert a New edge object if nodes from and to exist, otherwise\n",
    "        create nodes from and to and insert the new-edge.\n",
    "        @param new_edge_val: int, value of new edge object\n",
    "        @param node_from_val: int, value of from-node\n",
    "        @param node_to_val: int, value of to-node\n",
    "        \"\"\"\n",
    "        nodes_dict = {node_from_val:None, node_to_val:None}\n",
    "        \n",
    "        # Check nodes exist in self.nodes\n",
    "        for node in self.nodes:\n",
    "            if node.value in nodes_dict:\n",
    "                nodes_dict[node.value] = node\n",
    "                if all(nodes_dict.values()):\n",
    "                    break\n",
    "        \n",
    "        # If any is empty quickly create new node\n",
    "        for node_val in nodes_dict:\n",
    "            nodes_dict[node_val] = nodes_dict[node_val] or self.insert_node(node_val)\n",
    "        node_from = nodes_dict[node_from_val]\n",
    "        node_to = nodes_dict[node_to_val]\n",
    "        new_edge = Edge(new_edge_val, node_from, node_to)\n",
    "        node_from.edges.append(new_edge)\n",
    "        node_to.edges.append(new_edge)\n",
    "        self.edges.append(new_edge)\n",
    "        \n",
    "        \n",
    "    def get_edge_list(self):\n",
    "        \"\"\"Return a list of triples that looks\n",
    "            like this [(edge_value, from_node, to_node)]\n",
    "        \"\"\"\n",
    "        return [(e.value, e.node_from, e.node_to) for e in self.edges]\n",
    "    \n",
    "    \n",
    "    def get_edge_list_names(self):\n",
    "        \"\"\"Return a list of triples that looks\n",
    "            like this [(edge_value, from_node_name, to_node_name)]\n",
    "        \"\"\"\n",
    "        return [(edge.value, \n",
    "               self.node_names[edge.node_from.value],\n",
    "               self.node_names[edge.node_to.value]) for edge in self.edges]\n",
    "    \n",
    "    \n",
    "    def get_adjacency_list(self):\n",
    "        \"\"\"Return a list of lists.\n",
    "        The indecies of the outer list represent \"from\" nodes.\n",
    "        Each section in the list will store a list\n",
    "        of tuples that looks like this:\n",
    "        (To Node, Edge Value)\"\"\"\n",
    "        max_index = self.find_max_index()\n",
    "        adjacency_list = [[] for _ in range(max_index)]\n",
    "        for edg in self.edges:\n",
    "            from_value, to_value = edg.node_from.value, edg.node_to.value\n",
    "            adjacency_list[from_value].append((to_value, edg.value))\n",
    "        return [a or None for a in adjacency_list] # replace []'s with None\n",
    "\n",
    "    \n",
    "    def get_adjacency_list_names(self):\n",
    "        \"\"\"Each section in the list will store a list\n",
    "        of tuples that looks like this:\n",
    "        (To Node Name, Edge Value).\n",
    "        Node names should come from the names set\n",
    "        with set_node_names.\"\"\"\n",
    "        adjacency_list = self.get_adjacency_list()\n",
    "        def convert_to_names(pair, graph=self):\n",
    "            node_number, value = pair\n",
    "            return (graph.node_names[node_number], value)\n",
    "        def map_conversion(adjacency_list_for_node):\n",
    "            if adjacency_list_for_node is None:\n",
    "                return None\n",
    "            return map(convert_to_names, adjacency_list_for_node)\n",
    "        return [map_conversion(adjacency_list_for_node)\n",
    "                for adjacency_list_for_node in adjacency_list]\n",
    "\n",
    "    \n",
    "    def get_adjacency_matrix(self):\n",
    "        \"\"\"Return a matrix, or 2D list.\n",
    "        Row numbers represent from nodes,\n",
    "        column numbers represent to nodes.\n",
    "        Store the edge values in each spot,\n",
    "        and a 0 if no edge exists.\"\"\"\n",
    "        max_index = self.find_max_index()\n",
    "        adjacency_matrix = [[0] * (max_index) for _ in range(max_index)]\n",
    "        for edg in self.edges:\n",
    "            from_index, to_index = edg.node_from.value, edg.node_to.value\n",
    "            adjacency_matrix[from_index][to_index] = edg.value\n",
    "        return adjacency_matrix\n",
    "\n",
    "    \n",
    "    def find_max_index(self):\n",
    "        \"\"\"Return the highest found node number\n",
    "        Or the length of the node names if set with set_node_names().\"\"\"\n",
    "        if self.node_names:\n",
    "            return len(self.node_names)\n",
    "        max_index = -1\n",
    "        if self.nodes:\n",
    "            for node in self.nodes:\n",
    "                if node.value > max_index:\n",
    "                    max_index = node.value\n",
    "        return max_index\n",
    "    \n",
    "   \n",
    "    def find_node(self, node_number):\n",
    "        \"\"\"Return the Node with value node_number\n",
    "            or None\n",
    "        \"\"\"\n",
    "        return self._node_map.get(node_number)\n",
    "    \n",
    "    \n",
    "    def _clear_visited(self):\n",
    "        \"\"\"Make all nodes unseen or unvisited\n",
    "        \"\"\"\n",
    "        for node in self.nodes:\n",
    "            if node.visited:\n",
    "                node.visited = False\n",
    "                \n",
    "    \n",
    "    def dfs_helper(self, start_node):\n",
    "        \"\"\"TODO: Write the helper function for a recursive implementation\n",
    "        of Depth First Search iterating through a node's edges. The\n",
    "        output should be a list of numbers corresponding to the\n",
    "        values of the traversed nodes.\n",
    "        ARGUMENTS: start_node is the starting Node\n",
    "        MODIFIES: the value of the visited property of nodes in self.nodes \n",
    "        RETURN: a list of the traversed node values (integers).\n",
    "        \"\"\"\n",
    "        ret_list = [start_node.value]\n",
    "        # Your code here\n",
    "        start_node.visited = True\n",
    "        \n",
    "        leaves = [edge for edge in start_node.edges if edge.node_to.value != start_node.value]\n",
    "        \n",
    "        for leaf in leaves:\n",
    "            if not leaf.node_to.visited:\n",
    "                ret_list.extend(self.dfs_helper(leaf.node_to))\n",
    "                \n",
    "        return ret_list\n",
    "    \n",
    "    \n",
    "    def dfs(self, start_node_num):\n",
    "        \"\"\"Outputs a list of numbers corresponding to the traversed nodes\n",
    "        in a Depth First Search.\n",
    "        ARGUMENTS: start_node_num is the starting node value (integer)\n",
    "        MODIFIES: the value of the visited property of nodes in self.nodes\n",
    "        RETURN: a list of the node values (integers).\"\"\"\n",
    "        self._clear_visited()\n",
    "        start_node = self.find_node(start_node_num)\n",
    "        return self.dfs_helper(start_node)\n",
    "    \n",
    "        \n",
    "    def dfs_names(self, start_node_num):\n",
    "        \"\"\"Return the results of dfs with numbers converted to names.\"\"\"\n",
    "        return [self.node_names[num] for num in self.dfs(start_node_num)]\n",
    "    \n",
    "    \n",
    "    def bfs(self, start_node_num):\n",
    "        \"\"\"TODO: Create an iterative implementation of Breadth First Search\n",
    "        iterating through a node's edges. The output should be a list of\n",
    "        numbers corresponding to the traversed nodes.\n",
    "        ARGUMENTS: start_node_num is the node value (integer)\n",
    "        MODIFIES: the value of the visited property of nodes in self.nodes\n",
    "        RETURN: a list of the node values (integers).\"\"\"\n",
    "        node = self.find_node(start_node_num)\n",
    "        self._clear_visited()\n",
    "        ret_list = [node.value]\n",
    "        # Your code here\n",
    "        queue = [node]\n",
    "        \n",
    "        while True:\n",
    "            visit_count = sum([1 if n.visited else 0 for n in self.nodes])\n",
    "            if visit_count == len(self.nodes):\n",
    "                break\n",
    "            node = queue.pop(0)\n",
    "            node.visited = True\n",
    "            for edge in node.edges:\n",
    "                if edge.node_to.value not in ret_list:\n",
    "                    ret_list.append(edge.node_to.value)\n",
    "                    queue.append(edge.node_to)\n",
    "                \n",
    "        return ret_list\n",
    "    \n",
    "    \n",
    "    def bfs_names(self, start_node_num):\n",
    "        \"\"\"Return the results of bfs with numbers converted to names.\"\"\"\n",
    "        return [self.node_names[num] for num in self.bfs(start_node_num)]"
   ]
  },
  {
   "cell_type": "code",
   "execution_count": 5,
   "id": "similar-retirement",
   "metadata": {},
   "outputs": [],
   "source": [
    "# create a new Graph Object\n",
    "\n",
    "graph = Graph()\n",
    "\n",
    "# Let's set seven names for the graph nodes\n",
    "\n",
    "graph.set_node_names(('Mountain View',   # 0\n",
    "                      'San Francisco',   # 1\n",
    "                      'London',          # 2\n",
    "                      'Shanghai',        # 3\n",
    "                      'Berlin',          # 4\n",
    "                      'Sao Paolo',       # 5\n",
    "                      'Bangalore'))      # 6"
   ]
  },
  {
   "cell_type": "code",
   "execution_count": 6,
   "id": "surprising-mexican",
   "metadata": {},
   "outputs": [],
   "source": [
    "# Next let's insert some edges and nodes\n",
    "\n",
    "graph.insert_edge(51, 0, 1)     # MV <-> SF\n",
    "graph.insert_edge(51, 1, 0)     # SF <-> MV\n",
    "graph.insert_edge(9950, 0, 3)   # MV <-> Shanghai\n",
    "graph.insert_edge(9950, 3, 0)   # Shanghai <-> MV\n",
    "graph.insert_edge(10375, 0, 5)  # MV <-> Sao Paolo\n",
    "graph.insert_edge(10375, 5, 0)  # Sao Paolo <-> MV\n",
    "graph.insert_edge(9900, 1, 3)   # SF <-> Shanghai\n",
    "graph.insert_edge(9900, 3, 1)   # Shanghai <-> SF\n",
    "graph.insert_edge(9130, 1, 4)   # SF <-> Berlin\n",
    "graph.insert_edge(9130, 4, 1)   # Berlin <-> SF\n",
    "graph.insert_edge(9217, 2, 3)   # London <-> Shanghai\n",
    "graph.insert_edge(9217, 3, 2)   # Shanghai <-> London\n",
    "graph.insert_edge(932, 2, 4)    # London <-> Berlin\n",
    "graph.insert_edge(932, 4, 2)    # Berlin <-> London\n",
    "graph.insert_edge(9471, 2, 5)   # London <-> Sao Paolo\n",
    "graph.insert_edge(9471, 5, 2)   # Sao Paolo <-> London"
   ]
  },
  {
   "cell_type": "markdown",
   "id": "flexible-ottawa",
   "metadata": {},
   "source": [
    "(6) 'Bangalore' is intentionally disconnected (no edges) for this problem and should produce None in the Adjacency List, etc."
   ]
  },
  {
   "cell_type": "code",
   "execution_count": 7,
   "id": "identified-equity",
   "metadata": {},
   "outputs": [],
   "source": [
    "import pprint\n",
    "pp = pprint.PrettyPrinter(indent=2)"
   ]
  },
  {
   "cell_type": "code",
   "execution_count": 8,
   "id": "complete-cooperation",
   "metadata": {},
   "outputs": [
    {
     "name": "stdout",
     "output_type": "stream",
     "text": [
      "Edge List\n",
      "[ (51, 'Mountain View', 'San Francisco'),\n",
      "  (51, 'San Francisco', 'Mountain View'),\n",
      "  (9950, 'Mountain View', 'Shanghai'),\n",
      "  (9950, 'Shanghai', 'Mountain View'),\n",
      "  (10375, 'Mountain View', 'Sao Paolo'),\n",
      "  (10375, 'Sao Paolo', 'Mountain View'),\n",
      "  (9900, 'San Francisco', 'Shanghai'),\n",
      "  (9900, 'Shanghai', 'San Francisco'),\n",
      "  (9130, 'San Francisco', 'Berlin'),\n",
      "  (9130, 'Berlin', 'San Francisco'),\n",
      "  (9217, 'London', 'Shanghai'),\n",
      "  (9217, 'Shanghai', 'London'),\n",
      "  (932, 'London', 'Berlin'),\n",
      "  (932, 'Berlin', 'London'),\n",
      "  (9471, 'London', 'Sao Paolo'),\n",
      "  (9471, 'Sao Paolo', 'London')]\n"
     ]
    }
   ],
   "source": [
    "print(\"Edge List\")\n",
    "pp.pprint(graph.get_edge_list_names())"
   ]
  },
  {
   "cell_type": "code",
   "execution_count": 9,
   "id": "described-architecture",
   "metadata": {},
   "outputs": [
    {
     "name": "stdout",
     "output_type": "stream",
     "text": [
      "Adjacency List\n",
      "[ <map object at 0x0000029B6E4FC520>,\n",
      "  <map object at 0x0000029B6E4FC0D0>,\n",
      "  <map object at 0x0000029B6E4FC700>,\n",
      "  <map object at 0x0000029B6E4FC4F0>,\n",
      "  <map object at 0x0000029B6E4FCB80>,\n",
      "  <map object at 0x0000029B6E4FC7C0>,\n",
      "  None]\n"
     ]
    }
   ],
   "source": [
    "print(\"Adjacency List\")\n",
    "pp.pprint(graph.get_adjacency_list_names())"
   ]
  },
  {
   "cell_type": "code",
   "execution_count": 10,
   "id": "resistant-trouble",
   "metadata": {},
   "outputs": [
    {
     "name": "stdout",
     "output_type": "stream",
     "text": [
      "Depth First Search\n",
      "['London', 'Shanghai', 'Mountain View', 'San Francisco', 'Berlin', 'Sao Paolo']\n"
     ]
    }
   ],
   "source": [
    "# Printing DFS\n",
    "\n",
    "print(\"Depth First Search\")\n",
    "pp.pprint(graph.dfs_names(2))"
   ]
  },
  {
   "cell_type": "code",
   "execution_count": 11,
   "id": "hundred-looking",
   "metadata": {},
   "outputs": [
    {
     "name": "stdout",
     "output_type": "stream",
     "text": [
      "Breadth First Search\n",
      "['London', 'Shanghai', 'Berlin', 'Sao Paolo', 'Mountain View', 'San Francisco']\n"
     ]
    }
   ],
   "source": [
    "# Printing BFS\n",
    "\n",
    "print(\"Breadth First Search\")\n",
    "pp.pprint(graph.bfs_names(2))"
   ]
  },
  {
   "cell_type": "code",
   "execution_count": 13,
   "id": "coastal-circumstances",
   "metadata": {},
   "outputs": [
    {
     "name": "stdout",
     "output_type": "stream",
     "text": [
      "Breadth First Search\n",
      "['Berlin', 'San Francisco', 'London', 'Mountain View', 'Shanghai', 'Sao Paolo']\n"
     ]
    }
   ],
   "source": [
    "# Printing BFS\n",
    "\n",
    "print(\"Breadth First Search\")\n",
    "pp.pprint(graph.bfs_names(4))"
   ]
  },
  {
   "cell_type": "markdown",
   "id": "parental-producer",
   "metadata": {},
   "source": [
    "## Eulerian Path:\n",
    "\n",
    "A **Path** is just a specific route you take in a traversal or search.\n",
    "\n",
    "* For example, a path that traverses every edge in a graph atleast once is called an `Eulerian Path`.\n",
    "* in a basic Eularian Path, we start at one node, traverse through all edges and might end up at a different node.\n",
    "* In an `Eulerian Cycle`, we must traverse every edge only once end up at the same node we started with.\n",
    "* Not every graph is capable of having an Eulerian path. Graphs can only have Eulerian cycles if all vertices (nodes) have an even degree or an even number of edges connecting to them.\n",
    "* Eularian paths are a little bit more lenient, so it's okay for a graph to have two nodes with an odd degree as long as they're the start and end of the path."
   ]
  },
  {
   "cell_type": "markdown",
   "id": "noble-obligation",
   "metadata": {},
   "source": [
    "## Hamiltonian Path:\n",
    "\n",
    "* A Hamiltonian path is another kind of path that must go through every vertex once. \n",
    "* Similarly, a Hamiltonian cycle will start and end at the same vertex.\n",
    "* Trying to find if a Graph has a Hamiltonian path is a famous issue in Computer Science, called the `Hamiltonian Path Problem`."
   ]
  }
 ],
 "metadata": {
  "kernelspec": {
   "display_name": "Python 3",
   "language": "python",
   "name": "python3"
  },
  "language_info": {
   "codemirror_mode": {
    "name": "ipython",
    "version": 3
   },
   "file_extension": ".py",
   "mimetype": "text/x-python",
   "name": "python",
   "nbconvert_exporter": "python",
   "pygments_lexer": "ipython3",
   "version": "3.8.5"
  }
 },
 "nbformat": 4,
 "nbformat_minor": 5
}
