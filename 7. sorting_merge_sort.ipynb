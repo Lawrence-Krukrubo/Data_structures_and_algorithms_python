{
 "cells": [
  {
   "cell_type": "markdown",
   "id": "conservative-scientist",
   "metadata": {},
   "source": [
    "### [PYTHON-DATA-STRUCTURES](https://docs.python.org/3/tutorial/datastructures.html)"
   ]
  },
  {
   "cell_type": "markdown",
   "id": "essential-major",
   "metadata": {},
   "source": [
    "## Sorting:\n",
    "\n",
    "In a search algorithm, we have some kind of list and we're checking out the elements. But in a sorting algorithm, we're changing the order of elements in an array.\n",
    "* An In-Place sorting algorithm rearranges the elements in the data structure they're already in, without needing to copy everything to a new data structure. These algorithms have low-space complexity as we don't need to create any new data structure. "
   ]
  },
  {
   "cell_type": "markdown",
   "id": "timely-coach",
   "metadata": {},
   "source": [
    "### Merge Sort:\n",
    "\n",
    "The over all idea of a merge-sort is to split a huge array down as much as possible. And over time, build it back up doing a set of comparisons and sortings at each step along the way. \n",
    "* The general idea of breaking up an array, sorting all the parts of it and then building it back up again is called **`Divide-and-Conquer`**\n",
    "* In merge sort, worst case we're doing roughly $n$ comparisons for $log(n)$ steps. It's actually $log(n)$ + 1 but due to the approximation of `BigOh Notation` we don't care much about when it happens and only care about the interval at which it happens.\n",
    "* This makes an over all worst case of $O(nlog(n))$\n",
    "* So, Merge-sort time complexity of $O(nlog(n))$ is much better than the $O(n^2)$ time complexity we got for Bubble-sort.\n",
    "* However, the space efficiency of Merge-sort is much worse than Bubble sorts's $O(1)$. In Bubble sort, we sorted In-place at constant space. While in Merge-sort we always needed an additional array and assuming we deleted arrays after using them, the space complexity for Merge-sort is $O(n)$"
   ]
  },
  {
   "cell_type": "code",
   "execution_count": 1,
   "id": "opposite-sweden",
   "metadata": {},
   "outputs": [],
   "source": [
    "def merge_sort(arr):\n",
    "    if len(arr) < 2:\n",
    "        return arr\n",
    "    \n",
    "    mid = len(arr) // 2\n",
    "    first = arr[:mid]\n",
    "    second = arr[mid:]\n",
    "    \n",
    "    # Next, sort first and second\n",
    "\n",
    "    def interim_sort(arry):\n",
    "        new_arry = []\n",
    "        while arry:\n",
    "            x = min(arry)\n",
    "            y = arry.index(x)\n",
    "            new_arry.append(x)\n",
    "            arry.pop(y)\n",
    "        return new_arry\n",
    "    \n",
    "    first = interim_sort(first)\n",
    "    second = interim_sort(second)\n",
    "    \n",
    "    # If either sub-arrays last element is less than the other's first,\n",
    "    # Then return the smaller extended by the larger\n",
    "    \n",
    "    if first[-1] < second[0]:\n",
    "        return first.extend(second)\n",
    "    \n",
    "    if second[-1] < first[0]:\n",
    "        return second.extend(first)\n",
    "    \n",
    "    # Else, compare item by item in both arrays \n",
    "    final_arr =[]\n",
    "\n",
    "    for item in first:\n",
    "        for item2 in second:\n",
    "            if item < item2:\n",
    "                final_arr.append(item)\n",
    "                first = first[first.index(item)+1:]\n",
    "                break\n",
    "            elif item == item2:\n",
    "                final_arr.append(item)\n",
    "                final_arr.append(item2)\n",
    "                first = first[first.index(item)+1:]\n",
    "                second = second[:second.index(item2)] + second[second.index(item2)+1:]\n",
    "                break\n",
    "            else:\n",
    "                final_arr.append(item2)\n",
    "                second = second[:second.index(item2)] + second[second.index(item2)+1:]\n",
    "    \n",
    "    # If either array still has some values, extend it on final array\n",
    "    if second:\n",
    "        final_arr.extend(second)\n",
    "    if first:\n",
    "        final_arr.extend(first)\n",
    "    \n",
    "    \n",
    "    return final_arr"
   ]
  },
  {
   "cell_type": "code",
   "execution_count": 3,
   "id": "lined-truth",
   "metadata": {},
   "outputs": [
    {
     "data": {
      "text/plain": [
       "[1, 3, 4, 9, 10, 20, 21, 25]"
      ]
     },
     "execution_count": 3,
     "metadata": {},
     "output_type": "execute_result"
    }
   ],
   "source": [
    "arr = [21, 4, 1, 3, 9, 20, 25, 10]\n",
    "merge_sort(arr)"
   ]
  }
 ],
 "metadata": {
  "kernelspec": {
   "display_name": "Python 3",
   "language": "python",
   "name": "python3"
  },
  "language_info": {
   "codemirror_mode": {
    "name": "ipython",
    "version": 3
   },
   "file_extension": ".py",
   "mimetype": "text/x-python",
   "name": "python",
   "nbconvert_exporter": "python",
   "pygments_lexer": "ipython3",
   "version": "3.8.5"
  }
 },
 "nbformat": 4,
 "nbformat_minor": 5
}
