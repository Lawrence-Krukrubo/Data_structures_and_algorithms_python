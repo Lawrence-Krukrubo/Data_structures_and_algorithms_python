{
 "cells": [
  {
   "cell_type": "markdown",
   "metadata": {},
   "source": [
    "### [PYTHON-DATA-STRUCTURES](https://docs.python.org/3/tutorial/datastructures.html)"
   ]
  },
  {
   "cell_type": "markdown",
   "metadata": {},
   "source": [
    "## Sorting:\n",
    "\n",
    "In a search algorithm, we have some kind of list and we're checking out the elements. But in a sorting algorithm, we're changing the order of elements in an array.\n",
    "* An In-Place sorting algorithm rearranges the elements in the data structure they're already in, without needing to copy everything to a new data structure. These algorithms have low-space complexity as we don't need to create any new data structure. "
   ]
  },
  {
   "cell_type": "markdown",
   "metadata": {},
   "source": [
    "### Bubble Sort:\n",
    "\n",
    "Bubble sort or sinking sort is a naive approach. Here we go through an array comparing elements side-by-side and switching them whenever necessary. At each iteration, the biggest element floats to the top so to speak.\n",
    "* In Bubble sort, we iterate through the array $n-1$ times $n$ iterations and at each step we did $n-1$ comparisons.\n",
    "* So $n-1$ comparisons for $n-1$ iterations is $(n-1)(n-1)$. Which has an overall worst case of $O(n^2)$.\n",
    "* There is a tactic to speed-up Bubble sort by not iterating on already sorted elements in subsequent iterations. But it still has the over all worst case of $O(n^2)$.\n",
    "* So for a Bubble-sort, the worst case and average case are equally $O(n^2)$, while the best case is $O(n)$, which holds true on the assumption that the array is already sorted before we did the Bubble-sort. Or if len(array) == 1.\n",
    "* One last thing, we don't have to add any extra data structure or memory device to do Bubble-sort. Thus, it's a perfect example of In-Place Sorting algorithm. This means though it's time complexity is $O(n^2)$, it's space complexity is $O(1)$, constant."
   ]
  },
  {
   "cell_type": "code",
   "execution_count": 1,
   "metadata": {},
   "outputs": [],
   "source": [
    "def bubble_sort(arr):\n",
    "    \"\"\"This method performs In-Place\n",
    "        Bubble-sort on an iterable.\n",
    "    @param arr: An iterable\n",
    "    @return: The iterable sorted in place\n",
    "    \"\"\"\n",
    "    check = len(arr)\n",
    "    is_not_sorted = arr != sorted(arr)\n",
    "    iterations = 0\n",
    "    \n",
    "    # This while loop only runs if is_not_sorted evaluates to True\n",
    "    while is_not_sorted:\n",
    "        for i in range(check):\n",
    "            for j in range(i+1, check):\n",
    "                is_sorted = arr[j] >= arr[i]\n",
    "                if is_sorted:\n",
    "                    pass\n",
    "                else:\n",
    "                    # Bubble-Swap values \n",
    "                    arr[j], arr[i] = arr[i], arr[j]\n",
    "                break\n",
    "        check-=1\n",
    "        iterations+=1\n",
    "        is_not_sorted = arr != sorted(arr)\n",
    "        print(f'After Iteration {iterations} arr is:\\n', arr)\n",
    "        print(' ')\n",
    "       \n",
    "    print('Returning Final Sorted Arr...')\n",
    "    return arr"
   ]
  },
  {
   "cell_type": "code",
   "execution_count": 2,
   "metadata": {},
   "outputs": [
    {
     "name": "stdout",
     "output_type": "stream",
     "text": [
      "After Iteration 1 arr is:\n",
      " [4, 1, 3, 9, 20, 21, 6, 21, 14, 25]\n",
      " \n",
      "After Iteration 2 arr is:\n",
      " [1, 3, 4, 9, 20, 6, 21, 14, 21, 25]\n",
      " \n",
      "After Iteration 3 arr is:\n",
      " [1, 3, 4, 9, 6, 20, 14, 21, 21, 25]\n",
      " \n",
      "After Iteration 4 arr is:\n",
      " [1, 3, 4, 6, 9, 14, 20, 21, 21, 25]\n",
      " \n",
      "Returning Final Sorted Arr...\n"
     ]
    },
    {
     "data": {
      "text/plain": [
       "[1, 3, 4, 6, 9, 14, 20, 21, 21, 25]"
      ]
     },
     "execution_count": 2,
     "metadata": {},
     "output_type": "execute_result"
    }
   ],
   "source": [
    "arr = [21, 4, 1, 3, 9, 20, 25, 6, 21, 14]\n",
    "bubble_sort(arr)"
   ]
  },
  {
   "cell_type": "markdown",
   "metadata": {},
   "source": [
    "### Comparing Bubble-Sort best and worse case runtimes:\n",
    "\n",
    "The best case occurs when the array is already sorted, while the worse case will be ehen the array is sorted in reverse order, with the biggest element first, down to the smallest.\n",
    "\n",
    "Let's visualize these runtimes by applying Bubble-Sort on arrays of incremental lengths for both sorted and reverse-sorted arrays."
   ]
  },
  {
   "cell_type": "code",
   "execution_count": 19,
   "metadata": {},
   "outputs": [],
   "source": [
    "import time\n",
    "import pandas as pd\n",
    "import matplotlib.pyplot as plt\n",
    "import numpy as np\n",
    "from tqdm import tqdm\n",
    "import random"
   ]
  },
  {
   "cell_type": "code",
   "execution_count": 28,
   "metadata": {},
   "outputs": [],
   "source": [
    "def plotLines(*args, title=None, names=[]):\n",
    "    \"\"\"Plot lines from respective arrays\n",
    "    \"\"\"\n",
    "    size = len(args[0])\n",
    "    for arr in args:\n",
    "        assert len(arr) == size, 'Each Item Must Have Same Len'\n",
    "        \n",
    "    df_list = [lyst for lyst in args]\n",
    "    df = pd.DataFrame(df_list).T\n",
    "    df.columns = names\n",
    "    df.plot()\n",
    "    plt.title(title, fontweight='bold')"
   ]
  },
  {
   "cell_type": "code",
   "execution_count": 55,
   "metadata": {},
   "outputs": [],
   "source": [
    "def compare_bubbleSort_runtimes(size, count, stop=1000):\n",
    "    \"\"\"Method to compare the best-case and\n",
    "        worse-case runtime of bubble sort\n",
    "        \n",
    "        best-case occurs if arr is already sorted and\n",
    "        worse case if arr is sorted in reverse order\n",
    "        \n",
    "    @param size: int, length of each list.\n",
    "    @param count: int, number of lists to merge iteratively,\n",
    "                  of length size.\n",
    "    @param stop: int, The greatest value in any list,\n",
    "                must be > size\n",
    "    \"\"\"\n",
    "    assert stop > size, 'ERROR: Stop Must Be > Size'\n",
    "    best_time, worst_time, pend_list = [], [], []\n",
    "    \n",
    "    while count:\n",
    "        temp = random.sample(range(stop), size)\n",
    "        pend_list.extend(temp)\n",
    "        \n",
    "        # sort for best case\n",
    "        pend_list.sort()\n",
    "        # time best case\n",
    "        st = time.time()\n",
    "        bubble_sort(pend_list)\n",
    "        best_time.append(round(time.time()-st, 5))\n",
    "        \n",
    "        # sort for worse case\n",
    "        pend_list.sort(reverse=True)\n",
    "        # time worse case\n",
    "        st = time.time()\n",
    "        bubble_sort(pend_list)\n",
    "        worst_time.append(round(time.time()-st, 5))\n",
    "        \n",
    "        print('len: %d'%(len(pend_list)))\n",
    "        count-=1\n",
    "        \n",
    "    return best_time, worst_time"
   ]
  },
  {
   "cell_type": "code",
   "execution_count": 35,
   "metadata": {},
   "outputs": [],
   "source": [
    "def bubble_sort(arr):\n",
    "    \"\"\"This method performs In-Place\n",
    "        Bubble-sort on an iterable.\n",
    "    @param arr: An iterable\n",
    "    @return: The iterable sorted in place\n",
    "    \"\"\"\n",
    "    check = len(arr)\n",
    "    is_not_sorted = arr != sorted(arr)\n",
    "    iterations = 0\n",
    "    \n",
    "    # This while loop only runs if is_not_sorted evaluates to True\n",
    "    while is_not_sorted:\n",
    "        for i in range(check):\n",
    "            for j in range(i+1, check):\n",
    "                is_sorted = arr[j] >= arr[i]\n",
    "                if is_sorted:\n",
    "                    pass\n",
    "                else:\n",
    "                    # Bubble-Swap values \n",
    "                    arr[j], arr[i] = arr[i], arr[j]\n",
    "                break\n",
    "        check-=1\n",
    "        iterations+=1\n",
    "        is_not_sorted = arr != sorted(arr)\n",
    "        \n",
    "    return arr"
   ]
  },
  {
   "cell_type": "code",
   "execution_count": 56,
   "metadata": {},
   "outputs": [
    {
     "name": "stdout",
     "output_type": "stream",
     "text": [
      "len: 1000\n",
      "len: 2000\n",
      "len: 3000\n",
      "len: 4000\n",
      "len: 5000\n",
      "len: 6000\n",
      "len: 7000\n",
      "len: 8000\n",
      "len: 9000\n",
      "len: 10000\n",
      "len: 11000\n",
      "len: 12000\n",
      "len: 13000\n",
      "len: 14000\n",
      "len: 15000\n"
     ]
    }
   ],
   "source": [
    "size, count = 1000, 15\n",
    "\n",
    "best_times, worst_times = compare_bubbleSort_runtimes(size, count, stop=2000)"
   ]
  },
  {
   "cell_type": "code",
   "execution_count": 57,
   "metadata": {},
   "outputs": [
    {
     "data": {
      "image/png": "[encoded data removed]",
      "text/plain": [
       "<Figure size 432x288 with 1 Axes>"
      ]
     },
     "metadata": {
      "needs_background": "light"
     },
     "output_type": "display_data"
    }
   ],
   "source": [
    "title = 'Best v Worse Case Comparison: Bubble-Sort'\n",
    "names = ['Best', 'Worst']\n",
    "\n",
    "plotLines(best_times, worst_times, title=title, names=names)"
   ]
  },
  {
   "cell_type": "code",
   "execution_count": 64,
   "metadata": {},
   "outputs": [
    {
     "name": "stdout",
     "output_type": "stream",
     "text": [
      "Best times:\n",
      "[0.0, 0.0, 0.0, 0.001, 0.0, 0.001, 0.001, 0.0, 0.0, 0.0, 0.0, 0.0, 0.001, 0.0, 0.0]\n",
      "\n",
      "Worst times:\n",
      "[0.42874, 2.1067, 4.07551, 7.72821, 11.77583, 17.67426, 24.87282, 31.17731, 39.41774, 47.84784, 59.19773, 68.69526, 85.15347, 98.78996, 112.40606]\n"
     ]
    }
   ],
   "source": [
    "print(f'Best times:\\n{best_times}\\n')\n",
    "print(f'Worst times:\\n{worst_times}')"
   ]
  },
  {
   "cell_type": "markdown",
   "metadata": {},
   "source": [
    "We can see the runtime of bubble-sort on 15 lists with length 1000 to 15000 elements. The best case applies Bubble-sort to each list sorted. This gives a runtime of $n-1$ comparisons resulting in $O(n)$ runtime. While the worse case applies Bubble-Sort to each list sorted in reverse order. Worse case gives a runtime of $(n-1)$ iterations for $(n-1)$ comparisons resulting in $O(n^2)$"
   ]
  },
  {
   "cell_type": "code",
   "execution_count": null,
   "metadata": {},
   "outputs": [],
   "source": []
  }
 ],
 "metadata": {
  "kernelspec": {
   "display_name": "Python 3",
   "language": "python",
   "name": "python3"
  },
  "language_info": {
   "codemirror_mode": {
    "name": "ipython",
    "version": 3
   },
   "file_extension": ".py",
   "mimetype": "text/x-python",
   "name": "python",
   "nbconvert_exporter": "python",
   "pygments_lexer": "ipython3",
   "version": "3.7.5"
  }
 },
 "nbformat": 4,
 "nbformat_minor": 5
}
