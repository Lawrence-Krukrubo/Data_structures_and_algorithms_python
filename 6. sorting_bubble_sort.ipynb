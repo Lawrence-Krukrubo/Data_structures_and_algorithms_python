{
 "cells": [
  {
   "cell_type": "markdown",
   "id": "welcome-interview",
   "metadata": {},
   "source": [
    "### [PYTHON-DATA-STRUCTURES](https://docs.python.org/3/tutorial/datastructures.html)"
   ]
  },
  {
   "cell_type": "markdown",
   "id": "immune-blank",
   "metadata": {},
   "source": [
    "## Sorting:\n",
    "\n",
    "In a search algorithm, we have some kind of list and we're checking out the elements. But in a sorting algorithm, we're changing the order of elements in an array.\n",
    "* An In-Place sorting algorithm rearranges the elements in the data structure they're already in, without needing to copy everything to a new data structure. These algorithms have low-space complexity as we don't need to create any new data structure. "
   ]
  },
  {
   "cell_type": "markdown",
   "id": "cloudy-finnish",
   "metadata": {},
   "source": [
    "### Bubble Sort:\n",
    "\n",
    "Bubble sort or sinking sort is a naive approach. Here we go through an array comparing elements side-by-side and switching them whenever necessary. At each iteration, the biggest element floats to the top so to speak.\n",
    "* In Bubble sort, we iterate through the array $n-1$ times $n$ iterations and at each step we did $n-1$ comparisons.\n",
    "* So $n-1$ comparisons for $n-1$ iterations is $(n-1)(n-1)$. Which has an overall worst case of $O(n^2)$.\n",
    "* There is a tactic to speed-up Bubble sort by not iterating on already sorted elements in subsequent iterations. But it still has the over all worst case of $O(n^2)$.\n",
    "* So for a Bubble-sort, the worst case and average case are equally $O(n^2)$, while the best case is $O(n)$, which holds true on the assumption that the array is already sorted before we did the Bubble-sort. Or if len(array) == 1.\n",
    "* One last thing, we don't have to add any extra data structure or memory device to do Bubble-sort. Thus, it's a perfect example of In-Place Sorting algorithm. This means though it's time complexity is $O(n^2)$, it's space complexity is $O(1)$, constant."
   ]
  },
  {
   "cell_type": "code",
   "execution_count": 5,
   "id": "ranging-enlargement",
   "metadata": {},
   "outputs": [
    {
     "data": {
      "text/plain": [
       "False"
      ]
     },
     "execution_count": 5,
     "metadata": {},
     "output_type": "execute_result"
    }
   ],
   "source": [
    "d = [2, 9, 1, 4]\n",
    "issortd = d == sorted(d)\n",
    "issortd"
   ]
  },
  {
   "cell_type": "code",
   "execution_count": 6,
   "id": "concerned-calibration",
   "metadata": {},
   "outputs": [],
   "source": [
    "def bubble_sort(arr):\n",
    "    \"\"\"This method performs In-Place\n",
    "        Bubble-sort on an iterable.\n",
    "    @param arr: An iterable\n",
    "    @return: The iterable sorted in place\n",
    "    \"\"\"\n",
    "    check = len(arr)\n",
    "    is_not_sorted = arr != sorted(arr)\n",
    "    iterations = 0\n",
    "    \n",
    "    while is_not_sorted:\n",
    "        for i in range(check):\n",
    "            for j in range(i+1, check):\n",
    "                is_sorted = arr[j] >= arr[i]\n",
    "                if is_sorted:\n",
    "                    pass\n",
    "                else:\n",
    "                    # Bubble-Swap values \n",
    "                    arr[j], arr[i] = arr[i], arr[j]\n",
    "                break\n",
    "        check-=1\n",
    "        iterations+=1\n",
    "        is_not_sorted = arr != sorted(arr)\n",
    "        print(f'After Iteration {iterations} arr is:\\n', arr)\n",
    "        print(' ')\n",
    "       \n",
    "    print('Returning Final Sorted Arr...')\n",
    "    return arr"
   ]
  },
  {
   "cell_type": "code",
   "execution_count": 7,
   "id": "attempted-aberdeen",
   "metadata": {},
   "outputs": [
    {
     "name": "stdout",
     "output_type": "stream",
     "text": [
      "After Iteration 1 arr is:\n",
      " [4, 1, 3, 9, 20, 21, 6, 21, 14, 25]\n",
      " \n",
      "After Iteration 2 arr is:\n",
      " [1, 3, 4, 9, 20, 6, 21, 14, 21, 25]\n",
      " \n",
      "After Iteration 3 arr is:\n",
      " [1, 3, 4, 9, 6, 20, 14, 21, 21, 25]\n",
      " \n",
      "After Iteration 4 arr is:\n",
      " [1, 3, 4, 6, 9, 14, 20, 21, 21, 25]\n",
      " \n",
      "Returning Final Sorted Arr...\n"
     ]
    },
    {
     "data": {
      "text/plain": [
       "[1, 3, 4, 6, 9, 14, 20, 21, 21, 25]"
      ]
     },
     "execution_count": 7,
     "metadata": {},
     "output_type": "execute_result"
    }
   ],
   "source": [
    "arr = [21, 4, 1, 3, 9, 20, 25, 6, 21, 14]\n",
    "bubble_sort(arr)"
   ]
  },
  {
   "cell_type": "code",
   "execution_count": null,
   "id": "formed-given",
   "metadata": {},
   "outputs": [],
   "source": []
  }
 ],
 "metadata": {
  "kernelspec": {
   "display_name": "Python 3",
   "language": "python",
   "name": "python3"
  },
  "language_info": {
   "codemirror_mode": {
    "name": "ipython",
    "version": 3
   },
   "file_extension": ".py",
   "mimetype": "text/x-python",
   "name": "python",
   "nbconvert_exporter": "python",
   "pygments_lexer": "ipython3",
   "version": "3.8.5"
  }
 },
 "nbformat": 4,
 "nbformat_minor": 5
}
